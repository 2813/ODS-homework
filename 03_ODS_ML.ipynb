{
  "cells": [
    {
      "cell_type": "markdown",
      "metadata": {
        "id": "view-in-github",
        "colab_type": "text"
      },
      "source": [
        "<a href=\"https://colab.research.google.com/github/2813/ODS-homework/blob/main/03_ODS_ML.ipynb\" target=\"_parent\"><img src=\"https://colab.research.google.com/assets/colab-badge.svg\" alt=\"Open In Colab\"/></a>"
      ]
    },
    {
      "cell_type": "markdown",
      "id": "def36360",
      "metadata": {
        "id": "def36360"
      },
      "source": [
        "# **Выбор моделей и работа с признаками**"
      ]
    },
    {
      "cell_type": "markdown",
      "id": "8f5066ff",
      "metadata": {
        "id": "8f5066ff"
      },
      "source": [
        "## **Подготовка для работы в Google Colab или Kaggle**"
      ]
    },
    {
      "cell_type": "markdown",
      "id": "97ebbbf4",
      "metadata": {
        "id": "97ebbbf4"
      },
      "source": [
        "#### Код для подключения Google Drive в Colab"
      ]
    },
    {
      "cell_type": "code",
      "execution_count": null,
      "id": "6d2b6484",
      "metadata": {
        "id": "6d2b6484"
      },
      "outputs": [],
      "source": [
        "from google.colab import drive\n",
        "drive.mount('/content/drive')"
      ]
    },
    {
      "cell_type": "markdown",
      "id": "ad9798d3",
      "metadata": {
        "id": "ad9798d3"
      },
      "source": [
        "#### Код для получения пути к файлам в Kaggle"
      ]
    },
    {
      "cell_type": "code",
      "execution_count": null,
      "id": "7b2917c8",
      "metadata": {
        "id": "7b2917c8"
      },
      "outputs": [],
      "source": [
        "import os\n",
        "for dirname, _, filenames in os.walk('/kaggle/input'):\n",
        "    for filename in filenames:\n",
        "        print(os.path.join(dirname, filename))"
      ]
    },
    {
      "cell_type": "markdown",
      "id": "266cca27",
      "metadata": {
        "id": "266cca27"
      },
      "source": [
        "#### Код для установки библиотек"
      ]
    },
    {
      "cell_type": "code",
      "execution_count": null,
      "id": "223be0c3",
      "metadata": {
        "id": "223be0c3",
        "colab": {
          "base_uri": "https://localhost:8080/",
          "height": 1000
        },
        "outputId": "5f3935cf-1b5a-487e-de6c-1c7db9e8dda2"
      },
      "outputs": [
        {
          "output_type": "stream",
          "name": "stdout",
          "text": [
            "Collecting numpy==1.26.4\n",
            "  Downloading numpy-1.26.4-cp312-cp312-manylinux_2_17_x86_64.manylinux2014_x86_64.whl.metadata (61 kB)\n",
            "\u001b[?25l     \u001b[90m━━━━━━━━━━━━━━━━━━━━━━━━━━━━━━━━━━━━━━━━\u001b[0m \u001b[32m0.0/61.0 kB\u001b[0m \u001b[31m?\u001b[0m eta \u001b[36m-:--:--\u001b[0m\r\u001b[2K     \u001b[90m━━━━━━━━━━━━━━━━━━━━━━━━━━━━━━━━━━━━━━━━\u001b[0m \u001b[32m61.0/61.0 kB\u001b[0m \u001b[31m1.8 MB/s\u001b[0m eta \u001b[36m0:00:00\u001b[0m\n",
            "\u001b[?25hCollecting pandas==2.1.4\n",
            "  Downloading pandas-2.1.4-cp312-cp312-manylinux_2_17_x86_64.manylinux2014_x86_64.whl.metadata (18 kB)\n",
            "Collecting scikit-learn==1.7.0\n",
            "  Downloading scikit_learn-1.7.0-cp312-cp312-manylinux_2_17_x86_64.manylinux2014_x86_64.whl.metadata (17 kB)\n",
            "Collecting statsmodels==0.14.4\n",
            "  Downloading statsmodels-0.14.4-cp312-cp312-manylinux_2_17_x86_64.manylinux2014_x86_64.whl.metadata (9.2 kB)\n",
            "Collecting matplotlib==3.8.0\n",
            "  Downloading matplotlib-3.8.0-cp312-cp312-manylinux_2_17_x86_64.manylinux2014_x86_64.whl.metadata (5.8 kB)\n",
            "Requirement already satisfied: seaborn==0.13.2 in /usr/local/lib/python3.12/dist-packages (0.13.2)\n",
            "Requirement already satisfied: nltk==3.9.1 in /usr/local/lib/python3.12/dist-packages (3.9.1)\n",
            "Requirement already satisfied: missingno==0.5.2 in /usr/local/lib/python3.12/dist-packages (0.5.2)\n",
            "Requirement already satisfied: mlxtend==0.23.4 in /usr/local/lib/python3.12/dist-packages (0.23.4)\n",
            "Requirement already satisfied: python-dateutil>=2.8.2 in /usr/local/lib/python3.12/dist-packages (from pandas==2.1.4) (2.9.0.post0)\n",
            "Requirement already satisfied: pytz>=2020.1 in /usr/local/lib/python3.12/dist-packages (from pandas==2.1.4) (2025.2)\n",
            "Requirement already satisfied: tzdata>=2022.1 in /usr/local/lib/python3.12/dist-packages (from pandas==2.1.4) (2025.2)\n",
            "Requirement already satisfied: scipy>=1.8.0 in /usr/local/lib/python3.12/dist-packages (from scikit-learn==1.7.0) (1.16.2)\n",
            "Requirement already satisfied: joblib>=1.2.0 in /usr/local/lib/python3.12/dist-packages (from scikit-learn==1.7.0) (1.5.2)\n",
            "Requirement already satisfied: threadpoolctl>=3.1.0 in /usr/local/lib/python3.12/dist-packages (from scikit-learn==1.7.0) (3.6.0)\n",
            "Requirement already satisfied: patsy>=0.5.6 in /usr/local/lib/python3.12/dist-packages (from statsmodels==0.14.4) (1.0.1)\n",
            "Requirement already satisfied: packaging>=21.3 in /usr/local/lib/python3.12/dist-packages (from statsmodels==0.14.4) (25.0)\n",
            "Requirement already satisfied: contourpy>=1.0.1 in /usr/local/lib/python3.12/dist-packages (from matplotlib==3.8.0) (1.3.3)\n",
            "Requirement already satisfied: cycler>=0.10 in /usr/local/lib/python3.12/dist-packages (from matplotlib==3.8.0) (0.12.1)\n",
            "Requirement already satisfied: fonttools>=4.22.0 in /usr/local/lib/python3.12/dist-packages (from matplotlib==3.8.0) (4.60.1)\n",
            "Requirement already satisfied: kiwisolver>=1.0.1 in /usr/local/lib/python3.12/dist-packages (from matplotlib==3.8.0) (1.4.9)\n",
            "Requirement already satisfied: pillow>=6.2.0 in /usr/local/lib/python3.12/dist-packages (from matplotlib==3.8.0) (11.3.0)\n",
            "Requirement already satisfied: pyparsing>=2.3.1 in /usr/local/lib/python3.12/dist-packages (from matplotlib==3.8.0) (3.2.5)\n",
            "Requirement already satisfied: click in /usr/local/lib/python3.12/dist-packages (from nltk==3.9.1) (8.3.0)\n",
            "Requirement already satisfied: regex>=2021.8.3 in /usr/local/lib/python3.12/dist-packages (from nltk==3.9.1) (2024.11.6)\n",
            "Requirement already satisfied: tqdm in /usr/local/lib/python3.12/dist-packages (from nltk==3.9.1) (4.67.1)\n",
            "Requirement already satisfied: six>=1.5 in /usr/local/lib/python3.12/dist-packages (from python-dateutil>=2.8.2->pandas==2.1.4) (1.17.0)\n",
            "Downloading numpy-1.26.4-cp312-cp312-manylinux_2_17_x86_64.manylinux2014_x86_64.whl (18.0 MB)\n",
            "\u001b[2K   \u001b[90m━━━━━━━━━━━━━━━━━━━━━━━━━━━━━━━━━━━━━━━━\u001b[0m \u001b[32m18.0/18.0 MB\u001b[0m \u001b[31m69.7 MB/s\u001b[0m eta \u001b[36m0:00:00\u001b[0m\n",
            "\u001b[?25hDownloading pandas-2.1.4-cp312-cp312-manylinux_2_17_x86_64.manylinux2014_x86_64.whl (11.7 MB)\n",
            "\u001b[2K   \u001b[90m━━━━━━━━━━━━━━━━━━━━━━━━━━━━━━━━━━━━━━━━\u001b[0m \u001b[32m11.7/11.7 MB\u001b[0m \u001b[31m69.6 MB/s\u001b[0m eta \u001b[36m0:00:00\u001b[0m\n",
            "\u001b[?25hDownloading scikit_learn-1.7.0-cp312-cp312-manylinux_2_17_x86_64.manylinux2014_x86_64.whl (12.5 MB)\n",
            "\u001b[2K   \u001b[90m━━━━━━━━━━━━━━━━━━━━━━━━━━━━━━━━━━━━━━━━\u001b[0m \u001b[32m12.5/12.5 MB\u001b[0m \u001b[31m61.1 MB/s\u001b[0m eta \u001b[36m0:00:00\u001b[0m\n",
            "\u001b[?25hDownloading statsmodels-0.14.4-cp312-cp312-manylinux_2_17_x86_64.manylinux2014_x86_64.whl (10.7 MB)\n",
            "\u001b[2K   \u001b[90m━━━━━━━━━━━━━━━━━━━━━━━━━━━━━━━━━━━━━━━━\u001b[0m \u001b[32m10.7/10.7 MB\u001b[0m \u001b[31m76.9 MB/s\u001b[0m eta \u001b[36m0:00:00\u001b[0m\n",
            "\u001b[?25hDownloading matplotlib-3.8.0-cp312-cp312-manylinux_2_17_x86_64.manylinux2014_x86_64.whl (11.6 MB)\n",
            "\u001b[2K   \u001b[90m━━━━━━━━━━━━━━━━━━━━━━━━━━━━━━━━━━━━━━━━\u001b[0m \u001b[32m11.6/11.6 MB\u001b[0m \u001b[31m64.9 MB/s\u001b[0m eta \u001b[36m0:00:00\u001b[0m\n",
            "\u001b[?25hInstalling collected packages: numpy, pandas, statsmodels, scikit-learn, matplotlib\n",
            "  Attempting uninstall: numpy\n",
            "    Found existing installation: numpy 2.0.2\n",
            "    Uninstalling numpy-2.0.2:\n",
            "      Successfully uninstalled numpy-2.0.2\n",
            "  Attempting uninstall: pandas\n",
            "    Found existing installation: pandas 2.2.2\n",
            "    Uninstalling pandas-2.2.2:\n",
            "      Successfully uninstalled pandas-2.2.2\n",
            "  Attempting uninstall: statsmodels\n",
            "    Found existing installation: statsmodels 0.14.5\n",
            "    Uninstalling statsmodels-0.14.5:\n",
            "      Successfully uninstalled statsmodels-0.14.5\n",
            "  Attempting uninstall: scikit-learn\n",
            "    Found existing installation: scikit-learn 1.6.1\n",
            "    Uninstalling scikit-learn-1.6.1:\n",
            "      Successfully uninstalled scikit-learn-1.6.1\n",
            "  Attempting uninstall: matplotlib\n",
            "    Found existing installation: matplotlib 3.10.0\n",
            "    Uninstalling matplotlib-3.10.0:\n",
            "      Successfully uninstalled matplotlib-3.10.0\n",
            "\u001b[31mERROR: pip's dependency resolver does not currently take into account all the packages that are installed. This behaviour is the source of the following dependency conflicts.\n",
            "google-colab 1.0.0 requires pandas==2.2.2, but you have pandas 2.1.4 which is incompatible.\n",
            "opencv-contrib-python 4.12.0.88 requires numpy<2.3.0,>=2; python_version >= \"3.9\", but you have numpy 1.26.4 which is incompatible.\n",
            "plotnine 0.14.5 requires pandas>=2.2.0, but you have pandas 2.1.4 which is incompatible.\n",
            "xarray 2025.10.1 requires pandas>=2.2, but you have pandas 2.1.4 which is incompatible.\n",
            "thinc 8.3.6 requires numpy<3.0.0,>=2.0.0, but you have numpy 1.26.4 which is incompatible.\n",
            "opencv-python 4.12.0.88 requires numpy<2.3.0,>=2; python_version >= \"3.9\", but you have numpy 1.26.4 which is incompatible.\n",
            "opencv-python-headless 4.12.0.88 requires numpy<2.3.0,>=2; python_version >= \"3.9\", but you have numpy 1.26.4 which is incompatible.\n",
            "mizani 0.13.5 requires pandas>=2.2.0, but you have pandas 2.1.4 which is incompatible.\u001b[0m\u001b[31m\n",
            "\u001b[0mSuccessfully installed matplotlib-3.8.0 numpy-1.26.4 pandas-2.1.4 scikit-learn-1.7.0 statsmodels-0.14.4\n"
          ]
        },
        {
          "output_type": "display_data",
          "data": {
            "application/vnd.colab-display-data+json": {
              "pip_warning": {
                "packages": [
                  "matplotlib",
                  "mpl_toolkits",
                  "numpy",
                  "pandas",
                  "sklearn",
                  "statsmodels"
                ]
              },
              "id": "3b66d09dfa154b4fbd849d8cb788ec2f"
            }
          },
          "metadata": {}
        }
      ],
      "source": [
        "%pip install numpy==1.26.4 pandas==2.1.4 scikit-learn==1.7.0 statsmodels==0.14.4 matplotlib==3.8.0 seaborn==0.13.2  nltk==3.9.1 missingno==0.5.2 mlxtend==0.23.4"
      ]
    },
    {
      "cell_type": "markdown",
      "id": "183c9f42",
      "metadata": {
        "id": "183c9f42"
      },
      "source": [
        "## **Важная информация**"
      ]
    },
    {
      "cell_type": "markdown",
      "id": "e0a84b62",
      "metadata": {
        "id": "e0a84b62"
      },
      "source": [
        "**Для правильного воспроизведения результатов** решения задач:\n",
        "\n",
        "* Рекомендуется придерживаться имеющего в заданиях кода в исходной последовательности. Для этого при решении задач **восстановите недостающие фрагменты кода, которые отмечены символом** `...` (Ellipsis).\n",
        "\n",
        "* Если класс, функция или метод предусматривает параметр random_state, всегда указывайте **random_state=RANDOM_STATE**.\n",
        "\n",
        "* Для всех параметров (кроме random_state) класса, функции или метода **используйте значения по умолчанию, если иное не указано в задании**.\n",
        "\n",
        "**Если скорость обучения слишком низкая**, рекомендуется следующее:\n",
        "\n",
        "* В модели или/и GridSearchCV поменяйте значение параметра n_jobs, который отвечает за параллелизм вычислений.\n",
        "\n",
        "* Воспользуйтесь вычислительными ресурсами Google Colab или Kaggle.\n",
        "\n",
        "***Использовать GPU не рекомендуется, поскольку результаты обучения некоторых моделей могут отличаться на CPU и GPU.***\n",
        "\n",
        "После выполнения каждого задания **ответьте на вопросы в тесте.**\n",
        "\n",
        "**ВНИМАНИЕ:** **После каждого нового запуска ноутбука** перед тем, как приступить к выполнению заданий, проверьте настройку виртуального окружения, выполнив код в ячейке ниже."
      ]
    },
    {
      "cell_type": "code",
      "execution_count": null,
      "id": "f3f7499f",
      "metadata": {
        "id": "f3f7499f",
        "colab": {
          "base_uri": "https://localhost:8080/"
        },
        "outputId": "5cf51ade-737a-4a3d-bec3-2ab39d7cd340"
      },
      "outputs": [
        {
          "output_type": "stream",
          "name": "stdout",
          "text": [
            "Компонент       | Требуется    | Установлено  | Соответствие\n",
            "--------------------------------------------------------------\n",
            "python          | 3.11.x       | 3.12.12      | x (требуется 3.11.x)\n",
            "numpy           | 1.26.4       | 1.26.4       | ✓\n",
            "pandas          | 2.1.4        | 2.1.4        | ✓\n",
            "scikit-learn    | 1.7.0        | 1.7.0        | ✓\n",
            "statsmodels     | 0.14.4       | 0.14.4       | ✓\n",
            "matplotlib      | 3.8.0        | 3.8.0        | ✓\n",
            "seaborn         | 0.13.2       | 0.13.2       | ✓\n",
            "nltk            | 3.9.1        | 3.9.1        | ✓\n",
            "missingno       | 0.5.2        | 0.5.2        | ✓\n",
            "mlxtend         | 0.23.4       | 0.23.4       | ✓\n",
            "\n",
            "Результат проверки:  ✓\n",
            "Все версии соответствуют требованиям\n"
          ]
        }
      ],
      "source": [
        "# Код для проверки настройки виртуального окружения\n",
        "\n",
        "import sys\n",
        "from importlib.metadata import version\n",
        "\n",
        "required = {\n",
        "    'python': '3.11.x',\n",
        "    'numpy': '1.26.4',\n",
        "    'pandas': '2.1.4',\n",
        "    'scikit-learn': '1.7.0',\n",
        "    'statsmodels': '0.14.4',\n",
        "    'matplotlib': '3.8.0',\n",
        "    'seaborn': '0.13.2',\n",
        "    'nltk': '3.9.1',\n",
        "    'missingno': '0.5.2',\n",
        "    'mlxtend': '0.23.4'\n",
        "}\n",
        "\n",
        "print(f'{\"Компонент\":<15} | {\"Требуется\":<12} | {\"Установлено\":<12} | {\"Соответствие\"}')\n",
        "print('-' * 62)\n",
        "\n",
        "environment_ok = True\n",
        "for lib, req_ver in required.items():\n",
        "    try:\n",
        "        if lib == 'python':\n",
        "            inst_ver = sys.version.split()[0]\n",
        "            status = '✓' if sys.version_info.major == 3 and sys.version_info.minor == 11 else f'x (требуется {req_ver})'\n",
        "        else:\n",
        "            inst_ver = version(lib)\n",
        "            if inst_ver == req_ver:\n",
        "                status = '✓'\n",
        "            else:\n",
        "                environment_ok = False\n",
        "                status = f'x (требуется {req_ver})'\n",
        "    except:\n",
        "        environment_ok = False\n",
        "        inst_ver = '-'\n",
        "        status = 'x (не установлена)'\n",
        "    print(f'{lib:<15} | {req_ver:<12} | {inst_ver:<12} | {status}')\n",
        "\n",
        "print('\\nРезультат проверки: ',\n",
        "      '✓\\nВсе версии соответствуют требованиям'\n",
        "      if environment_ok else\n",
        "      'x\\nВНИМАНИЕ: Версии некоторых компонентов не соответствуют требованиям!\\n'\n",
        "      'Для решения проблемы обратитесь к инструкции по настройке виртуального окружения')"
      ]
    },
    {
      "cell_type": "markdown",
      "id": "37267d90",
      "metadata": {
        "id": "37267d90"
      },
      "source": [
        "## **Импорт библиотек и вспомогательные функции**"
      ]
    },
    {
      "cell_type": "code",
      "execution_count": null,
      "id": "17e60646",
      "metadata": {
        "id": "17e60646"
      },
      "outputs": [],
      "source": [
        "import warnings\n",
        "warnings.filterwarnings('ignore')"
      ]
    },
    {
      "cell_type": "code",
      "execution_count": null,
      "id": "30a39154-71ed-4cde-82ed-06744e845547",
      "metadata": {
        "id": "30a39154-71ed-4cde-82ed-06744e845547"
      },
      "outputs": [],
      "source": [
        "import re\n",
        "\n",
        "import pandas as pd\n",
        "import numpy as np\n",
        "\n",
        "import matplotlib.pyplot as plt\n",
        "import seaborn as sns\n",
        "\n",
        "import missingno as msno\n",
        "\n",
        "from mlxtend.evaluate import bias_variance_decomp\n",
        "from mlxtend.feature_selection import SequentialFeatureSelector\n",
        "\n",
        "from sklearn.linear_model import LogisticRegression, LinearRegression, Lasso, Ridge\n",
        "from sklearn.metrics import classification_report, roc_auc_score, f1_score, mean_absolute_percentage_error, r2_score, mean_squared_error\n",
        "from sklearn.model_selection import train_test_split, GridSearchCV, TimeSeriesSplit\n",
        "from sklearn.preprocessing import StandardScaler, OneHotEncoder\n",
        "from sklearn.feature_selection import SelectKBest, f_classif\n",
        "from sklearn.feature_extraction.text import TfidfVectorizer\n",
        "from sklearn.impute import SimpleImputer, KNNImputer\n",
        "from sklearn.pipeline import Pipeline\n",
        "from sklearn.linear_model import LogisticRegression\n",
        "\n",
        "from statsmodels.stats.weightstats import ttest_ind\n",
        "\n",
        "import nltk\n",
        "from nltk import pos_tag\n",
        "from nltk.stem import WordNetLemmatizer\n",
        "from nltk.tokenize import word_tokenize\n",
        "from nltk.corpus import wordnet, stopwords"
      ]
    },
    {
      "cell_type": "code",
      "execution_count": null,
      "id": "8a95a346",
      "metadata": {
        "id": "8a95a346",
        "colab": {
          "base_uri": "https://localhost:8080/"
        },
        "outputId": "948332d3-fdbf-46c3-f368-a7eb22c947ba"
      },
      "outputs": [
        {
          "output_type": "execute_result",
          "data": {
            "text/plain": [
              "True"
            ]
          },
          "metadata": {},
          "execution_count": 4
        }
      ],
      "source": [
        "nltk.download('stopwords', quiet=True)\n",
        "nltk.download('wordnet', quiet=True)\n",
        "nltk.download('punkt', quiet=True)\n",
        "nltk.download('punkt_tab', quiet=True)\n",
        "nltk.download('omw-1.4', quiet=True)\n",
        "nltk.download('averaged_perceptron_tagger_eng', quiet=True)"
      ]
    },
    {
      "cell_type": "code",
      "execution_count": null,
      "id": "5b282940",
      "metadata": {
        "id": "5b282940"
      },
      "outputs": [],
      "source": [
        "RANDOM_STATE = 42"
      ]
    },
    {
      "cell_type": "code",
      "execution_count": null,
      "id": "488339da",
      "metadata": {
        "id": "488339da"
      },
      "outputs": [],
      "source": [
        "def metrics_report(y_true, y_pred):\n",
        "    \"\"\"\n",
        "    Выводит отчёт с основными метриками качества регрессии.\n",
        "    Округляет до 4-х знаков после запятой и выводит значения R2 (коэффициент детерминации), RMSE (среднеквадратичная ошибка) и MAPE (средняя абсолютная процентная ошибка) для оценки качества предсказаний.\n",
        "\n",
        "    Аргументы:\n",
        "        y_true (numpy.ndarray): Истинные значения целевой переменной.\n",
        "        y_pred (numpy.ndarray): Предсказанные значения целевой переменной.\n",
        "    \"\"\"\n",
        "    print(f'R2 score: {r2_score(y_true, y_pred):.4f}')\n",
        "    print(f'RMSE: {mean_squared_error(y_true, y_pred)**0.5:.4f}')\n",
        "    print(f'MAPE: {mean_absolute_percentage_error(y_true, y_pred):.4f}')"
      ]
    },
    {
      "cell_type": "markdown",
      "id": "0f623678",
      "metadata": {
        "id": "0f623678"
      },
      "source": [
        "### **Обработка пропущенных значений**\n",
        "\n",
        "**Пропуски в данных (NaN, NULL)** — это незаполненные, пустые ячейки в данных, наличие которых влечет за собой множество проблем, включая искажение данных и снижение качества моделей машинного обучения.\n",
        "\n",
        "**Методы обработки пропусков:**\n",
        "\n",
        "* Удаление пропусков:\n",
        "\n",
        "    * Удаление строк — удаление всех строк, содержащих хотя бы один пропуск.\n",
        "\n",
        "    * Удаление столбцов — удаление столбцов (переменных), имеющих большое число пропусков (к примеру, более 50%).\n",
        "\n",
        "* Заполнение константами:\n",
        "\n",
        "    * Заполнение числовыми данными — 0, -1, 9999.\n",
        "\n",
        "    * Заполнение категориальными данными — 'NaN', 'Missing'.\n",
        "\n",
        "* Добавление бинарного признака — индикатора пропуска.\n",
        "\n",
        "* Предсказание пропусков (импутация, imputation):\n",
        "\n",
        "    * Заполнение средним/медианой (числовые данные) или модой (категориальные данные).\n",
        "\n",
        "    * Заполнение случайным значением из распределения.\n",
        "\n",
        "    * Заполнение с помощью прогноза моделей (KNN, Random Forest, MICE).\n",
        "\n",
        "Пропуски в данных могут возникать по разным причинам, и от этого зависит, какой метод обработки будет наиболее эффективным. Выделяют **три основных типа пропусков**:\n",
        "\n",
        "* MCAR (Missing Completely At Random) — пропуски полностью случайны.\n",
        "\n",
        "    * Удаление строк (если пропусков мало).\n",
        "\n",
        "    * Заполнение средним/медианой/модой (если пропусков много).\n",
        "\n",
        "    * Множественная импутация (MICE, KNN, Random Forest).\n",
        "\n",
        "* MAR (Missing At Random) – пропуски случайны, но зависят от других наблюдаемых данных.\n",
        "\n",
        "    * Условное заполнение по группам.\n",
        "\n",
        "    * Добавление бинарного признака.\n",
        "\n",
        "    * Множественная импутация (MICE, KNN, Random Forest).\n",
        "\n",
        "* MNAR (Missing Not At Random) – пропуски неслучайны и зависят от ненаблюдаемых факторов.\n",
        "\n",
        "    * Сбор дополнительных данных (если существует возможность).\n",
        "\n",
        "    * Модели с учётом MNAR (к примеру, Heckman correction).\n",
        "\n",
        "    * Множественная импутация с помощью более сложных моделей (к примеру, Deep Learning с учётом пропусков).\n",
        "\n",
        "*Выше перечислены основные методы обработки пропущенных значений. На практике количество существующих методов больше, а их применение **зависит от задачи***."
      ]
    },
    {
      "cell_type": "markdown",
      "id": "16eacf88",
      "metadata": {
        "id": "16eacf88"
      },
      "source": [
        "### **Датасет *Life Expectancy (WHO)***\n",
        "\n",
        "**Для решения заданий 1 — 3 рассмотрим датасет [Life Expectancy (WHO)](https://www.kaggle.com/datasets/kumarajarshi/life-expectancy-who).**\n",
        "\n",
        "**ВНИМАНИЕ:** При решении заданий **используйте файл life_expectancy.csv** из приложения к ноутбуку, поскольку исходный датасет был изменен авторами курса.\n",
        "\n",
        "Рассмотрим набор данных для прогнозирования ожидаемой продолжительности жизни в 193-x странах за несколько лет. Датасет предназначен для выявления ключевых демографических, экономических и социальных факторов, которые в наибольшей степени влияют на показатель продолжительности жизни.\n",
        "\n",
        "Одной из особенностей датасета является наличие **большого числа пропущенных значений**, которые необходимо обработать.\n",
        "\n",
        "Целевая переменная — life expectancy (ожидаемая продолжительность жизни в годах).\n",
        "\n",
        "Датасет содержит 2938 наблюдений за период с 2000 по 2015 год для 193-x стран и 18 признаков, включая демографические показатели, показатели смертности, экономические показатели, показатели здоровья и др."
      ]
    },
    {
      "cell_type": "markdown",
      "id": "22ce8981",
      "metadata": {
        "id": "22ce8981"
      },
      "source": [
        "### ***Задание 1***\n",
        "\n",
        "Из исходного набора данных удалите строки с пропусками в целевой переменной и разделите датасет на обучающую и тестовую выборки так, чтобы **в тестовую выборку вошли все данные за 2012-2015 год**.\n",
        "\n",
        "Выполните анализ пропущенных значений **в обучающей выборке**:\n",
        "\n",
        "1. Посчитайте доли пропусков в каждой переменной с пропусками.\n",
        "\n",
        "2. Выполните визуальный анализ пропущенных значений с помощью библиотеки missingno: [bar](https://github.com/ResidentMario/missingno?tab=readme-ov-file#bar), [matrix](https://github.com/ResidentMario/missingno?tab=readme-ov-file#matrix), [heatmap](https://github.com/ResidentMario/missingno?tab=readme-ov-file#heatmap).\n",
        "\n",
        "3. Выполните статистическую проверку пропусков на MCAR (см. далее).\n",
        "\n",
        "Для статистической проверки пропусков в факторе (predictor) на MCAR (полностью случайные пропуски) предлагается провести t-тест на наличие статистически значимой разницы в среднем значении целевой переменной (life expectancy) в группе с пропущенными значениями и в группе без пропусков.\n",
        "\n",
        "**Процедура проверки:**\n",
        "\n",
        "1. Выбирается признак для проверки на MCAR (predictor).\n",
        "\n",
        "2. Выборка делится на две группы: только с пропущенными значениями predictor и очищенная от всех пропусков predictor.\n",
        "\n",
        "3. Выполняется t-тест на статистическую разницу средних целевой переменной (feature) в двух группах:\n",
        "\n",
        "    * $H_0$: Средние значения feature в обеих группах равны. Пропуски в predictor не связаны со значениями feature (MCAR).\n",
        "\n",
        "    * $H_1$: Средние значения feature в двух группах различаются. Существует связь пропусков в predictor со значениями feature (MAR или MNAR).\n",
        "\n",
        "Реализуйте предложенную процедуру проверки признаков на MCAR, дополнив функцию mcar_test.\n",
        "\n",
        "Для каждого признака с пропусками **на обучающей выборке** выполните статистическую проверку пропущенных значений на принадлежность к типу MCAR (функция mcar_test) **на уровне значимости 1%**."
      ]
    },
    {
      "cell_type": "code",
      "execution_count": null,
      "id": "65bdc974",
      "metadata": {
        "id": "65bdc974",
        "colab": {
          "base_uri": "https://localhost:8080/",
          "height": 495
        },
        "outputId": "e0a25a9b-0116-4050-f118-4885c73291d4"
      },
      "outputs": [
        {
          "output_type": "execute_result",
          "data": {
            "text/plain": [
              "          country  year  life expectancy  adult mortality  infant deaths  \\\n",
              "0     Afghanistan  2015             65.0            263.0             62   \n",
              "1     Afghanistan  2014             59.9            271.0             64   \n",
              "2     Afghanistan  2013             59.9            268.0             66   \n",
              "3     Afghanistan  2012             59.5            272.0             69   \n",
              "4     Afghanistan  2011             59.2            275.0             71   \n",
              "...           ...   ...              ...              ...            ...   \n",
              "2933     Zimbabwe  2004             44.3            723.0             27   \n",
              "2934     Zimbabwe  2003             44.5            715.0             26   \n",
              "2935     Zimbabwe  2002             44.8             73.0             25   \n",
              "2936     Zimbabwe  2001             45.3            686.0             25   \n",
              "2937     Zimbabwe  2000             46.0            665.0             24   \n",
              "\n",
              "      alcohol  percentage expenditure  hepatitis B  measles   BMI  \\\n",
              "0        0.01               71.279624         65.0     1154  19.1   \n",
              "1        0.01               73.523582         62.0      492  18.6   \n",
              "2        0.01               73.219243         64.0      430  18.1   \n",
              "3        0.01               78.184215         67.0     2787  17.6   \n",
              "4        0.01                7.097109         68.0     3013  17.2   \n",
              "...       ...                     ...          ...      ...   ...   \n",
              "2933     4.36                0.000000         68.0       31  27.1   \n",
              "2934     4.06                0.000000          7.0      998  26.7   \n",
              "2935     4.43                0.000000         73.0      304  26.3   \n",
              "2936     1.72                0.000000         76.0      529  25.9   \n",
              "2937     1.68                0.000000         79.0     1483  25.5   \n",
              "\n",
              "      under-five deaths  polio  total expenditure  diphtheria  HIV/AIDS  \\\n",
              "0                    83    6.0               8.16        65.0       0.1   \n",
              "1                    86   58.0               8.18        62.0       0.1   \n",
              "2                    89   62.0               8.13        64.0       0.1   \n",
              "3                    93   67.0               8.52        67.0       0.1   \n",
              "4                    97   68.0               7.87        68.0       0.1   \n",
              "...                 ...    ...                ...         ...       ...   \n",
              "2933                 42   67.0               7.13        65.0      33.6   \n",
              "2934                 41    7.0               6.52        68.0      36.7   \n",
              "2935                 40   73.0               6.53        71.0      39.8   \n",
              "2936                 39   76.0               6.16        75.0      42.1   \n",
              "2937                 39   78.0               7.10        78.0      43.5   \n",
              "\n",
              "             GDP  population  income composition of resources  schooling  \n",
              "0     584.259210  33736494.0                            0.479       10.1  \n",
              "1     612.696514    327582.0                            0.476       10.0  \n",
              "2     631.744976  31731688.0                            0.470        9.9  \n",
              "3     669.959000   3696958.0                            0.463        9.8  \n",
              "4      63.537231   2978599.0                            0.454        9.5  \n",
              "...          ...         ...                              ...        ...  \n",
              "2933  454.366654  12777511.0                            0.407        9.2  \n",
              "2934  453.351155  12633897.0                            0.418        9.5  \n",
              "2935   57.348340    125525.0                            0.427       10.0  \n",
              "2936  548.587312  12366165.0                            0.427        9.8  \n",
              "2937  547.358878  12222251.0                            0.434        9.8  \n",
              "\n",
              "[2938 rows x 19 columns]"
            ],
            "text/html": [
              "\n",
              "  <div id=\"df-b7dbfe17-7bce-4bbc-b451-44e2fa35937a\" class=\"colab-df-container\">\n",
              "    <div>\n",
              "<style scoped>\n",
              "    .dataframe tbody tr th:only-of-type {\n",
              "        vertical-align: middle;\n",
              "    }\n",
              "\n",
              "    .dataframe tbody tr th {\n",
              "        vertical-align: top;\n",
              "    }\n",
              "\n",
              "    .dataframe thead th {\n",
              "        text-align: right;\n",
              "    }\n",
              "</style>\n",
              "<table border=\"1\" class=\"dataframe\">\n",
              "  <thead>\n",
              "    <tr style=\"text-align: right;\">\n",
              "      <th></th>\n",
              "      <th>country</th>\n",
              "      <th>year</th>\n",
              "      <th>life expectancy</th>\n",
              "      <th>adult mortality</th>\n",
              "      <th>infant deaths</th>\n",
              "      <th>alcohol</th>\n",
              "      <th>percentage expenditure</th>\n",
              "      <th>hepatitis B</th>\n",
              "      <th>measles</th>\n",
              "      <th>BMI</th>\n",
              "      <th>under-five deaths</th>\n",
              "      <th>polio</th>\n",
              "      <th>total expenditure</th>\n",
              "      <th>diphtheria</th>\n",
              "      <th>HIV/AIDS</th>\n",
              "      <th>GDP</th>\n",
              "      <th>population</th>\n",
              "      <th>income composition of resources</th>\n",
              "      <th>schooling</th>\n",
              "    </tr>\n",
              "  </thead>\n",
              "  <tbody>\n",
              "    <tr>\n",
              "      <th>0</th>\n",
              "      <td>Afghanistan</td>\n",
              "      <td>2015</td>\n",
              "      <td>65.0</td>\n",
              "      <td>263.0</td>\n",
              "      <td>62</td>\n",
              "      <td>0.01</td>\n",
              "      <td>71.279624</td>\n",
              "      <td>65.0</td>\n",
              "      <td>1154</td>\n",
              "      <td>19.1</td>\n",
              "      <td>83</td>\n",
              "      <td>6.0</td>\n",
              "      <td>8.16</td>\n",
              "      <td>65.0</td>\n",
              "      <td>0.1</td>\n",
              "      <td>584.259210</td>\n",
              "      <td>33736494.0</td>\n",
              "      <td>0.479</td>\n",
              "      <td>10.1</td>\n",
              "    </tr>\n",
              "    <tr>\n",
              "      <th>1</th>\n",
              "      <td>Afghanistan</td>\n",
              "      <td>2014</td>\n",
              "      <td>59.9</td>\n",
              "      <td>271.0</td>\n",
              "      <td>64</td>\n",
              "      <td>0.01</td>\n",
              "      <td>73.523582</td>\n",
              "      <td>62.0</td>\n",
              "      <td>492</td>\n",
              "      <td>18.6</td>\n",
              "      <td>86</td>\n",
              "      <td>58.0</td>\n",
              "      <td>8.18</td>\n",
              "      <td>62.0</td>\n",
              "      <td>0.1</td>\n",
              "      <td>612.696514</td>\n",
              "      <td>327582.0</td>\n",
              "      <td>0.476</td>\n",
              "      <td>10.0</td>\n",
              "    </tr>\n",
              "    <tr>\n",
              "      <th>2</th>\n",
              "      <td>Afghanistan</td>\n",
              "      <td>2013</td>\n",
              "      <td>59.9</td>\n",
              "      <td>268.0</td>\n",
              "      <td>66</td>\n",
              "      <td>0.01</td>\n",
              "      <td>73.219243</td>\n",
              "      <td>64.0</td>\n",
              "      <td>430</td>\n",
              "      <td>18.1</td>\n",
              "      <td>89</td>\n",
              "      <td>62.0</td>\n",
              "      <td>8.13</td>\n",
              "      <td>64.0</td>\n",
              "      <td>0.1</td>\n",
              "      <td>631.744976</td>\n",
              "      <td>31731688.0</td>\n",
              "      <td>0.470</td>\n",
              "      <td>9.9</td>\n",
              "    </tr>\n",
              "    <tr>\n",
              "      <th>3</th>\n",
              "      <td>Afghanistan</td>\n",
              "      <td>2012</td>\n",
              "      <td>59.5</td>\n",
              "      <td>272.0</td>\n",
              "      <td>69</td>\n",
              "      <td>0.01</td>\n",
              "      <td>78.184215</td>\n",
              "      <td>67.0</td>\n",
              "      <td>2787</td>\n",
              "      <td>17.6</td>\n",
              "      <td>93</td>\n",
              "      <td>67.0</td>\n",
              "      <td>8.52</td>\n",
              "      <td>67.0</td>\n",
              "      <td>0.1</td>\n",
              "      <td>669.959000</td>\n",
              "      <td>3696958.0</td>\n",
              "      <td>0.463</td>\n",
              "      <td>9.8</td>\n",
              "    </tr>\n",
              "    <tr>\n",
              "      <th>4</th>\n",
              "      <td>Afghanistan</td>\n",
              "      <td>2011</td>\n",
              "      <td>59.2</td>\n",
              "      <td>275.0</td>\n",
              "      <td>71</td>\n",
              "      <td>0.01</td>\n",
              "      <td>7.097109</td>\n",
              "      <td>68.0</td>\n",
              "      <td>3013</td>\n",
              "      <td>17.2</td>\n",
              "      <td>97</td>\n",
              "      <td>68.0</td>\n",
              "      <td>7.87</td>\n",
              "      <td>68.0</td>\n",
              "      <td>0.1</td>\n",
              "      <td>63.537231</td>\n",
              "      <td>2978599.0</td>\n",
              "      <td>0.454</td>\n",
              "      <td>9.5</td>\n",
              "    </tr>\n",
              "    <tr>\n",
              "      <th>...</th>\n",
              "      <td>...</td>\n",
              "      <td>...</td>\n",
              "      <td>...</td>\n",
              "      <td>...</td>\n",
              "      <td>...</td>\n",
              "      <td>...</td>\n",
              "      <td>...</td>\n",
              "      <td>...</td>\n",
              "      <td>...</td>\n",
              "      <td>...</td>\n",
              "      <td>...</td>\n",
              "      <td>...</td>\n",
              "      <td>...</td>\n",
              "      <td>...</td>\n",
              "      <td>...</td>\n",
              "      <td>...</td>\n",
              "      <td>...</td>\n",
              "      <td>...</td>\n",
              "      <td>...</td>\n",
              "    </tr>\n",
              "    <tr>\n",
              "      <th>2933</th>\n",
              "      <td>Zimbabwe</td>\n",
              "      <td>2004</td>\n",
              "      <td>44.3</td>\n",
              "      <td>723.0</td>\n",
              "      <td>27</td>\n",
              "      <td>4.36</td>\n",
              "      <td>0.000000</td>\n",
              "      <td>68.0</td>\n",
              "      <td>31</td>\n",
              "      <td>27.1</td>\n",
              "      <td>42</td>\n",
              "      <td>67.0</td>\n",
              "      <td>7.13</td>\n",
              "      <td>65.0</td>\n",
              "      <td>33.6</td>\n",
              "      <td>454.366654</td>\n",
              "      <td>12777511.0</td>\n",
              "      <td>0.407</td>\n",
              "      <td>9.2</td>\n",
              "    </tr>\n",
              "    <tr>\n",
              "      <th>2934</th>\n",
              "      <td>Zimbabwe</td>\n",
              "      <td>2003</td>\n",
              "      <td>44.5</td>\n",
              "      <td>715.0</td>\n",
              "      <td>26</td>\n",
              "      <td>4.06</td>\n",
              "      <td>0.000000</td>\n",
              "      <td>7.0</td>\n",
              "      <td>998</td>\n",
              "      <td>26.7</td>\n",
              "      <td>41</td>\n",
              "      <td>7.0</td>\n",
              "      <td>6.52</td>\n",
              "      <td>68.0</td>\n",
              "      <td>36.7</td>\n",
              "      <td>453.351155</td>\n",
              "      <td>12633897.0</td>\n",
              "      <td>0.418</td>\n",
              "      <td>9.5</td>\n",
              "    </tr>\n",
              "    <tr>\n",
              "      <th>2935</th>\n",
              "      <td>Zimbabwe</td>\n",
              "      <td>2002</td>\n",
              "      <td>44.8</td>\n",
              "      <td>73.0</td>\n",
              "      <td>25</td>\n",
              "      <td>4.43</td>\n",
              "      <td>0.000000</td>\n",
              "      <td>73.0</td>\n",
              "      <td>304</td>\n",
              "      <td>26.3</td>\n",
              "      <td>40</td>\n",
              "      <td>73.0</td>\n",
              "      <td>6.53</td>\n",
              "      <td>71.0</td>\n",
              "      <td>39.8</td>\n",
              "      <td>57.348340</td>\n",
              "      <td>125525.0</td>\n",
              "      <td>0.427</td>\n",
              "      <td>10.0</td>\n",
              "    </tr>\n",
              "    <tr>\n",
              "      <th>2936</th>\n",
              "      <td>Zimbabwe</td>\n",
              "      <td>2001</td>\n",
              "      <td>45.3</td>\n",
              "      <td>686.0</td>\n",
              "      <td>25</td>\n",
              "      <td>1.72</td>\n",
              "      <td>0.000000</td>\n",
              "      <td>76.0</td>\n",
              "      <td>529</td>\n",
              "      <td>25.9</td>\n",
              "      <td>39</td>\n",
              "      <td>76.0</td>\n",
              "      <td>6.16</td>\n",
              "      <td>75.0</td>\n",
              "      <td>42.1</td>\n",
              "      <td>548.587312</td>\n",
              "      <td>12366165.0</td>\n",
              "      <td>0.427</td>\n",
              "      <td>9.8</td>\n",
              "    </tr>\n",
              "    <tr>\n",
              "      <th>2937</th>\n",
              "      <td>Zimbabwe</td>\n",
              "      <td>2000</td>\n",
              "      <td>46.0</td>\n",
              "      <td>665.0</td>\n",
              "      <td>24</td>\n",
              "      <td>1.68</td>\n",
              "      <td>0.000000</td>\n",
              "      <td>79.0</td>\n",
              "      <td>1483</td>\n",
              "      <td>25.5</td>\n",
              "      <td>39</td>\n",
              "      <td>78.0</td>\n",
              "      <td>7.10</td>\n",
              "      <td>78.0</td>\n",
              "      <td>43.5</td>\n",
              "      <td>547.358878</td>\n",
              "      <td>12222251.0</td>\n",
              "      <td>0.434</td>\n",
              "      <td>9.8</td>\n",
              "    </tr>\n",
              "  </tbody>\n",
              "</table>\n",
              "<p>2938 rows × 19 columns</p>\n",
              "</div>\n",
              "    <div class=\"colab-df-buttons\">\n",
              "\n",
              "  <div class=\"colab-df-container\">\n",
              "    <button class=\"colab-df-convert\" onclick=\"convertToInteractive('df-b7dbfe17-7bce-4bbc-b451-44e2fa35937a')\"\n",
              "            title=\"Convert this dataframe to an interactive table.\"\n",
              "            style=\"display:none;\">\n",
              "\n",
              "  <svg xmlns=\"http://www.w3.org/2000/svg\" height=\"24px\" viewBox=\"0 -960 960 960\">\n",
              "    <path d=\"M120-120v-720h720v720H120Zm60-500h600v-160H180v160Zm220 220h160v-160H400v160Zm0 220h160v-160H400v160ZM180-400h160v-160H180v160Zm440 0h160v-160H620v160ZM180-180h160v-160H180v160Zm440 0h160v-160H620v160Z\"/>\n",
              "  </svg>\n",
              "    </button>\n",
              "\n",
              "  <style>\n",
              "    .colab-df-container {\n",
              "      display:flex;\n",
              "      gap: 12px;\n",
              "    }\n",
              "\n",
              "    .colab-df-convert {\n",
              "      background-color: #E8F0FE;\n",
              "      border: none;\n",
              "      border-radius: 50%;\n",
              "      cursor: pointer;\n",
              "      display: none;\n",
              "      fill: #1967D2;\n",
              "      height: 32px;\n",
              "      padding: 0 0 0 0;\n",
              "      width: 32px;\n",
              "    }\n",
              "\n",
              "    .colab-df-convert:hover {\n",
              "      background-color: #E2EBFA;\n",
              "      box-shadow: 0px 1px 2px rgba(60, 64, 67, 0.3), 0px 1px 3px 1px rgba(60, 64, 67, 0.15);\n",
              "      fill: #174EA6;\n",
              "    }\n",
              "\n",
              "    .colab-df-buttons div {\n",
              "      margin-bottom: 4px;\n",
              "    }\n",
              "\n",
              "    [theme=dark] .colab-df-convert {\n",
              "      background-color: #3B4455;\n",
              "      fill: #D2E3FC;\n",
              "    }\n",
              "\n",
              "    [theme=dark] .colab-df-convert:hover {\n",
              "      background-color: #434B5C;\n",
              "      box-shadow: 0px 1px 3px 1px rgba(0, 0, 0, 0.15);\n",
              "      filter: drop-shadow(0px 1px 2px rgba(0, 0, 0, 0.3));\n",
              "      fill: #FFFFFF;\n",
              "    }\n",
              "  </style>\n",
              "\n",
              "    <script>\n",
              "      const buttonEl =\n",
              "        document.querySelector('#df-b7dbfe17-7bce-4bbc-b451-44e2fa35937a button.colab-df-convert');\n",
              "      buttonEl.style.display =\n",
              "        google.colab.kernel.accessAllowed ? 'block' : 'none';\n",
              "\n",
              "      async function convertToInteractive(key) {\n",
              "        const element = document.querySelector('#df-b7dbfe17-7bce-4bbc-b451-44e2fa35937a');\n",
              "        const dataTable =\n",
              "          await google.colab.kernel.invokeFunction('convertToInteractive',\n",
              "                                                    [key], {});\n",
              "        if (!dataTable) return;\n",
              "\n",
              "        const docLinkHtml = 'Like what you see? Visit the ' +\n",
              "          '<a target=\"_blank\" href=https://colab.research.google.com/notebooks/data_table.ipynb>data table notebook</a>'\n",
              "          + ' to learn more about interactive tables.';\n",
              "        element.innerHTML = '';\n",
              "        dataTable['output_type'] = 'display_data';\n",
              "        await google.colab.output.renderOutput(dataTable, element);\n",
              "        const docLink = document.createElement('div');\n",
              "        docLink.innerHTML = docLinkHtml;\n",
              "        element.appendChild(docLink);\n",
              "      }\n",
              "    </script>\n",
              "  </div>\n",
              "\n",
              "\n",
              "    <div id=\"df-c4843504-4e6e-4c9d-bbb0-08e82a0d21a4\">\n",
              "      <button class=\"colab-df-quickchart\" onclick=\"quickchart('df-c4843504-4e6e-4c9d-bbb0-08e82a0d21a4')\"\n",
              "                title=\"Suggest charts\"\n",
              "                style=\"display:none;\">\n",
              "\n",
              "<svg xmlns=\"http://www.w3.org/2000/svg\" height=\"24px\"viewBox=\"0 0 24 24\"\n",
              "     width=\"24px\">\n",
              "    <g>\n",
              "        <path d=\"M19 3H5c-1.1 0-2 .9-2 2v14c0 1.1.9 2 2 2h14c1.1 0 2-.9 2-2V5c0-1.1-.9-2-2-2zM9 17H7v-7h2v7zm4 0h-2V7h2v10zm4 0h-2v-4h2v4z\"/>\n",
              "    </g>\n",
              "</svg>\n",
              "      </button>\n",
              "\n",
              "<style>\n",
              "  .colab-df-quickchart {\n",
              "      --bg-color: #E8F0FE;\n",
              "      --fill-color: #1967D2;\n",
              "      --hover-bg-color: #E2EBFA;\n",
              "      --hover-fill-color: #174EA6;\n",
              "      --disabled-fill-color: #AAA;\n",
              "      --disabled-bg-color: #DDD;\n",
              "  }\n",
              "\n",
              "  [theme=dark] .colab-df-quickchart {\n",
              "      --bg-color: #3B4455;\n",
              "      --fill-color: #D2E3FC;\n",
              "      --hover-bg-color: #434B5C;\n",
              "      --hover-fill-color: #FFFFFF;\n",
              "      --disabled-bg-color: #3B4455;\n",
              "      --disabled-fill-color: #666;\n",
              "  }\n",
              "\n",
              "  .colab-df-quickchart {\n",
              "    background-color: var(--bg-color);\n",
              "    border: none;\n",
              "    border-radius: 50%;\n",
              "    cursor: pointer;\n",
              "    display: none;\n",
              "    fill: var(--fill-color);\n",
              "    height: 32px;\n",
              "    padding: 0;\n",
              "    width: 32px;\n",
              "  }\n",
              "\n",
              "  .colab-df-quickchart:hover {\n",
              "    background-color: var(--hover-bg-color);\n",
              "    box-shadow: 0 1px 2px rgba(60, 64, 67, 0.3), 0 1px 3px 1px rgba(60, 64, 67, 0.15);\n",
              "    fill: var(--button-hover-fill-color);\n",
              "  }\n",
              "\n",
              "  .colab-df-quickchart-complete:disabled,\n",
              "  .colab-df-quickchart-complete:disabled:hover {\n",
              "    background-color: var(--disabled-bg-color);\n",
              "    fill: var(--disabled-fill-color);\n",
              "    box-shadow: none;\n",
              "  }\n",
              "\n",
              "  .colab-df-spinner {\n",
              "    border: 2px solid var(--fill-color);\n",
              "    border-color: transparent;\n",
              "    border-bottom-color: var(--fill-color);\n",
              "    animation:\n",
              "      spin 1s steps(1) infinite;\n",
              "  }\n",
              "\n",
              "  @keyframes spin {\n",
              "    0% {\n",
              "      border-color: transparent;\n",
              "      border-bottom-color: var(--fill-color);\n",
              "      border-left-color: var(--fill-color);\n",
              "    }\n",
              "    20% {\n",
              "      border-color: transparent;\n",
              "      border-left-color: var(--fill-color);\n",
              "      border-top-color: var(--fill-color);\n",
              "    }\n",
              "    30% {\n",
              "      border-color: transparent;\n",
              "      border-left-color: var(--fill-color);\n",
              "      border-top-color: var(--fill-color);\n",
              "      border-right-color: var(--fill-color);\n",
              "    }\n",
              "    40% {\n",
              "      border-color: transparent;\n",
              "      border-right-color: var(--fill-color);\n",
              "      border-top-color: var(--fill-color);\n",
              "    }\n",
              "    60% {\n",
              "      border-color: transparent;\n",
              "      border-right-color: var(--fill-color);\n",
              "    }\n",
              "    80% {\n",
              "      border-color: transparent;\n",
              "      border-right-color: var(--fill-color);\n",
              "      border-bottom-color: var(--fill-color);\n",
              "    }\n",
              "    90% {\n",
              "      border-color: transparent;\n",
              "      border-bottom-color: var(--fill-color);\n",
              "    }\n",
              "  }\n",
              "</style>\n",
              "\n",
              "      <script>\n",
              "        async function quickchart(key) {\n",
              "          const quickchartButtonEl =\n",
              "            document.querySelector('#' + key + ' button');\n",
              "          quickchartButtonEl.disabled = true;  // To prevent multiple clicks.\n",
              "          quickchartButtonEl.classList.add('colab-df-spinner');\n",
              "          try {\n",
              "            const charts = await google.colab.kernel.invokeFunction(\n",
              "                'suggestCharts', [key], {});\n",
              "          } catch (error) {\n",
              "            console.error('Error during call to suggestCharts:', error);\n",
              "          }\n",
              "          quickchartButtonEl.classList.remove('colab-df-spinner');\n",
              "          quickchartButtonEl.classList.add('colab-df-quickchart-complete');\n",
              "        }\n",
              "        (() => {\n",
              "          let quickchartButtonEl =\n",
              "            document.querySelector('#df-c4843504-4e6e-4c9d-bbb0-08e82a0d21a4 button');\n",
              "          quickchartButtonEl.style.display =\n",
              "            google.colab.kernel.accessAllowed ? 'block' : 'none';\n",
              "        })();\n",
              "      </script>\n",
              "    </div>\n",
              "    </div>\n",
              "  </div>\n"
            ],
            "application/vnd.google.colaboratory.intrinsic+json": {
              "type": "dataframe",
              "variable_name": "df_life",
              "summary": "{\n  \"name\": \"df_life\",\n  \"rows\": 2938,\n  \"fields\": [\n    {\n      \"column\": \"country\",\n      \"properties\": {\n        \"dtype\": \"category\",\n        \"num_unique_values\": 193,\n        \"samples\": [\n          \"Democratic People's Republic of Korea\",\n          \"Republic of Korea\",\n          \"India\"\n        ],\n        \"semantic_type\": \"\",\n        \"description\": \"\"\n      }\n    },\n    {\n      \"column\": \"year\",\n      \"properties\": {\n        \"dtype\": \"number\",\n        \"std\": 4,\n        \"min\": 2000,\n        \"max\": 2015,\n        \"num_unique_values\": 16,\n        \"samples\": [\n          2015,\n          2014,\n          2010\n        ],\n        \"semantic_type\": \"\",\n        \"description\": \"\"\n      }\n    },\n    {\n      \"column\": \"life expectancy\",\n      \"properties\": {\n        \"dtype\": \"number\",\n        \"std\": 9.523867487824278,\n        \"min\": 36.3,\n        \"max\": 89.0,\n        \"num_unique_values\": 362,\n        \"samples\": [\n          55.5,\n          74.9,\n          77.5\n        ],\n        \"semantic_type\": \"\",\n        \"description\": \"\"\n      }\n    },\n    {\n      \"column\": \"adult mortality\",\n      \"properties\": {\n        \"dtype\": \"number\",\n        \"std\": 124.29207900342202,\n        \"min\": 1.0,\n        \"max\": 723.0,\n        \"num_unique_values\": 425,\n        \"samples\": [\n          614.0,\n          141.0,\n          427.0\n        ],\n        \"semantic_type\": \"\",\n        \"description\": \"\"\n      }\n    },\n    {\n      \"column\": \"infant deaths\",\n      \"properties\": {\n        \"dtype\": \"number\",\n        \"std\": 117,\n        \"min\": 0,\n        \"max\": 1800,\n        \"num_unique_values\": 209,\n        \"samples\": [\n          9,\n          483,\n          17\n        ],\n        \"semantic_type\": \"\",\n        \"description\": \"\"\n      }\n    },\n    {\n      \"column\": \"alcohol\",\n      \"properties\": {\n        \"dtype\": \"number\",\n        \"std\": 4.052412658755652,\n        \"min\": 0.01,\n        \"max\": 17.87,\n        \"num_unique_values\": 1076,\n        \"samples\": [\n          1.91,\n          9.25,\n          6.83\n        ],\n        \"semantic_type\": \"\",\n        \"description\": \"\"\n      }\n    },\n    {\n      \"column\": \"percentage expenditure\",\n      \"properties\": {\n        \"dtype\": \"number\",\n        \"std\": 1987.9148580161984,\n        \"min\": 0.0,\n        \"max\": 19479.91161,\n        \"num_unique_values\": 2328,\n        \"samples\": [\n          5063.513104,\n          72.8001211,\n          26.18072382\n        ],\n        \"semantic_type\": \"\",\n        \"description\": \"\"\n      }\n    },\n    {\n      \"column\": \"hepatitis B\",\n      \"properties\": {\n        \"dtype\": \"number\",\n        \"std\": 25.070015593018123,\n        \"min\": 1.0,\n        \"max\": 99.0,\n        \"num_unique_values\": 87,\n        \"samples\": [\n          59.0,\n          65.0,\n          88.0\n        ],\n        \"semantic_type\": \"\",\n        \"description\": \"\"\n      }\n    },\n    {\n      \"column\": \"measles\",\n      \"properties\": {\n        \"dtype\": \"number\",\n        \"std\": 11467,\n        \"min\": 0,\n        \"max\": 212183,\n        \"num_unique_values\": 958,\n        \"samples\": [\n          2641,\n          5189,\n          73\n        ],\n        \"semantic_type\": \"\",\n        \"description\": \"\"\n      }\n    },\n    {\n      \"column\": \"BMI\",\n      \"properties\": {\n        \"dtype\": \"number\",\n        \"std\": 20.044033502562073,\n        \"min\": 1.0,\n        \"max\": 87.3,\n        \"num_unique_values\": 608,\n        \"samples\": [\n          62.9,\n          14.2,\n          59.9\n        ],\n        \"semantic_type\": \"\",\n        \"description\": \"\"\n      }\n    },\n    {\n      \"column\": \"under-five deaths\",\n      \"properties\": {\n        \"dtype\": \"number\",\n        \"std\": 160,\n        \"min\": 0,\n        \"max\": 2500,\n        \"num_unique_values\": 252,\n        \"samples\": [\n          46,\n          106,\n          75\n        ],\n        \"semantic_type\": \"\",\n        \"description\": \"\"\n      }\n    },\n    {\n      \"column\": \"polio\",\n      \"properties\": {\n        \"dtype\": \"number\",\n        \"std\": 23.42804594946845,\n        \"min\": 3.0,\n        \"max\": 99.0,\n        \"num_unique_values\": 73,\n        \"samples\": [\n          68.0,\n          43.0,\n          92.0\n        ],\n        \"semantic_type\": \"\",\n        \"description\": \"\"\n      }\n    },\n    {\n      \"column\": \"total expenditure\",\n      \"properties\": {\n        \"dtype\": \"number\",\n        \"std\": 2.4983196721556302,\n        \"min\": 0.37,\n        \"max\": 17.6,\n        \"num_unique_values\": 818,\n        \"samples\": [\n          9.21,\n          4.33,\n          2.46\n        ],\n        \"semantic_type\": \"\",\n        \"description\": \"\"\n      }\n    },\n    {\n      \"column\": \"diphtheria\",\n      \"properties\": {\n        \"dtype\": \"number\",\n        \"std\": 23.716912068572515,\n        \"min\": 2.0,\n        \"max\": 99.0,\n        \"num_unique_values\": 81,\n        \"samples\": [\n          4.0,\n          65.0,\n          77.0\n        ],\n        \"semantic_type\": \"\",\n        \"description\": \"\"\n      }\n    },\n    {\n      \"column\": \"HIV/AIDS\",\n      \"properties\": {\n        \"dtype\": \"number\",\n        \"std\": 5.077784531086524,\n        \"min\": 0.1,\n        \"max\": 50.6,\n        \"num_unique_values\": 200,\n        \"samples\": [\n          8.9,\n          0.6,\n          12.7\n        ],\n        \"semantic_type\": \"\",\n        \"description\": \"\"\n      }\n    },\n    {\n      \"column\": \"GDP\",\n      \"properties\": {\n        \"dtype\": \"number\",\n        \"std\": 14270.16934151599,\n        \"min\": 1.68135,\n        \"max\": 119172.7418,\n        \"num_unique_values\": 2490,\n        \"samples\": [\n          3634.27685,\n          243.1586486,\n          766.8437623\n        ],\n        \"semantic_type\": \"\",\n        \"description\": \"\"\n      }\n    },\n    {\n      \"column\": \"population\",\n      \"properties\": {\n        \"dtype\": \"number\",\n        \"std\": 61012096.50842798,\n        \"min\": 34.0,\n        \"max\": 1293859294.0,\n        \"num_unique_values\": 2278,\n        \"samples\": [\n          8274983.0,\n          17613798.0,\n          2997687.0\n        ],\n        \"semantic_type\": \"\",\n        \"description\": \"\"\n      }\n    },\n    {\n      \"column\": \"income composition of resources\",\n      \"properties\": {\n        \"dtype\": \"number\",\n        \"std\": 0.21090355515159337,\n        \"min\": 0.0,\n        \"max\": 0.948,\n        \"num_unique_values\": 625,\n        \"samples\": [\n          0.916,\n          0.443,\n          0.666\n        ],\n        \"semantic_type\": \"\",\n        \"description\": \"\"\n      }\n    },\n    {\n      \"column\": \"schooling\",\n      \"properties\": {\n        \"dtype\": \"number\",\n        \"std\": 3.3589197211023656,\n        \"min\": 0.0,\n        \"max\": 20.7,\n        \"num_unique_values\": 173,\n        \"samples\": [\n          18.5,\n          6.4,\n          10.2\n        ],\n        \"semantic_type\": \"\",\n        \"description\": \"\"\n      }\n    }\n  ]\n}"
            }
          },
          "metadata": {},
          "execution_count": 7
        }
      ],
      "source": [
        "# Считайте набор данных\n",
        "\n",
        "df_life = pd.read_csv('life_expectancy.csv')\n",
        "df_life"
      ]
    },
    {
      "cell_type": "code",
      "execution_count": null,
      "id": "a59f86fd",
      "metadata": {
        "id": "a59f86fd",
        "colab": {
          "base_uri": "https://localhost:8080/"
        },
        "outputId": "2c33262c-701e-4ceb-8d1a-00ae2372a2f1"
      },
      "outputs": [
        {
          "output_type": "stream",
          "name": "stdout",
          "text": [
            "<class 'pandas.core.frame.DataFrame'>\n",
            "RangeIndex: 2938 entries, 0 to 2937\n",
            "Data columns (total 19 columns):\n",
            " #   Column                           Non-Null Count  Dtype  \n",
            "---  ------                           --------------  -----  \n",
            " 0   country                          2938 non-null   object \n",
            " 1   year                             2938 non-null   int64  \n",
            " 2   life expectancy                  2928 non-null   float64\n",
            " 3   adult mortality                  2928 non-null   float64\n",
            " 4   infant deaths                    2938 non-null   int64  \n",
            " 5   alcohol                          2744 non-null   float64\n",
            " 6   percentage expenditure           2938 non-null   float64\n",
            " 7   hepatitis B                      2385 non-null   float64\n",
            " 8   measles                          2938 non-null   int64  \n",
            " 9   BMI                              2904 non-null   float64\n",
            " 10  under-five deaths                2938 non-null   int64  \n",
            " 11  polio                            2919 non-null   float64\n",
            " 12  total expenditure                2712 non-null   float64\n",
            " 13  diphtheria                       2919 non-null   float64\n",
            " 14  HIV/AIDS                         2938 non-null   float64\n",
            " 15  GDP                              2490 non-null   float64\n",
            " 16  population                       2286 non-null   float64\n",
            " 17  income composition of resources  2771 non-null   float64\n",
            " 18  schooling                        2775 non-null   float64\n",
            "dtypes: float64(14), int64(4), object(1)\n",
            "memory usage: 436.2+ KB\n"
          ]
        }
      ],
      "source": [
        "# В методе info отображается количество непустых наблюдений для каждого из признаков\n",
        "\n",
        "df_life.info()"
      ]
    },
    {
      "cell_type": "code",
      "execution_count": null,
      "id": "3f63d92b",
      "metadata": {
        "id": "3f63d92b"
      },
      "outputs": [],
      "source": [
        "# Создайте списки количественных и категориальных переменных (не включая целевую переменную)\n",
        "# year — количественная переменная\n",
        "\n",
        "life_num_feat = df_life.select_dtypes(include=['float64', 'int64']).columns.tolist()\n",
        "life_cat_feat = df_life.select_dtypes(include=['object', 'category']).columns.tolist()\n",
        "life_num_feat.remove('life expectancy')\n"
      ]
    },
    {
      "cell_type": "code",
      "execution_count": null,
      "id": "42b16072",
      "metadata": {
        "id": "42b16072"
      },
      "outputs": [],
      "source": [
        "# Удалите строки с пропусками в целевой переменной\n",
        "\n",
        "df_life = df_life.dropna(subset='life expectancy')"
      ]
    },
    {
      "cell_type": "code",
      "execution_count": null,
      "id": "ec6b55d8",
      "metadata": {
        "id": "ec6b55d8"
      },
      "outputs": [],
      "source": [
        "# Разделите датасет на обучающую и тестовую выборки так, чтобы в тестовую выборку вошли все данные за 2012-2015 год\n",
        "# Выделять целевой признак в отдельную переменную не требуется\n",
        "\n",
        "testmask = df_life[\"year\"].between(2012,2015)\n",
        "life_train = df_life[~testmask]\n",
        "life_test = df_life[testmask]"
      ]
    },
    {
      "cell_type": "code",
      "execution_count": null,
      "id": "b9f642db",
      "metadata": {
        "id": "b9f642db"
      },
      "outputs": [],
      "source": [
        "# Посчитайте доли пропусков в обучающей выборке\n",
        "\n",
        "life_nan_info = pd.DataFrame({'NaN share': life_train.isnull().mean()})\n",
        "life_nan_info = life_nan_info[life_nan_info['NaN share'] != 0.0]"
      ]
    },
    {
      "cell_type": "code",
      "source": [
        "life_nan_info"
      ],
      "metadata": {
        "colab": {
          "base_uri": "https://localhost:8080/",
          "height": 363
        },
        "id": "lwMzgtT-YLoW",
        "outputId": "4818f470-e93e-4b1e-a066-e5f48295902b"
      },
      "id": "lwMzgtT-YLoW",
      "execution_count": null,
      "outputs": [
        {
          "output_type": "execute_result",
          "data": {
            "text/plain": [
              "                                 NaN share\n",
              "alcohol                           0.005920\n",
              "hepatitis B                       0.232240\n",
              "BMI                               0.010929\n",
              "polio                             0.008652\n",
              "total expenditure                 0.017760\n",
              "diphtheria                        0.008652\n",
              "GDP                               0.149818\n",
              "population                        0.218579\n",
              "income composition of resources   0.054645\n",
              "schooling                         0.054645"
            ],
            "text/html": [
              "\n",
              "  <div id=\"df-2a554ab7-eda7-4b92-a891-e1bad4fb560b\" class=\"colab-df-container\">\n",
              "    <div>\n",
              "<style scoped>\n",
              "    .dataframe tbody tr th:only-of-type {\n",
              "        vertical-align: middle;\n",
              "    }\n",
              "\n",
              "    .dataframe tbody tr th {\n",
              "        vertical-align: top;\n",
              "    }\n",
              "\n",
              "    .dataframe thead th {\n",
              "        text-align: right;\n",
              "    }\n",
              "</style>\n",
              "<table border=\"1\" class=\"dataframe\">\n",
              "  <thead>\n",
              "    <tr style=\"text-align: right;\">\n",
              "      <th></th>\n",
              "      <th>NaN share</th>\n",
              "    </tr>\n",
              "  </thead>\n",
              "  <tbody>\n",
              "    <tr>\n",
              "      <th>alcohol</th>\n",
              "      <td>0.005920</td>\n",
              "    </tr>\n",
              "    <tr>\n",
              "      <th>hepatitis B</th>\n",
              "      <td>0.232240</td>\n",
              "    </tr>\n",
              "    <tr>\n",
              "      <th>BMI</th>\n",
              "      <td>0.010929</td>\n",
              "    </tr>\n",
              "    <tr>\n",
              "      <th>polio</th>\n",
              "      <td>0.008652</td>\n",
              "    </tr>\n",
              "    <tr>\n",
              "      <th>total expenditure</th>\n",
              "      <td>0.017760</td>\n",
              "    </tr>\n",
              "    <tr>\n",
              "      <th>diphtheria</th>\n",
              "      <td>0.008652</td>\n",
              "    </tr>\n",
              "    <tr>\n",
              "      <th>GDP</th>\n",
              "      <td>0.149818</td>\n",
              "    </tr>\n",
              "    <tr>\n",
              "      <th>population</th>\n",
              "      <td>0.218579</td>\n",
              "    </tr>\n",
              "    <tr>\n",
              "      <th>income composition of resources</th>\n",
              "      <td>0.054645</td>\n",
              "    </tr>\n",
              "    <tr>\n",
              "      <th>schooling</th>\n",
              "      <td>0.054645</td>\n",
              "    </tr>\n",
              "  </tbody>\n",
              "</table>\n",
              "</div>\n",
              "    <div class=\"colab-df-buttons\">\n",
              "\n",
              "  <div class=\"colab-df-container\">\n",
              "    <button class=\"colab-df-convert\" onclick=\"convertToInteractive('df-2a554ab7-eda7-4b92-a891-e1bad4fb560b')\"\n",
              "            title=\"Convert this dataframe to an interactive table.\"\n",
              "            style=\"display:none;\">\n",
              "\n",
              "  <svg xmlns=\"http://www.w3.org/2000/svg\" height=\"24px\" viewBox=\"0 -960 960 960\">\n",
              "    <path d=\"M120-120v-720h720v720H120Zm60-500h600v-160H180v160Zm220 220h160v-160H400v160Zm0 220h160v-160H400v160ZM180-400h160v-160H180v160Zm440 0h160v-160H620v160ZM180-180h160v-160H180v160Zm440 0h160v-160H620v160Z\"/>\n",
              "  </svg>\n",
              "    </button>\n",
              "\n",
              "  <style>\n",
              "    .colab-df-container {\n",
              "      display:flex;\n",
              "      gap: 12px;\n",
              "    }\n",
              "\n",
              "    .colab-df-convert {\n",
              "      background-color: #E8F0FE;\n",
              "      border: none;\n",
              "      border-radius: 50%;\n",
              "      cursor: pointer;\n",
              "      display: none;\n",
              "      fill: #1967D2;\n",
              "      height: 32px;\n",
              "      padding: 0 0 0 0;\n",
              "      width: 32px;\n",
              "    }\n",
              "\n",
              "    .colab-df-convert:hover {\n",
              "      background-color: #E2EBFA;\n",
              "      box-shadow: 0px 1px 2px rgba(60, 64, 67, 0.3), 0px 1px 3px 1px rgba(60, 64, 67, 0.15);\n",
              "      fill: #174EA6;\n",
              "    }\n",
              "\n",
              "    .colab-df-buttons div {\n",
              "      margin-bottom: 4px;\n",
              "    }\n",
              "\n",
              "    [theme=dark] .colab-df-convert {\n",
              "      background-color: #3B4455;\n",
              "      fill: #D2E3FC;\n",
              "    }\n",
              "\n",
              "    [theme=dark] .colab-df-convert:hover {\n",
              "      background-color: #434B5C;\n",
              "      box-shadow: 0px 1px 3px 1px rgba(0, 0, 0, 0.15);\n",
              "      filter: drop-shadow(0px 1px 2px rgba(0, 0, 0, 0.3));\n",
              "      fill: #FFFFFF;\n",
              "    }\n",
              "  </style>\n",
              "\n",
              "    <script>\n",
              "      const buttonEl =\n",
              "        document.querySelector('#df-2a554ab7-eda7-4b92-a891-e1bad4fb560b button.colab-df-convert');\n",
              "      buttonEl.style.display =\n",
              "        google.colab.kernel.accessAllowed ? 'block' : 'none';\n",
              "\n",
              "      async function convertToInteractive(key) {\n",
              "        const element = document.querySelector('#df-2a554ab7-eda7-4b92-a891-e1bad4fb560b');\n",
              "        const dataTable =\n",
              "          await google.colab.kernel.invokeFunction('convertToInteractive',\n",
              "                                                    [key], {});\n",
              "        if (!dataTable) return;\n",
              "\n",
              "        const docLinkHtml = 'Like what you see? Visit the ' +\n",
              "          '<a target=\"_blank\" href=https://colab.research.google.com/notebooks/data_table.ipynb>data table notebook</a>'\n",
              "          + ' to learn more about interactive tables.';\n",
              "        element.innerHTML = '';\n",
              "        dataTable['output_type'] = 'display_data';\n",
              "        await google.colab.output.renderOutput(dataTable, element);\n",
              "        const docLink = document.createElement('div');\n",
              "        docLink.innerHTML = docLinkHtml;\n",
              "        element.appendChild(docLink);\n",
              "      }\n",
              "    </script>\n",
              "  </div>\n",
              "\n",
              "\n",
              "    <div id=\"df-68cc6977-132d-486a-8f03-19e850a75643\">\n",
              "      <button class=\"colab-df-quickchart\" onclick=\"quickchart('df-68cc6977-132d-486a-8f03-19e850a75643')\"\n",
              "                title=\"Suggest charts\"\n",
              "                style=\"display:none;\">\n",
              "\n",
              "<svg xmlns=\"http://www.w3.org/2000/svg\" height=\"24px\"viewBox=\"0 0 24 24\"\n",
              "     width=\"24px\">\n",
              "    <g>\n",
              "        <path d=\"M19 3H5c-1.1 0-2 .9-2 2v14c0 1.1.9 2 2 2h14c1.1 0 2-.9 2-2V5c0-1.1-.9-2-2-2zM9 17H7v-7h2v7zm4 0h-2V7h2v10zm4 0h-2v-4h2v4z\"/>\n",
              "    </g>\n",
              "</svg>\n",
              "      </button>\n",
              "\n",
              "<style>\n",
              "  .colab-df-quickchart {\n",
              "      --bg-color: #E8F0FE;\n",
              "      --fill-color: #1967D2;\n",
              "      --hover-bg-color: #E2EBFA;\n",
              "      --hover-fill-color: #174EA6;\n",
              "      --disabled-fill-color: #AAA;\n",
              "      --disabled-bg-color: #DDD;\n",
              "  }\n",
              "\n",
              "  [theme=dark] .colab-df-quickchart {\n",
              "      --bg-color: #3B4455;\n",
              "      --fill-color: #D2E3FC;\n",
              "      --hover-bg-color: #434B5C;\n",
              "      --hover-fill-color: #FFFFFF;\n",
              "      --disabled-bg-color: #3B4455;\n",
              "      --disabled-fill-color: #666;\n",
              "  }\n",
              "\n",
              "  .colab-df-quickchart {\n",
              "    background-color: var(--bg-color);\n",
              "    border: none;\n",
              "    border-radius: 50%;\n",
              "    cursor: pointer;\n",
              "    display: none;\n",
              "    fill: var(--fill-color);\n",
              "    height: 32px;\n",
              "    padding: 0;\n",
              "    width: 32px;\n",
              "  }\n",
              "\n",
              "  .colab-df-quickchart:hover {\n",
              "    background-color: var(--hover-bg-color);\n",
              "    box-shadow: 0 1px 2px rgba(60, 64, 67, 0.3), 0 1px 3px 1px rgba(60, 64, 67, 0.15);\n",
              "    fill: var(--button-hover-fill-color);\n",
              "  }\n",
              "\n",
              "  .colab-df-quickchart-complete:disabled,\n",
              "  .colab-df-quickchart-complete:disabled:hover {\n",
              "    background-color: var(--disabled-bg-color);\n",
              "    fill: var(--disabled-fill-color);\n",
              "    box-shadow: none;\n",
              "  }\n",
              "\n",
              "  .colab-df-spinner {\n",
              "    border: 2px solid var(--fill-color);\n",
              "    border-color: transparent;\n",
              "    border-bottom-color: var(--fill-color);\n",
              "    animation:\n",
              "      spin 1s steps(1) infinite;\n",
              "  }\n",
              "\n",
              "  @keyframes spin {\n",
              "    0% {\n",
              "      border-color: transparent;\n",
              "      border-bottom-color: var(--fill-color);\n",
              "      border-left-color: var(--fill-color);\n",
              "    }\n",
              "    20% {\n",
              "      border-color: transparent;\n",
              "      border-left-color: var(--fill-color);\n",
              "      border-top-color: var(--fill-color);\n",
              "    }\n",
              "    30% {\n",
              "      border-color: transparent;\n",
              "      border-left-color: var(--fill-color);\n",
              "      border-top-color: var(--fill-color);\n",
              "      border-right-color: var(--fill-color);\n",
              "    }\n",
              "    40% {\n",
              "      border-color: transparent;\n",
              "      border-right-color: var(--fill-color);\n",
              "      border-top-color: var(--fill-color);\n",
              "    }\n",
              "    60% {\n",
              "      border-color: transparent;\n",
              "      border-right-color: var(--fill-color);\n",
              "    }\n",
              "    80% {\n",
              "      border-color: transparent;\n",
              "      border-right-color: var(--fill-color);\n",
              "      border-bottom-color: var(--fill-color);\n",
              "    }\n",
              "    90% {\n",
              "      border-color: transparent;\n",
              "      border-bottom-color: var(--fill-color);\n",
              "    }\n",
              "  }\n",
              "</style>\n",
              "\n",
              "      <script>\n",
              "        async function quickchart(key) {\n",
              "          const quickchartButtonEl =\n",
              "            document.querySelector('#' + key + ' button');\n",
              "          quickchartButtonEl.disabled = true;  // To prevent multiple clicks.\n",
              "          quickchartButtonEl.classList.add('colab-df-spinner');\n",
              "          try {\n",
              "            const charts = await google.colab.kernel.invokeFunction(\n",
              "                'suggestCharts', [key], {});\n",
              "          } catch (error) {\n",
              "            console.error('Error during call to suggestCharts:', error);\n",
              "          }\n",
              "          quickchartButtonEl.classList.remove('colab-df-spinner');\n",
              "          quickchartButtonEl.classList.add('colab-df-quickchart-complete');\n",
              "        }\n",
              "        (() => {\n",
              "          let quickchartButtonEl =\n",
              "            document.querySelector('#df-68cc6977-132d-486a-8f03-19e850a75643 button');\n",
              "          quickchartButtonEl.style.display =\n",
              "            google.colab.kernel.accessAllowed ? 'block' : 'none';\n",
              "        })();\n",
              "      </script>\n",
              "    </div>\n",
              "    </div>\n",
              "  </div>\n"
            ],
            "application/vnd.google.colaboratory.intrinsic+json": {
              "type": "dataframe",
              "variable_name": "life_nan_info",
              "summary": "{\n  \"name\": \"life_nan_info\",\n  \"rows\": 10,\n  \"fields\": [\n    {\n      \"column\": \"NaN share\",\n      \"properties\": {\n        \"dtype\": \"number\",\n        \"std\": 0.08988241300690915,\n        \"min\": 0.005919854280510018,\n        \"max\": 0.23224043715846995,\n        \"num_unique_values\": 8,\n        \"samples\": [\n          0.23224043715846995,\n          0.14981785063752276,\n          0.005919854280510018\n        ],\n        \"semantic_type\": \"\",\n        \"description\": \"\"\n      }\n    }\n  ]\n}"
            }
          },
          "metadata": {},
          "execution_count": 37
        }
      ]
    },
    {
      "cell_type": "markdown",
      "id": "b655b8e8",
      "metadata": {
        "id": "b655b8e8"
      },
      "source": [
        "#### [bar](https://github.com/ResidentMario/missingno?tab=readme-ov-file#bar)\n",
        "\n",
        "Визуализация количества отсутствующих данных по столбцам в виде столбчатой диаграммы."
      ]
    },
    {
      "cell_type": "code",
      "execution_count": null,
      "id": "0766af1c",
      "metadata": {
        "id": "0766af1c",
        "colab": {
          "base_uri": "https://localhost:8080/",
          "height": 625
        },
        "outputId": "5f9feacc-51c6-4606-95d8-d2d4a5c69ee9"
      },
      "outputs": [
        {
          "output_type": "execute_result",
          "data": {
            "text/plain": [
              "<Axes: >"
            ]
          },
          "metadata": {},
          "execution_count": 31
        },
        {
          "output_type": "display_data",
          "data": {
            "text/plain": [
              "<Figure size 2500x1000 with 3 Axes>"
            ],
            "image/png": "[encoded data removed]"
          },
          "metadata": {}
        }
      ],
      "source": [
        "# Выполните визуальный анализ пропущенных значений в обучающей выборке с помощью msno.bar\n",
        "\n",
        "msno.bar(life_train)"
      ]
    },
    {
      "cell_type": "markdown",
      "id": "656e10c6",
      "metadata": {
        "id": "656e10c6"
      },
      "source": [
        "#### [matrix](https://github.com/ResidentMario/missingno?tab=readme-ov-file#matrix)\n",
        "\n",
        "Визуализация матрицы пропущенных значений с высокой плотностью. Позволяет выявить закономерности заполненности данных."
      ]
    },
    {
      "cell_type": "code",
      "execution_count": null,
      "id": "285f7b07",
      "metadata": {
        "id": "285f7b07",
        "colab": {
          "base_uri": "https://localhost:8080/",
          "height": 602
        },
        "outputId": "52a2879c-6e1b-4a7f-a7c7-8bd7a9435fa1"
      },
      "outputs": [
        {
          "output_type": "execute_result",
          "data": {
            "text/plain": [
              "<Axes: >"
            ]
          },
          "metadata": {},
          "execution_count": 32
        },
        {
          "output_type": "display_data",
          "data": {
            "text/plain": [
              "<Figure size 2500x1000 with 2 Axes>"
            ],
            "image/png": "[encoded data removed]"
          },
          "metadata": {}
        }
      ],
      "source": [
        "# Выполните визуальный анализ пропущенных значений в обучающей выборке с помощью msno.matrix\n",
        "\n",
        "msno.matrix(life_train)"
      ]
    },
    {
      "cell_type": "markdown",
      "id": "fbaf2e09",
      "metadata": {
        "id": "fbaf2e09"
      },
      "source": [
        "#### [heatmap](https://github.com/ResidentMario/missingno?tab=readme-ov-file#heatmap)\n",
        "\n",
        "Тепловая карта корреляции отсутствующих данных. Показывает, насколько сильно наличие или отсутствие одной переменной связано с наличием другой. Корреляция принимает значения от -1 (переменные противоположны в заполненности) до 1 (одинаковая заполненность)."
      ]
    },
    {
      "cell_type": "code",
      "execution_count": null,
      "id": "31ac189e",
      "metadata": {
        "id": "31ac189e",
        "colab": {
          "base_uri": "https://localhost:8080/",
          "height": 764
        },
        "outputId": "620cf346-ae0f-4a5b-8681-db5d4ed0ac3f"
      },
      "outputs": [
        {
          "output_type": "execute_result",
          "data": {
            "text/plain": [
              "<Axes: >"
            ]
          },
          "metadata": {},
          "execution_count": 33
        },
        {
          "output_type": "display_data",
          "data": {
            "text/plain": [
              "<Figure size 2000x1200 with 2 Axes>"
            ],
            "image/png": "[encoded data removed]"
          },
          "metadata": {}
        }
      ],
      "source": [
        "# Выполните визуальный анализ пропущенных значений в обучающей выборке с помощью msno.heatmap\n",
        "\n",
        "msno.heatmap(life_train)"
      ]
    },
    {
      "cell_type": "code",
      "execution_count": 38,
      "id": "8f615670",
      "metadata": {
        "id": "8f615670"
      },
      "outputs": [],
      "source": [
        "# Дополните функцию mcar_test\n",
        "\n",
        "def mcar_test(data, predictor, feature):\n",
        "    \"\"\"\n",
        "    Выполняет статистическую проверку пропущенных значений на принадлежность к типу MCAR.\n",
        "    Использует t-тест для сравнения распределения feature между группами с пропущенными и существующими значениями predictor.\n",
        "\n",
        "    Аргументы:\n",
        "        data (pandas.DataFrame): Датасет с данными для анализа.\n",
        "        predictor (str): Название столбца в data с пропущенными значениями (целевая переменная для теста MCAR).\n",
        "        feature (str): Название признака, по которому сравниваются распределения между группами.\n",
        "\n",
        "    Возвращает:\n",
        "        float: p-value t-теста.\n",
        "    \"\"\"\n",
        "    data_nans_in_feature = data[data[predictor].isnull()]      # Все наблюдения в data с пропусками в predictor\n",
        "    data_non_nans_in_feature = data[data[predictor].notnull()]  # Все наблюдения в data без пропусков в predictor\n",
        "    _, p_val, _ = ttest_ind(data_nans_in_feature[feature], data_non_nans_in_feature[feature])\n",
        "    return p_val"
      ]
    },
    {
      "cell_type": "code",
      "source": [
        "def mcar_test_detailed(data, predictor, feature, alpha=0.01, verbose=False):\n",
        "    \"\"\"\n",
        "    Расширенная версия с подробным выводом.\n",
        "    \"\"\"\n",
        "    p_val = mcar_test(data, predictor, feature)\n",
        "\n",
        "    if verbose and not np.isnan(p_val):\n",
        "        if p_val > alpha:\n",
        "            print(f\"✅ {predictor} -> {feature}: p-value = {p_val:.4f} (MCAR - пропуски случайны)\")\n",
        "        else:\n",
        "            print(f\"❌ {predictor} -> {feature}: p-value = {p_val:.4f} (не MCAR - пропуски системные)\")\n",
        "\n",
        "    return p_val"
      ],
      "metadata": {
        "id": "dIe9f6NCHpy2"
      },
      "id": "dIe9f6NCHpy2",
      "execution_count": 39,
      "outputs": []
    },
    {
      "cell_type": "code",
      "source": [
        "for predictor in life_nan_info.index:\n",
        "  for feature in [\"life expectancy\"]:\n",
        "    mcar_test_detailed(life_train, predictor, feature, verbose=True) #### test-train"
      ],
      "metadata": {
        "colab": {
          "base_uri": "https://localhost:8080/"
        },
        "id": "v51P6nM1HuGy",
        "outputId": "44f2c3df-6a29-4ef6-9d27-ecfb46d067ce"
      },
      "id": "v51P6nM1HuGy",
      "execution_count": 92,
      "outputs": [
        {
          "output_type": "stream",
          "name": "stdout",
          "text": [
            "❌ alcohol -> life expectancy: p-value = 0.0000 (не MCAR - пропуски системные)\n",
            "❌ hepatitis B -> life expectancy: p-value = 0.0000 (не MCAR - пропуски системные)\n",
            "❌ BMI -> life expectancy: p-value = 0.0000 (не MCAR - пропуски системные)\n",
            "❌ polio -> life expectancy: p-value = 0.0001 (не MCAR - пропуски системные)\n",
            "❌ total expenditure -> life expectancy: p-value = 0.0000 (не MCAR - пропуски системные)\n",
            "❌ diphtheria -> life expectancy: p-value = 0.0001 (не MCAR - пропуски системные)\n",
            "✅ GDP -> life expectancy: p-value = 0.0396 (MCAR - пропуски случайны)\n",
            "❌ population -> life expectancy: p-value = 0.0000 (не MCAR - пропуски системные)\n",
            "❌ income composition of resources -> life expectancy: p-value = 0.0074 (не MCAR - пропуски системные)\n",
            "❌ schooling -> life expectancy: p-value = 0.0074 (не MCAR - пропуски системные)\n"
          ]
        }
      ]
    },
    {
      "cell_type": "code",
      "execution_count": null,
      "id": "a86274de",
      "metadata": {
        "id": "a86274de"
      },
      "outputs": [],
      "source": [
        "# Используя функцию mcar_test, выполните проверку пропущенных значений на принадлежность к типу MCAR\n",
        "# Используйте только обучающую выборку\n",
        "# Уровень значимости — 1%\n",
        "\n",
        "p_values = []\n",
        "feat = \"life expectancy\"\n",
        "\n",
        "for predictor in life_nan_info.index:\n",
        "  p_v = mcar_test(life_train, predictor, feat)\n",
        "  p_values.append({\n",
        "      \"predictor\": predictor,\n",
        "      \"p_value\": p_v,\n",
        "      \"is_mcar\": p_v > 0.01\n",
        "  })\n",
        "\n",
        "life_nan_info['p-value'] = p_values"
      ]
    },
    {
      "cell_type": "code",
      "source": [
        "p_values"
      ],
      "metadata": {
        "colab": {
          "base_uri": "https://localhost:8080/"
        },
        "collapsed": true,
        "id": "kgsdR3IcgCxt",
        "outputId": "00f1ceef-5ab4-480b-a67c-c10633aa1754"
      },
      "id": "kgsdR3IcgCxt",
      "execution_count": null,
      "outputs": [
        {
          "output_type": "execute_result",
          "data": {
            "text/plain": [
              "[{'predictor': 'alcohol',\n",
              "  'p_value': np.float64(2.1963456878285092e-07),\n",
              "  'is_mcar': np.False_},\n",
              " {'predictor': 'hepatitis B',\n",
              "  'p_value': np.float64(4.8838455990943146e-20),\n",
              "  'is_mcar': np.False_},\n",
              " {'predictor': 'BMI',\n",
              "  'p_value': np.float64(7.3911843334831e-09),\n",
              "  'is_mcar': np.False_},\n",
              " {'predictor': 'polio',\n",
              "  'p_value': np.float64(0.00011557978237477824),\n",
              "  'is_mcar': np.False_},\n",
              " {'predictor': 'total expenditure',\n",
              "  'p_value': np.float64(1.118288703066072e-09),\n",
              "  'is_mcar': np.False_},\n",
              " {'predictor': 'diphtheria',\n",
              "  'p_value': np.float64(0.00011557978237477824),\n",
              "  'is_mcar': np.False_},\n",
              " {'predictor': 'GDP',\n",
              "  'p_value': np.float64(0.03955189187610542),\n",
              "  'is_mcar': np.True_},\n",
              " {'predictor': 'population',\n",
              "  'p_value': np.float64(2.711804148888779e-07),\n",
              "  'is_mcar': np.False_},\n",
              " {'predictor': 'income composition of resources',\n",
              "  'p_value': np.float64(0.007371297389184292),\n",
              "  'is_mcar': np.False_},\n",
              " {'predictor': 'schooling',\n",
              "  'p_value': np.float64(0.007371297389184292),\n",
              "  'is_mcar': np.False_}]"
            ]
          },
          "metadata": {},
          "execution_count": 30
        }
      ]
    },
    {
      "cell_type": "code",
      "execution_count": 51,
      "id": "34e8806f",
      "metadata": {
        "id": "34e8806f",
        "colab": {
          "base_uri": "https://localhost:8080/",
          "height": 490
        },
        "outputId": "cf08a173-8c1d-4c2d-837d-3b1819ce46e6"
      },
      "outputs": [
        {
          "output_type": "execute_result",
          "data": {
            "text/plain": [
              "[]"
            ]
          },
          "metadata": {},
          "execution_count": 51
        },
        {
          "output_type": "display_data",
          "data": {
            "text/plain": [
              "<Figure size 640x480 with 1 Axes>"
            ],
            "image/png": "[encoded data removed]"
          },
          "metadata": {}
        }
      ],
      "source": [
        "# Визуализируйте плотность целевой переменной\n",
        "# График позволяет убедиться, что пропуски типов MAR и MNAR зависят от наблюдаемых данных\n",
        "\n",
        "predictor = 'BMI'\n",
        "feature = 'life expectancy'\n",
        "\n",
        "life_train_nans_in_feature = life_train[life_train[predictor].isnull()]           # Все наблюдения в life_train с пропусками в predictor\n",
        "life_train_non_nans_in_feature = life_train[life_train[predictor].notnull()]        # Все наблюдения в life_train без пропусков в predictor\n",
        "\n",
        "dplt = sns.kdeplot(life_train_nans_in_feature[feature], color='red', label=f'В группе с пропусками в {predictor}')\n",
        "dplt = sns.kdeplot(life_train_non_nans_in_feature[feature], color='blue', label=f'В группе без пропусков в {predictor}')\n",
        "dplt.set_title(f'Плотность распределения {feature}')\n",
        "plt.legend()\n",
        "plt.plot()"
      ]
    },
    {
      "cell_type": "markdown",
      "id": "6c970a93",
      "metadata": {
        "id": "6c970a93"
      },
      "source": [
        "### ***Задание 2***\n",
        "\n",
        "**ВНИМАНИЕ:** Для решения этого задания используйте:\n",
        "\n",
        "* Обучающую и тестовую выборки из задания 1: `life_train`, `life_test`.\n",
        "\n",
        "* Датасет с результатами анализа пропущенных значений в обучающей выборке из задания 1: `life_nan_info`.\n",
        "\n",
        "*Для данного задания предположим, что со временем среднее и дисперсия данных не изменились. Это позволит использовать одни и те же StandardScaler, SimpleImputer и KNNImputer для обучающей и тестовой выборок.*\n",
        "\n",
        "Выполните предобработку данных (см. код задания).\n",
        "\n",
        "Используя результаты анализа пропущенных значений в обучающей выборке (`life_nan_info`), выполните обработку пропусков **в обучающей выборке** (`life_train`) по следующим правилам:\n",
        "\n",
        "* Для всех признаков MCAR (если есть):\n",
        "\n",
        "    * Заполните пропуски средним, обучив SimpleImputer (`life_mean_imputer`).\n",
        "\n",
        "* Для всех признаков MAR или MNAR (если есть):\n",
        "\n",
        "    * Если доля пропусков меньше 5%, заполните пропуски средним, обучив SimpleImputer (`life_mean_imputer`).\n",
        "\n",
        "    * Если доля пропусков больше 5%, заполните пропуски с помощью метода k-ближайших соседей (KNN, K-Nearest Neighbors), обучив KNNImputer (`life_knn_imputer`).\n",
        "\n",
        "Заполните пропуски в **тестовой выборке**, используя обученные на обучающей выборке SimpleImputer (`life_mean_imputer`) и KNNImputer (`life_knn_imputer`) для соответствующих признаков.\n",
        "\n",
        "После обработки пропусков обучите модель линейной регрессии без регуляризации `reg_life` и выведите metrics_report на тестовой выборке.\n",
        "\n",
        "*Pipeline из библиотеки sklearn позволяет использовать SimpleImputer или KNNImputer как трансформатор, то есть как один из этапов предобработки данных в рамках пайплайна*."
      ]
    },
    {
      "cell_type": "code",
      "execution_count": 76,
      "id": "d64b56fc",
      "metadata": {
        "id": "d64b56fc"
      },
      "outputs": [],
      "source": [
        "# Выделите объясняемый фактор в отдельную переменную\n",
        "\n",
        "X_life_train, y_life_train = life_train.drop(\"life expectancy\", axis=1), life_train[\"life expectancy\"]\n",
        "X_life_test, y_life_test = life_test.drop(\"life expectancy\", axis=1), life_test[\"life expectancy\"]"
      ]
    },
    {
      "cell_type": "code",
      "execution_count": 83,
      "id": "695b78a2",
      "metadata": {
        "id": "695b78a2"
      },
      "outputs": [],
      "source": [
        "# Закодируйте категориальные признаки числами 0 и 1 с помощью OneHotEncoder\n",
        "#   train -> fit_transform\n",
        "#   test -> transform\n",
        "\n",
        "life_encoder = OneHotEncoder(sparse_output=False, drop='first').set_output(transform='pandas')\n",
        "\n",
        "X_life_train = X_life_train.join(life_encoder.fit_transform(X_life_train[life_cat_feat]))\n",
        "X_life_train = X_life_train.drop(columns=life_cat_feat)\n",
        "X_life_test = X_life_test.join(life_encoder.transform(X_life_test[life_cat_feat]))\n",
        "X_life_test = X_life_test.drop(columns=life_cat_feat)\n"
      ]
    },
    {
      "cell_type": "code",
      "execution_count": 84,
      "id": "1e31d24c",
      "metadata": {
        "id": "1e31d24c"
      },
      "outputs": [],
      "source": [
        "# Масштабируйте количественные признаки\n",
        "#   train -> fit_transform\n",
        "#   test -> transform\n",
        "\n",
        "life_scaler = StandardScaler().set_output(transform='pandas')\n",
        "\n",
        "X_life_train_scaled = X_life_train.copy()\n",
        "X_life_test_scaled = X_life_test.copy()\n",
        "X_life_train_scaled[life_num_feat] = life_scaler.fit_transform(X_life_train[life_num_feat])\n",
        "X_life_test_scaled[life_num_feat] = life_scaler.transform(X_life_test[life_num_feat])"
      ]
    },
    {
      "cell_type": "code",
      "source": [
        "#mcar_feat = [\"alcohol\", \"total expenditure\", \"GDP\", \"income composition of resources\", \"schooling\"]\n",
        "mcar_feat = [\"GDP\"]\n",
        "manyNaN_mask = (life_nan_info[\"NaN share\"] > 0.05) & (~life_nan_info.index.isin(mcar_feat))\n",
        "knn_ = life_nan_info[manyNaN_mask].index.tolist()\n",
        "mean_ = life_nan_info[~manyNaN_mask].index.tolist()\n",
        "print(knn_)\n",
        "print(mean_)\n",
        "## все фичи с пропусками разделили на те, где пропустов больше 5% и остальные"
      ],
      "metadata": {
        "colab": {
          "base_uri": "https://localhost:8080/"
        },
        "id": "QXvoVAO4xzYa",
        "outputId": "26e9942a-dd1b-49c8-ae1c-5a45905872f1"
      },
      "id": "QXvoVAO4xzYa",
      "execution_count": 86,
      "outputs": [
        {
          "output_type": "stream",
          "name": "stdout",
          "text": [
            "['hepatitis B', 'population', 'income composition of resources', 'schooling']\n",
            "['alcohol', 'BMI', 'polio', 'total expenditure', 'diphtheria', 'GDP']\n"
          ]
        }
      ]
    },
    {
      "cell_type": "code",
      "execution_count": 87,
      "id": "8f5056f0",
      "metadata": {
        "id": "8f5056f0"
      },
      "outputs": [],
      "source": [
        "# Обучите и примените life_mean_imputer (SimpleImputer) к обучающей выборке\n",
        "#   train -> fit_transform\n",
        "\n",
        "life_mean_imputer_feat = life_nan_info[~manyNaN_mask].index.tolist()\n",
        "\n",
        "life_mean_imputer = SimpleImputer(strategy='mean')\n",
        "\n",
        "X_life_train_scaled_imputed = X_life_train_scaled.copy()\n",
        "X_life_train_scaled_imputed[life_mean_imputer_feat] = life_mean_imputer.fit_transform(X_life_train_scaled[life_mean_imputer_feat])"
      ]
    },
    {
      "cell_type": "code",
      "execution_count": 88,
      "id": "56ed0025",
      "metadata": {
        "id": "56ed0025"
      },
      "outputs": [],
      "source": [
        "# Обучите и примените life_knn_imputer (KNNImputer) к обучающей выборке\n",
        "#   train -> fit_transform\n",
        "\n",
        "life_knn_imputer_feat = life_nan_info[manyNaN_mask].index.tolist()\n",
        "\n",
        "life_knn_imputer = KNNImputer()\n",
        "\n",
        "X_life_train_scaled_imputed[life_knn_imputer_feat] = life_knn_imputer.fit_transform(X_life_train_scaled[life_knn_imputer_feat])"
      ]
    },
    {
      "cell_type": "code",
      "execution_count": 89,
      "id": "7c8d6e51",
      "metadata": {
        "id": "7c8d6e51"
      },
      "outputs": [],
      "source": [
        "# Примените life_mean_imputer и life_knn_imputer к тестовой выборке\n",
        "#   test -> transform\n",
        "\n",
        "X_life_test_scaled_imputed = X_life_test_scaled.copy()\n",
        "X_life_test_scaled_imputed[life_mean_imputer_feat] = life_mean_imputer.transform(X_life_test_scaled[life_mean_imputer_feat])\n",
        "X_life_test_scaled_imputed[life_knn_imputer_feat] = life_knn_imputer.transform(X_life_test_scaled[life_knn_imputer_feat])"
      ]
    },
    {
      "cell_type": "code",
      "source": [
        "#X_life_test_scaled_imputed=X_life_test_scaled_imputed.drop(columns=\"country\")\n",
        "#X_life_train_scaled_imputed=X_life_train_scaled_imputed.drop(columns=\"country\")"
      ],
      "metadata": {
        "id": "z_6zDp_EVy10"
      },
      "id": "z_6zDp_EVy10",
      "execution_count": 90,
      "outputs": []
    },
    {
      "cell_type": "code",
      "execution_count": 91,
      "id": "2cab5c72",
      "metadata": {
        "id": "2cab5c72",
        "colab": {
          "base_uri": "https://localhost:8080/"
        },
        "outputId": "84975a38-2921-4334-ac40-4aba9a7145f2"
      },
      "outputs": [
        {
          "output_type": "stream",
          "name": "stdout",
          "text": [
            "R2 score: 0.9172\n",
            "RMSE: 2.4168\n",
            "MAPE: 0.0236\n"
          ]
        }
      ],
      "source": [
        "\n",
        "# Обучите reg_life и выведите metrics_report на тестовой выборке\n",
        "\n",
        "reg_life = LinearRegression().fit(X_life_train_scaled_imputed, y_life_train)\n",
        "metrics_report(y_life_test, reg_life.predict(X_life_test_scaled_imputed))"
      ]
    },
    {
      "cell_type": "markdown",
      "id": "3f3419fc",
      "metadata": {
        "id": "3f3419fc"
      },
      "source": [
        "### **Смещение и разброс**\n",
        "\n",
        "* **Смещение (Bias)** – ожидаемое отклонение предсказаний модели от истинных значений.\n",
        "\n",
        "* **Разброс (Variance)** – это ошибка, вызванная чувствительностью модели к небольшим изменениям в обучающих данных.\n",
        "\n",
        "Смещение и разброс отражают два источника ошибки модели, и между ними существует компромисс: снижение смещения часто ведёт к увеличению разброса, и наоборот. Оптимальная модель должна находить баланс между смещением и разбросом, чтобы минимизировать общую ошибку предсказания.\n",
        "\n",
        "Для анализа ошибки алгоритма применяется **разложение MSE на смещение и разброс (bias-variance decomposition)**.\n",
        "\n",
        "Пусть $y$ – истинные значения целевой переменой. Мы предполагаем, что существует функция $f(x)=y+e$, где $e$ – ошибка с $\\mathbb{E}[e]=0$ (мат. ожидание) и $\\mathbb{D}[e]=\\sigma^2$ (дисперсия). $\\widehat{f}(x)$ – значения целевой переменной, предсказанные моделью.\n",
        "\n",
        "Тогда\n",
        "\n",
        "$$\\text{MSE}=\\mathbb{E}[(y-\\widehat{f}(x))^2]=\\text{Bias}^2(\\widehat{f}(x))+\\text{Variance}(\\widehat{f}(x))+\\sigma^2$$\n",
        "где\n",
        "$$\\text{Bias}^2(\\widehat{f}(x))=(\\mathbb{E}[\\widehat{f}(x)]-f(x))^2$$\n",
        "$$\\text{Variance}(\\widehat{f}(x))=\\mathbb{D}[\\widehat{f}(x)]=\\mathbb{E}[(\\mathbb{E}[\\widehat{y}]-\\widehat{y})^2]$$\n",
        "$\\sigma^2$ — неустранимая ошибка измерения\n",
        "\n",
        "Подробнее можно изучить по **ссылкам:**\n",
        "\n",
        "* [Bias-variance decomposition | education.yandex.ru](https://education.yandex.ru/handbook/ml/article/bias-variance-decomposition).\n",
        "\n",
        "* [Bias-variance decomposition for classification and regression losses | rasbt.github.io](https://rasbt.github.io/mlxtend/user_guide/evaluate/bias_variance_decomp/)"
      ]
    },
    {
      "cell_type": "markdown",
      "id": "cfb46465-7dd1-467c-9076-919bc3f4cc06",
      "metadata": {
        "id": "cfb46465-7dd1-467c-9076-919bc3f4cc06"
      },
      "source": [
        "### ***Задание 3***\n",
        "\n",
        "**ВНИМАНИЕ:** Для решения этого задания используйте:\n",
        "\n",
        "* Обучающую и тестовую выборки (после заполнения пропусков) из задания 2: `X_life_train_scaled_imputed`, `X_life_test_scaled_imputed`, `y_life_train`, `y_life_test`.\n",
        "\n",
        "* Обученную модель из задания 2: `reg_life`.\n",
        "\n",
        "Обучите две модели линейной регрессии с регуляризацией:\n",
        "\n",
        "* `lasso_life` — регрессия с L1-регуляризацией (LASSO). Оптимальные гиперпараметры обучения подберите с помощью GridSearchCV.\n",
        "\n",
        "* `ridge_life` — регрессия с L2-регуляризацией (Ridge). Оптимальные гиперпараметры обучения подберите с помощью GridSearchCV.\n",
        "\n",
        "Разложите среднеквадратическую ошибку (MSE) каждой из трех обученных моделей (`reg_life`, `lasso_life`, `ridge_life`) на компоненты (функция [bias_variance_decomp](https://rasbt.github.io/mlxtend/user_guide/evaluate/bias_variance_decomp/#api)):\n",
        "\n",
        "* Смещение ($\\text{Bias}^2$).\n",
        "\n",
        "* Разброс ($\\text{Variance}$)."
      ]
    },
    {
      "cell_type": "code",
      "execution_count": 27,
      "id": "4aa6996c",
      "metadata": {
        "id": "4aa6996c"
      },
      "outputs": [],
      "source": [
        "# Выполните разложение MSE модели reg_life на смещение и разброс\n",
        "# Не забудьте зафиксировать RANDOM_STATE\n",
        "\n",
        "reg_life_mse, reg_life_bias, reg_life_var = bias_variance_decomp(\n",
        "    reg_life,\n",
        "    X_life_train_scaled_imputed.values,\n",
        "    y_life_train.values,\n",
        "    X_life_test_scaled_imputed.values,\n",
        "    y_life_test.values,\n",
        "    loss='mse',\n",
        "    num_rounds=100,\n",
        "    random_seed=RANDOM_STATE\n",
        ")"
      ]
    },
    {
      "cell_type": "code",
      "execution_count": 28,
      "id": "f28328fc",
      "metadata": {
        "id": "f28328fc"
      },
      "outputs": [],
      "source": [
        "# Обучите модель lasso_life (LASSO)\n",
        "# Оптимальные гиперпараметры обучения подберите с помощью GridSearchCV\n",
        "# Не забудьте зафиксировать RANDOM_STATE\n",
        "\n",
        "params = {'alpha' : [0.001, 0.01, 0.05, 0.1, 0.5, 1.0, 5.0, 10.0]}\n",
        "cv = 5\n",
        "\n",
        "cv_lasso_life = GridSearchCV(Lasso(random_state=RANDOM_STATE),param_grid=params,cv=cv)\n",
        "lasso_life = cv_lasso_life.fit(X_life_train_scaled_imputed, y_life_train)"
      ]
    },
    {
      "cell_type": "code",
      "execution_count": 34,
      "id": "2b7efcfb",
      "metadata": {
        "id": "2b7efcfb"
      },
      "outputs": [],
      "source": [
        "# Выполните разложение MSE модели lasso_life на смещение и разброс\n",
        "# Не забудьте зафиксировать RANDOM_STATE\n",
        "\n",
        "lasso_life_mse, lasso_life_bias, lasso_life_var = bias_variance_decomp(\n",
        "    lasso_life.best_estimator_,\n",
        "    X_life_train_scaled_imputed.values,\n",
        "    y_life_train.values,\n",
        "    X_life_test_scaled_imputed.values,\n",
        "    y_life_test.values,\n",
        "    loss='mse',\n",
        "    num_rounds=100,\n",
        "    random_seed=RANDOM_STATE\n",
        ")"
      ]
    },
    {
      "cell_type": "code",
      "execution_count": 31,
      "id": "ce966838",
      "metadata": {
        "id": "ce966838"
      },
      "outputs": [],
      "source": [
        "# Обучите модель ridge_life (Ridge)\n",
        "# Оптимальные гиперпараметры обучения подберите с помощью GridSearchCV\n",
        "# Не забудьте зафиксировать RANDOM_STATE\n",
        "\n",
        "params = {'alpha' : [0.001, 0.01, 0.05, 0.1, 0.5, 1.0, 5.0, 10.0]}\n",
        "cv = 5\n",
        "\n",
        "cv_ridge_life = GridSearchCV(Ridge(random_state=RANDOM_STATE),param_grid=params, cv=cv)\n",
        "ridge_life = cv_ridge_life.fit(X_life_train_scaled_imputed, y_life_train)"
      ]
    },
    {
      "cell_type": "code",
      "execution_count": 33,
      "id": "eb3dc491",
      "metadata": {
        "id": "eb3dc491"
      },
      "outputs": [],
      "source": [
        "# Выполните разложение MSE модели ridge_life на смещение и разброс\n",
        "# Не забудьте зафиксировать RANDOM_STATE\n",
        "\n",
        "ridge_life_mse, ridge_life_bias, ridge_life_var = bias_variance_decomp(\n",
        "    ridge_life.best_estimator_,\n",
        "    X_life_train_scaled_imputed.values,\n",
        "    y_life_train.values,\n",
        "    X_life_test_scaled_imputed.values,\n",
        "    y_life_test.values,\n",
        "    loss='mse',\n",
        "    num_rounds=100,\n",
        "    random_seed=RANDOM_STATE\n",
        ")"
      ]
    },
    {
      "cell_type": "markdown",
      "id": "632ed4f2",
      "metadata": {
        "id": "632ed4f2"
      },
      "source": [
        "## **Извлечение признаков из текста**\n",
        "\n",
        "**Классификация тональности (sentiment analysis)** — это задача определения эмоциональной окраски текста в рамках NLP (Natural Language Processing).\n",
        "\n",
        "Как правило, тональность текста делят на три категории:\n",
        "\n",
        "* Позитивная (к примеру, положительный отзыв).\n",
        "\n",
        "* Нейтральная (информация без явной эмоциональной окраски).\n",
        "\n",
        "* Негативная (к примеру, критика или жалоба).\n",
        "\n",
        "Перед обучением моделей необходимо извлечь признаки из текстовых данных, проведя предобработку текста.\n",
        "\n",
        "Основные этапы предобработки текста:\n",
        "\n",
        "1. Очистка текста от лишних элементов (не влияющих на тональность):\n",
        "\n",
        "    * Удаление спецсимволов — удаление HTML-тегов, URL, email, хештегов, упоминаний (@user).\n",
        "\n",
        "    * Удаление цифр — удаление или замена на числительные.\n",
        "\n",
        "    * Удаление пунктуации.\n",
        "\n",
        "    * Удаление лишних пробелов и дублирующихся  символов.\n",
        "\n",
        "2. Токенизация — разбиение текста на отдельные токены (слова, части слов или символы). Пример: 'Я люблю этот фильм!' $\\to$ ['Я', 'люблю', 'этот', 'фильм', '!'].\n",
        "\n",
        "3. Нормализация слов:\n",
        "\n",
        "    * Лемматизация — приведение слова к лемме — её нормальной (словарной) форме. Пример: 'бежал' $\\to$ 'бежать'.\n",
        "\n",
        "    * Стемминг — выделение основы слова. Пример: 'бежал' $\\to$ 'беж'.\n",
        "\n",
        "4. Удаление стоп-слов — исключение слов, которые часто встречаются в тексте, но не несут значимой смысловой нагрузки для анализа тональности: местоимения, предлоги, союзы, частицы, артикли (для английского) и т.д.\n",
        "\n",
        "5. Векторизация текста — преобразование текста в числовой формат для обучения и использования моделей машинного обучения:\n",
        "\n",
        "    * BoW (Bag-of-words).\n",
        "\n",
        "    * TF-IDF (Term Frequency — Inverse Document Frequency).\n",
        "\n",
        "    * Векторные эмбеддинги: FastText, Word2Vec, GloVe.\n",
        "\n",
        "    * Контекстные эмбеддинги: BERT.\n",
        "\n",
        "*Это лишь основные этапы предобработки текста. На практике количество существующих методов обработки данных больше, а структура и порядок этапов **зависит от задачи***.\n",
        "\n",
        "Подробнее можно изучить по **ссылкам:**\n",
        "\n",
        "* [Основы Natural Language Processing для текста | habr.com](https://habr.com/ru/companies/Voximplant/articles/446738/)\n",
        "\n",
        "* [Преобразование текстовых данных и работа с ними в Python | education.yandex.ru](https://education.yandex.ru/handbook/data-analysis/article/preobrazovanie-tekstovyh-dannyh-i-rabota-s-nimi-v-python)\n",
        "\n",
        "* [Краткий обзор техник векторизации в NLP | habr.com](https://habr.com/ru/articles/778048/)\n",
        "\n",
        "* [How to Create Bert Vector Embeddings? A Comprehensive Tutorial | airbyte.com](https://airbyte.com/data-engineering-resources/bert-vector-embedding)"
      ]
    },
    {
      "cell_type": "markdown",
      "id": "1cfae23d",
      "metadata": {
        "id": "1cfae23d"
      },
      "source": [
        "### **TF-IDF**\n",
        "\n",
        "**TF-IDF** (Term Frequency — Inverse Document Frequency) — это статистическая мера, для оценки важности слова в контексте документа (набора текстовых данных), являющегося частью коллекции или корпуса документов. Высокий вес по TF-IDF получают слова, которые часто встречаются в конкретном документе, но при этом редко встречаются во всех остальных документах корпуса.\n",
        "\n",
        "Эта мера состоит из двух компонентов:\n",
        "\n",
        "* TF (Term Frequency — частота слова). TF измеряет, насколько часто слово встречается в конкретном документе. Чем чаще слово появляется в тексте, тем выше его TF.\n",
        "\n",
        "$$\\text{TF} = \\frac{\\text{Количество раз, когда слово встретилось в документе}}{\\text{Общее количество слов в документе}}$$\n",
        "\n",
        "* IDF (Inverse Document Frequency — обратная документная частота). IDF измеряет уникальность или информативность слова в масштабах всего корпуса документов. Компонент IDF уменьшает вес слов, которые встречаются слишком часто во многих документах (например, предлоги, союзы). Если слово редкое, его IDF будет высоким.\n",
        "\n",
        "$$\\text{IDF} = \\log(\\frac{\\text{Общее количество документов в корпусе}}{\\text{Количество документов, в которых встретилось слово} + 1})$$\n",
        "\n",
        "Итоговая формула TF-IDF:\n",
        "\n",
        "$$\\text{TF-IDF}=\\text{TF} \\times \\text{IDF}$$\n",
        "\n",
        "Таким образом, слово получает высокий вес TF-IDF, если оно:\n",
        "\n",
        "* Часто встречается в данном документе (высокий TF).\n",
        "\n",
        "* Редко встречается в других документах корпуса (высокий IDF).\n",
        "\n",
        "TF-IDF позволяет преобразовать наборы текстовых данных в разреженную матрицу признаков, которая может быть использована в алгоритмах машинного обучения.\n",
        "\n",
        "**Процедура преобразования:**\n",
        "\n",
        "1. Создание словаря. Составляется полный список всех уникальных слов, которые встретились во всех текстах из корпуса. Каждому уникальному слову присваивается индекс (номер столбца в матрице).\n",
        "\n",
        "2. Для каждого документа (строки) вычисляется TF-IDF вес каждого слова из словаря. Если слово из общего словаря отсутствует в данном документе, его вес для данного документа будет равен 0.\n",
        "\n",
        "Итоговая матрица признаков, используемая для обучения моделей ML:\n",
        "\n",
        "* Строки — документы.\n",
        "\n",
        "* Столбцы — уникальные слова из всего корпуса документов.\n",
        "\n",
        "* Значения в ячейках — TF-IDF веса слов."
      ]
    },
    {
      "cell_type": "markdown",
      "id": "fc95b033-a261-46ef-8fa0-2b356e057f46",
      "metadata": {
        "id": "fc95b033-a261-46ef-8fa0-2b356e057f46"
      },
      "source": [
        "### ***Задание 4***\n",
        "\n",
        "Рассмотрим упрощенный пример бинарной классификации тональности текста с помощью логистической регрессии.\n",
        "\n",
        "Выполните предобработку текстов:\n",
        "\n",
        "1. Приведите все тексты к нижнему регистру (lowercase). *Подсказка: изучите [векторизованные строковые функции pandas](https://pandas.pydata.org/docs/user_guide/text.html#method-summary).*\n",
        "\n",
        "2. Очистите тексты от ссылок и лишних символов с помощью функции regex_clean.\n",
        "\n",
        "3. Дополните функцию `tokenize` и токенизируйте тексты.\n",
        "\n",
        "4. Дополните функцию `pos_lemmatize` и лемматизируйте тексты c учетом частей речи слов (POS — Part Of Speech). *Подробнее по ссылке: [Lemmatization in NLP | medium.com](https://medium.com/@kevinnjagi83/lemmatization-in-nlp-2a61012c5d66).*\n",
        "\n",
        "5. Дополните функцию `remove_stop_words` и удалите из текстов стоп-слова.\n",
        "\n",
        "6. Соберите список лемм (после удаления стоп-слов) в одну строку, отделив леммы знаком пробела. *Подсказка: изучите [векторизованные строковые функции pandas](https://pandas.pydata.org/docs/user_guide/text.html#method-summary).*\n",
        "\n",
        "7. Разделите датасет на обучающую (60%) и тестовую (40%) выборки со стратификацией по целевой переменной.\n",
        "\n",
        "Постройте пайплайн `twit_pipeline`:\n",
        "\n",
        "1. 'tfidf': [TfidfVectorizer](https://scikit-learn.org/stable/modules/generated/sklearn.feature_extraction.text.TfidfVectorizer.html).\n",
        "\n",
        "2. 'clf': LogisticRegression.\n",
        "\n",
        "Используя пайплайн `twit_pipeline`, подберите оптимальные гиперпараметры обучения с помощью GridSearchCV **(метрика оптимизации — AUC)**, и с оптимальными гиперпараметрами обучите модель `lr_twit` для бинарной классификации тональности текстов.\n",
        "\n",
        "Для модели `lr_twit` на тестовой выборке постройте отчет по метрикам классификации и посчитайте метрику AUC."
      ]
    },
    {
      "cell_type": "code",
      "execution_count": 93,
      "id": "30787d78-f6b7-438e-a2be-6cc51d2da860",
      "metadata": {
        "id": "30787d78-f6b7-438e-a2be-6cc51d2da860",
        "colab": {
          "base_uri": "https://localhost:8080/",
          "height": 423
        },
        "outputId": "f8978bc5-d5a0-4a9b-8cbd-270101a8ff40"
      },
      "outputs": [
        {
          "output_type": "execute_result",
          "data": {
            "text/plain": [
              "                                                    text sentiment\n",
              "0                    I`d have responded, if I were going   neutral\n",
              "1          Sooo SAD I will miss you here in San Diego!!!  negative\n",
              "2                              my boss is bullying me...  negative\n",
              "3                         what interview! leave me alone  negative\n",
              "4       Sons of ****, why couldn`t they put them on t...  negative\n",
              "...                                                  ...       ...\n",
              "27476   wish we could come see u on Denver  husband l...  negative\n",
              "27477   I`ve wondered about rake to.  The client has ...  negative\n",
              "27478   Yay good for both of you. Enjoy the break - y...  positive\n",
              "27479                         But it was worth it  ****.  positive\n",
              "27480     All this flirting going on - The ATG smiles...   neutral\n",
              "\n",
              "[27481 rows x 2 columns]"
            ],
            "text/html": [
              "\n",
              "  <div id=\"df-fbe166d9-f3cf-40ac-a4da-d05f3eaca0b2\" class=\"colab-df-container\">\n",
              "    <div>\n",
              "<style scoped>\n",
              "    .dataframe tbody tr th:only-of-type {\n",
              "        vertical-align: middle;\n",
              "    }\n",
              "\n",
              "    .dataframe tbody tr th {\n",
              "        vertical-align: top;\n",
              "    }\n",
              "\n",
              "    .dataframe thead th {\n",
              "        text-align: right;\n",
              "    }\n",
              "</style>\n",
              "<table border=\"1\" class=\"dataframe\">\n",
              "  <thead>\n",
              "    <tr style=\"text-align: right;\">\n",
              "      <th></th>\n",
              "      <th>text</th>\n",
              "      <th>sentiment</th>\n",
              "    </tr>\n",
              "  </thead>\n",
              "  <tbody>\n",
              "    <tr>\n",
              "      <th>0</th>\n",
              "      <td>I`d have responded, if I were going</td>\n",
              "      <td>neutral</td>\n",
              "    </tr>\n",
              "    <tr>\n",
              "      <th>1</th>\n",
              "      <td>Sooo SAD I will miss you here in San Diego!!!</td>\n",
              "      <td>negative</td>\n",
              "    </tr>\n",
              "    <tr>\n",
              "      <th>2</th>\n",
              "      <td>my boss is bullying me...</td>\n",
              "      <td>negative</td>\n",
              "    </tr>\n",
              "    <tr>\n",
              "      <th>3</th>\n",
              "      <td>what interview! leave me alone</td>\n",
              "      <td>negative</td>\n",
              "    </tr>\n",
              "    <tr>\n",
              "      <th>4</th>\n",
              "      <td>Sons of ****, why couldn`t they put them on t...</td>\n",
              "      <td>negative</td>\n",
              "    </tr>\n",
              "    <tr>\n",
              "      <th>...</th>\n",
              "      <td>...</td>\n",
              "      <td>...</td>\n",
              "    </tr>\n",
              "    <tr>\n",
              "      <th>27476</th>\n",
              "      <td>wish we could come see u on Denver  husband l...</td>\n",
              "      <td>negative</td>\n",
              "    </tr>\n",
              "    <tr>\n",
              "      <th>27477</th>\n",
              "      <td>I`ve wondered about rake to.  The client has ...</td>\n",
              "      <td>negative</td>\n",
              "    </tr>\n",
              "    <tr>\n",
              "      <th>27478</th>\n",
              "      <td>Yay good for both of you. Enjoy the break - y...</td>\n",
              "      <td>positive</td>\n",
              "    </tr>\n",
              "    <tr>\n",
              "      <th>27479</th>\n",
              "      <td>But it was worth it  ****.</td>\n",
              "      <td>positive</td>\n",
              "    </tr>\n",
              "    <tr>\n",
              "      <th>27480</th>\n",
              "      <td>All this flirting going on - The ATG smiles...</td>\n",
              "      <td>neutral</td>\n",
              "    </tr>\n",
              "  </tbody>\n",
              "</table>\n",
              "<p>27481 rows × 2 columns</p>\n",
              "</div>\n",
              "    <div class=\"colab-df-buttons\">\n",
              "\n",
              "  <div class=\"colab-df-container\">\n",
              "    <button class=\"colab-df-convert\" onclick=\"convertToInteractive('df-fbe166d9-f3cf-40ac-a4da-d05f3eaca0b2')\"\n",
              "            title=\"Convert this dataframe to an interactive table.\"\n",
              "            style=\"display:none;\">\n",
              "\n",
              "  <svg xmlns=\"http://www.w3.org/2000/svg\" height=\"24px\" viewBox=\"0 -960 960 960\">\n",
              "    <path d=\"M120-120v-720h720v720H120Zm60-500h600v-160H180v160Zm220 220h160v-160H400v160Zm0 220h160v-160H400v160ZM180-400h160v-160H180v160Zm440 0h160v-160H620v160ZM180-180h160v-160H180v160Zm440 0h160v-160H620v160Z\"/>\n",
              "  </svg>\n",
              "    </button>\n",
              "\n",
              "  <style>\n",
              "    .colab-df-container {\n",
              "      display:flex;\n",
              "      gap: 12px;\n",
              "    }\n",
              "\n",
              "    .colab-df-convert {\n",
              "      background-color: #E8F0FE;\n",
              "      border: none;\n",
              "      border-radius: 50%;\n",
              "      cursor: pointer;\n",
              "      display: none;\n",
              "      fill: #1967D2;\n",
              "      height: 32px;\n",
              "      padding: 0 0 0 0;\n",
              "      width: 32px;\n",
              "    }\n",
              "\n",
              "    .colab-df-convert:hover {\n",
              "      background-color: #E2EBFA;\n",
              "      box-shadow: 0px 1px 2px rgba(60, 64, 67, 0.3), 0px 1px 3px 1px rgba(60, 64, 67, 0.15);\n",
              "      fill: #174EA6;\n",
              "    }\n",
              "\n",
              "    .colab-df-buttons div {\n",
              "      margin-bottom: 4px;\n",
              "    }\n",
              "\n",
              "    [theme=dark] .colab-df-convert {\n",
              "      background-color: #3B4455;\n",
              "      fill: #D2E3FC;\n",
              "    }\n",
              "\n",
              "    [theme=dark] .colab-df-convert:hover {\n",
              "      background-color: #434B5C;\n",
              "      box-shadow: 0px 1px 3px 1px rgba(0, 0, 0, 0.15);\n",
              "      filter: drop-shadow(0px 1px 2px rgba(0, 0, 0, 0.3));\n",
              "      fill: #FFFFFF;\n",
              "    }\n",
              "  </style>\n",
              "\n",
              "    <script>\n",
              "      const buttonEl =\n",
              "        document.querySelector('#df-fbe166d9-f3cf-40ac-a4da-d05f3eaca0b2 button.colab-df-convert');\n",
              "      buttonEl.style.display =\n",
              "        google.colab.kernel.accessAllowed ? 'block' : 'none';\n",
              "\n",
              "      async function convertToInteractive(key) {\n",
              "        const element = document.querySelector('#df-fbe166d9-f3cf-40ac-a4da-d05f3eaca0b2');\n",
              "        const dataTable =\n",
              "          await google.colab.kernel.invokeFunction('convertToInteractive',\n",
              "                                                    [key], {});\n",
              "        if (!dataTable) return;\n",
              "\n",
              "        const docLinkHtml = 'Like what you see? Visit the ' +\n",
              "          '<a target=\"_blank\" href=https://colab.research.google.com/notebooks/data_table.ipynb>data table notebook</a>'\n",
              "          + ' to learn more about interactive tables.';\n",
              "        element.innerHTML = '';\n",
              "        dataTable['output_type'] = 'display_data';\n",
              "        await google.colab.output.renderOutput(dataTable, element);\n",
              "        const docLink = document.createElement('div');\n",
              "        docLink.innerHTML = docLinkHtml;\n",
              "        element.appendChild(docLink);\n",
              "      }\n",
              "    </script>\n",
              "  </div>\n",
              "\n",
              "\n",
              "    <div id=\"df-3629a5ce-cbc6-42b3-b4ff-328d2b271b72\">\n",
              "      <button class=\"colab-df-quickchart\" onclick=\"quickchart('df-3629a5ce-cbc6-42b3-b4ff-328d2b271b72')\"\n",
              "                title=\"Suggest charts\"\n",
              "                style=\"display:none;\">\n",
              "\n",
              "<svg xmlns=\"http://www.w3.org/2000/svg\" height=\"24px\"viewBox=\"0 0 24 24\"\n",
              "     width=\"24px\">\n",
              "    <g>\n",
              "        <path d=\"M19 3H5c-1.1 0-2 .9-2 2v14c0 1.1.9 2 2 2h14c1.1 0 2-.9 2-2V5c0-1.1-.9-2-2-2zM9 17H7v-7h2v7zm4 0h-2V7h2v10zm4 0h-2v-4h2v4z\"/>\n",
              "    </g>\n",
              "</svg>\n",
              "      </button>\n",
              "\n",
              "<style>\n",
              "  .colab-df-quickchart {\n",
              "      --bg-color: #E8F0FE;\n",
              "      --fill-color: #1967D2;\n",
              "      --hover-bg-color: #E2EBFA;\n",
              "      --hover-fill-color: #174EA6;\n",
              "      --disabled-fill-color: #AAA;\n",
              "      --disabled-bg-color: #DDD;\n",
              "  }\n",
              "\n",
              "  [theme=dark] .colab-df-quickchart {\n",
              "      --bg-color: #3B4455;\n",
              "      --fill-color: #D2E3FC;\n",
              "      --hover-bg-color: #434B5C;\n",
              "      --hover-fill-color: #FFFFFF;\n",
              "      --disabled-bg-color: #3B4455;\n",
              "      --disabled-fill-color: #666;\n",
              "  }\n",
              "\n",
              "  .colab-df-quickchart {\n",
              "    background-color: var(--bg-color);\n",
              "    border: none;\n",
              "    border-radius: 50%;\n",
              "    cursor: pointer;\n",
              "    display: none;\n",
              "    fill: var(--fill-color);\n",
              "    height: 32px;\n",
              "    padding: 0;\n",
              "    width: 32px;\n",
              "  }\n",
              "\n",
              "  .colab-df-quickchart:hover {\n",
              "    background-color: var(--hover-bg-color);\n",
              "    box-shadow: 0 1px 2px rgba(60, 64, 67, 0.3), 0 1px 3px 1px rgba(60, 64, 67, 0.15);\n",
              "    fill: var(--button-hover-fill-color);\n",
              "  }\n",
              "\n",
              "  .colab-df-quickchart-complete:disabled,\n",
              "  .colab-df-quickchart-complete:disabled:hover {\n",
              "    background-color: var(--disabled-bg-color);\n",
              "    fill: var(--disabled-fill-color);\n",
              "    box-shadow: none;\n",
              "  }\n",
              "\n",
              "  .colab-df-spinner {\n",
              "    border: 2px solid var(--fill-color);\n",
              "    border-color: transparent;\n",
              "    border-bottom-color: var(--fill-color);\n",
              "    animation:\n",
              "      spin 1s steps(1) infinite;\n",
              "  }\n",
              "\n",
              "  @keyframes spin {\n",
              "    0% {\n",
              "      border-color: transparent;\n",
              "      border-bottom-color: var(--fill-color);\n",
              "      border-left-color: var(--fill-color);\n",
              "    }\n",
              "    20% {\n",
              "      border-color: transparent;\n",
              "      border-left-color: var(--fill-color);\n",
              "      border-top-color: var(--fill-color);\n",
              "    }\n",
              "    30% {\n",
              "      border-color: transparent;\n",
              "      border-left-color: var(--fill-color);\n",
              "      border-top-color: var(--fill-color);\n",
              "      border-right-color: var(--fill-color);\n",
              "    }\n",
              "    40% {\n",
              "      border-color: transparent;\n",
              "      border-right-color: var(--fill-color);\n",
              "      border-top-color: var(--fill-color);\n",
              "    }\n",
              "    60% {\n",
              "      border-color: transparent;\n",
              "      border-right-color: var(--fill-color);\n",
              "    }\n",
              "    80% {\n",
              "      border-color: transparent;\n",
              "      border-right-color: var(--fill-color);\n",
              "      border-bottom-color: var(--fill-color);\n",
              "    }\n",
              "    90% {\n",
              "      border-color: transparent;\n",
              "      border-bottom-color: var(--fill-color);\n",
              "    }\n",
              "  }\n",
              "</style>\n",
              "\n",
              "      <script>\n",
              "        async function quickchart(key) {\n",
              "          const quickchartButtonEl =\n",
              "            document.querySelector('#' + key + ' button');\n",
              "          quickchartButtonEl.disabled = true;  // To prevent multiple clicks.\n",
              "          quickchartButtonEl.classList.add('colab-df-spinner');\n",
              "          try {\n",
              "            const charts = await google.colab.kernel.invokeFunction(\n",
              "                'suggestCharts', [key], {});\n",
              "          } catch (error) {\n",
              "            console.error('Error during call to suggestCharts:', error);\n",
              "          }\n",
              "          quickchartButtonEl.classList.remove('colab-df-spinner');\n",
              "          quickchartButtonEl.classList.add('colab-df-quickchart-complete');\n",
              "        }\n",
              "        (() => {\n",
              "          let quickchartButtonEl =\n",
              "            document.querySelector('#df-3629a5ce-cbc6-42b3-b4ff-328d2b271b72 button');\n",
              "          quickchartButtonEl.style.display =\n",
              "            google.colab.kernel.accessAllowed ? 'block' : 'none';\n",
              "        })();\n",
              "      </script>\n",
              "    </div>\n",
              "    </div>\n",
              "  </div>\n"
            ],
            "application/vnd.google.colaboratory.intrinsic+json": {
              "type": "dataframe",
              "variable_name": "df_twit",
              "summary": "{\n  \"name\": \"df_twit\",\n  \"rows\": 27481,\n  \"fields\": [\n    {\n      \"column\": \"text\",\n      \"properties\": {\n        \"dtype\": \"string\",\n        \"num_unique_values\": 27480,\n        \"samples\": [\n          \" Enjoy! Family trumps everything\",\n          \" --of them kinda turns me off of it all.  And then I buy more of them and dig a deeper hole, etc. ;;\",\n          \"Clive it`s my birthday pat me  http://apps.facebook.com/dogbook/profile/view/6386106\"\n        ],\n        \"semantic_type\": \"\",\n        \"description\": \"\"\n      }\n    },\n    {\n      \"column\": \"sentiment\",\n      \"properties\": {\n        \"dtype\": \"category\",\n        \"num_unique_values\": 3,\n        \"samples\": [\n          \"neutral\",\n          \"negative\",\n          \"positive\"\n        ],\n        \"semantic_type\": \"\",\n        \"description\": \"\"\n      }\n    }\n  ]\n}"
            }
          },
          "metadata": {},
          "execution_count": 93
        }
      ],
      "source": [
        "# Считайте данные\n",
        "\n",
        "df_twit = pd.read_csv('tweets.csv')\n",
        "df_twit"
      ]
    },
    {
      "cell_type": "code",
      "execution_count": 94,
      "id": "815ce768",
      "metadata": {
        "id": "815ce768"
      },
      "outputs": [],
      "source": [
        "# Удалите из датасета нейтральную ('neutral') тональность\n",
        "\n",
        "df_twit = df_twit[df_twit['sentiment'] != 'neutral']"
      ]
    },
    {
      "cell_type": "code",
      "execution_count": 96,
      "id": "35fd9f72",
      "metadata": {
        "id": "35fd9f72"
      },
      "outputs": [],
      "source": [
        "# Закодируйте целевую переменную:\n",
        "#   0 — 'negative'\n",
        "#   1 — 'positive'\n",
        "# Сбросьте индексы в новом датасете\n",
        "\n",
        "df_twit['sentiment'] = (df_twit[\"sentiment\"]=='positive').astype(int)\n",
        "df_twit = df_twit.reset_index(drop=True)"
      ]
    },
    {
      "cell_type": "code",
      "execution_count": 98,
      "id": "c3a8c722",
      "metadata": {
        "id": "c3a8c722",
        "colab": {
          "base_uri": "https://localhost:8080/"
        },
        "outputId": "838aefef-7b63-45b2-a713-f0b4400a896c"
      },
      "outputs": [
        {
          "output_type": "stream",
          "name": "stdout",
          "text": [
            "The top 5 words I`ve tweeted: hug, good, people, fun, twitter. http://tinyurl.com/dcxoty ... that`s really quite nice\n"
          ]
        }
      ],
      "source": [
        "# Выведите исходный текст с индексом 1901\n",
        "\n",
        "print(df_twit.iloc[1901]['text'])"
      ]
    },
    {
      "cell_type": "code",
      "execution_count": 100,
      "id": "eedd6aae",
      "metadata": {
        "id": "eedd6aae"
      },
      "outputs": [],
      "source": [
        "# Приведите все тексты к нижнему регистру (lowercase)\n",
        "\n",
        "df_twit['text lowercase'] = df_twit['text'].str.lower()"
      ]
    },
    {
      "cell_type": "code",
      "execution_count": 101,
      "id": "986f1170",
      "metadata": {
        "id": "986f1170",
        "colab": {
          "base_uri": "https://localhost:8080/"
        },
        "outputId": "121b5c48-668f-441a-e92b-f08f80382d19"
      },
      "outputs": [
        {
          "output_type": "stream",
          "name": "stdout",
          "text": [
            "the top 5 words i`ve tweeted: hug, good, people, fun, twitter. http://tinyurl.com/dcxoty ... that`s really quite nice\n"
          ]
        }
      ],
      "source": [
        "# Выведите текст с индексом 1901 после приведения к нижнему регистру\n",
        "\n",
        "print(df_twit.iloc[1901][\"text lowercase\"])"
      ]
    },
    {
      "cell_type": "code",
      "execution_count": 102,
      "id": "30cb4e34",
      "metadata": {
        "id": "30cb4e34"
      },
      "outputs": [],
      "source": [
        "def regex_clean(text):\n",
        "    \"\"\"\n",
        "    Очищает текст от ссылок и лишних символов с помощью регулярных выражений.\n",
        "\n",
        "    Аргументы:\n",
        "        text (str): Входной текст для очистки.\n",
        "\n",
        "    Возвращает:\n",
        "        str: Очищенный текст.\n",
        "    \"\"\"\n",
        "    # Замена всех ссылок в тексте на пробел\n",
        "    text = re.sub('http[s]?://(?:[a-zA-Z]|[0-9]|[$-_@.&+]|[!*\\\\(\\\\),]|(?:%[0-9a-fA-F][0-9a-fA-F]))+', ' ', text)\n",
        "\n",
        "    # Удаление всех цифр, спецсимволов и знаков пунктуации\n",
        "    text = re.sub('[0-9!#()$\\,\\'\\-\\.*+/:;<=>?@[\\]^_`{|}\\\"]+', ' ', text)\n",
        "\n",
        "    # Удаление лишних пробелов\n",
        "    text = re.sub('\\s+', ' ', text)\n",
        "\n",
        "    return text"
      ]
    },
    {
      "cell_type": "code",
      "execution_count": 106,
      "id": "92876064",
      "metadata": {
        "id": "92876064"
      },
      "outputs": [],
      "source": [
        "# Очистите тексты от ссылок и лишних символов с помощью функции regex_clean\n",
        "\n",
        "df_twit['text cleaned'] = df_twit['text lowercase'].apply(regex_clean)"
      ]
    },
    {
      "cell_type": "code",
      "execution_count": 107,
      "id": "1d3879ec",
      "metadata": {
        "id": "1d3879ec",
        "colab": {
          "base_uri": "https://localhost:8080/",
          "height": 36
        },
        "outputId": "5e663967-8f1a-474d-9611-93a4175eb064"
      },
      "outputs": [
        {
          "output_type": "execute_result",
          "data": {
            "text/plain": [
              "'the top words i ve tweeted hug good people fun twitter that s really quite nice'"
            ],
            "application/vnd.google.colaboratory.intrinsic+json": {
              "type": "string"
            }
          },
          "metadata": {},
          "execution_count": 107
        }
      ],
      "source": [
        "# Выведите текст с индексом 1901 после удаления ссылок и лишних символов\n",
        "\n",
        "df_twit.iloc[1901]['text cleaned']"
      ]
    },
    {
      "cell_type": "code",
      "execution_count": 108,
      "id": "71456c8b",
      "metadata": {
        "id": "71456c8b"
      },
      "outputs": [],
      "source": [
        "# Дополните функцию tokenize\n",
        "\n",
        "def tokenize(text):\n",
        "    \"\"\"\n",
        "    Токенизирует текст на отдельные слова или токены с использованием NLTK.\n",
        "    Для токенизации используется функиця word_tokenize.\n",
        "\n",
        "    Аргументы:\n",
        "        text (str): Входной текст для токенизации.\n",
        "\n",
        "    Возвращает:\n",
        "        list(str): Список токенов, полученных в результате разбиения текста.\n",
        "    \"\"\"\n",
        "    return nltk.word_tokenize(text)"
      ]
    },
    {
      "cell_type": "code",
      "execution_count": 109,
      "id": "e209251a",
      "metadata": {
        "id": "e209251a"
      },
      "outputs": [],
      "source": [
        "# Токенизируйте тексты с помощью tokenize\n",
        "\n",
        "df_twit['text tokenized'] = df_twit['text cleaned'].apply(tokenize)"
      ]
    },
    {
      "cell_type": "code",
      "execution_count": 110,
      "id": "e5ff25ef",
      "metadata": {
        "id": "e5ff25ef",
        "colab": {
          "base_uri": "https://localhost:8080/"
        },
        "outputId": "80a67d4f-a11d-4b1a-9b8e-fe8b68a26860"
      },
      "outputs": [
        {
          "output_type": "execute_result",
          "data": {
            "text/plain": [
              "['the',\n",
              " 'top',\n",
              " 'words',\n",
              " 'i',\n",
              " 've',\n",
              " 'tweeted',\n",
              " 'hug',\n",
              " 'good',\n",
              " 'people',\n",
              " 'fun',\n",
              " 'twitter',\n",
              " 'that',\n",
              " 's',\n",
              " 'really',\n",
              " 'quite',\n",
              " 'nice']"
            ]
          },
          "metadata": {},
          "execution_count": 110
        }
      ],
      "source": [
        "# Выведите текст с индексом 1901 после токенизации\n",
        "\n",
        "df_twit.iloc[1901]['text tokenized']"
      ]
    },
    {
      "cell_type": "code",
      "execution_count": 111,
      "id": "93d21a84",
      "metadata": {
        "id": "93d21a84"
      },
      "outputs": [],
      "source": [
        "def treebank_to_wordnet(treebank_pos_tag):\n",
        "    \"\"\"\n",
        "    Преобразует POS-теги из формата Penn Treebank в формат WordNet.\n",
        "\n",
        "    Аргументы:\n",
        "        treebank_pos_tag (str): POS-тег в формате Penn Treebank.\n",
        "\n",
        "    Возвращает:\n",
        "        object: POS-тег в формате WordNet. В случае неизвестного тега по умолчанию возвращает wordnet.NOUN (существительное).\n",
        "    \"\"\"\n",
        "    if treebank_pos_tag.startswith('J'):\n",
        "        return wordnet.ADJ\n",
        "    elif treebank_pos_tag.startswith('V'):\n",
        "        return wordnet.VERB\n",
        "    elif treebank_pos_tag.startswith('N'):\n",
        "        return wordnet.NOUN\n",
        "    elif treebank_pos_tag.startswith('R'):\n",
        "        return wordnet.ADV\n",
        "    else:\n",
        "        return wordnet.NOUN"
      ]
    },
    {
      "cell_type": "code",
      "execution_count": 112,
      "id": "c0fd1490",
      "metadata": {
        "id": "c0fd1490"
      },
      "outputs": [],
      "source": [
        "# Дополните функцию pos_lemmatize\n",
        "\n",
        "def pos_lemmatize(tokens):\n",
        "    \"\"\"\n",
        "    Лемматизирует список токенов, преобразуя слова к их базовой форме с учетом части речи (POS).\n",
        "    Для лемматизации используется WordNetLemmatizer.\n",
        "\n",
        "    Аргументы:\n",
        "        tokens (list(str)): Список токенов для лемматизации.\n",
        "\n",
        "    Возвращает:\n",
        "        list(str): Список лемм, полученных в результате лемматизации токенов.\n",
        "    \"\"\"\n",
        "    lemmatizer = WordNetLemmatizer()\n",
        "\n",
        "    # Определение POS-тегов в формате Penn Treebank для каждого токена\n",
        "    pos_tokens = pos_tag(tokens)\n",
        "\n",
        "    # Лемматизируйте каждый токен с учетом его POS-тега\n",
        "    # POS-теги в формате Penn Treebank необходимо преобразовать в формат WordNet (используйте функцию treebank_to_wordnet)\n",
        "    lemmas = [lemmatizer.lemmatize(token, treebank_to_wordnet(pos)) for token, pos in pos_tokens]\n",
        "    return lemmas"
      ]
    },
    {
      "cell_type": "code",
      "execution_count": 113,
      "id": "a469a630",
      "metadata": {
        "id": "a469a630"
      },
      "outputs": [],
      "source": [
        "# Лемматизируйте тексты с помощью pos_lemmatize\n",
        "\n",
        "df_twit['text lemmatized'] = df_twit['text tokenized'].apply(pos_lemmatize)"
      ]
    },
    {
      "cell_type": "code",
      "execution_count": 114,
      "id": "2d181ee5",
      "metadata": {
        "id": "2d181ee5",
        "colab": {
          "base_uri": "https://localhost:8080/"
        },
        "outputId": "176e21e9-0f1b-45c1-ca6d-89edfe08bc32"
      },
      "outputs": [
        {
          "output_type": "execute_result",
          "data": {
            "text/plain": [
              "['the',\n",
              " 'top',\n",
              " 'word',\n",
              " 'i',\n",
              " 've',\n",
              " 'tweet',\n",
              " 'hug',\n",
              " 'good',\n",
              " 'people',\n",
              " 'fun',\n",
              " 'twitter',\n",
              " 'that',\n",
              " 's',\n",
              " 'really',\n",
              " 'quite',\n",
              " 'nice']"
            ]
          },
          "metadata": {},
          "execution_count": 114
        }
      ],
      "source": [
        "# Выведите текст с индексом 1901 после лемматизации\n",
        "\n",
        "df_twit.iloc[1901]['text lemmatized']"
      ]
    },
    {
      "cell_type": "code",
      "execution_count": 115,
      "id": "9a3ba891",
      "metadata": {
        "id": "9a3ba891"
      },
      "outputs": [],
      "source": [
        "# Дополните функцию remove_stop_words\n",
        "\n",
        "def remove_stop_words(lemmas, stop_words):\n",
        "    \"\"\"\n",
        "    Удаляет стоп-слова из списка лемм.\n",
        "\n",
        "    Аргументы:\n",
        "        lemmas (list(str)): Список лемм.\n",
        "        stop_words (list(str)): Список стоп-слов для фильтрации.\n",
        "\n",
        "    Возвращает:\n",
        "        list(str): Список лемм после удаления стоп-слов.\n",
        "    \"\"\"\n",
        "    lemmas = [lemma for lemma in lemmas if lemma not in stop_words]\n",
        "    return lemmas"
      ]
    },
    {
      "cell_type": "code",
      "execution_count": 117,
      "id": "1eee4026",
      "metadata": {
        "id": "1eee4026"
      },
      "outputs": [],
      "source": [
        "# Удалите стоп-слова из текстов с помощью remove_stop_words\n",
        "# В качестве списка стоп-слов используйте список из библиотеки NLTK\n",
        "\n",
        "stop_words = stopwords.words('english')\n",
        "df_twit['text without stop words'] = df_twit['text lemmatized'].apply(lambda x: remove_stop_words(x, stop_words))"
      ]
    },
    {
      "cell_type": "code",
      "execution_count": 119,
      "id": "777f85b6",
      "metadata": {
        "id": "777f85b6"
      },
      "outputs": [],
      "source": [
        "# Соберите список лемм в одну строку, отделив леммы знаком пробела\n",
        "\n",
        "df_twit['text preprocessed'] = df_twit['text without stop words'].apply(' '.join)"
      ]
    },
    {
      "cell_type": "code",
      "execution_count": 121,
      "id": "6be16a81",
      "metadata": {
        "id": "6be16a81",
        "colab": {
          "base_uri": "https://localhost:8080/",
          "height": 36
        },
        "outputId": "5cd53773-1ccc-4965-98a3-4c418efdf15a"
      },
      "outputs": [
        {
          "output_type": "execute_result",
          "data": {
            "text/plain": [
              "'top word tweet hug good people fun twitter really quite nice'"
            ],
            "application/vnd.google.colaboratory.intrinsic+json": {
              "type": "string"
            }
          },
          "metadata": {},
          "execution_count": 121
        }
      ],
      "source": [
        "# Выведите текст с индексом 1901 после удаления стоп-слов\n",
        "\n",
        "df_twit.iloc[1901]['text preprocessed']"
      ]
    },
    {
      "cell_type": "code",
      "execution_count": 122,
      "id": "62ca3bf9",
      "metadata": {
        "id": "62ca3bf9"
      },
      "outputs": [],
      "source": [
        "# Выделите объясняемый фактор в отдельную переменную\n",
        "\n",
        "X_twit, y_twit = df_twit['text preprocessed'], df_twit['sentiment']"
      ]
    },
    {
      "cell_type": "code",
      "execution_count": 123,
      "id": "a3297959-ae8e-46e7-a184-a61be39472c8",
      "metadata": {
        "id": "a3297959-ae8e-46e7-a184-a61be39472c8"
      },
      "outputs": [],
      "source": [
        "# Разделите датасет на обучающую (60%) и тестовую (40%) выборки со стратификацией по целевой переменной\n",
        "# Не забудьте зафиксировать RANDOM_STATE\n",
        "\n",
        "X_twit_train, X_twit_test, y_twit_train, y_twit_test = train_test_split(X_twit, y_twit, test_size=0.4, stratify=y_twit, random_state=RANDOM_STATE)"
      ]
    },
    {
      "cell_type": "code",
      "execution_count": 124,
      "id": "6ed24a2b",
      "metadata": {
        "id": "6ed24a2b"
      },
      "outputs": [],
      "source": [
        "# Постройте пайплайн twit_pipeline\n",
        "# Не забудьте зафиксировать RANDOM_STATE\n",
        "\n",
        "twit_pipeline = Pipeline([\n",
        "    ('tfidf', TfidfVectorizer()),\n",
        "    ('clf', LogisticRegression(random_state=RANDOM_STATE))\n",
        "])"
      ]
    },
    {
      "cell_type": "code",
      "execution_count": 126,
      "id": "0a17b379",
      "metadata": {
        "id": "0a17b379"
      },
      "outputs": [],
      "source": [
        "# Обучите модель lr_twit на обучающих данных\n",
        "# Оптимальные гиперпараметры обучения подберите с помощью GridSearchCV\n",
        "# Не забудьте зафиксировать RANDOM_STATE\n",
        "\n",
        "params = {\n",
        "    'tfidf__ngram_range': [(1, 1), (1, 2)], # (1, 1) — только отдельные слова / (1, 2) — слова и биграммамы (пары слов)\n",
        "    'tfidf__max_df': [0.9, 0.95],           # Верхний порог частоты слова в корпусе текстов (если частота выше, слово игнорируется)\n",
        "    'clf__C': [0.001, 0.1, 1.0, 10.0]       # Параметр регуляризации для логистической регрессии\n",
        "}\n",
        "scoring = 'roc_auc'\n",
        "cv = 5\n",
        "\n",
        "cv_lr_twit = GridSearchCV(\n",
        "    estimator=twit_pipeline,\n",
        "    param_grid=params,\n",
        "    scoring=scoring,\n",
        "    cv=cv,\n",
        "    n_jobs=-1                               # Используйте все доступные ядра CPU\n",
        ").fit(X_twit_train, y_twit_train)\n",
        "\n",
        "lr_twit = cv_lr_twit.best_estimator_"
      ]
    },
    {
      "cell_type": "code",
      "execution_count": 127,
      "id": "f2c80ba9",
      "metadata": {
        "id": "f2c80ba9",
        "colab": {
          "base_uri": "https://localhost:8080/"
        },
        "outputId": "1a8b896d-c2bb-4cb3-976e-9529a462fc5b"
      },
      "outputs": [
        {
          "output_type": "execute_result",
          "data": {
            "text/plain": [
              "{'clf__C': 10.0, 'tfidf__max_df': 0.9, 'tfidf__ngram_range': (1, 2)}"
            ]
          },
          "metadata": {},
          "execution_count": 127
        }
      ],
      "source": [
        "cv_lr_twit.best_params_"
      ]
    },
    {
      "cell_type": "code",
      "execution_count": 137,
      "id": "aa3936e3-3e54-44f8-847a-ade35237d6df",
      "metadata": {
        "id": "aa3936e3-3e54-44f8-847a-ade35237d6df",
        "colab": {
          "base_uri": "https://localhost:8080/"
        },
        "outputId": "c8e70aac-e9fd-4954-a0cc-87fa107f6b0c"
      },
      "outputs": [
        {
          "output_type": "stream",
          "name": "stdout",
          "text": [
            "              precision    recall  f1-score   support\n",
            "\n",
            "           0       0.87      0.85      0.86      3113\n",
            "           1       0.87      0.88      0.87      3433\n",
            "\n",
            "    accuracy                           0.87      6546\n",
            "   macro avg       0.87      0.86      0.86      6546\n",
            "weighted avg       0.87      0.87      0.87      6546\n",
            "\n"
          ]
        }
      ],
      "source": [
        "# Постройте отчет по метрикам классификации на тестовой выборке для lr_twit\n",
        "\n",
        "#metrics_report(y_twit_test, lr_twit.predict(X_twit_test))\n",
        "print(classification_report(y_twit_test, lr_twit.predict(X_twit_test)))"
      ]
    },
    {
      "cell_type": "code",
      "execution_count": 132,
      "id": "641b0ccd",
      "metadata": {
        "id": "641b0ccd",
        "colab": {
          "base_uri": "https://localhost:8080/"
        },
        "outputId": "d20776f0-b5fb-49fd-eae2-cfce316a989f"
      },
      "outputs": [
        {
          "output_type": "execute_result",
          "data": {
            "text/plain": [
              "0.9385166215664014"
            ]
          },
          "metadata": {},
          "execution_count": 132
        }
      ],
      "source": [
        "# Рассчитайте метрику AUC на тестовой выборке для lr_twit\n",
        "\n",
        "roc_auc_score(y_twit_test, lr_twit.predict_proba(X_twit_test)[:,1])"
      ]
    },
    {
      "cell_type": "markdown",
      "id": "b22c745d",
      "metadata": {
        "id": "b22c745d"
      },
      "source": [
        "### **Извлечение признаков из временных рядов**\n",
        "\n",
        "Целью извлечения признаков из временных рядов является преобразование исходного временного ряда (последовательности точек во времени) в набор информативных и компактных статических признаков.\n",
        "\n",
        "**Основные типы временных признаков:**\n",
        "\n",
        "* Признаки на основе лагов (предыдущих значений ряда).\n",
        "\n",
        "    * Лаговые признаки — это значения временного ряда из предыдущих моментов времени.\n",
        "\n",
        "    * Скользящее среднее (moving average) — среднее значение за несколько предыдущих периодов.\n",
        "\n",
        "* Признаки на основе даты и времени.\n",
        "\n",
        "    * Временные компоненты: час, день недели, день месяца, месяц, год и т.д.\n",
        "\n",
        "    * Бинарные флаги: является ли день выходным, праздничным и т.д.\n",
        "\n",
        "* Циклические признаки. Чтобы сохранить информацию о цикличности, признаки преобразуют в двумерное пространство с помощью синуса и косинуса. Для признака со значением $x$ и периодом $T$ (например, для часа $T = 24$, для дня недели $T = 7$) создаются два новых признака:\n",
        "\n",
        "    $$x_{\\text{cos}} = \\text{cos}(\\frac{2 \\pi x}{T})$$\n",
        "\n",
        "    $$x_{\\text{sin}} = \\text{sin}(\\frac{2 \\pi x}{T})$$\n",
        "\n",
        "*Это лишь основные и наиболее простые типы временных признаков. На практике их количество больше, а использование того или иного типа **зависит от решаемой задачи***."
      ]
    },
    {
      "cell_type": "markdown",
      "id": "06fe7d31",
      "metadata": {
        "id": "06fe7d31"
      },
      "source": [
        "### **Кросс-валидация временных рядов**\n",
        "\n",
        "Классические методы кросс-валидации не могут быть использованы для временных рядов, упорядоченных во времени. Это связано с проблемой утечки данных (data leakage): случайное перемешивание временного ряда приведет к тому, что модель будет обучаться на данных из будущего, чтобы предсказать прошлое.\n",
        "\n",
        "Для временных рядов необходимы особые стратегии кросс-валидации, которые сохраняют временной порядок данных.\n",
        "\n",
        "**[TimeSeriesSplit](https://scikit-learn.org/stable/modules/generated/sklearn.model_selection.TimeSeriesSplit.html)** — это итератор кросс-валидации временных рядов из библиотеки scikit-learn. TimeSeriesSplit реализует подход, известный как кросс-валидация на расширяющемся окне (expanding window cross-validation): c каждой новой итерацией (фолдом) обучающая выборка увеличивается, а валидационная сдвигается вперед во времени.\n",
        "\n",
        "TimeSeriesSplit может быть использован для подбора гиперпараметров с помощью GridSearchCV. Если **в качестве параметра cv** в GridSearchCV использовать разбиение временного ряда, полученное с помощью TimeSeriesSplit, GridSearchCV будет обучать и валидировать модель на соответствующих разбиениях (фолдах), обеспечивая корректную оценку качества модели."
      ]
    },
    {
      "cell_type": "markdown",
      "id": "4ef46339",
      "metadata": {
        "id": "4ef46339"
      },
      "source": [
        "### **Датасет *Hourly Energy Consumption***\n",
        "\n",
        "**Для решения задания 5 рассмотрим датасет [Hourly Energy Consumption](https://www.kaggle.com/datasets/robikscube/hourly-energy-consumption).**\n",
        "\n",
        "Набор данных предназначен для анализа и прогнозирования почасового потребления электроэнергии в мегаваттах (MW) в различных регионах, входящих в PJM Interconnection LLC — региональную организацию по передаче электроэнергии в восточной части США.\n",
        "\n",
        "Целевая переменная — AEP_MW (количество потребляемой электроэнергии в мегаваттах за каждый час).\n",
        "\n",
        "Единственная известная переменная датасета — Datetime (временная отметка с точностью до часа, которая указывает дату и время записи)."
      ]
    },
    {
      "cell_type": "markdown",
      "id": "b170bba1",
      "metadata": {
        "id": "b170bba1"
      },
      "source": [
        "### ***Задание 5***\n",
        "\n",
        "Используя значения ряда (AEP_MW), создайте признаки:\n",
        "\n",
        "* Лаговые признаки (*подсказка: используйте [shift](https://pandas.pydata.org/docs/reference/api/pandas.DataFrame.shift.html)*):\n",
        "\n",
        "    * lag 1h — значение AEP_MW 1 час назад (временной лаг в 1 наблюдение).\n",
        "\n",
        "    * lag 24h — значение AEP_MW 24 часа назад (временной лаг в 24 наблюдения).\n",
        "\n",
        "* Скользящее среднее (*подсказка: используйте признак **lag 1h** (скользящее среднее строится по **предыдущим** наблюдениям и не должно включать значение целевой переменной на момент прогноза) и [rolling](https://pandas.pydata.org/docs/reference/api/pandas.DataFrame.rolling.html)*):\n",
        "\n",
        "    * mean 24h — среднее AEP_MW за **предыдущие** 24 часа (скользящее среднее по 24 **предыдущим** наблюдениям).\n",
        "\n",
        "    * mean 7d — среднее AEP_MW за **предыдущие** 7 дней (скользящее среднее по 24 $\\times$ 7 **предыдущим** наблюдениям).\n",
        "\n",
        "Используя метку времени (Datetime), создайте признаки:\n",
        "\n",
        "* Временные компоненты:\n",
        "\n",
        "    * hour: час.\n",
        "\n",
        "    * weekday: день недели.\n",
        "\n",
        "    * day: число месяца.\n",
        "\n",
        "    * month: месяц.\n",
        "\n",
        "    * year: год.\n",
        "\n",
        "* Бинарные флаги:\n",
        "\n",
        "    * is_weekend: метка выходного дня (суббота и воскресенье).\n",
        "\n",
        "* Циклические признаки, закодированные с помощью косинуса и синуса:\n",
        "\n",
        "    * hour_cos, hour_sin: cos и sin от hour ($T = 24$).\n",
        "\n",
        "    * day_cos, day_sin: cos и sin от day ($T = 30$).\n",
        "\n",
        "    * weekday_cos, weekday_sin: cos и sin от weekday ($T = 7$).\n",
        "\n",
        "    * month_cos, month_sin: cos и sin от month ($T = 12$).\n",
        "\n",
        "Разделите датасет на обучающую и тестовую выборки так, чтобы в обучающую выборку вошли все данные ранее 2017 года, в тестовую — все данные за 2017 год и позже.\n",
        "\n",
        "Масштабируйте (стандартизируйте) все признаки на обучающей и тестовой выборке.\n",
        "\n",
        "**На обучающей выборке** подберите оптимальные гиперпараметры обучения линейной регрессии с L2-регуляризацией (Ridge) с помощью **кросс-валидации временных рядов** (TimeSeriesSplit и GridSearchCV), метрика оптимизации — 'neg_mean_squared_error' (**отрицательный MSE**). Рассчитайте лучшее среднее значение **RMSE** (Root Mean Square Error, среднеквадратическая ошибка) по результатам кросс-валидации.\n",
        "\n",
        "Обучите модель Ridge `ridge_aep` с оптимальными гиперпараметрами на всей обучающей выборке и выведите metrics_report **на тестовой выборке**.\n",
        "\n",
        "*Для данного задания предположим, что со временем среднее и дисперсия данных не изменились. Это позволит использовать один StandardScaler для обучающей и тестовой выборок.*"
      ]
    },
    {
      "cell_type": "code",
      "execution_count": 210,
      "id": "fae12fae-88ed-45bb-8bee-5c4388e2000d",
      "metadata": {
        "id": "fae12fae-88ed-45bb-8bee-5c4388e2000d",
        "colab": {
          "base_uri": "https://localhost:8080/",
          "height": 423
        },
        "outputId": "e7689917-d193-443c-afd4-a3a806e5bf69"
      },
      "outputs": [
        {
          "output_type": "execute_result",
          "data": {
            "text/plain": [
              "                   Datetime   AEP_MW\n",
              "0       2004-12-31 01:00:00  13478.0\n",
              "1       2004-12-31 02:00:00  12865.0\n",
              "2       2004-12-31 03:00:00  12577.0\n",
              "3       2004-12-31 04:00:00  12517.0\n",
              "4       2004-12-31 05:00:00  12670.0\n",
              "...                     ...      ...\n",
              "121268  2018-01-01 20:00:00  21089.0\n",
              "121269  2018-01-01 21:00:00  20999.0\n",
              "121270  2018-01-01 22:00:00  20820.0\n",
              "121271  2018-01-01 23:00:00  20415.0\n",
              "121272  2018-01-02 00:00:00  19993.0\n",
              "\n",
              "[121273 rows x 2 columns]"
            ],
            "text/html": [
              "\n",
              "  <div id=\"df-95893462-0ba3-4e6c-b02f-8d566c55474d\" class=\"colab-df-container\">\n",
              "    <div>\n",
              "<style scoped>\n",
              "    .dataframe tbody tr th:only-of-type {\n",
              "        vertical-align: middle;\n",
              "    }\n",
              "\n",
              "    .dataframe tbody tr th {\n",
              "        vertical-align: top;\n",
              "    }\n",
              "\n",
              "    .dataframe thead th {\n",
              "        text-align: right;\n",
              "    }\n",
              "</style>\n",
              "<table border=\"1\" class=\"dataframe\">\n",
              "  <thead>\n",
              "    <tr style=\"text-align: right;\">\n",
              "      <th></th>\n",
              "      <th>Datetime</th>\n",
              "      <th>AEP_MW</th>\n",
              "    </tr>\n",
              "  </thead>\n",
              "  <tbody>\n",
              "    <tr>\n",
              "      <th>0</th>\n",
              "      <td>2004-12-31 01:00:00</td>\n",
              "      <td>13478.0</td>\n",
              "    </tr>\n",
              "    <tr>\n",
              "      <th>1</th>\n",
              "      <td>2004-12-31 02:00:00</td>\n",
              "      <td>12865.0</td>\n",
              "    </tr>\n",
              "    <tr>\n",
              "      <th>2</th>\n",
              "      <td>2004-12-31 03:00:00</td>\n",
              "      <td>12577.0</td>\n",
              "    </tr>\n",
              "    <tr>\n",
              "      <th>3</th>\n",
              "      <td>2004-12-31 04:00:00</td>\n",
              "      <td>12517.0</td>\n",
              "    </tr>\n",
              "    <tr>\n",
              "      <th>4</th>\n",
              "      <td>2004-12-31 05:00:00</td>\n",
              "      <td>12670.0</td>\n",
              "    </tr>\n",
              "    <tr>\n",
              "      <th>...</th>\n",
              "      <td>...</td>\n",
              "      <td>...</td>\n",
              "    </tr>\n",
              "    <tr>\n",
              "      <th>121268</th>\n",
              "      <td>2018-01-01 20:00:00</td>\n",
              "      <td>21089.0</td>\n",
              "    </tr>\n",
              "    <tr>\n",
              "      <th>121269</th>\n",
              "      <td>2018-01-01 21:00:00</td>\n",
              "      <td>20999.0</td>\n",
              "    </tr>\n",
              "    <tr>\n",
              "      <th>121270</th>\n",
              "      <td>2018-01-01 22:00:00</td>\n",
              "      <td>20820.0</td>\n",
              "    </tr>\n",
              "    <tr>\n",
              "      <th>121271</th>\n",
              "      <td>2018-01-01 23:00:00</td>\n",
              "      <td>20415.0</td>\n",
              "    </tr>\n",
              "    <tr>\n",
              "      <th>121272</th>\n",
              "      <td>2018-01-02 00:00:00</td>\n",
              "      <td>19993.0</td>\n",
              "    </tr>\n",
              "  </tbody>\n",
              "</table>\n",
              "<p>121273 rows × 2 columns</p>\n",
              "</div>\n",
              "    <div class=\"colab-df-buttons\">\n",
              "\n",
              "  <div class=\"colab-df-container\">\n",
              "    <button class=\"colab-df-convert\" onclick=\"convertToInteractive('df-95893462-0ba3-4e6c-b02f-8d566c55474d')\"\n",
              "            title=\"Convert this dataframe to an interactive table.\"\n",
              "            style=\"display:none;\">\n",
              "\n",
              "  <svg xmlns=\"http://www.w3.org/2000/svg\" height=\"24px\" viewBox=\"0 -960 960 960\">\n",
              "    <path d=\"M120-120v-720h720v720H120Zm60-500h600v-160H180v160Zm220 220h160v-160H400v160Zm0 220h160v-160H400v160ZM180-400h160v-160H180v160Zm440 0h160v-160H620v160ZM180-180h160v-160H180v160Zm440 0h160v-160H620v160Z\"/>\n",
              "  </svg>\n",
              "    </button>\n",
              "\n",
              "  <style>\n",
              "    .colab-df-container {\n",
              "      display:flex;\n",
              "      gap: 12px;\n",
              "    }\n",
              "\n",
              "    .colab-df-convert {\n",
              "      background-color: #E8F0FE;\n",
              "      border: none;\n",
              "      border-radius: 50%;\n",
              "      cursor: pointer;\n",
              "      display: none;\n",
              "      fill: #1967D2;\n",
              "      height: 32px;\n",
              "      padding: 0 0 0 0;\n",
              "      width: 32px;\n",
              "    }\n",
              "\n",
              "    .colab-df-convert:hover {\n",
              "      background-color: #E2EBFA;\n",
              "      box-shadow: 0px 1px 2px rgba(60, 64, 67, 0.3), 0px 1px 3px 1px rgba(60, 64, 67, 0.15);\n",
              "      fill: #174EA6;\n",
              "    }\n",
              "\n",
              "    .colab-df-buttons div {\n",
              "      margin-bottom: 4px;\n",
              "    }\n",
              "\n",
              "    [theme=dark] .colab-df-convert {\n",
              "      background-color: #3B4455;\n",
              "      fill: #D2E3FC;\n",
              "    }\n",
              "\n",
              "    [theme=dark] .colab-df-convert:hover {\n",
              "      background-color: #434B5C;\n",
              "      box-shadow: 0px 1px 3px 1px rgba(0, 0, 0, 0.15);\n",
              "      filter: drop-shadow(0px 1px 2px rgba(0, 0, 0, 0.3));\n",
              "      fill: #FFFFFF;\n",
              "    }\n",
              "  </style>\n",
              "\n",
              "    <script>\n",
              "      const buttonEl =\n",
              "        document.querySelector('#df-95893462-0ba3-4e6c-b02f-8d566c55474d button.colab-df-convert');\n",
              "      buttonEl.style.display =\n",
              "        google.colab.kernel.accessAllowed ? 'block' : 'none';\n",
              "\n",
              "      async function convertToInteractive(key) {\n",
              "        const element = document.querySelector('#df-95893462-0ba3-4e6c-b02f-8d566c55474d');\n",
              "        const dataTable =\n",
              "          await google.colab.kernel.invokeFunction('convertToInteractive',\n",
              "                                                    [key], {});\n",
              "        if (!dataTable) return;\n",
              "\n",
              "        const docLinkHtml = 'Like what you see? Visit the ' +\n",
              "          '<a target=\"_blank\" href=https://colab.research.google.com/notebooks/data_table.ipynb>data table notebook</a>'\n",
              "          + ' to learn more about interactive tables.';\n",
              "        element.innerHTML = '';\n",
              "        dataTable['output_type'] = 'display_data';\n",
              "        await google.colab.output.renderOutput(dataTable, element);\n",
              "        const docLink = document.createElement('div');\n",
              "        docLink.innerHTML = docLinkHtml;\n",
              "        element.appendChild(docLink);\n",
              "      }\n",
              "    </script>\n",
              "  </div>\n",
              "\n",
              "\n",
              "    <div id=\"df-0e00b001-42fe-403f-9947-ef64272c0808\">\n",
              "      <button class=\"colab-df-quickchart\" onclick=\"quickchart('df-0e00b001-42fe-403f-9947-ef64272c0808')\"\n",
              "                title=\"Suggest charts\"\n",
              "                style=\"display:none;\">\n",
              "\n",
              "<svg xmlns=\"http://www.w3.org/2000/svg\" height=\"24px\"viewBox=\"0 0 24 24\"\n",
              "     width=\"24px\">\n",
              "    <g>\n",
              "        <path d=\"M19 3H5c-1.1 0-2 .9-2 2v14c0 1.1.9 2 2 2h14c1.1 0 2-.9 2-2V5c0-1.1-.9-2-2-2zM9 17H7v-7h2v7zm4 0h-2V7h2v10zm4 0h-2v-4h2v4z\"/>\n",
              "    </g>\n",
              "</svg>\n",
              "      </button>\n",
              "\n",
              "<style>\n",
              "  .colab-df-quickchart {\n",
              "      --bg-color: #E8F0FE;\n",
              "      --fill-color: #1967D2;\n",
              "      --hover-bg-color: #E2EBFA;\n",
              "      --hover-fill-color: #174EA6;\n",
              "      --disabled-fill-color: #AAA;\n",
              "      --disabled-bg-color: #DDD;\n",
              "  }\n",
              "\n",
              "  [theme=dark] .colab-df-quickchart {\n",
              "      --bg-color: #3B4455;\n",
              "      --fill-color: #D2E3FC;\n",
              "      --hover-bg-color: #434B5C;\n",
              "      --hover-fill-color: #FFFFFF;\n",
              "      --disabled-bg-color: #3B4455;\n",
              "      --disabled-fill-color: #666;\n",
              "  }\n",
              "\n",
              "  .colab-df-quickchart {\n",
              "    background-color: var(--bg-color);\n",
              "    border: none;\n",
              "    border-radius: 50%;\n",
              "    cursor: pointer;\n",
              "    display: none;\n",
              "    fill: var(--fill-color);\n",
              "    height: 32px;\n",
              "    padding: 0;\n",
              "    width: 32px;\n",
              "  }\n",
              "\n",
              "  .colab-df-quickchart:hover {\n",
              "    background-color: var(--hover-bg-color);\n",
              "    box-shadow: 0 1px 2px rgba(60, 64, 67, 0.3), 0 1px 3px 1px rgba(60, 64, 67, 0.15);\n",
              "    fill: var(--button-hover-fill-color);\n",
              "  }\n",
              "\n",
              "  .colab-df-quickchart-complete:disabled,\n",
              "  .colab-df-quickchart-complete:disabled:hover {\n",
              "    background-color: var(--disabled-bg-color);\n",
              "    fill: var(--disabled-fill-color);\n",
              "    box-shadow: none;\n",
              "  }\n",
              "\n",
              "  .colab-df-spinner {\n",
              "    border: 2px solid var(--fill-color);\n",
              "    border-color: transparent;\n",
              "    border-bottom-color: var(--fill-color);\n",
              "    animation:\n",
              "      spin 1s steps(1) infinite;\n",
              "  }\n",
              "\n",
              "  @keyframes spin {\n",
              "    0% {\n",
              "      border-color: transparent;\n",
              "      border-bottom-color: var(--fill-color);\n",
              "      border-left-color: var(--fill-color);\n",
              "    }\n",
              "    20% {\n",
              "      border-color: transparent;\n",
              "      border-left-color: var(--fill-color);\n",
              "      border-top-color: var(--fill-color);\n",
              "    }\n",
              "    30% {\n",
              "      border-color: transparent;\n",
              "      border-left-color: var(--fill-color);\n",
              "      border-top-color: var(--fill-color);\n",
              "      border-right-color: var(--fill-color);\n",
              "    }\n",
              "    40% {\n",
              "      border-color: transparent;\n",
              "      border-right-color: var(--fill-color);\n",
              "      border-top-color: var(--fill-color);\n",
              "    }\n",
              "    60% {\n",
              "      border-color: transparent;\n",
              "      border-right-color: var(--fill-color);\n",
              "    }\n",
              "    80% {\n",
              "      border-color: transparent;\n",
              "      border-right-color: var(--fill-color);\n",
              "      border-bottom-color: var(--fill-color);\n",
              "    }\n",
              "    90% {\n",
              "      border-color: transparent;\n",
              "      border-bottom-color: var(--fill-color);\n",
              "    }\n",
              "  }\n",
              "</style>\n",
              "\n",
              "      <script>\n",
              "        async function quickchart(key) {\n",
              "          const quickchartButtonEl =\n",
              "            document.querySelector('#' + key + ' button');\n",
              "          quickchartButtonEl.disabled = true;  // To prevent multiple clicks.\n",
              "          quickchartButtonEl.classList.add('colab-df-spinner');\n",
              "          try {\n",
              "            const charts = await google.colab.kernel.invokeFunction(\n",
              "                'suggestCharts', [key], {});\n",
              "          } catch (error) {\n",
              "            console.error('Error during call to suggestCharts:', error);\n",
              "          }\n",
              "          quickchartButtonEl.classList.remove('colab-df-spinner');\n",
              "          quickchartButtonEl.classList.add('colab-df-quickchart-complete');\n",
              "        }\n",
              "        (() => {\n",
              "          let quickchartButtonEl =\n",
              "            document.querySelector('#df-0e00b001-42fe-403f-9947-ef64272c0808 button');\n",
              "          quickchartButtonEl.style.display =\n",
              "            google.colab.kernel.accessAllowed ? 'block' : 'none';\n",
              "        })();\n",
              "      </script>\n",
              "    </div>\n",
              "    </div>\n",
              "  </div>\n"
            ],
            "application/vnd.google.colaboratory.intrinsic+json": {
              "type": "dataframe",
              "variable_name": "df_aep"
            }
          },
          "metadata": {},
          "execution_count": 210
        }
      ],
      "source": [
        "# Считайте набор данных\n",
        "\n",
        "df_aep = pd.read_csv('AEP_hourly.csv')\n",
        "df_aep"
      ]
    },
    {
      "cell_type": "code",
      "execution_count": 187,
      "id": "7b6fba9b-6809-4115-b4ab-3345fffed84f",
      "metadata": {
        "id": "7b6fba9b-6809-4115-b4ab-3345fffed84f",
        "colab": {
          "base_uri": "https://localhost:8080/"
        },
        "outputId": "e62f9d94-b09d-43e2-96d8-f06bb3f784cb"
      },
      "outputs": [
        {
          "output_type": "stream",
          "name": "stdout",
          "text": [
            "<class 'pandas.core.frame.DataFrame'>\n",
            "RangeIndex: 121273 entries, 0 to 121272\n",
            "Data columns (total 2 columns):\n",
            " #   Column    Non-Null Count   Dtype  \n",
            "---  ------    --------------   -----  \n",
            " 0   Datetime  121273 non-null  object \n",
            " 1   AEP_MW    121273 non-null  float64\n",
            "dtypes: float64(1), object(1)\n",
            "memory usage: 1.9+ MB\n"
          ]
        }
      ],
      "source": [
        "# Признак Datetime имеет тип данных object\n",
        "# Необходимо изменить тип данных для Datetime\n",
        "\n",
        "df_aep.info()"
      ]
    },
    {
      "cell_type": "code",
      "execution_count": 211,
      "id": "b625832e",
      "metadata": {
        "id": "b625832e"
      },
      "outputs": [],
      "source": [
        "# Измените тип Datetime на datetime64[ns]\n",
        "\n",
        "df_aep['Datetime'] = pd.to_datetime(df_aep['Datetime'])"
      ]
    },
    {
      "cell_type": "code",
      "execution_count": 147,
      "id": "5bb7f614",
      "metadata": {
        "id": "5bb7f614",
        "colab": {
          "base_uri": "https://localhost:8080/"
        },
        "outputId": "0a5b4ec0-604a-4954-f1b6-50b706633e0b"
      },
      "outputs": [
        {
          "output_type": "stream",
          "name": "stdout",
          "text": [
            "<class 'pandas.core.frame.DataFrame'>\n",
            "RangeIndex: 121273 entries, 0 to 121272\n",
            "Data columns (total 2 columns):\n",
            " #   Column    Non-Null Count   Dtype         \n",
            "---  ------    --------------   -----         \n",
            " 0   Datetime  121273 non-null  datetime64[ns]\n",
            " 1   AEP_MW    121273 non-null  float64       \n",
            "dtypes: datetime64[ns](1), float64(1)\n",
            "memory usage: 1.9 MB\n"
          ]
        }
      ],
      "source": [
        "# Убедитесь, что тип данных Datetime — datetime64[ns]\n",
        "\n",
        "df_aep.info()"
      ]
    },
    {
      "cell_type": "code",
      "source": [
        "# в датасете встерчаются дубликаты по времени. удаляем строки с одной датой\n",
        "#df_aep = df_aep.sort_values(by='Datetime')\n",
        "#df_aep = df_aep.drop_duplicates(subset=['Datetime'])\n",
        "#df_aep = df_aep.reset_index(drop=True)"
      ],
      "metadata": {
        "id": "0gBWRURRL5W5"
      },
      "id": "0gBWRURRL5W5",
      "execution_count": 189,
      "outputs": []
    },
    {
      "cell_type": "code",
      "execution_count": 212,
      "id": "wPtcqhnc8MWj",
      "metadata": {
        "id": "wPtcqhnc8MWj",
        "colab": {
          "base_uri": "https://localhost:8080/",
          "height": 449
        },
        "outputId": "770b0bf3-9a6f-404c-aacb-cbea3429cfef"
      },
      "outputs": [
        {
          "output_type": "display_data",
          "data": {
            "text/plain": [
              "<Figure size 640x480 with 1 Axes>"
            ],
            "image/png": "[encoded data removed]"
          },
          "metadata": {}
        }
      ],
      "source": [
        "# Постройте гистограмму потребления электроэнергии\n",
        "\n",
        "df_aep['AEP_MW'].hist(bins=100)\n",
        "plt.xlabel('Почасовое потребление электроэнергии, МВт')\n",
        "plt.show()"
      ]
    },
    {
      "cell_type": "code",
      "execution_count": 213,
      "id": "fdfb2668-c9f2-4c96-b557-c394878a286d",
      "metadata": {
        "id": "fdfb2668-c9f2-4c96-b557-c394878a286d",
        "colab": {
          "base_uri": "https://localhost:8080/",
          "height": 369
        },
        "outputId": "c335af02-b9cd-4f08-8770-08780b5dcf69"
      },
      "outputs": [
        {
          "output_type": "display_data",
          "data": {
            "text/plain": [
              "<Figure size 1200x600 with 1 Axes>"
            ],
            "image/png": "[encoded data removed]"
          },
          "metadata": {}
        }
      ],
      "source": [
        "# Постройте график потребления электроэнергии\n",
        "\n",
        "df_aep.plot(x='Datetime', y='AEP_MW', figsize=(12, 6))\n",
        "plt.xlabel('Время')\n",
        "plt.ylabel('Почасовое потребление электроэнергии, МВт')\n",
        "plt.show()"
      ]
    },
    {
      "cell_type": "code",
      "execution_count": 214,
      "id": "57416f05",
      "metadata": {
        "id": "57416f05"
      },
      "outputs": [],
      "source": [
        "# Создайте признаки lag 1h и lag 24h\n",
        "# Подсказка: используйте shift\n",
        "\n",
        "df_aep['lag 1h'] = df_aep['AEP_MW'].shift(1)\n",
        "df_aep['lag 24h'] = df_aep['AEP_MW'].shift(24)"
      ]
    },
    {
      "cell_type": "code",
      "execution_count": 215,
      "id": "a9aae2be",
      "metadata": {
        "id": "a9aae2be"
      },
      "outputs": [],
      "source": [
        "# Создайте признаки mean 24h и mean 7d\n",
        "# Подсказка: используйте признак lag 1h и rolling\n",
        "\n",
        "df_aep['mean 24h'] = df_aep['lag 1h'].rolling(window=24).mean()\n",
        "df_aep['mean 7d'] = df_aep['lag 1h'].rolling(window=24*7).mean()"
      ]
    },
    {
      "cell_type": "code",
      "execution_count": 216,
      "id": "d5a81c85-8246-4f22-bfe1-8b1cb3716ce3",
      "metadata": {
        "id": "d5a81c85-8246-4f22-bfe1-8b1cb3716ce3"
      },
      "outputs": [],
      "source": [
        "# Закодируйте метку времени (Datetime) как временные компоненты\n",
        "\n",
        "df_aep['hour'] = df_aep[\"Datetime\"].dt.hour\n",
        "df_aep['weekday'] = df_aep[\"Datetime\"].dt.weekday\n",
        "df_aep['month'] = df_aep[\"Datetime\"].dt.month\n",
        "df_aep['day'] = df_aep[\"Datetime\"].dt.day\n",
        "df_aep['year'] = df_aep[\"Datetime\"].dt.year"
      ]
    },
    {
      "cell_type": "code",
      "execution_count": 217,
      "id": "8fb32202",
      "metadata": {
        "id": "8fb32202"
      },
      "outputs": [],
      "source": [
        "# Закодируйте метку времени (Datetime) как бинарный флаг is_weekend\n",
        "\n",
        "df_aep['is_weekend'] = df_aep[\"weekday\"].isin([5,6]) # sunday - 6, moday - 0"
      ]
    },
    {
      "cell_type": "code",
      "execution_count": 218,
      "id": "8c3960b0",
      "metadata": {
        "id": "8c3960b0"
      },
      "outputs": [],
      "source": [
        "# Закодируйте циклические переменные с помощью косинуса и синуса\n",
        "\n",
        "df_aep['hour_cos'] = np.cos(2*np.pi*df_aep['hour']/24)\n",
        "df_aep['hour_sin'] = np.sin(2*np.pi*df_aep['hour']/24)\n",
        "\n",
        "df_aep['day_cos'] = np.cos(2*np.pi*df_aep['day']/30)\n",
        "df_aep['day_sin'] = np.sin(2*np.pi*df_aep['day']/30)\n",
        "\n",
        "df_aep['weekday_cos'] = np.cos(2*np.pi*df_aep['weekday']/7)\n",
        "df_aep['weekday_sin'] = np.sin(2*np.pi*df_aep['weekday']/7)\n",
        "\n",
        "df_aep['month_cos'] = np.cos(2*np.pi*df_aep['month']/12)\n",
        "df_aep['month_sin'] = np.sin(2*np.pi*df_aep['month']/12)"
      ]
    },
    {
      "cell_type": "code",
      "execution_count": 219,
      "id": "6c206081",
      "metadata": {
        "id": "6c206081",
        "colab": {
          "base_uri": "https://localhost:8080/",
          "height": 808
        },
        "outputId": "18c9aef2-dd6d-435f-d2d0-23b74a9037cd"
      },
      "outputs": [
        {
          "output_type": "execute_result",
          "data": {
            "text/plain": [
              "                  Datetime   AEP_MW   lag 1h  lag 24h      mean 24h  \\\n",
              "0      2004-12-31 01:00:00  13478.0      NaN      NaN           NaN   \n",
              "1      2004-12-31 02:00:00  12865.0  13478.0      NaN           NaN   \n",
              "2      2004-12-31 03:00:00  12577.0  12865.0      NaN           NaN   \n",
              "3      2004-12-31 04:00:00  12517.0  12577.0      NaN           NaN   \n",
              "4      2004-12-31 05:00:00  12670.0  12517.0      NaN           NaN   \n",
              "...                    ...      ...      ...      ...           ...   \n",
              "121268 2018-01-01 20:00:00  21089.0  20925.0  21971.0  19747.958333   \n",
              "121269 2018-01-01 21:00:00  20999.0  21089.0  21942.0  19711.208333   \n",
              "121270 2018-01-01 22:00:00  20820.0  20999.0  21695.0  19671.916667   \n",
              "121271 2018-01-01 23:00:00  20415.0  20820.0  21230.0  19635.458333   \n",
              "121272 2018-01-02 00:00:00  19993.0  20415.0  20799.0  19601.500000   \n",
              "\n",
              "             mean 7d  hour  weekday  month  day  year  is_weekend  hour_cos  \\\n",
              "0                NaN     1        4     12   31  2004       False  0.965926   \n",
              "1                NaN     2        4     12   31  2004       False  0.866025   \n",
              "2                NaN     3        4     12   31  2004       False  0.707107   \n",
              "3                NaN     4        4     12   31  2004       False  0.500000   \n",
              "4                NaN     5        4     12   31  2004       False  0.258819   \n",
              "...              ...   ...      ...    ...  ...   ...         ...       ...   \n",
              "121268  20393.440476    20        0      1    1  2018       False  0.500000   \n",
              "121269  20407.464286    21        0      1    1  2018       False  0.707107   \n",
              "121270  20423.065476    22        0      1    1  2018       False  0.866025   \n",
              "121271  20441.000000    23        0      1    1  2018       False  0.965926   \n",
              "121272  20461.232143     0        1      1    2  2018       False  1.000000   \n",
              "\n",
              "        hour_sin   day_cos   day_sin  weekday_cos  weekday_sin  month_cos  \\\n",
              "0       0.258819  0.978148  0.207912    -0.900969    -0.433884   1.000000   \n",
              "1       0.500000  0.978148  0.207912    -0.900969    -0.433884   1.000000   \n",
              "2       0.707107  0.978148  0.207912    -0.900969    -0.433884   1.000000   \n",
              "3       0.866025  0.978148  0.207912    -0.900969    -0.433884   1.000000   \n",
              "4       0.965926  0.978148  0.207912    -0.900969    -0.433884   1.000000   \n",
              "...          ...       ...       ...          ...          ...        ...   \n",
              "121268 -0.866025  0.978148  0.207912     1.000000     0.000000   0.866025   \n",
              "121269 -0.707107  0.978148  0.207912     1.000000     0.000000   0.866025   \n",
              "121270 -0.500000  0.978148  0.207912     1.000000     0.000000   0.866025   \n",
              "121271 -0.258819  0.978148  0.207912     1.000000     0.000000   0.866025   \n",
              "121272  0.000000  0.913545  0.406737     0.623490     0.781831   0.866025   \n",
              "\n",
              "           month_sin  \n",
              "0      -2.449294e-16  \n",
              "1      -2.449294e-16  \n",
              "2      -2.449294e-16  \n",
              "3      -2.449294e-16  \n",
              "4      -2.449294e-16  \n",
              "...              ...  \n",
              "121268  5.000000e-01  \n",
              "121269  5.000000e-01  \n",
              "121270  5.000000e-01  \n",
              "121271  5.000000e-01  \n",
              "121272  5.000000e-01  \n",
              "\n",
              "[121273 rows x 20 columns]"
            ],
            "text/html": [
              "\n",
              "  <div id=\"df-968dc07d-7fff-42b7-be08-b6be543d64eb\" class=\"colab-df-container\">\n",
              "    <div>\n",
              "<style scoped>\n",
              "    .dataframe tbody tr th:only-of-type {\n",
              "        vertical-align: middle;\n",
              "    }\n",
              "\n",
              "    .dataframe tbody tr th {\n",
              "        vertical-align: top;\n",
              "    }\n",
              "\n",
              "    .dataframe thead th {\n",
              "        text-align: right;\n",
              "    }\n",
              "</style>\n",
              "<table border=\"1\" class=\"dataframe\">\n",
              "  <thead>\n",
              "    <tr style=\"text-align: right;\">\n",
              "      <th></th>\n",
              "      <th>Datetime</th>\n",
              "      <th>AEP_MW</th>\n",
              "      <th>lag 1h</th>\n",
              "      <th>lag 24h</th>\n",
              "      <th>mean 24h</th>\n",
              "      <th>mean 7d</th>\n",
              "      <th>hour</th>\n",
              "      <th>weekday</th>\n",
              "      <th>month</th>\n",
              "      <th>day</th>\n",
              "      <th>year</th>\n",
              "      <th>is_weekend</th>\n",
              "      <th>hour_cos</th>\n",
              "      <th>hour_sin</th>\n",
              "      <th>day_cos</th>\n",
              "      <th>day_sin</th>\n",
              "      <th>weekday_cos</th>\n",
              "      <th>weekday_sin</th>\n",
              "      <th>month_cos</th>\n",
              "      <th>month_sin</th>\n",
              "    </tr>\n",
              "  </thead>\n",
              "  <tbody>\n",
              "    <tr>\n",
              "      <th>0</th>\n",
              "      <td>2004-12-31 01:00:00</td>\n",
              "      <td>13478.0</td>\n",
              "      <td>NaN</td>\n",
              "      <td>NaN</td>\n",
              "      <td>NaN</td>\n",
              "      <td>NaN</td>\n",
              "      <td>1</td>\n",
              "      <td>4</td>\n",
              "      <td>12</td>\n",
              "      <td>31</td>\n",
              "      <td>2004</td>\n",
              "      <td>False</td>\n",
              "      <td>0.965926</td>\n",
              "      <td>0.258819</td>\n",
              "      <td>0.978148</td>\n",
              "      <td>0.207912</td>\n",
              "      <td>-0.900969</td>\n",
              "      <td>-0.433884</td>\n",
              "      <td>1.000000</td>\n",
              "      <td>-2.449294e-16</td>\n",
              "    </tr>\n",
              "    <tr>\n",
              "      <th>1</th>\n",
              "      <td>2004-12-31 02:00:00</td>\n",
              "      <td>12865.0</td>\n",
              "      <td>13478.0</td>\n",
              "      <td>NaN</td>\n",
              "      <td>NaN</td>\n",
              "      <td>NaN</td>\n",
              "      <td>2</td>\n",
              "      <td>4</td>\n",
              "      <td>12</td>\n",
              "      <td>31</td>\n",
              "      <td>2004</td>\n",
              "      <td>False</td>\n",
              "      <td>0.866025</td>\n",
              "      <td>0.500000</td>\n",
              "      <td>0.978148</td>\n",
              "      <td>0.207912</td>\n",
              "      <td>-0.900969</td>\n",
              "      <td>-0.433884</td>\n",
              "      <td>1.000000</td>\n",
              "      <td>-2.449294e-16</td>\n",
              "    </tr>\n",
              "    <tr>\n",
              "      <th>2</th>\n",
              "      <td>2004-12-31 03:00:00</td>\n",
              "      <td>12577.0</td>\n",
              "      <td>12865.0</td>\n",
              "      <td>NaN</td>\n",
              "      <td>NaN</td>\n",
              "      <td>NaN</td>\n",
              "      <td>3</td>\n",
              "      <td>4</td>\n",
              "      <td>12</td>\n",
              "      <td>31</td>\n",
              "      <td>2004</td>\n",
              "      <td>False</td>\n",
              "      <td>0.707107</td>\n",
              "      <td>0.707107</td>\n",
              "      <td>0.978148</td>\n",
              "      <td>0.207912</td>\n",
              "      <td>-0.900969</td>\n",
              "      <td>-0.433884</td>\n",
              "      <td>1.000000</td>\n",
              "      <td>-2.449294e-16</td>\n",
              "    </tr>\n",
              "    <tr>\n",
              "      <th>3</th>\n",
              "      <td>2004-12-31 04:00:00</td>\n",
              "      <td>12517.0</td>\n",
              "      <td>12577.0</td>\n",
              "      <td>NaN</td>\n",
              "      <td>NaN</td>\n",
              "      <td>NaN</td>\n",
              "      <td>4</td>\n",
              "      <td>4</td>\n",
              "      <td>12</td>\n",
              "      <td>31</td>\n",
              "      <td>2004</td>\n",
              "      <td>False</td>\n",
              "      <td>0.500000</td>\n",
              "      <td>0.866025</td>\n",
              "      <td>0.978148</td>\n",
              "      <td>0.207912</td>\n",
              "      <td>-0.900969</td>\n",
              "      <td>-0.433884</td>\n",
              "      <td>1.000000</td>\n",
              "      <td>-2.449294e-16</td>\n",
              "    </tr>\n",
              "    <tr>\n",
              "      <th>4</th>\n",
              "      <td>2004-12-31 05:00:00</td>\n",
              "      <td>12670.0</td>\n",
              "      <td>12517.0</td>\n",
              "      <td>NaN</td>\n",
              "      <td>NaN</td>\n",
              "      <td>NaN</td>\n",
              "      <td>5</td>\n",
              "      <td>4</td>\n",
              "      <td>12</td>\n",
              "      <td>31</td>\n",
              "      <td>2004</td>\n",
              "      <td>False</td>\n",
              "      <td>0.258819</td>\n",
              "      <td>0.965926</td>\n",
              "      <td>0.978148</td>\n",
              "      <td>0.207912</td>\n",
              "      <td>-0.900969</td>\n",
              "      <td>-0.433884</td>\n",
              "      <td>1.000000</td>\n",
              "      <td>-2.449294e-16</td>\n",
              "    </tr>\n",
              "    <tr>\n",
              "      <th>...</th>\n",
              "      <td>...</td>\n",
              "      <td>...</td>\n",
              "      <td>...</td>\n",
              "      <td>...</td>\n",
              "      <td>...</td>\n",
              "      <td>...</td>\n",
              "      <td>...</td>\n",
              "      <td>...</td>\n",
              "      <td>...</td>\n",
              "      <td>...</td>\n",
              "      <td>...</td>\n",
              "      <td>...</td>\n",
              "      <td>...</td>\n",
              "      <td>...</td>\n",
              "      <td>...</td>\n",
              "      <td>...</td>\n",
              "      <td>...</td>\n",
              "      <td>...</td>\n",
              "      <td>...</td>\n",
              "      <td>...</td>\n",
              "    </tr>\n",
              "    <tr>\n",
              "      <th>121268</th>\n",
              "      <td>2018-01-01 20:00:00</td>\n",
              "      <td>21089.0</td>\n",
              "      <td>20925.0</td>\n",
              "      <td>21971.0</td>\n",
              "      <td>19747.958333</td>\n",
              "      <td>20393.440476</td>\n",
              "      <td>20</td>\n",
              "      <td>0</td>\n",
              "      <td>1</td>\n",
              "      <td>1</td>\n",
              "      <td>2018</td>\n",
              "      <td>False</td>\n",
              "      <td>0.500000</td>\n",
              "      <td>-0.866025</td>\n",
              "      <td>0.978148</td>\n",
              "      <td>0.207912</td>\n",
              "      <td>1.000000</td>\n",
              "      <td>0.000000</td>\n",
              "      <td>0.866025</td>\n",
              "      <td>5.000000e-01</td>\n",
              "    </tr>\n",
              "    <tr>\n",
              "      <th>121269</th>\n",
              "      <td>2018-01-01 21:00:00</td>\n",
              "      <td>20999.0</td>\n",
              "      <td>21089.0</td>\n",
              "      <td>21942.0</td>\n",
              "      <td>19711.208333</td>\n",
              "      <td>20407.464286</td>\n",
              "      <td>21</td>\n",
              "      <td>0</td>\n",
              "      <td>1</td>\n",
              "      <td>1</td>\n",
              "      <td>2018</td>\n",
              "      <td>False</td>\n",
              "      <td>0.707107</td>\n",
              "      <td>-0.707107</td>\n",
              "      <td>0.978148</td>\n",
              "      <td>0.207912</td>\n",
              "      <td>1.000000</td>\n",
              "      <td>0.000000</td>\n",
              "      <td>0.866025</td>\n",
              "      <td>5.000000e-01</td>\n",
              "    </tr>\n",
              "    <tr>\n",
              "      <th>121270</th>\n",
              "      <td>2018-01-01 22:00:00</td>\n",
              "      <td>20820.0</td>\n",
              "      <td>20999.0</td>\n",
              "      <td>21695.0</td>\n",
              "      <td>19671.916667</td>\n",
              "      <td>20423.065476</td>\n",
              "      <td>22</td>\n",
              "      <td>0</td>\n",
              "      <td>1</td>\n",
              "      <td>1</td>\n",
              "      <td>2018</td>\n",
              "      <td>False</td>\n",
              "      <td>0.866025</td>\n",
              "      <td>-0.500000</td>\n",
              "      <td>0.978148</td>\n",
              "      <td>0.207912</td>\n",
              "      <td>1.000000</td>\n",
              "      <td>0.000000</td>\n",
              "      <td>0.866025</td>\n",
              "      <td>5.000000e-01</td>\n",
              "    </tr>\n",
              "    <tr>\n",
              "      <th>121271</th>\n",
              "      <td>2018-01-01 23:00:00</td>\n",
              "      <td>20415.0</td>\n",
              "      <td>20820.0</td>\n",
              "      <td>21230.0</td>\n",
              "      <td>19635.458333</td>\n",
              "      <td>20441.000000</td>\n",
              "      <td>23</td>\n",
              "      <td>0</td>\n",
              "      <td>1</td>\n",
              "      <td>1</td>\n",
              "      <td>2018</td>\n",
              "      <td>False</td>\n",
              "      <td>0.965926</td>\n",
              "      <td>-0.258819</td>\n",
              "      <td>0.978148</td>\n",
              "      <td>0.207912</td>\n",
              "      <td>1.000000</td>\n",
              "      <td>0.000000</td>\n",
              "      <td>0.866025</td>\n",
              "      <td>5.000000e-01</td>\n",
              "    </tr>\n",
              "    <tr>\n",
              "      <th>121272</th>\n",
              "      <td>2018-01-02 00:00:00</td>\n",
              "      <td>19993.0</td>\n",
              "      <td>20415.0</td>\n",
              "      <td>20799.0</td>\n",
              "      <td>19601.500000</td>\n",
              "      <td>20461.232143</td>\n",
              "      <td>0</td>\n",
              "      <td>1</td>\n",
              "      <td>1</td>\n",
              "      <td>2</td>\n",
              "      <td>2018</td>\n",
              "      <td>False</td>\n",
              "      <td>1.000000</td>\n",
              "      <td>0.000000</td>\n",
              "      <td>0.913545</td>\n",
              "      <td>0.406737</td>\n",
              "      <td>0.623490</td>\n",
              "      <td>0.781831</td>\n",
              "      <td>0.866025</td>\n",
              "      <td>5.000000e-01</td>\n",
              "    </tr>\n",
              "  </tbody>\n",
              "</table>\n",
              "<p>121273 rows × 20 columns</p>\n",
              "</div>\n",
              "    <div class=\"colab-df-buttons\">\n",
              "\n",
              "  <div class=\"colab-df-container\">\n",
              "    <button class=\"colab-df-convert\" onclick=\"convertToInteractive('df-968dc07d-7fff-42b7-be08-b6be543d64eb')\"\n",
              "            title=\"Convert this dataframe to an interactive table.\"\n",
              "            style=\"display:none;\">\n",
              "\n",
              "  <svg xmlns=\"http://www.w3.org/2000/svg\" height=\"24px\" viewBox=\"0 -960 960 960\">\n",
              "    <path d=\"M120-120v-720h720v720H120Zm60-500h600v-160H180v160Zm220 220h160v-160H400v160Zm0 220h160v-160H400v160ZM180-400h160v-160H180v160Zm440 0h160v-160H620v160ZM180-180h160v-160H180v160Zm440 0h160v-160H620v160Z\"/>\n",
              "  </svg>\n",
              "    </button>\n",
              "\n",
              "  <style>\n",
              "    .colab-df-container {\n",
              "      display:flex;\n",
              "      gap: 12px;\n",
              "    }\n",
              "\n",
              "    .colab-df-convert {\n",
              "      background-color: #E8F0FE;\n",
              "      border: none;\n",
              "      border-radius: 50%;\n",
              "      cursor: pointer;\n",
              "      display: none;\n",
              "      fill: #1967D2;\n",
              "      height: 32px;\n",
              "      padding: 0 0 0 0;\n",
              "      width: 32px;\n",
              "    }\n",
              "\n",
              "    .colab-df-convert:hover {\n",
              "      background-color: #E2EBFA;\n",
              "      box-shadow: 0px 1px 2px rgba(60, 64, 67, 0.3), 0px 1px 3px 1px rgba(60, 64, 67, 0.15);\n",
              "      fill: #174EA6;\n",
              "    }\n",
              "\n",
              "    .colab-df-buttons div {\n",
              "      margin-bottom: 4px;\n",
              "    }\n",
              "\n",
              "    [theme=dark] .colab-df-convert {\n",
              "      background-color: #3B4455;\n",
              "      fill: #D2E3FC;\n",
              "    }\n",
              "\n",
              "    [theme=dark] .colab-df-convert:hover {\n",
              "      background-color: #434B5C;\n",
              "      box-shadow: 0px 1px 3px 1px rgba(0, 0, 0, 0.15);\n",
              "      filter: drop-shadow(0px 1px 2px rgba(0, 0, 0, 0.3));\n",
              "      fill: #FFFFFF;\n",
              "    }\n",
              "  </style>\n",
              "\n",
              "    <script>\n",
              "      const buttonEl =\n",
              "        document.querySelector('#df-968dc07d-7fff-42b7-be08-b6be543d64eb button.colab-df-convert');\n",
              "      buttonEl.style.display =\n",
              "        google.colab.kernel.accessAllowed ? 'block' : 'none';\n",
              "\n",
              "      async function convertToInteractive(key) {\n",
              "        const element = document.querySelector('#df-968dc07d-7fff-42b7-be08-b6be543d64eb');\n",
              "        const dataTable =\n",
              "          await google.colab.kernel.invokeFunction('convertToInteractive',\n",
              "                                                    [key], {});\n",
              "        if (!dataTable) return;\n",
              "\n",
              "        const docLinkHtml = 'Like what you see? Visit the ' +\n",
              "          '<a target=\"_blank\" href=https://colab.research.google.com/notebooks/data_table.ipynb>data table notebook</a>'\n",
              "          + ' to learn more about interactive tables.';\n",
              "        element.innerHTML = '';\n",
              "        dataTable['output_type'] = 'display_data';\n",
              "        await google.colab.output.renderOutput(dataTable, element);\n",
              "        const docLink = document.createElement('div');\n",
              "        docLink.innerHTML = docLinkHtml;\n",
              "        element.appendChild(docLink);\n",
              "      }\n",
              "    </script>\n",
              "  </div>\n",
              "\n",
              "\n",
              "    <div id=\"df-00dc72f1-709f-4ef2-b301-0a6015f3e3d6\">\n",
              "      <button class=\"colab-df-quickchart\" onclick=\"quickchart('df-00dc72f1-709f-4ef2-b301-0a6015f3e3d6')\"\n",
              "                title=\"Suggest charts\"\n",
              "                style=\"display:none;\">\n",
              "\n",
              "<svg xmlns=\"http://www.w3.org/2000/svg\" height=\"24px\"viewBox=\"0 0 24 24\"\n",
              "     width=\"24px\">\n",
              "    <g>\n",
              "        <path d=\"M19 3H5c-1.1 0-2 .9-2 2v14c0 1.1.9 2 2 2h14c1.1 0 2-.9 2-2V5c0-1.1-.9-2-2-2zM9 17H7v-7h2v7zm4 0h-2V7h2v10zm4 0h-2v-4h2v4z\"/>\n",
              "    </g>\n",
              "</svg>\n",
              "      </button>\n",
              "\n",
              "<style>\n",
              "  .colab-df-quickchart {\n",
              "      --bg-color: #E8F0FE;\n",
              "      --fill-color: #1967D2;\n",
              "      --hover-bg-color: #E2EBFA;\n",
              "      --hover-fill-color: #174EA6;\n",
              "      --disabled-fill-color: #AAA;\n",
              "      --disabled-bg-color: #DDD;\n",
              "  }\n",
              "\n",
              "  [theme=dark] .colab-df-quickchart {\n",
              "      --bg-color: #3B4455;\n",
              "      --fill-color: #D2E3FC;\n",
              "      --hover-bg-color: #434B5C;\n",
              "      --hover-fill-color: #FFFFFF;\n",
              "      --disabled-bg-color: #3B4455;\n",
              "      --disabled-fill-color: #666;\n",
              "  }\n",
              "\n",
              "  .colab-df-quickchart {\n",
              "    background-color: var(--bg-color);\n",
              "    border: none;\n",
              "    border-radius: 50%;\n",
              "    cursor: pointer;\n",
              "    display: none;\n",
              "    fill: var(--fill-color);\n",
              "    height: 32px;\n",
              "    padding: 0;\n",
              "    width: 32px;\n",
              "  }\n",
              "\n",
              "  .colab-df-quickchart:hover {\n",
              "    background-color: var(--hover-bg-color);\n",
              "    box-shadow: 0 1px 2px rgba(60, 64, 67, 0.3), 0 1px 3px 1px rgba(60, 64, 67, 0.15);\n",
              "    fill: var(--button-hover-fill-color);\n",
              "  }\n",
              "\n",
              "  .colab-df-quickchart-complete:disabled,\n",
              "  .colab-df-quickchart-complete:disabled:hover {\n",
              "    background-color: var(--disabled-bg-color);\n",
              "    fill: var(--disabled-fill-color);\n",
              "    box-shadow: none;\n",
              "  }\n",
              "\n",
              "  .colab-df-spinner {\n",
              "    border: 2px solid var(--fill-color);\n",
              "    border-color: transparent;\n",
              "    border-bottom-color: var(--fill-color);\n",
              "    animation:\n",
              "      spin 1s steps(1) infinite;\n",
              "  }\n",
              "\n",
              "  @keyframes spin {\n",
              "    0% {\n",
              "      border-color: transparent;\n",
              "      border-bottom-color: var(--fill-color);\n",
              "      border-left-color: var(--fill-color);\n",
              "    }\n",
              "    20% {\n",
              "      border-color: transparent;\n",
              "      border-left-color: var(--fill-color);\n",
              "      border-top-color: var(--fill-color);\n",
              "    }\n",
              "    30% {\n",
              "      border-color: transparent;\n",
              "      border-left-color: var(--fill-color);\n",
              "      border-top-color: var(--fill-color);\n",
              "      border-right-color: var(--fill-color);\n",
              "    }\n",
              "    40% {\n",
              "      border-color: transparent;\n",
              "      border-right-color: var(--fill-color);\n",
              "      border-top-color: var(--fill-color);\n",
              "    }\n",
              "    60% {\n",
              "      border-color: transparent;\n",
              "      border-right-color: var(--fill-color);\n",
              "    }\n",
              "    80% {\n",
              "      border-color: transparent;\n",
              "      border-right-color: var(--fill-color);\n",
              "      border-bottom-color: var(--fill-color);\n",
              "    }\n",
              "    90% {\n",
              "      border-color: transparent;\n",
              "      border-bottom-color: var(--fill-color);\n",
              "    }\n",
              "  }\n",
              "</style>\n",
              "\n",
              "      <script>\n",
              "        async function quickchart(key) {\n",
              "          const quickchartButtonEl =\n",
              "            document.querySelector('#' + key + ' button');\n",
              "          quickchartButtonEl.disabled = true;  // To prevent multiple clicks.\n",
              "          quickchartButtonEl.classList.add('colab-df-spinner');\n",
              "          try {\n",
              "            const charts = await google.colab.kernel.invokeFunction(\n",
              "                'suggestCharts', [key], {});\n",
              "          } catch (error) {\n",
              "            console.error('Error during call to suggestCharts:', error);\n",
              "          }\n",
              "          quickchartButtonEl.classList.remove('colab-df-spinner');\n",
              "          quickchartButtonEl.classList.add('colab-df-quickchart-complete');\n",
              "        }\n",
              "        (() => {\n",
              "          let quickchartButtonEl =\n",
              "            document.querySelector('#df-00dc72f1-709f-4ef2-b301-0a6015f3e3d6 button');\n",
              "          quickchartButtonEl.style.display =\n",
              "            google.colab.kernel.accessAllowed ? 'block' : 'none';\n",
              "        })();\n",
              "      </script>\n",
              "    </div>\n",
              "    </div>\n",
              "  </div>\n"
            ],
            "application/vnd.google.colaboratory.intrinsic+json": {
              "type": "dataframe",
              "variable_name": "df_aep"
            }
          },
          "metadata": {},
          "execution_count": 219
        }
      ],
      "source": [
        "# Датасет после создания признаков\n",
        "\n",
        "df_aep"
      ]
    },
    {
      "cell_type": "code",
      "execution_count": 220,
      "id": "90b52319",
      "metadata": {
        "id": "90b52319"
      },
      "outputs": [],
      "source": [
        "# Удалите строки с пропущенными значениями\n",
        "# Пропущенные значения появились после создания лаговых признаков и скользящих средних\n",
        "\n",
        "df_aep = df_aep.dropna()"
      ]
    },
    {
      "cell_type": "code",
      "execution_count": 221,
      "id": "8978ae5f",
      "metadata": {
        "id": "8978ae5f"
      },
      "outputs": [],
      "source": [
        "# Выделите объясняемый фактор в отдельную переменную\n",
        "# Также удалите метку времени (Datetime) из объясняющих переменных\n",
        "\n",
        "X_aep, y_aep = df_aep.drop(columns=['Datetime', 'AEP_MW']), df_aep['AEP_MW']"
      ]
    },
    {
      "cell_type": "code",
      "execution_count": 222,
      "id": "7e7bc1d4",
      "metadata": {
        "id": "7e7bc1d4"
      },
      "outputs": [],
      "source": [
        "# Разделите датасет на обучающую и тестовую выборки:\n",
        "#   Обучающая выборка — все данные ранее 2017 года\n",
        "#   Тестовая выборка  — все данные за 2017 год и позже\n",
        "train_mask = X_aep['year'] < 2017\n",
        "X_aep_train = X_aep[train_mask]\n",
        "y_aep_train = y_aep[train_mask]\n",
        "\n",
        "X_aep_test = X_aep[~train_mask]\n",
        "y_aep_test = y_aep[~train_mask]"
      ]
    },
    {
      "cell_type": "code",
      "execution_count": 223,
      "id": "89956c50",
      "metadata": {
        "id": "89956c50"
      },
      "outputs": [],
      "source": [
        "# Масштабируйте все признаки\n",
        "#   train -> fit_transform\n",
        "#   test -> transform\n",
        "\n",
        "aep_scaler = StandardScaler().set_output(transform='pandas')\n",
        "\n",
        "X_aep_train_scaled = aep_scaler.fit_transform(X_aep_train)\n",
        "X_aep_test_scaled = aep_scaler.transform(X_aep_test)"
      ]
    },
    {
      "cell_type": "code",
      "execution_count": 224,
      "id": "26e9a776",
      "metadata": {
        "id": "26e9a776"
      },
      "outputs": [],
      "source": [
        "# На обучающей выборке подберите оптимальные гиперпараметры обучения Ridge с помощью кросс-валидации временных рядов\n",
        "# Используйте TimeSeriesSplit и GridSearchCV\n",
        "# Не забудьте зафиксировать RANDOM_STATE\n",
        "\n",
        "params = {\n",
        "    'alpha': [0.001, 0.01, 0.05, 0.1, 0.5, 1.0, 5.0, 10.0]\n",
        "}\n",
        "scoring = 'neg_mean_squared_error'\n",
        "cv = 10\n",
        "\n",
        "tscv = TimeSeriesSplit(n_splits=cv)\n",
        "\n",
        "cv_ridge_aep = GridSearchCV(\n",
        "    estimator=Ridge(random_state=RANDOM_STATE),\n",
        "    param_grid=params,\n",
        "    scoring=scoring,\n",
        "    cv=tscv,\n",
        "    n_jobs=-1\n",
        ").fit(X_aep_train_scaled, y_aep_train)"
      ]
    },
    {
      "cell_type": "code",
      "execution_count": 226,
      "id": "e2a922a2",
      "metadata": {
        "id": "e2a922a2",
        "colab": {
          "base_uri": "https://localhost:8080/"
        },
        "outputId": "bc758fb4-36d2-4a31-ed26-e4ba51cec1e3"
      },
      "outputs": [
        {
          "output_type": "execute_result",
          "data": {
            "text/plain": [
              "490.35901588499405"
            ]
          },
          "metadata": {},
          "execution_count": 226
        }
      ],
      "source": [
        "# Рассчитайте лучшее среднее значение RMSE по результатам кросс-валидации\n",
        "\n",
        "(-cv_ridge_aep.best_score_)**0.5"
      ]
    },
    {
      "cell_type": "code",
      "execution_count": 229,
      "id": "b8b9e5d3",
      "metadata": {
        "id": "b8b9e5d3",
        "colab": {
          "base_uri": "https://localhost:8080/"
        },
        "outputId": "51640401-756e-4c6a-e616-13c2ad92beb0"
      },
      "outputs": [
        {
          "output_type": "stream",
          "name": "stdout",
          "text": [
            "R2 score: 0.9630\n",
            "RMSE: 462.4050\n",
            "MAPE: 0.0226\n"
          ]
        }
      ],
      "source": [
        "# Обучите ridge_aep с оптимальными гиперпараметрами на всей обучающей выборке и выведите metrics_report на тестовой выборке\n",
        "\n",
        "ridge_aep = cv_ridge_aep.best_estimator_\n",
        "metrics_report(y_aep_test, ridge_aep.predict(X_aep_test_scaled))"
      ]
    },
    {
      "cell_type": "markdown",
      "id": "709e0680",
      "metadata": {
        "id": "709e0680"
      },
      "source": [
        "### **Отбор признаков**\n",
        "\n",
        "**Отбор признаков** (feature selection) — это процесс выбора наиболее информативных переменных из исходного набора данных. Такой подход позволяет упростить модель, сократить время обучения, повысить точность и уменьшить переобучение. Существует три основные группы методов: фильтры, обёртки и встроенные методы.\n",
        "\n",
        "**Фильтры (filter methods)**\n",
        "\n",
        "Фильтры оценивают важность признаков на основе статистических критериев независимо от используемой модели машинного обучения. Признаки оцениваются по отдельности, а затем выбирается подмножество признаков, которые лучше всего коррелируют с целевой переменной.\n",
        "\n",
        "Такие методы просты в реализации и быстры, но не учитывают взаимодействие между признаками и специфику модели.\n",
        "\n",
        "Примеры методов:\n",
        "\n",
        "* Корреляционный анализ.\n",
        "\n",
        "* Критерий $\\chi^2$ (хи-квадрат).\n",
        "\n",
        "* ANOVA F-тест.\n",
        "\n",
        "**Обёртки (wrapper methods)**\n",
        "\n",
        "Обёртки используют модели для оценки качества различных подмножеств признаков. Эти методы перебирают различные комбинации признаков, обучают модель и сравнивают качество прогнозов.\n",
        "\n",
        "Такие методы способны учитывать взаимодействие признаков и специфику модели, но вычислительно затратны.\n",
        "\n",
        "Примеры методов:\n",
        "\n",
        "* SFS (Sequential Forward Selection). Отбор начинается с пустого множества признаков. На каждом шаге к текущему набору добавляется тот признак, который при включении даёт наибольшее улучшение качества модели. Процесс продолжается до тех пор, когда не будет достигнут заданный размер подмножества или когда дальнейшее добавление признаков не будет улучшать качество.\n",
        "\n",
        "* SBS (Sequential Backward Selection). Отбор начинается со всех признаков. На каждом шаге удаляется тот признак, чьё исключение меньше всего ухудшает качество модели. Процесс повторяется, пока не останется заданное число признаков.\n",
        "\n",
        "* RFE (Recursive Feature Elimination). Отбор осуществляется на основе коэффициентов или важности признаков в обученной модели путем удаления наименее значимого признака. Процесс повторяется рекурсивно, пока не останется заданное количество признаков.\n",
        "\n",
        "**Встроенные методы (embedded methods)**\n",
        "\n",
        "Встроенные методы производят отбор признаков непосредственно в процессе обучения модели: используются внутренние механизмы модели для определения важности признаков.\n",
        "\n",
        "Встроенные методы сочетают преимущества фильтрующих (скорость) и оберточных (учет специфики модели) методов.\n",
        "\n",
        "Примеры методов:\n",
        "\n",
        "* L1-регуляризация (LASSO) для линейных моделей.\n",
        "\n",
        "* Feature Importance в деревьях решений и ансамблевых методах (Random Forest, Gradient Boosting).\n",
        "\n",
        "*На практике перечисленные методы могут комбинироваться. Например, сначала с помощью фильтра убираются малоинформативные признаки, а затем применяется обёртка для более точного отбора признаков.*\n",
        "\n",
        "Подробнее можно изучить по **ссылкам:**\n",
        "\n",
        "* [Comprehensive Guide on Feature Selection | kaggle.com](https://www.kaggle.com/code/prashant111/comprehensive-guide-on-feature-selection)\n",
        "\n",
        "* [Отбор признаков (Feature selection) | scikit-learn.ru](https://scikit-learn.ru/stable/modules/feature_selection.html#univariate-feature-selection)"
      ]
    },
    {
      "cell_type": "markdown",
      "id": "d59d00da",
      "metadata": {
        "id": "d59d00da"
      },
      "source": [
        "### **Датасет *Company Bankruptcy Prediction***\n",
        "\n",
        "**Для решения задания 6 рассмотрим датасет [Company Bankruptcy Prediction](https://www.kaggle.com/datasets/fedesoriano/company-bankruptcy-prediction).**\n",
        "\n",
        "**ВНИМАНИЕ:** При решении задания **используйте файл bankruptcy.csv** из приложения к ноутбуку, поскольку исходный датасет был изменен авторами курса.\n",
        "\n",
        "Набор данных предназначен для выявления компаний с высоким риском банкротства на основе их финансовых показателей. Данные были собраны из базы данных компании Taiwan Economic Journal за период с 1999 по 2009 годы.\n",
        "\n",
        "Целевая переменная — Bankrupt? (банкротство компании):\n",
        "\n",
        "0 — в течение рассматриваемого периода компания работала без признаков банкротства.\n",
        "\n",
        "1 — компания обанкротилась в течение рассматриваемого периода.\n",
        "\n",
        "В датасете содержатся 95 различных показателей финансового состояния компаний, значения которых были предварительно стандартизированы.\n",
        "\n",
        "Одной из особенностей набора данных является дисбаланс классов в целевой переменной: только 3.22% от числа компаний в выборке были признаны банкротами за указанный период."
      ]
    },
    {
      "cell_type": "markdown",
      "id": "6cbad130",
      "metadata": {
        "id": "6cbad130"
      },
      "source": [
        "### ***Задание 6***\n",
        "\n",
        "Используя все признаки, обучите baseline модель логистической регрессии (LogisticRegression) `lr_bankr_baseline` с параметрами:\n",
        "\n",
        "* solver='liblinear' — алгоритм оптимизации, который поддерживает L1 и L2 регуляризации.\n",
        "\n",
        "* class_weight='balanced' — корректировка веса классов обратно пропорционально их частотам в обучающем наборе данных.\n",
        "\n",
        "* random_state=RANDOM_STATE.\n",
        "\n",
        "*Baseline — это базовая модель, которая используется как отправная точка для оценки и сравнения более продвинутых моделей в задачах машинного обучения.*\n",
        "\n",
        "Выполните отбор признаков тремя методами и обучите модели на оптимальном наборе признаков:\n",
        "\n",
        "* **Фильтр: ANOVA F-тест (SelectKBest).**\n",
        "\n",
        "    1. Постройте пайплайн `bankr_kbest_pipeline`:\n",
        "\n",
        "        1. 'selector': [SelectKBest](https://scikit-learn.org/stable/modules/generated/sklearn.feature_selection.SelectKBest.html)([f_classif](https://scikit-learn.org/stable/modules/generated/sklearn.feature_selection.f_classif.html)) — выбирает k лучших признаков на основе оценки ANOVA F-теста.\n",
        "\n",
        "        2. 'clf': LogisticRegression с теми же параметрами, что и baseline модель.\n",
        "\n",
        "    2. С помощью GridSearchCV и пайплайна `bankr_kbest_pipeline` подберите на обучающей выборке оптимальное количество признаков $k_{\\text{KBest}}$, где $k_{\\text{KBest}}$ — число от 1 до 40.\n",
        "\n",
        "    3. На оптимальном наборе из $k_{\\text{KBest}}$ признаков на всей обучающей выборке обучите модель (пайплайн) `lr_bankr_kbest` с теми же параметрами, что и baseline модель.\n",
        "\n",
        "* **Обёртка: SFS (SequentialFeatureSelector).**\n",
        "\n",
        "    1. Используя [SequentialFeatureSelector](https://rasbt.github.io/mlxtend/api_subpackages/mlxtend.feature_selection/#sequentialfeatureselector) из библиотеки mlxtend, подберите на обучающей выборке оптимальный набор из $k_{\\text{SFS}}$ признаков, где $k_{\\text{SFS}}$ — число от 1 до 40.\n",
        "\n",
        "    2. На оптимальном наборе из $k_{\\text{SFS}}$ признаков на всей обучающей выборке обучите модель `lr_bankr_sfs` с теми же параметрами, что и baseline модель.\n",
        "\n",
        "* **Встроенный метод: L1 регуляризация.**\n",
        "\n",
        "    1. С помощью GridSearchCV подберите на обучающей выборке значение оптимального гиперпараметра регуляризации C для **логистической регрессии с L1 регуляризацией** (остальные параметры те же, что и в baseline модели).\n",
        "\n",
        "    2. На всей обучающей выборке обучите модель с L1 регуляризацией `lr_bankr_l1`, в качестве параметров используя оптимальный гиперпараметр регуляризации и те же параметры, что и в baseline модели.\n",
        "\n",
        "Для обученных моделей `lr_bankr_kbest`, `lr_bankr_sfs` и `lr_bankr_l1` определите количество отобранных признаков k.\n",
        "\n",
        "На тестовой выборке для всех моделей, включая baseline (`lr_bankr`, `lr_bankr_kbest`, `lr_bankr_sfs` и `lr_bankr_l1`), постройте  отчёты по метрикам классификации, рассчитайте метрики f1 и AUC."
      ]
    },
    {
      "cell_type": "code",
      "execution_count": null,
      "id": "2ae1c30b",
      "metadata": {
        "id": "2ae1c30b"
      },
      "outputs": [],
      "source": [
        "# Считайте данные\n",
        "\n",
        "df_bankr = pd.read_csv('bankruptcy.csv')\n",
        "df_bankr"
      ]
    },
    {
      "cell_type": "code",
      "execution_count": null,
      "id": "194067d7",
      "metadata": {
        "id": "194067d7"
      },
      "outputs": [],
      "source": [
        "# Всего в датасете 95 признаков (без учета целевой переменной)\n",
        "# Пропущенные значения отсутствуют\n",
        "\n",
        "df_bankr.info()"
      ]
    },
    {
      "cell_type": "code",
      "execution_count": null,
      "id": "634951c6",
      "metadata": {
        "id": "634951c6"
      },
      "outputs": [],
      "source": [
        "# В датасете присутствует дисбаланс классов\n",
        "\n",
        "df_bankr['Bankrupt?'].value_counts(normalize=True)"
      ]
    },
    {
      "cell_type": "code",
      "execution_count": null,
      "id": "72907b3e",
      "metadata": {
        "id": "72907b3e"
      },
      "outputs": [],
      "source": [
        "# Выделите объясняемый фактор в отдельную переменную\n",
        "\n",
        "X_bankr, y_bankr = ..."
      ]
    },
    {
      "cell_type": "code",
      "execution_count": null,
      "id": "507a8578",
      "metadata": {
        "id": "507a8578"
      },
      "outputs": [],
      "source": [
        "# Разделите датасет на обучающую (60%) и тестовую (40%) выборки со стратификацией по целевой переменной\n",
        "# Не забудьте зафиксировать RANDOM_STATE\n",
        "\n",
        "X_bankr_train, X_bankr_test, y_bankr_train, y_bankr_test = ..."
      ]
    },
    {
      "cell_type": "code",
      "execution_count": null,
      "id": "0ee7a1fd",
      "metadata": {
        "id": "0ee7a1fd"
      },
      "outputs": [],
      "source": [
        "# Обучите baseline модель lr_bankr_baseline\n",
        "# Не забудьте зафиксировать RANDOM_STATE\n",
        "\n",
        "lr_bankr_baseline = LogisticRegression(random_state=RANDOM_STATE, solver='liblinear', class_weight='balanced')\n",
        "..."
      ]
    },
    {
      "cell_type": "code",
      "execution_count": null,
      "id": "93e51c4e",
      "metadata": {
        "id": "93e51c4e"
      },
      "outputs": [],
      "source": [
        "# Постройте отчет по метрикам классификации для модели lr_bankr на тестовой выборке\n",
        "\n",
        "..."
      ]
    },
    {
      "cell_type": "code",
      "execution_count": null,
      "id": "6c9fbe10",
      "metadata": {
        "id": "6c9fbe10"
      },
      "outputs": [],
      "source": [
        "# Посчитайте f1 для модели lr_bankr_baseline на тестовой выборке\n",
        "\n",
        "..."
      ]
    },
    {
      "cell_type": "code",
      "execution_count": null,
      "id": "e2ca71c1",
      "metadata": {
        "id": "e2ca71c1"
      },
      "outputs": [],
      "source": [
        "# Посчитайте AUC для модели lr_bankr_baseline на тестовой выборке\n",
        "\n",
        "..."
      ]
    },
    {
      "cell_type": "code",
      "execution_count": null,
      "id": "e5cb9470",
      "metadata": {
        "id": "e5cb9470"
      },
      "outputs": [],
      "source": [
        "# Постройте пайплайн bankr_kbest_pipeline (см. задание)\n",
        "# Не забудьте зафиксировать RANDOM_STATE\n",
        "\n",
        "bankr_kbest_pipeline = Pipeline([\n",
        "    ('selector', ...),\n",
        "    ('clf', ...)\n",
        "])"
      ]
    },
    {
      "cell_type": "code",
      "execution_count": null,
      "id": "837d1f72",
      "metadata": {
        "id": "837d1f72"
      },
      "outputs": [],
      "source": [
        "# С помощью GridSearchCV и bankr_kbest_pipeline подберите на обучающей выборке оптимальное количество признаков\n",
        "\n",
        "params = {\n",
        "    ...: range(1, 40)\n",
        "}\n",
        "scoring = 'f1'\n",
        "cv = 5\n",
        "\n",
        "cv_lr_bankr_kbest = GridSearchCV(\n",
        "    estimator=...,\n",
        "    param_grid=...,\n",
        "    scoring=...,\n",
        "    cv=...,\n",
        "    n_jobs=-1\n",
        ").fit(...)"
      ]
    },
    {
      "cell_type": "code",
      "execution_count": null,
      "id": "aecdea1a",
      "metadata": {
        "id": "aecdea1a"
      },
      "outputs": [],
      "source": [
        "# Выведите оптимальное количество признаков для bankr_kbest_pipeline\n",
        "\n",
        "..."
      ]
    },
    {
      "cell_type": "code",
      "execution_count": null,
      "id": "92ae1ab3",
      "metadata": {
        "id": "92ae1ab3"
      },
      "outputs": [],
      "source": [
        "# На наборе из оптимального числа признаков на всей обучающей выборке обучите модель lr_bankr_kbest\n",
        "\n",
        "lr_bankr_kbest = ..."
      ]
    },
    {
      "cell_type": "code",
      "execution_count": null,
      "id": "b48dd5ae",
      "metadata": {
        "id": "b48dd5ae"
      },
      "outputs": [],
      "source": [
        "# Постройте отчет по метрикам классификации для модели lr_bankr_kbest на тестовой выборке\n",
        "\n",
        "..."
      ]
    },
    {
      "cell_type": "code",
      "execution_count": null,
      "id": "11e45b04",
      "metadata": {
        "id": "11e45b04"
      },
      "outputs": [],
      "source": [
        "# Посчитайте f1 для модели lr_bankr_kbest на тестовой выборке\n",
        "\n",
        "..."
      ]
    },
    {
      "cell_type": "code",
      "execution_count": null,
      "id": "79d2fb9d",
      "metadata": {
        "id": "79d2fb9d"
      },
      "outputs": [],
      "source": [
        "# Посчитайте AUC для модели lr_bankr_kbest на тестовой выборке\n",
        "\n",
        "..."
      ]
    },
    {
      "cell_type": "code",
      "execution_count": null,
      "id": "b87db29d",
      "metadata": {
        "id": "b87db29d"
      },
      "outputs": [],
      "source": [
        "# Используя SequentialFeatureSelector, подберите на обучающей выборке оптимальный набор признаков\n",
        "# Не забудьте зафиксировать RANDOM_STATE\n",
        "\n",
        "bankr_sfs = SequentialFeatureSelector(\n",
        "    estimator=...,\n",
        "    k_features=...,\n",
        "    forward=True,\n",
        "    floating=False,\n",
        "    scoring='f1',\n",
        "    cv=5,\n",
        "    n_jobs=-1\n",
        ").fit(...)"
      ]
    },
    {
      "cell_type": "code",
      "execution_count": null,
      "id": "be6fb255",
      "metadata": {
        "id": "be6fb255"
      },
      "outputs": [],
      "source": [
        "# Выведите оптимальное количество признаков после SFS\n",
        "\n",
        "..."
      ]
    },
    {
      "cell_type": "code",
      "execution_count": null,
      "id": "69993580",
      "metadata": {
        "id": "69993580"
      },
      "outputs": [],
      "source": [
        "# Создайте новые выборки с оптимальными признаками после SFS\n",
        "\n",
        "X_bankr_train_sfs = ...\n",
        "X_bankr_test_sfs = ..."
      ]
    },
    {
      "cell_type": "code",
      "execution_count": null,
      "id": "c38920c9",
      "metadata": {
        "id": "c38920c9"
      },
      "outputs": [],
      "source": [
        "# На оптимальном наборе признаков на всей обучающей выборке обучите модель lr_bankr_sfs\n",
        "# Не забудьте зафиксировать RANDOM_STATE\n",
        "\n",
        "lr_bankr_sfs = ..."
      ]
    },
    {
      "cell_type": "code",
      "execution_count": null,
      "id": "dd8e6d84",
      "metadata": {
        "id": "dd8e6d84"
      },
      "outputs": [],
      "source": [
        "# Постройте отчет по метрикам классификации для модели lr_bankr_sfs на тестовой выборке\n",
        "\n",
        "..."
      ]
    },
    {
      "cell_type": "code",
      "execution_count": null,
      "id": "8f375b22",
      "metadata": {
        "id": "8f375b22"
      },
      "outputs": [],
      "source": [
        "# Посчитайте f1 для модели lr_bankr_sfs на тестовой выборке\n",
        "\n",
        "..."
      ]
    },
    {
      "cell_type": "code",
      "execution_count": null,
      "id": "7f350e76",
      "metadata": {
        "id": "7f350e76"
      },
      "outputs": [],
      "source": [
        "# Посчитайте AUC для модели lr_bankr_sfs на тестовой выборке\n",
        "\n",
        "..."
      ]
    },
    {
      "cell_type": "code",
      "execution_count": null,
      "id": "adc4e831",
      "metadata": {
        "id": "adc4e831"
      },
      "outputs": [],
      "source": [
        "# С помощью GridSearchCV подберите на обучающей выборке значение оптимального гиперпараметра регуляризации C\n",
        "# Не забудьте зафиксировать RANDOM_STATE\n",
        "\n",
        "estimator = LogisticRegression(..., penalty='l1')\n",
        "params = {'C' : [0.001, 0.005, 0.01, 0.05, 0.1, 0.5]}\n",
        "cv = 5\n",
        "scoring = 'f1'\n",
        "\n",
        "cv_lr_bankr_l1 = ..."
      ]
    },
    {
      "cell_type": "code",
      "execution_count": null,
      "id": "2e280426",
      "metadata": {
        "id": "2e280426"
      },
      "outputs": [],
      "source": [
        "# На всей обучающей выборке обучите модель с L1 регуляризацией lr_bankr_l1\n",
        "# Не забудьте зафиксировать RANDOM_STATE\n",
        "\n",
        "lr_bankr_l1 = ..."
      ]
    },
    {
      "cell_type": "code",
      "execution_count": null,
      "id": "4b65b153",
      "metadata": {
        "id": "4b65b153"
      },
      "outputs": [],
      "source": [
        "# Выведите количество отобранных признаков (признаков, регрессионный коэффициент при которых не равен 0) в lr_bankr_l1\n",
        "\n",
        "..."
      ]
    },
    {
      "cell_type": "code",
      "execution_count": null,
      "id": "02278dfd",
      "metadata": {
        "id": "02278dfd"
      },
      "outputs": [],
      "source": [
        "# Постройте отчет по метрикам классификации для модели lr_bankr_l1 на тестовой выборке\n",
        "\n",
        "..."
      ]
    },
    {
      "cell_type": "code",
      "execution_count": null,
      "id": "e4e4a633",
      "metadata": {
        "id": "e4e4a633"
      },
      "outputs": [],
      "source": [
        "# Посчитайте f1 для модели lr_bankr_l1 на тестовой выборке\n",
        "\n",
        "..."
      ]
    },
    {
      "cell_type": "code",
      "execution_count": null,
      "id": "2ecfeecf",
      "metadata": {
        "id": "2ecfeecf"
      },
      "outputs": [],
      "source": [
        "# Посчитайте AUC для модели lr_bankr_l1 на тестовой выборке\n",
        "\n",
        "..."
      ]
    }
  ],
  "metadata": {
    "colab": {
      "provenance": [],
      "include_colab_link": true
    },
    "kernelspec": {
      "display_name": "ml-course",
      "language": "python",
      "name": "python3"
    },
    "language_info": {
      "codemirror_mode": {
        "name": "ipython",
        "version": 3
      },
      "file_extension": ".py",
      "mimetype": "text/x-python",
      "name": "python",
      "nbconvert_exporter": "python",
      "pygments_lexer": "ipython3",
      "version": "3.11.11"
    }
  },
  "nbformat": 4,
  "nbformat_minor": 5
}