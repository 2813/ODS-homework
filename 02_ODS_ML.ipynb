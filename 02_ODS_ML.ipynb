{
  "cells": [
    {
      "cell_type": "markdown",
      "metadata": {
        "id": "view-in-github",
        "colab_type": "text"
      },
      "source": [
        "<a href=\"https://colab.research.google.com/github/2813/ODS-homework/blob/main/02_ODS_ML.ipynb\" target=\"_parent\"><img src=\"https://colab.research.google.com/assets/colab-badge.svg\" alt=\"Open In Colab\"/></a>"
      ]
    },
    {
      "cell_type": "markdown",
      "metadata": {
        "id": "Q7wRNLJ0NS_X"
      },
      "source": [
        "# **Логистическая регрессия. Метрики качества**"
      ]
    },
    {
      "cell_type": "markdown",
      "metadata": {
        "id": "k9RJxf1dNS_a"
      },
      "source": [
        "## **Подготовка для работы в Google Colab или Kaggle**"
      ]
    },
    {
      "cell_type": "markdown",
      "metadata": {
        "id": "ZN0uJkiTNS_a"
      },
      "source": [
        "#### Код для подключения Google Drive в Colab"
      ]
    },
    {
      "cell_type": "code",
      "execution_count": null,
      "metadata": {
        "id": "HQUghtrTNS_a"
      },
      "outputs": [],
      "source": [
        "from google.colab import drive\n",
        "drive.mount('/content/drive')"
      ]
    },
    {
      "cell_type": "markdown",
      "metadata": {
        "id": "PnyQ8MXHNS_b"
      },
      "source": [
        "#### Код для получения пути к файлам в Kaggle"
      ]
    },
    {
      "cell_type": "code",
      "execution_count": null,
      "metadata": {
        "id": "T5cAHSSvNS_b"
      },
      "outputs": [],
      "source": [
        "import os\n",
        "for dirname, _, filenames in os.walk('/kaggle/input'):\n",
        "    for filename in filenames:\n",
        "        print(os.path.join(dirname, filename))"
      ]
    },
    {
      "cell_type": "markdown",
      "metadata": {
        "id": "9nwUX_eZNS_c"
      },
      "source": [
        "#### Код для установки библиотек"
      ]
    },
    {
      "cell_type": "code",
      "execution_count": null,
      "metadata": {
        "colab": {
          "base_uri": "https://localhost:8080/",
          "height": 1000
        },
        "id": "kD_XEeedNS_c",
        "outputId": "5b634ffe-e349-40c7-ca03-97bf2f31e591",
        "collapsed": true
      },
      "outputs": [
        {
          "output_type": "stream",
          "name": "stdout",
          "text": [
            "Collecting numpy==1.26.4\n",
            "  Downloading numpy-1.26.4-cp312-cp312-manylinux_2_17_x86_64.manylinux2014_x86_64.whl.metadata (61 kB)\n",
            "\u001b[?25l     \u001b[90m━━━━━━━━━━━━━━━━━━━━━━━━━━━━━━━━━━━━━━━━\u001b[0m \u001b[32m0.0/61.0 kB\u001b[0m \u001b[31m?\u001b[0m eta \u001b[36m-:--:--\u001b[0m\r\u001b[2K     \u001b[90m━━━━━━━━━━━━━━━━━━━━━━━━━━━━━━━━━━━━━━━━\u001b[0m \u001b[32m61.0/61.0 kB\u001b[0m \u001b[31m2.1 MB/s\u001b[0m eta \u001b[36m0:00:00\u001b[0m\n",
            "\u001b[?25hCollecting pandas==2.1.4\n",
            "  Downloading pandas-2.1.4-cp312-cp312-manylinux_2_17_x86_64.manylinux2014_x86_64.whl.metadata (18 kB)\n",
            "Collecting scikit-learn==1.7.0\n",
            "  Downloading scikit_learn-1.7.0-cp312-cp312-manylinux_2_17_x86_64.manylinux2014_x86_64.whl.metadata (17 kB)\n",
            "Collecting statsmodels==0.14.4\n",
            "  Downloading statsmodels-0.14.4-cp312-cp312-manylinux_2_17_x86_64.manylinux2014_x86_64.whl.metadata (9.2 kB)\n",
            "Collecting matplotlib==3.8.0\n",
            "  Downloading matplotlib-3.8.0-cp312-cp312-manylinux_2_17_x86_64.manylinux2014_x86_64.whl.metadata (5.8 kB)\n",
            "Requirement already satisfied: seaborn==0.13.2 in /usr/local/lib/python3.12/dist-packages (0.13.2)\n",
            "Requirement already satisfied: python-dateutil>=2.8.2 in /usr/local/lib/python3.12/dist-packages (from pandas==2.1.4) (2.9.0.post0)\n",
            "Requirement already satisfied: pytz>=2020.1 in /usr/local/lib/python3.12/dist-packages (from pandas==2.1.4) (2025.2)\n",
            "Requirement already satisfied: tzdata>=2022.1 in /usr/local/lib/python3.12/dist-packages (from pandas==2.1.4) (2025.2)\n",
            "Requirement already satisfied: scipy>=1.8.0 in /usr/local/lib/python3.12/dist-packages (from scikit-learn==1.7.0) (1.16.2)\n",
            "Requirement already satisfied: joblib>=1.2.0 in /usr/local/lib/python3.12/dist-packages (from scikit-learn==1.7.0) (1.5.2)\n",
            "Requirement already satisfied: threadpoolctl>=3.1.0 in /usr/local/lib/python3.12/dist-packages (from scikit-learn==1.7.0) (3.6.0)\n",
            "Requirement already satisfied: patsy>=0.5.6 in /usr/local/lib/python3.12/dist-packages (from statsmodels==0.14.4) (1.0.1)\n",
            "Requirement already satisfied: packaging>=21.3 in /usr/local/lib/python3.12/dist-packages (from statsmodels==0.14.4) (25.0)\n",
            "Requirement already satisfied: contourpy>=1.0.1 in /usr/local/lib/python3.12/dist-packages (from matplotlib==3.8.0) (1.3.3)\n",
            "Requirement already satisfied: cycler>=0.10 in /usr/local/lib/python3.12/dist-packages (from matplotlib==3.8.0) (0.12.1)\n",
            "Requirement already satisfied: fonttools>=4.22.0 in /usr/local/lib/python3.12/dist-packages (from matplotlib==3.8.0) (4.60.1)\n",
            "Requirement already satisfied: kiwisolver>=1.0.1 in /usr/local/lib/python3.12/dist-packages (from matplotlib==3.8.0) (1.4.9)\n",
            "Requirement already satisfied: pillow>=6.2.0 in /usr/local/lib/python3.12/dist-packages (from matplotlib==3.8.0) (11.3.0)\n",
            "Requirement already satisfied: pyparsing>=2.3.1 in /usr/local/lib/python3.12/dist-packages (from matplotlib==3.8.0) (3.2.5)\n",
            "Requirement already satisfied: six>=1.5 in /usr/local/lib/python3.12/dist-packages (from python-dateutil>=2.8.2->pandas==2.1.4) (1.17.0)\n",
            "Downloading numpy-1.26.4-cp312-cp312-manylinux_2_17_x86_64.manylinux2014_x86_64.whl (18.0 MB)\n",
            "\u001b[2K   \u001b[90m━━━━━━━━━━━━━━━━━━━━━━━━━━━━━━━━━━━━━━━━\u001b[0m \u001b[32m18.0/18.0 MB\u001b[0m \u001b[31m95.7 MB/s\u001b[0m eta \u001b[36m0:00:00\u001b[0m\n",
            "\u001b[?25hDownloading pandas-2.1.4-cp312-cp312-manylinux_2_17_x86_64.manylinux2014_x86_64.whl (11.7 MB)\n",
            "\u001b[2K   \u001b[90m━━━━━━━━━━━━━━━━━━━━━━━━━━━━━━━━━━━━━━━━\u001b[0m \u001b[32m11.7/11.7 MB\u001b[0m \u001b[31m92.6 MB/s\u001b[0m eta \u001b[36m0:00:00\u001b[0m\n",
            "\u001b[?25hDownloading scikit_learn-1.7.0-cp312-cp312-manylinux_2_17_x86_64.manylinux2014_x86_64.whl (12.5 MB)\n",
            "\u001b[2K   \u001b[90m━━━━━━━━━━━━━━━━━━━━━━━━━━━━━━━━━━━━━━━━\u001b[0m \u001b[32m12.5/12.5 MB\u001b[0m \u001b[31m100.9 MB/s\u001b[0m eta \u001b[36m0:00:00\u001b[0m\n",
            "\u001b[?25hDownloading statsmodels-0.14.4-cp312-cp312-manylinux_2_17_x86_64.manylinux2014_x86_64.whl (10.7 MB)\n",
            "\u001b[2K   \u001b[90m━━━━━━━━━━━━━━━━━━━━━━━━━━━━━━━━━━━━━━━━\u001b[0m \u001b[32m10.7/10.7 MB\u001b[0m \u001b[31m104.2 MB/s\u001b[0m eta \u001b[36m0:00:00\u001b[0m\n",
            "\u001b[?25hDownloading matplotlib-3.8.0-cp312-cp312-manylinux_2_17_x86_64.manylinux2014_x86_64.whl (11.6 MB)\n",
            "\u001b[2K   \u001b[90m━━━━━━━━━━━━━━━━━━━━━━━━━━━━━━━━━━━━━━━━\u001b[0m \u001b[32m11.6/11.6 MB\u001b[0m \u001b[31m94.9 MB/s\u001b[0m eta \u001b[36m0:00:00\u001b[0m\n",
            "\u001b[?25hInstalling collected packages: numpy, pandas, statsmodels, scikit-learn, matplotlib\n",
            "  Attempting uninstall: numpy\n",
            "    Found existing installation: numpy 2.0.2\n",
            "    Uninstalling numpy-2.0.2:\n",
            "      Successfully uninstalled numpy-2.0.2\n",
            "  Attempting uninstall: pandas\n",
            "    Found existing installation: pandas 2.2.2\n",
            "    Uninstalling pandas-2.2.2:\n",
            "      Successfully uninstalled pandas-2.2.2\n",
            "  Attempting uninstall: statsmodels\n",
            "    Found existing installation: statsmodels 0.14.5\n",
            "    Uninstalling statsmodels-0.14.5:\n",
            "      Successfully uninstalled statsmodels-0.14.5\n",
            "  Attempting uninstall: scikit-learn\n",
            "    Found existing installation: scikit-learn 1.6.1\n",
            "    Uninstalling scikit-learn-1.6.1:\n",
            "      Successfully uninstalled scikit-learn-1.6.1\n",
            "  Attempting uninstall: matplotlib\n",
            "    Found existing installation: matplotlib 3.10.0\n",
            "    Uninstalling matplotlib-3.10.0:\n",
            "      Successfully uninstalled matplotlib-3.10.0\n",
            "\u001b[31mERROR: pip's dependency resolver does not currently take into account all the packages that are installed. This behaviour is the source of the following dependency conflicts.\n",
            "google-colab 1.0.0 requires pandas==2.2.2, but you have pandas 2.1.4 which is incompatible.\n",
            "opencv-python-headless 4.12.0.88 requires numpy<2.3.0,>=2; python_version >= \"3.9\", but you have numpy 1.26.4 which is incompatible.\n",
            "xarray 2025.9.1 requires pandas>=2.2, but you have pandas 2.1.4 which is incompatible.\n",
            "opencv-contrib-python 4.12.0.88 requires numpy<2.3.0,>=2; python_version >= \"3.9\", but you have numpy 1.26.4 which is incompatible.\n",
            "opencv-python 4.12.0.88 requires numpy<2.3.0,>=2; python_version >= \"3.9\", but you have numpy 1.26.4 which is incompatible.\n",
            "plotnine 0.14.5 requires pandas>=2.2.0, but you have pandas 2.1.4 which is incompatible.\n",
            "mizani 0.13.5 requires pandas>=2.2.0, but you have pandas 2.1.4 which is incompatible.\n",
            "thinc 8.3.6 requires numpy<3.0.0,>=2.0.0, but you have numpy 1.26.4 which is incompatible.\u001b[0m\u001b[31m\n",
            "\u001b[0mSuccessfully installed matplotlib-3.8.0 numpy-1.26.4 pandas-2.1.4 scikit-learn-1.7.0 statsmodels-0.14.4\n"
          ]
        },
        {
          "output_type": "display_data",
          "data": {
            "application/vnd.colab-display-data+json": {
              "pip_warning": {
                "packages": [
                  "matplotlib",
                  "mpl_toolkits",
                  "numpy"
                ]
              },
              "id": "d3382dd9b6044c1c8682913ebe401865"
            }
          },
          "metadata": {}
        }
      ],
      "source": [
        "%pip install numpy==1.26.4 pandas==2.1.4 scikit-learn==1.7.0 statsmodels==0.14.4 matplotlib==3.8.0 seaborn==0.13.2"
      ]
    },
    {
      "cell_type": "markdown",
      "metadata": {
        "id": "gSNNVR-pNS_d"
      },
      "source": [
        "## **Важная информация**"
      ]
    },
    {
      "cell_type": "markdown",
      "metadata": {
        "id": "tirnGWbgNS_d"
      },
      "source": [
        "**Для правильного воспроизведения результатов** решения задач:\n",
        "\n",
        "* Рекомендуется придерживаться имеющего в заданиях кода в исходной последовательности. Для этого при решении задач **восстановите недостающие фрагменты кода, которые отмечены символом** `...` (Ellipsis)\n",
        "\n",
        "* Если класс, функция или метод предусматривает параметр random_state, всегда указывайте **random_state=RANDOM_STATE**\n",
        "\n",
        "* Для всех параметров (кроме random_state) класса, функции или метода **используйте значения по умолчанию, если иное не указано в задании**\n",
        "\n",
        "**Если скорость обучения слишком низкая**, рекомендуется следующее:\n",
        "\n",
        "* В модели или/и GridSearchCV поменяйте значение параметра n_jobs, который отвечает за параллелизм вычислений\n",
        "\n",
        "* Воспользуйтесь вычислительными ресурсами Google Colab или Kaggle\n",
        "\n",
        "***Использовать GPU не рекомендуется, поскольку результаты обучения некоторых моделей могут отличаться на CPU и GPU.***\n",
        "\n",
        "После выполнения каждого задания **ответьте на вопросы в тесте.**\n",
        "\n",
        "**ВНИМАНИЕ:** **После каждого нового запуска ноутбука** перед тем, как приступить к выполнению заданий, проверьте настройку виртуального окружения, выполнив код в ячейке ниже."
      ]
    },
    {
      "cell_type": "code",
      "execution_count": 1,
      "metadata": {
        "colab": {
          "base_uri": "https://localhost:8080/"
        },
        "id": "Kh9C6U2KNS_d",
        "outputId": "903de3c5-15a3-46db-875d-2488f4092c48"
      },
      "outputs": [
        {
          "output_type": "stream",
          "name": "stdout",
          "text": [
            "Компонент       | Требуется    | Установлено  | Соответствие\n",
            "--------------------------------------------------------------\n",
            "python          | 3.11.x       | 3.12.11      | x (требуется 3.11.x)\n",
            "numpy           | 1.26.4       | 2.0.2        | x (требуется 1.26.4)\n",
            "pandas          | 2.1.4        | 2.2.2        | x (требуется 2.1.4)\n",
            "scikit-learn    | 1.7.0        | 1.6.1        | x (требуется 1.7.0)\n",
            "statsmodels     | 0.14.4       | 0.14.5       | x (требуется 0.14.4)\n",
            "matplotlib      | 3.8.0        | 3.10.0       | x (требуется 3.8.0)\n",
            "seaborn         | 0.13.2       | 0.13.2       | ✓\n",
            "\n",
            "Результат проверки:  x\n",
            "ВНИМАНИЕ: Версии некоторых компонентов не соответствуют требованиям!\n",
            "Для решения проблемы обратитесь к инструкции по настройке виртуального окружения\n"
          ]
        }
      ],
      "source": [
        "# Код для проверки настройки виртуального окружения\n",
        "\n",
        "import sys\n",
        "from importlib.metadata import version\n",
        "\n",
        "required = {\n",
        "    'python': '3.11.x',\n",
        "    'numpy': '1.26.4',\n",
        "    'pandas': '2.1.4',\n",
        "    'scikit-learn': '1.7.0',\n",
        "    'statsmodels': '0.14.4',\n",
        "    'matplotlib': '3.8.0',\n",
        "    'seaborn': '0.13.2'\n",
        "}\n",
        "\n",
        "print(f'{\"Компонент\":<15} | {\"Требуется\":<12} | {\"Установлено\":<12} | {\"Соответствие\"}')\n",
        "print('-' * 62)\n",
        "\n",
        "environment_ok = True\n",
        "for lib, req_ver in required.items():\n",
        "    try:\n",
        "        if lib == 'python':\n",
        "            inst_ver = sys.version.split()[0]\n",
        "            status = '✓' if sys.version_info.major == 3 and sys.version_info.minor == 11 else f'x (требуется {req_ver})'\n",
        "        else:\n",
        "            inst_ver = version(lib)\n",
        "            if inst_ver == req_ver:\n",
        "                status = '✓'\n",
        "            else:\n",
        "                environment_ok = False\n",
        "                status = f'x (требуется {req_ver})'\n",
        "    except:\n",
        "        environment_ok = False\n",
        "        inst_ver = '-'\n",
        "        status = 'x (не установлена)'\n",
        "    print(f'{lib:<15} | {req_ver:<12} | {inst_ver:<12} | {status}')\n",
        "\n",
        "print('\\nРезультат проверки: ',\n",
        "      '✓\\nВсе версии соответствуют требованиям'\n",
        "      if environment_ok else\n",
        "      'x\\nВНИМАНИЕ: Версии некоторых компонентов не соответствуют требованиям!\\n'\n",
        "      'Для решения проблемы обратитесь к инструкции по настройке виртуального окружения')"
      ]
    },
    {
      "cell_type": "markdown",
      "metadata": {
        "id": "0nsy1JlLNS_d"
      },
      "source": [
        "## **Импорт библиотек и вспомогательные функции**"
      ]
    },
    {
      "cell_type": "code",
      "execution_count": 2,
      "metadata": {
        "id": "tpxet-ZYNS_d"
      },
      "outputs": [],
      "source": [
        "import warnings\n",
        "warnings.filterwarnings('ignore')"
      ]
    },
    {
      "cell_type": "code",
      "source": [
        "%pip install -U scipy statsmodels"
      ],
      "metadata": {
        "collapsed": true,
        "id": "LPxW7QVS2CAb"
      },
      "execution_count": null,
      "outputs": []
    },
    {
      "cell_type": "code",
      "execution_count": 3,
      "metadata": {
        "id": "qbmn-ifHNS_d"
      },
      "outputs": [],
      "source": [
        "import pandas as pd\n",
        "import numpy as np\n",
        "\n",
        "import seaborn as sns\n",
        "import matplotlib.pyplot as plt\n",
        "\n",
        "from sklearn.linear_model import LogisticRegression\n",
        "from sklearn.model_selection import train_test_split, GridSearchCV\n",
        "from sklearn.metrics import roc_auc_score, roc_curve, confusion_matrix, f1_score, precision_score, recall_score, accuracy_score, classification_report\n",
        "from sklearn.preprocessing import StandardScaler, OneHotEncoder\n",
        "from sklearn.calibration import calibration_curve\n",
        "from sklearn.compose import ColumnTransformer\n",
        "from sklearn.pipeline import Pipeline\n",
        "\n",
        "from statsmodels.regression.linear_model import OLS\n",
        "import statsmodels.api as sm"
      ]
    },
    {
      "cell_type": "code",
      "execution_count": 4,
      "metadata": {
        "id": "KOpQ28upNS_e"
      },
      "outputs": [],
      "source": [
        "RANDOM_STATE = 42"
      ]
    },
    {
      "cell_type": "code",
      "execution_count": 5,
      "metadata": {
        "id": "wiXiUnLtNS_e"
      },
      "outputs": [],
      "source": [
        "def ece_score(y_true, y_score, n_bins=10):\n",
        "    \"\"\"\n",
        "    Возвращает значение метрики ECE для предсказанных вероятностей.\n",
        "    Для расчета ECE используется метод равномерного (uniform) распределения бинов (интервалы бинов имеют равную длину).\n",
        "\n",
        "    Аргументы:\n",
        "        y_true (numpy.ndarray): Истинные значения целевой переменной.\n",
        "        y_score (numpy.ndarray): Предсказанные вероятности целевого класса.\n",
        "        n_bins (int): Количество бинов. По умолчанию — 10.\n",
        "\n",
        "    Возвращает:\n",
        "        float: Значение метрики ECE для предсказанных вероятностей.\n",
        "    \"\"\"\n",
        "    bins = np.linspace(0, 1, n_bins + 1)\n",
        "    bin_indices = np.digitize(y_score, bins, right=True)\n",
        "    ece = 0.0\n",
        "    for i in range(1, n_bins + 1):\n",
        "        bin_mask = (bin_indices == i)\n",
        "        bin_size = bin_mask.sum()\n",
        "        if bin_size > 0:\n",
        "            bin_confidence = y_score[bin_mask].mean()\n",
        "            bin_accuracy = y_true[bin_mask].mean()\n",
        "            ece += (bin_size / len(y_true)) * abs(bin_accuracy - bin_confidence)\n",
        "    return ece"
      ]
    },
    {
      "cell_type": "markdown",
      "metadata": {
        "id": "C14tLI5ZNS_e"
      },
      "source": [
        "## **Практическая часть**"
      ]
    },
    {
      "cell_type": "markdown",
      "metadata": {
        "id": "gX2aY2EbNS_e"
      },
      "source": [
        "### **Градиентный спуск**\n",
        "\n",
        "Градиентный спуск (Gradient Descent) — это итерационный алгоритм численной оптимизации, используемый для нахождения локального минимума дифференцируемой функции. В контексте машинного обучения этой функцией является функция потерь (Loss Function), которая количественно оценивает ошибку модели.\n",
        "\n",
        "Алгоритм градиентного спуска основан на свойстве градиента многомерной функции. Пусть $J$ — дифференцируемая функция, $\\theta$ — вектор параметров функции. Тогда:\n",
        "\n",
        "* Градиент $\\nabla J(\\theta)$, — это вектор, который указывает направление наискорейшего возрастания функции.\n",
        "\n",
        "* Антиградиент $-\\nabla J(\\theta)$ — это вектор, который указывает направление наискорейшего убывания функции.\n",
        "\n",
        "**Алгоритм градиентного спуска (для функции потерь $J(\\theta)$):**\n",
        "\n",
        "1. Инициализация. Выбирается начальное приближение для вектора параметров $\\theta_0$ (например, случайным образом).\n",
        "\n",
        "2. Итерационное обновление. На каждом шаге алгоритма $t$ вектор параметров $\\theta_t$ обновляется по следующему правилу:\n",
        "\n",
        "$$\\theta_{t+1} = \\theta_{t} - \\alpha \\nabla J(\\theta_t)$$\n",
        "\n",
        "где $\\theta_t$ — значение параметров на шаге $t$, $\\alpha$ — параметр скорости обучения (learning rate), $\\nabla J(\\theta_t)$ — градиент функции потерь, вычисленный в точке $\\theta_t$.\n",
        "\n",
        "3. Критерий остановки. Итерационное обновление повторяется до тех пор, пока норма градиента не станет достаточно малой (что указывает на достижение точки, близкой к минимуму), либо пока не будет достигнуто заданное максимальное количество итераций.\n",
        "\n",
        "Скорость обучения $\\alpha$ является критически важным параметром:\n",
        "\n",
        "* Если $\\alpha$ слишком мала, алгоритм будет сходиться очень медленно.\n",
        "\n",
        "* Если $\\alpha$ слишком велика, алгоритм может начать расходиться, постоянно увеличивая ошибку."
      ]
    },
    {
      "cell_type": "markdown",
      "metadata": {
        "id": "qdFeSVTSNS_e"
      },
      "source": [
        "### ***Задание 1***\n",
        "\n",
        "Пусть на отрезке $[-2; 2]$ задана функция $y(x)=x^4 + \\sin(x)$ (функция с одним параметром).\n",
        "\n",
        "Реализуйте простейший алгоритм градиентного спуска и найдите минимум функции `y_min`. Для нахождения минимума используйте параметры:\n",
        "\n",
        "* Начальное приближение (`x0`): 1.\n",
        "\n",
        "* Темп обучения (`learning_rate`): 0.1.\n",
        "\n",
        "* Количество итераций (`n_iter`): 1000.\n",
        "\n",
        "Рассчитайте оптимальный темп обучения — темп обучения, при котором алгоритм после первого же шага должен найти минимум функции `y_min`(начальное приближение `x0` — 1).\n",
        "\n",
        "Проверьте четыре значения темпа обучения на сходимость реализованного алгоритма (начальное приближение `x0` — 1, количество итераций `n_iter` — 1000): 0.4, 0.5, 0.6, 0.7."
      ]
    },
    {
      "cell_type": "code",
      "execution_count": null,
      "metadata": {
        "id": "saGCAs7HNS_e"
      },
      "outputs": [],
      "source": [
        "# Дополните функцию\n",
        "\n",
        "def func_y(x):\n",
        "    \"\"\"\n",
        "    Возвращает значение функции y в точке x.\n",
        "\n",
        "    Аргументы:\n",
        "        x (int|float): Значение параметра функции y.\n",
        "\n",
        "    Возвращает:\n",
        "        float: Значение функции y в точке x.\n",
        "    \"\"\"\n",
        "    return np.power(x, 4) + np.sin(x)"
      ]
    },
    {
      "cell_type": "code",
      "execution_count": null,
      "metadata": {
        "id": "RGQCoUWJNS_e"
      },
      "outputs": [],
      "source": [
        "# Дополните функцию gradient_y\n",
        "# Подсказка: используйте производную функции y(x)\n",
        "\n",
        "def gradient_y(x):\n",
        "    \"\"\"\n",
        "    Возвращает значение градиента функции y в точке x.\n",
        "\n",
        "    Аргументы:\n",
        "        x (int|float): Значение параметра функции y.\n",
        "\n",
        "    Возвращает:\n",
        "        float: Значение градиента функции y в точке x.\n",
        "    \"\"\"\n",
        "    return 4*np.power(x, 3) + np.cos(x)"
      ]
    },
    {
      "cell_type": "code",
      "execution_count": null,
      "metadata": {
        "colab": {
          "base_uri": "https://localhost:8080/",
          "height": 430
        },
        "id": "0NzLqf8JNS_e",
        "outputId": "710b0173-876e-4aae-d7a8-c2b007b1801c"
      },
      "outputs": [
        {
          "output_type": "display_data",
          "data": {
            "text/plain": [
              "<Figure size 640x480 with 1 Axes>"
            ],
            "image/png": "[encoded data removed]"
          },
          "metadata": {}
        }
      ],
      "source": [
        "# Постройте график функции y на отрезке [-2; 2]\n",
        "\n",
        "x = np.linspace(-2, 2, num=10000)\n",
        "y = func_y(x)\n",
        "\n",
        "plt.plot(x, y)\n",
        "plt.show()"
      ]
    },
    {
      "cell_type": "code",
      "execution_count": null,
      "metadata": {
        "id": "NQuHWmkPNS_e"
      },
      "outputs": [],
      "source": [
        "# Задайте параметры для нахождения минимума\n",
        "\n",
        "x0 = 1\n",
        "learning_rate = 0.1\n",
        "n_iter = 1000"
      ]
    },
    {
      "cell_type": "code",
      "source": [
        "# Для удобства рекомендуется реализовать градиентный спуск с помощью функции (не обязательно)\n",
        "def gr(x0, lr, n_iter=1000):\n",
        "  x_old = x0\n",
        "  for i in range(n_iter):\n",
        "    x_new = x_old - lr*gradient_y(x_old)\n",
        "    x_old = x_new\n",
        "    if i<7: print(f'{i}: x = {x_new:4f} f = {func_y(x_new):.4f}')\n",
        "  print(\"...\")\n",
        "  print(f'{i}: x = {x_new:4f} f = {func_y(x_new):.4f}')\n",
        "  return x_new, func_y(x_new)\n"
      ],
      "metadata": {
        "id": "F72UsKdGRP6E"
      },
      "execution_count": null,
      "outputs": []
    },
    {
      "cell_type": "code",
      "execution_count": null,
      "metadata": {
        "colab": {
          "base_uri": "https://localhost:8080/"
        },
        "id": "Hi5hkEGSNS_e",
        "outputId": "3039c9f7-ac96-40ff-82b2-75204fc191a5"
      },
      "outputs": [
        {
          "output_type": "stream",
          "name": "stdout",
          "text": [
            "0: x = 0.545970 f = 0.6081\n",
            "1: x = 0.395410 f = 0.4096\n",
            "2: x = 0.278397 f = 0.2808\n",
            "3: x = 0.173616 f = 0.1737\n",
            "4: x = 0.073026 f = 0.0730\n",
            "5: x = -0.026863 f = -0.0269\n",
            "6: x = -0.126819 f = -0.1262\n",
            "...\n",
            "999: x = -0.591985 f = -0.4352\n",
            "-0.5919847892393224 -0.4351967756964402\n"
          ]
        }
      ],
      "source": [
        "# Найдите минимум функции y\n",
        "\n",
        "x_min, y_min = gr(x0, learning_rate)\n",
        "print(x_min, y_min)"
      ]
    },
    {
      "cell_type": "code",
      "execution_count": null,
      "metadata": {
        "colab": {
          "base_uri": "https://localhost:8080/",
          "height": 430
        },
        "id": "RP9RuI57NS_e",
        "outputId": "bc174e84-8eaf-4f8a-92bc-d960e4817649"
      },
      "outputs": [
        {
          "output_type": "display_data",
          "data": {
            "text/plain": [
              "<Figure size 640x480 with 1 Axes>"
            ],
            "image/png": "[encoded data removed]"
          },
          "metadata": {}
        }
      ],
      "source": [
        "# Постройте график функции y на отрезке [-2; 2]\n",
        "# Дополните график точкой минимума\n",
        "\n",
        "plt.plot(x, y)\n",
        "plt.scatter(x=x_min, y=y_min, color='orange')\n",
        "plt.show()"
      ]
    },
    {
      "cell_type": "code",
      "execution_count": null,
      "metadata": {
        "colab": {
          "base_uri": "https://localhost:8080/"
        },
        "id": "Ehn2PfPxNS_f",
        "outputId": "20dbb824-e457-4039-8946-3251299f926d"
      },
      "outputs": [
        {
          "output_type": "execute_result",
          "data": {
            "text/plain": [
              "np.float64(0.35063409482266245)"
            ]
          },
          "metadata": {},
          "execution_count": 13
        }
      ],
      "source": [
        "# Рассчитайте оптимальный темп обучения\n",
        "# Начальное приближение (x0): 1\n",
        "#\n",
        "# x_min = 1 - lr_opt*gradient_y(1)\n",
        "\n",
        "lr_opt = (1 - x_min)/gradient_y(1)\n",
        "lr_opt\n"
      ]
    },
    {
      "cell_type": "code",
      "execution_count": null,
      "metadata": {
        "colab": {
          "base_uri": "https://localhost:8080/"
        },
        "id": "YF0FTiibNS_f",
        "outputId": "e873c76c-edf3-41c7-8579-77c448b405e2"
      },
      "outputs": [
        {
          "output_type": "stream",
          "name": "stdout",
          "text": [
            "lr: 0.4\n",
            "0: x = -0.816121 f = -0.2849\n",
            "1: x = -0.220414 f = -0.2163\n",
            "2: x = -0.593603 f = -0.4352\n",
            "3: x = -0.590511 f = -0.4352\n",
            "4: x = -0.593312 f = -0.4352\n",
            "5: x = -0.590778 f = -0.4352\n",
            "6: x = -0.593073 f = -0.4352\n",
            "...\n",
            "999: x = -0.591985 f = -0.4352\n",
            "lr: 0.5\n",
            "0: x = -1.270151 f = 1.6475\n",
            "1: x = 2.680010 f = 52.0330\n",
            "2: x = -35.370391 f = 1565163.2896\n",
            "3: x = 88466.259916 f = 61250645233143382016.0000\n",
            "4: x = -1384723289697053.750000 f = 3676647440642735299188338934112483147118769188310798364049408.0000\n",
            "5: x = 5310299130517408137861788449636907363967434752.000000 f = 795199215177308127844049086702549102940435809530177599929489336548563263529003747593439250590650385163846907419203876624384828675006938493758357305161261001232688629159228573898244096.0000\n",
            "6: x = -299493190734747932060161521967531072436525369165148869874876304175670154413671854633346667799638126317278373583979086317013795171425320960.000000 f = inf\n",
            "...\n",
            "999: x =  nan f = nan\n",
            "lr: 0.6\n",
            "0: x = -1.724181 f = 7.8493\n",
            "1: x = 10.669047 f = 12955.9928\n",
            "2: x = -2903.799670 f = 71099509773253.2344\n",
            "3: x = 58763976309.073303 f = 11924624161866672138644678079962800661200896.0000\n",
            "4: x = -487017723885052202458223634022400.000000 f = 56257323535301922099409580411490944725936199747614479809341829299835987602335595160966381424636440334767354291752062431047620493312.0000\n",
            "5: x = 277233393905376544506780968983118937291866627549936485563197364325965369987902996490125926566199296.000000 f = inf\n",
            "6: x = -51138486053848149018981202034470961213475415103061063939952891089232725035017573103351804637064455784520225955787196475193659233477397749820616376314663807511589688454023245910292273097395389658867702915824061707695560203576296419337331960857281130442318194098322010200486908291423063932464529408.000000 f = inf\n",
            "...\n",
            "999: x =  nan f = nan\n",
            "lr: 0.7\n",
            "0: x = -2.178212 f = 21.6902\n",
            "1: x = 27.158627 f = 544041.3944\n",
            "2: x = -56062.018680 f = 9878134316102701056.0000\n",
            "3: x = 493360330807697.312500 f = 59245709735447661187141928380219391863408947239512373723136.0000\n",
            "4: x = -336241032974160040291103452567138652993355776.000000 f = 12782118657492502371681085424760811474084293284682128352748577608325173839641402386656676789270122466577151698086309518082958919686618395537899847574420779868499897330005876670464.0000\n",
            "5: x = 106441298744551032170483921772016935904883271669333948477452342913594071363512450830408437969710541753411351264343614087786246885605376.000000 f = inf\n",
            "6: x = -inf f = nan\n",
            "...\n",
            "999: x =  nan f = nan\n"
          ]
        }
      ],
      "source": [
        "# Проверьте четыре значения темпа обучения на сходимость реализованного алгоритма\n",
        "# Начальное приближение (x0): 1\n",
        "# Количество итераций (n_iter): 1000.\n",
        "\n",
        "learning_rates = [0.4, 0.5, 0.6, 0.7]\n",
        "\n",
        "for l in learning_rates:\n",
        "  print(f'lr: {l}')\n",
        "  gr(1, l, 1000)"
      ]
    },
    {
      "cell_type": "code",
      "source": [
        "\n",
        "def gr_with_plot(x0, learning_rate, n_iter):\n",
        "    x = x0\n",
        "    history = []\n",
        "\n",
        "    for i in range(n_iter):\n",
        "        x_new = x - learning_rate * gradient_y(x)\n",
        "        history.append(x_new)\n",
        "\n",
        "        if abs(x_new - x) < 1e-10:\n",
        "            return x_new, history, True\n",
        "\n",
        "        x = x_new\n",
        "    return x, history, False\n",
        "\n",
        "\n",
        "for l in learning_rates:\n",
        "    print(f'lr: {l}')\n",
        "    final_x, history, converged = gr_with_plot(1, l, 1000)\n",
        "\n",
        "    if converged:\n",
        "        print(f\"  Сошлось за {len(history)} итераций, x = {final_x:.6f}\")\n",
        "    else:\n",
        "        print(f\"  Не сошлось, финальное x = {final_x:.6f}\")\n"
      ],
      "metadata": {
        "id": "YL-1gr6K4rSR",
        "colab": {
          "base_uri": "https://localhost:8080/"
        },
        "outputId": "caad70a3-63f1-46c2-901a-5487bea92eae"
      },
      "execution_count": null,
      "outputs": [
        {
          "output_type": "stream",
          "name": "stdout",
          "text": [
            "lr: 0.4\n",
            "  Сошлось за 178 итераций, x = -0.591985\n",
            "lr: 0.5\n",
            "  Не сошлось, финальное x = nan\n",
            "lr: 0.6\n",
            "  Не сошлось, финальное x = nan\n",
            "lr: 0.7\n",
            "  Не сошлось, финальное x = nan\n"
          ]
        }
      ]
    },
    {
      "cell_type": "markdown",
      "metadata": {
        "id": "pzhGMcSoNS_f"
      },
      "source": [
        "### **Датасет *Diabetes prediction dataset***\n",
        "\n",
        "**Для решения заданий 2 — 9 рассмотрим датасет [Diabetes prediction dataset](https://www.kaggle.com/datasets/iammustafatz/diabetes-prediction-dataset/data).**\n",
        "\n",
        "**ВНИМАНИЕ:** При решении заданий **используйте файл diabetes.csv** из приложения к ноутбуку, поскольку исходный датасет был изменен авторами курса.\n",
        "\n",
        "Набор данных предназначен для обучения и тестирования моделей бинарной классификации. Его основная цель — предсказать, есть ли у пациента диабет 2-го типа или нет. Набор данных включает в себя медицинские и демографические данные пациентов, а также информацию об их диабетическом статусе (положительный или отрицательный).\n",
        "\n",
        "Целевая переменная — diabetes (диабетический статус):\n",
        "\n",
        "* 1 — диагностирован диабет (**целевой класс**).\n",
        "\n",
        "* 0 — диабет не диагностирован.\n",
        "\n",
        "Датасет содержит признаки:\n",
        "\n",
        "* gender — пол.\n",
        "\n",
        "* age — возраст (в годах).\n",
        "\n",
        "* hypertension — наличие гипертонии.\n",
        "\n",
        "* heart_disease — наличие сердечно-сосудистых заболеваний.\n",
        "\n",
        "* bmi — индекс массы тела (BMI).\n",
        "\n",
        "* HbA1c_level — уровень гликированного гемоглобина.\n",
        "\n",
        "* blood_glucose_level — уровень глюкозы в крови."
      ]
    },
    {
      "cell_type": "markdown",
      "metadata": {
        "id": "440HuS25NS_f"
      },
      "source": [
        "### **Калибровочная кривая и ECE**\n",
        "\n",
        "**Калибровочная кривая (Calibration Curve)** — это инструмент для визуальной оценки того, насколько хорошо откалибрована модель. Она показывает соотношение между предсказанными вероятностями модели и фактической долей положительных исходов (реальным частотам положительных классов). На графике по оси X откладывается средняя предсказанная вероятность, а по оси Y — фактическая доля положительных классов.\n",
        "\n",
        "**ECE (Expected Calibration Error)** — это метрика, которая позволяет численно измерить ошибку калибровки.\n",
        "\n",
        "$$ECE=\\sum_{m=1}^{M}{\\frac{|B_m|}{n}{|acc(B_m) - conf(B_m)|}}$$\n",
        "\n",
        "где $M$ — количество бинов, $|B_m|$ — число предсказаний в бине $B_m$, $n$ — общее количество наблюдений, $acc(B_m)$ — доля истинных положительных результатов (эмпирическая вероятность) в бине $B_m$, $conf(B_m)$ — средняя предсказанная вероятность в бине $B_m$.\n",
        "\n",
        "При построении калибровочных кривых и расчёте ECE, все предсказания модели (например, из тестовой выборки) делятся на бины (группы) по уровню предсказанной вероятности. Как правило, используется метод равномерного (uniform) распределения бинов (интервалы бинов имеют равную длину). Например, в первый бин попадают все объекты с предсказанной вероятностью от 0 до 0.1, во второй — от 0.1 до 0.2, и так далее.\n",
        "\n",
        "Подробнее можно изучить по **ссылкам:**\n",
        "\n",
        "* [Калибровочные кривые | scikit-learn.ru](https://scikit-learn.ru/stable/modules/calibration.html#calibration-curve)\n",
        "\n",
        "* [Expected Calibration Error (ECE): A Step-by-Step Visual Explanation | towardsdatascience.com](https://towardsdatascience.com/expected-calibration-error-ece-a-step-by-step-visual-explanation-with-python-code-c3e9aa12937d/)\n"
      ]
    },
    {
      "cell_type": "markdown",
      "metadata": {
        "id": "5wV2q_YKNS_f"
      },
      "source": [
        "### **Когда использовать AUC, а когда — ECE**\n",
        "\n",
        "**AUC (Area Under the ROC Curve)** — это метрика качества ранжирования. Она показывает, насколько хорошо модель способна отличать один класс от другого, присваивая объектам положительного класса более высокие оценки, чем объектам отрицательного. Высокий AUC означает, что модель хорошо разделяет классы.\n",
        "\n",
        "**Использовать AUC следует, когда в решаемой задаче важен порядок объектов, а не точные значения вероятностей.**\n",
        "\n",
        "**ECE (Expected Calibration Error)** — это метрика качества вероятностей. Она оценивает, соответствуют ли предсказанные моделью вероятности реальным частотам событий. Низкий ECE означает, что модель надежна, и её вероятностям можно доверять.\n",
        "\n",
        "**Использовать ECE следует, когда в решаемой задаче важны точные вероятности, а цена ошибки высока.**"
      ]
    },
    {
      "cell_type": "markdown",
      "metadata": {
        "id": "RY-ffSCbNS_f"
      },
      "source": [
        "### ***Задание 2***\n",
        "\n",
        "Выполните предобработку датасета (см. код задания) и обучите три модели логистической регрессии (LogisticRegression) на обучающей выборке:\n",
        "\n",
        "* `lr_diab` — логистическая регрессия **без регуляризации** на данных **без масштабирования** (`X_diab_train`).\n",
        "\n",
        "* `lr_diab_def` — логистическая регрессия **с регуляризацией по умолчанию** на данных **с масштабированием** (`X_diab_train_scaled`).\n",
        "\n",
        "* `lr_diab_opt` — логистическая регрессия **с оптимальным гиперпараметром регуляризации** на данных **с масштабированием** (`X_diab_train_scaled`). Оптимальный гиперпараметр регуляризации подберите с помощью GridSearchCV.\n",
        "\n",
        "Сравните качество калибровки моделей **на тестовой выборке**. Для этого постройте калибровочные кривые (функция [calibration_curve](https://scikit-learn.org/stable/modules/generated/sklearn.calibration.calibration_curve.html)) и посчитайте метрику ECE (функция ece_score) для каждой из обученных моделей. На основе значения ECE выберите модель с наилучшей калибровкой.\n",
        "\n",
        "Сравните значение метрики AUC **на тестовой выборке** для обученных моделей."
      ]
    },
    {
      "cell_type": "code",
      "execution_count": 6,
      "metadata": {
        "colab": {
          "base_uri": "https://localhost:8080/",
          "height": 423
        },
        "collapsed": true,
        "id": "sVlVCvdwNS_f",
        "outputId": "af2f5788-1c41-4867-a7a8-5955286db342"
      },
      "outputs": [
        {
          "output_type": "execute_result",
          "data": {
            "text/plain": [
              "       gender   age hypertension heart_disease    bmi  HbA1c_level  \\\n",
              "0      Female  57.0           No            No  18.87          4.8   \n",
              "1      Female  39.0           No            No  27.32          6.1   \n",
              "2      Female  15.0           No            No  38.72          5.7   \n",
              "3      Female  60.0           No            No  25.10          5.7   \n",
              "4        Male  12.0           No            No  17.26          4.5   \n",
              "...       ...   ...          ...           ...    ...          ...   \n",
              "99977  Female  38.0           No            No  32.84          4.0   \n",
              "99978    Male  17.0           No            No  25.26          5.0   \n",
              "99979    Male   2.0           No            No  27.32          5.0   \n",
              "99980  Female  80.0           No            No  20.54          6.6   \n",
              "99981  Female  43.0           No            No  20.83          6.2   \n",
              "\n",
              "       blood_glucose_level  diabetes  \n",
              "0                      140         0  \n",
              "1                      130         0  \n",
              "2                      159         0  \n",
              "3                      140         0  \n",
              "4                      126         0  \n",
              "...                    ...       ...  \n",
              "99977                  155         0  \n",
              "99978                  155         0  \n",
              "99979                   90         0  \n",
              "99980                  140         0  \n",
              "99981                  140         0  \n",
              "\n",
              "[99982 rows x 8 columns]"
            ],
            "text/html": [
              "\n",
              "  <div id=\"df-dc98a84f-a515-40e1-bbf0-a2607dc1d932\" class=\"colab-df-container\">\n",
              "    <div>\n",
              "<style scoped>\n",
              "    .dataframe tbody tr th:only-of-type {\n",
              "        vertical-align: middle;\n",
              "    }\n",
              "\n",
              "    .dataframe tbody tr th {\n",
              "        vertical-align: top;\n",
              "    }\n",
              "\n",
              "    .dataframe thead th {\n",
              "        text-align: right;\n",
              "    }\n",
              "</style>\n",
              "<table border=\"1\" class=\"dataframe\">\n",
              "  <thead>\n",
              "    <tr style=\"text-align: right;\">\n",
              "      <th></th>\n",
              "      <th>gender</th>\n",
              "      <th>age</th>\n",
              "      <th>hypertension</th>\n",
              "      <th>heart_disease</th>\n",
              "      <th>bmi</th>\n",
              "      <th>HbA1c_level</th>\n",
              "      <th>blood_glucose_level</th>\n",
              "      <th>diabetes</th>\n",
              "    </tr>\n",
              "  </thead>\n",
              "  <tbody>\n",
              "    <tr>\n",
              "      <th>0</th>\n",
              "      <td>Female</td>\n",
              "      <td>57.0</td>\n",
              "      <td>No</td>\n",
              "      <td>No</td>\n",
              "      <td>18.87</td>\n",
              "      <td>4.8</td>\n",
              "      <td>140</td>\n",
              "      <td>0</td>\n",
              "    </tr>\n",
              "    <tr>\n",
              "      <th>1</th>\n",
              "      <td>Female</td>\n",
              "      <td>39.0</td>\n",
              "      <td>No</td>\n",
              "      <td>No</td>\n",
              "      <td>27.32</td>\n",
              "      <td>6.1</td>\n",
              "      <td>130</td>\n",
              "      <td>0</td>\n",
              "    </tr>\n",
              "    <tr>\n",
              "      <th>2</th>\n",
              "      <td>Female</td>\n",
              "      <td>15.0</td>\n",
              "      <td>No</td>\n",
              "      <td>No</td>\n",
              "      <td>38.72</td>\n",
              "      <td>5.7</td>\n",
              "      <td>159</td>\n",
              "      <td>0</td>\n",
              "    </tr>\n",
              "    <tr>\n",
              "      <th>3</th>\n",
              "      <td>Female</td>\n",
              "      <td>60.0</td>\n",
              "      <td>No</td>\n",
              "      <td>No</td>\n",
              "      <td>25.10</td>\n",
              "      <td>5.7</td>\n",
              "      <td>140</td>\n",
              "      <td>0</td>\n",
              "    </tr>\n",
              "    <tr>\n",
              "      <th>4</th>\n",
              "      <td>Male</td>\n",
              "      <td>12.0</td>\n",
              "      <td>No</td>\n",
              "      <td>No</td>\n",
              "      <td>17.26</td>\n",
              "      <td>4.5</td>\n",
              "      <td>126</td>\n",
              "      <td>0</td>\n",
              "    </tr>\n",
              "    <tr>\n",
              "      <th>...</th>\n",
              "      <td>...</td>\n",
              "      <td>...</td>\n",
              "      <td>...</td>\n",
              "      <td>...</td>\n",
              "      <td>...</td>\n",
              "      <td>...</td>\n",
              "      <td>...</td>\n",
              "      <td>...</td>\n",
              "    </tr>\n",
              "    <tr>\n",
              "      <th>99977</th>\n",
              "      <td>Female</td>\n",
              "      <td>38.0</td>\n",
              "      <td>No</td>\n",
              "      <td>No</td>\n",
              "      <td>32.84</td>\n",
              "      <td>4.0</td>\n",
              "      <td>155</td>\n",
              "      <td>0</td>\n",
              "    </tr>\n",
              "    <tr>\n",
              "      <th>99978</th>\n",
              "      <td>Male</td>\n",
              "      <td>17.0</td>\n",
              "      <td>No</td>\n",
              "      <td>No</td>\n",
              "      <td>25.26</td>\n",
              "      <td>5.0</td>\n",
              "      <td>155</td>\n",
              "      <td>0</td>\n",
              "    </tr>\n",
              "    <tr>\n",
              "      <th>99979</th>\n",
              "      <td>Male</td>\n",
              "      <td>2.0</td>\n",
              "      <td>No</td>\n",
              "      <td>No</td>\n",
              "      <td>27.32</td>\n",
              "      <td>5.0</td>\n",
              "      <td>90</td>\n",
              "      <td>0</td>\n",
              "    </tr>\n",
              "    <tr>\n",
              "      <th>99980</th>\n",
              "      <td>Female</td>\n",
              "      <td>80.0</td>\n",
              "      <td>No</td>\n",
              "      <td>No</td>\n",
              "      <td>20.54</td>\n",
              "      <td>6.6</td>\n",
              "      <td>140</td>\n",
              "      <td>0</td>\n",
              "    </tr>\n",
              "    <tr>\n",
              "      <th>99981</th>\n",
              "      <td>Female</td>\n",
              "      <td>43.0</td>\n",
              "      <td>No</td>\n",
              "      <td>No</td>\n",
              "      <td>20.83</td>\n",
              "      <td>6.2</td>\n",
              "      <td>140</td>\n",
              "      <td>0</td>\n",
              "    </tr>\n",
              "  </tbody>\n",
              "</table>\n",
              "<p>99982 rows × 8 columns</p>\n",
              "</div>\n",
              "    <div class=\"colab-df-buttons\">\n",
              "\n",
              "  <div class=\"colab-df-container\">\n",
              "    <button class=\"colab-df-convert\" onclick=\"convertToInteractive('df-dc98a84f-a515-40e1-bbf0-a2607dc1d932')\"\n",
              "            title=\"Convert this dataframe to an interactive table.\"\n",
              "            style=\"display:none;\">\n",
              "\n",
              "  <svg xmlns=\"http://www.w3.org/2000/svg\" height=\"24px\" viewBox=\"0 -960 960 960\">\n",
              "    <path d=\"M120-120v-720h720v720H120Zm60-500h600v-160H180v160Zm220 220h160v-160H400v160Zm0 220h160v-160H400v160ZM180-400h160v-160H180v160Zm440 0h160v-160H620v160ZM180-180h160v-160H180v160Zm440 0h160v-160H620v160Z\"/>\n",
              "  </svg>\n",
              "    </button>\n",
              "\n",
              "  <style>\n",
              "    .colab-df-container {\n",
              "      display:flex;\n",
              "      gap: 12px;\n",
              "    }\n",
              "\n",
              "    .colab-df-convert {\n",
              "      background-color: #E8F0FE;\n",
              "      border: none;\n",
              "      border-radius: 50%;\n",
              "      cursor: pointer;\n",
              "      display: none;\n",
              "      fill: #1967D2;\n",
              "      height: 32px;\n",
              "      padding: 0 0 0 0;\n",
              "      width: 32px;\n",
              "    }\n",
              "\n",
              "    .colab-df-convert:hover {\n",
              "      background-color: #E2EBFA;\n",
              "      box-shadow: 0px 1px 2px rgba(60, 64, 67, 0.3), 0px 1px 3px 1px rgba(60, 64, 67, 0.15);\n",
              "      fill: #174EA6;\n",
              "    }\n",
              "\n",
              "    .colab-df-buttons div {\n",
              "      margin-bottom: 4px;\n",
              "    }\n",
              "\n",
              "    [theme=dark] .colab-df-convert {\n",
              "      background-color: #3B4455;\n",
              "      fill: #D2E3FC;\n",
              "    }\n",
              "\n",
              "    [theme=dark] .colab-df-convert:hover {\n",
              "      background-color: #434B5C;\n",
              "      box-shadow: 0px 1px 3px 1px rgba(0, 0, 0, 0.15);\n",
              "      filter: drop-shadow(0px 1px 2px rgba(0, 0, 0, 0.3));\n",
              "      fill: #FFFFFF;\n",
              "    }\n",
              "  </style>\n",
              "\n",
              "    <script>\n",
              "      const buttonEl =\n",
              "        document.querySelector('#df-dc98a84f-a515-40e1-bbf0-a2607dc1d932 button.colab-df-convert');\n",
              "      buttonEl.style.display =\n",
              "        google.colab.kernel.accessAllowed ? 'block' : 'none';\n",
              "\n",
              "      async function convertToInteractive(key) {\n",
              "        const element = document.querySelector('#df-dc98a84f-a515-40e1-bbf0-a2607dc1d932');\n",
              "        const dataTable =\n",
              "          await google.colab.kernel.invokeFunction('convertToInteractive',\n",
              "                                                    [key], {});\n",
              "        if (!dataTable) return;\n",
              "\n",
              "        const docLinkHtml = 'Like what you see? Visit the ' +\n",
              "          '<a target=\"_blank\" href=https://colab.research.google.com/notebooks/data_table.ipynb>data table notebook</a>'\n",
              "          + ' to learn more about interactive tables.';\n",
              "        element.innerHTML = '';\n",
              "        dataTable['output_type'] = 'display_data';\n",
              "        await google.colab.output.renderOutput(dataTable, element);\n",
              "        const docLink = document.createElement('div');\n",
              "        docLink.innerHTML = docLinkHtml;\n",
              "        element.appendChild(docLink);\n",
              "      }\n",
              "    </script>\n",
              "  </div>\n",
              "\n",
              "\n",
              "    <div id=\"df-d132747f-2dbc-464a-9790-107dd5ca276e\">\n",
              "      <button class=\"colab-df-quickchart\" onclick=\"quickchart('df-d132747f-2dbc-464a-9790-107dd5ca276e')\"\n",
              "                title=\"Suggest charts\"\n",
              "                style=\"display:none;\">\n",
              "\n",
              "<svg xmlns=\"http://www.w3.org/2000/svg\" height=\"24px\"viewBox=\"0 0 24 24\"\n",
              "     width=\"24px\">\n",
              "    <g>\n",
              "        <path d=\"M19 3H5c-1.1 0-2 .9-2 2v14c0 1.1.9 2 2 2h14c1.1 0 2-.9 2-2V5c0-1.1-.9-2-2-2zM9 17H7v-7h2v7zm4 0h-2V7h2v10zm4 0h-2v-4h2v4z\"/>\n",
              "    </g>\n",
              "</svg>\n",
              "      </button>\n",
              "\n",
              "<style>\n",
              "  .colab-df-quickchart {\n",
              "      --bg-color: #E8F0FE;\n",
              "      --fill-color: #1967D2;\n",
              "      --hover-bg-color: #E2EBFA;\n",
              "      --hover-fill-color: #174EA6;\n",
              "      --disabled-fill-color: #AAA;\n",
              "      --disabled-bg-color: #DDD;\n",
              "  }\n",
              "\n",
              "  [theme=dark] .colab-df-quickchart {\n",
              "      --bg-color: #3B4455;\n",
              "      --fill-color: #D2E3FC;\n",
              "      --hover-bg-color: #434B5C;\n",
              "      --hover-fill-color: #FFFFFF;\n",
              "      --disabled-bg-color: #3B4455;\n",
              "      --disabled-fill-color: #666;\n",
              "  }\n",
              "\n",
              "  .colab-df-quickchart {\n",
              "    background-color: var(--bg-color);\n",
              "    border: none;\n",
              "    border-radius: 50%;\n",
              "    cursor: pointer;\n",
              "    display: none;\n",
              "    fill: var(--fill-color);\n",
              "    height: 32px;\n",
              "    padding: 0;\n",
              "    width: 32px;\n",
              "  }\n",
              "\n",
              "  .colab-df-quickchart:hover {\n",
              "    background-color: var(--hover-bg-color);\n",
              "    box-shadow: 0 1px 2px rgba(60, 64, 67, 0.3), 0 1px 3px 1px rgba(60, 64, 67, 0.15);\n",
              "    fill: var(--button-hover-fill-color);\n",
              "  }\n",
              "\n",
              "  .colab-df-quickchart-complete:disabled,\n",
              "  .colab-df-quickchart-complete:disabled:hover {\n",
              "    background-color: var(--disabled-bg-color);\n",
              "    fill: var(--disabled-fill-color);\n",
              "    box-shadow: none;\n",
              "  }\n",
              "\n",
              "  .colab-df-spinner {\n",
              "    border: 2px solid var(--fill-color);\n",
              "    border-color: transparent;\n",
              "    border-bottom-color: var(--fill-color);\n",
              "    animation:\n",
              "      spin 1s steps(1) infinite;\n",
              "  }\n",
              "\n",
              "  @keyframes spin {\n",
              "    0% {\n",
              "      border-color: transparent;\n",
              "      border-bottom-color: var(--fill-color);\n",
              "      border-left-color: var(--fill-color);\n",
              "    }\n",
              "    20% {\n",
              "      border-color: transparent;\n",
              "      border-left-color: var(--fill-color);\n",
              "      border-top-color: var(--fill-color);\n",
              "    }\n",
              "    30% {\n",
              "      border-color: transparent;\n",
              "      border-left-color: var(--fill-color);\n",
              "      border-top-color: var(--fill-color);\n",
              "      border-right-color: var(--fill-color);\n",
              "    }\n",
              "    40% {\n",
              "      border-color: transparent;\n",
              "      border-right-color: var(--fill-color);\n",
              "      border-top-color: var(--fill-color);\n",
              "    }\n",
              "    60% {\n",
              "      border-color: transparent;\n",
              "      border-right-color: var(--fill-color);\n",
              "    }\n",
              "    80% {\n",
              "      border-color: transparent;\n",
              "      border-right-color: var(--fill-color);\n",
              "      border-bottom-color: var(--fill-color);\n",
              "    }\n",
              "    90% {\n",
              "      border-color: transparent;\n",
              "      border-bottom-color: var(--fill-color);\n",
              "    }\n",
              "  }\n",
              "</style>\n",
              "\n",
              "      <script>\n",
              "        async function quickchart(key) {\n",
              "          const quickchartButtonEl =\n",
              "            document.querySelector('#' + key + ' button');\n",
              "          quickchartButtonEl.disabled = true;  // To prevent multiple clicks.\n",
              "          quickchartButtonEl.classList.add('colab-df-spinner');\n",
              "          try {\n",
              "            const charts = await google.colab.kernel.invokeFunction(\n",
              "                'suggestCharts', [key], {});\n",
              "          } catch (error) {\n",
              "            console.error('Error during call to suggestCharts:', error);\n",
              "          }\n",
              "          quickchartButtonEl.classList.remove('colab-df-spinner');\n",
              "          quickchartButtonEl.classList.add('colab-df-quickchart-complete');\n",
              "        }\n",
              "        (() => {\n",
              "          let quickchartButtonEl =\n",
              "            document.querySelector('#df-d132747f-2dbc-464a-9790-107dd5ca276e button');\n",
              "          quickchartButtonEl.style.display =\n",
              "            google.colab.kernel.accessAllowed ? 'block' : 'none';\n",
              "        })();\n",
              "      </script>\n",
              "    </div>\n",
              "    </div>\n",
              "  </div>\n"
            ],
            "application/vnd.google.colaboratory.intrinsic+json": {
              "type": "dataframe",
              "variable_name": "df_diab",
              "summary": "{\n  \"name\": \"df_diab\",\n  \"rows\": 99982,\n  \"fields\": [\n    {\n      \"column\": \"gender\",\n      \"properties\": {\n        \"dtype\": \"category\",\n        \"num_unique_values\": 2,\n        \"samples\": [\n          \"Male\",\n          \"Female\"\n        ],\n        \"semantic_type\": \"\",\n        \"description\": \"\"\n      }\n    },\n    {\n      \"column\": \"age\",\n      \"properties\": {\n        \"dtype\": \"number\",\n        \"std\": 22.51720645390367,\n        \"min\": 0.08,\n        \"max\": 80.0,\n        \"num_unique_values\": 102,\n        \"samples\": [\n          50.0,\n          77.0\n        ],\n        \"semantic_type\": \"\",\n        \"description\": \"\"\n      }\n    },\n    {\n      \"column\": \"hypertension\",\n      \"properties\": {\n        \"dtype\": \"category\",\n        \"num_unique_values\": 2,\n        \"samples\": [\n          \"Yes\",\n          \"No\"\n        ],\n        \"semantic_type\": \"\",\n        \"description\": \"\"\n      }\n    },\n    {\n      \"column\": \"heart_disease\",\n      \"properties\": {\n        \"dtype\": \"category\",\n        \"num_unique_values\": 2,\n        \"samples\": [\n          \"Yes\",\n          \"No\"\n        ],\n        \"semantic_type\": \"\",\n        \"description\": \"\"\n      }\n    },\n    {\n      \"column\": \"bmi\",\n      \"properties\": {\n        \"dtype\": \"number\",\n        \"std\": 6.6368528153528805,\n        \"min\": 10.01,\n        \"max\": 95.69,\n        \"num_unique_values\": 4247,\n        \"samples\": [\n          51.67,\n          48.34\n        ],\n        \"semantic_type\": \"\",\n        \"description\": \"\"\n      }\n    },\n    {\n      \"column\": \"HbA1c_level\",\n      \"properties\": {\n        \"dtype\": \"number\",\n        \"std\": 1.0706647908777016,\n        \"min\": 3.5,\n        \"max\": 9.0,\n        \"num_unique_values\": 18,\n        \"samples\": [\n          4.8,\n          6.1\n        ],\n        \"semantic_type\": \"\",\n        \"description\": \"\"\n      }\n    },\n    {\n      \"column\": \"blood_glucose_level\",\n      \"properties\": {\n        \"dtype\": \"number\",\n        \"std\": 40,\n        \"min\": 80,\n        \"max\": 300,\n        \"num_unique_values\": 18,\n        \"samples\": [\n          140,\n          130\n        ],\n        \"semantic_type\": \"\",\n        \"description\": \"\"\n      }\n    },\n    {\n      \"column\": \"diabetes\",\n      \"properties\": {\n        \"dtype\": \"number\",\n        \"std\": 0,\n        \"min\": 0,\n        \"max\": 1,\n        \"num_unique_values\": 2,\n        \"samples\": [\n          1,\n          0\n        ],\n        \"semantic_type\": \"\",\n        \"description\": \"\"\n      }\n    }\n  ]\n}"
            }
          },
          "metadata": {},
          "execution_count": 6
        }
      ],
      "source": [
        "# Считайте набор данных\n",
        "\n",
        "df_diab = pd.read_csv('diabetes.csv')\n",
        "df_diab"
      ]
    },
    {
      "cell_type": "code",
      "execution_count": null,
      "metadata": {
        "colab": {
          "base_uri": "https://localhost:8080/"
        },
        "id": "1nDOMdUsNS_f",
        "outputId": "2260da51-97c4-4cda-d730-39553f187d75"
      },
      "outputs": [
        {
          "output_type": "stream",
          "name": "stdout",
          "text": [
            "<class 'pandas.core.frame.DataFrame'>\n",
            "RangeIndex: 99982 entries, 0 to 99981\n",
            "Data columns (total 8 columns):\n",
            " #   Column               Non-Null Count  Dtype  \n",
            "---  ------               --------------  -----  \n",
            " 0   gender               99982 non-null  object \n",
            " 1   age                  99982 non-null  float64\n",
            " 2   hypertension         99982 non-null  object \n",
            " 3   heart_disease        99982 non-null  object \n",
            " 4   bmi                  99982 non-null  float64\n",
            " 5   HbA1c_level          99982 non-null  float64\n",
            " 6   blood_glucose_level  99982 non-null  int64  \n",
            " 7   diabetes             99982 non-null  int64  \n",
            "dtypes: float64(3), int64(2), object(3)\n",
            "memory usage: 6.1+ MB\n"
          ]
        }
      ],
      "source": [
        "# Используя метод info, определите типы признаков\n",
        "\n",
        "df_diab.info()"
      ]
    },
    {
      "cell_type": "code",
      "execution_count": 7,
      "metadata": {
        "id": "KLAqKJ8fNS_f"
      },
      "outputs": [],
      "source": [
        "# Создайте списки количественных и категориальных переменных (не включая целевую переменную)\n",
        "\n",
        "diab_cat_feat = df_diab.select_dtypes(include=['object', 'category']).columns.tolist()\n",
        "#diab_num_feat = df_diab.select_dtypes(include=['int64', 'float64']).columns.tolist()\n",
        "diab_num_feat = [col for col in df_diab.columns if col not in diab_cat_feat and col != 'diabetes']"
      ]
    },
    {
      "cell_type": "code",
      "execution_count": 8,
      "metadata": {
        "id": "xs1HX47YNS_f"
      },
      "outputs": [],
      "source": [
        "# Выделите объясняемый фактор в отдельную переменную\n",
        "\n",
        "X_diab, y_diab = df_diab.drop('diabetes', axis=1), df_diab['diabetes']"
      ]
    },
    {
      "cell_type": "code",
      "execution_count": 9,
      "metadata": {
        "id": "ZKvR3jFSNS_f"
      },
      "outputs": [],
      "source": [
        "# Закодируйте категориальные признаки числами 0 и 1 с помощью OneHotEncoder\n",
        "\n",
        "diab_encoder = OneHotEncoder(sparse_output=False, drop='first').set_output(transform='pandas')\n",
        "\n",
        "X_diab_encoded = diab_encoder.fit_transform(X_diab[diab_cat_feat])\n",
        "X_diab = X_diab.join(X_diab_encoded)\n",
        "X_diab = X_diab.drop(columns=diab_cat_feat)"
      ]
    },
    {
      "cell_type": "code",
      "execution_count": 10,
      "metadata": {
        "id": "oJwEeskaNS_f"
      },
      "outputs": [],
      "source": [
        "# Разделите датасет на обучающую (60%) и тестовую (40%) выборки со стратификацией по целевой переменной\n",
        "# Не забудьте зафиксировать RANDOM_STATE\n",
        "\n",
        "X_diab_train, X_diab_test, y_diab_train, y_diab_test = train_test_split(X_diab, y_diab, test_size=0.4,\n",
        "                                                                        random_state=RANDOM_STATE,\n",
        "                                                                        stratify=y_diab)"
      ]
    },
    {
      "cell_type": "code",
      "execution_count": 11,
      "metadata": {
        "id": "rgrMTdnVNS_f"
      },
      "outputs": [],
      "source": [
        "# Масштабируйте количественные признаки\n",
        "#   train -> fit_transform\n",
        "#   test -> transform\n",
        "\n",
        "diab_scaler = StandardScaler().set_output(transform='pandas')\n",
        "\n",
        "X_diab_train_scaled = X_diab_train.copy();\n",
        "X_diab_train_scaled[diab_num_feat] = diab_scaler.fit_transform(X_diab_train[diab_num_feat])\n",
        "X_diab_test_scaled = X_diab_test.copy()\n",
        "X_diab_test_scaled[diab_num_feat] = diab_scaler.transform(X_diab_test[diab_num_feat])"
      ]
    },
    {
      "cell_type": "code",
      "execution_count": 12,
      "metadata": {
        "id": "fy6n6q19NS_j"
      },
      "outputs": [],
      "source": [
        "# Обучите модель lr_diab без регуляризации на данных без масштабирования\n",
        "# Не забудьте зафиксировать RANDOM_STATE\n",
        "\n",
        "lr_diab = LogisticRegression(penalty=None, random_state=RANDOM_STATE).fit(X_diab_train, y_diab_train)"
      ]
    },
    {
      "cell_type": "code",
      "execution_count": 13,
      "metadata": {
        "id": "LE0cFV5cNS_j"
      },
      "outputs": [],
      "source": [
        "# Обучите модель lr_diab_def с регуляризацией по умолчанию на данных с масштабированием\n",
        "# Не забудьте зафиксировать RANDOM_STATE\n",
        "\n",
        "lr_diab_def = LogisticRegression(random_state=RANDOM_STATE).fit(X_diab_train_scaled, y_diab_train)"
      ]
    },
    {
      "cell_type": "code",
      "execution_count": 14,
      "metadata": {
        "id": "09Du81TONS_j"
      },
      "outputs": [],
      "source": [
        "# Обучите модель lr_diab_opt с оптимальным гиперпараметром регуляризации на данных с масштабированием\n",
        "# Оптимальные гиперпараметры обучения подберите с помощью GridSearchCV\n",
        "# Не забудьте зафиксировать RANDOM_STATE\n",
        "\n",
        "params = {'C' : [0.1, 0.3, 0.5, 0.7, 1.0]}\n",
        "cv = 5\n",
        "\n",
        "cv_lr_diab_opt = GridSearchCV(\n",
        "    LogisticRegression(random_state=RANDOM_STATE),\n",
        "    param_grid=params,\n",
        "    cv=cv\n",
        ")\n",
        "lr_diab_opt = cv_lr_diab_opt.fit(X_diab_train_scaled, y_diab_train)"
      ]
    },
    {
      "cell_type": "code",
      "execution_count": null,
      "metadata": {
        "colab": {
          "base_uri": "https://localhost:8080/"
        },
        "id": "RWRtYf7YNS_k",
        "outputId": "284f3110-bd56-420c-c4a8-034108eecb05"
      },
      "outputs": [
        {
          "output_type": "execute_result",
          "data": {
            "text/plain": [
              "0.7"
            ]
          },
          "metadata": {},
          "execution_count": 26
        }
      ],
      "source": [
        "# Выведите оптимальное значение гиперпараметра C\n",
        "\n",
        "C_opt = lr_diab_opt.best_params_\n",
        "C_opt['C']"
      ]
    },
    {
      "cell_type": "code",
      "execution_count": null,
      "metadata": {
        "id": "ta_efRqVNS_k"
      },
      "outputs": [],
      "source": [
        "# Выполните предсказание вероятностей целевого класса на тестовой выборке моделью lr_diab\n",
        "# Учтите, что lr_diab обучалась на данных без масштабирования\n",
        "\n",
        "y_test_proba_lr_diab = lr_diab.predict_proba(X_diab_test)"
      ]
    },
    {
      "cell_type": "code",
      "execution_count": null,
      "metadata": {
        "id": "THHUqBJ5NS_k"
      },
      "outputs": [],
      "source": [
        "# Выполните предсказание вероятностей целевого класса на тестовой выборке моделью lr_diab_def\n",
        "# Учтите, что lr_diab_def обучалась на данных с масштабированием\n",
        "\n",
        "y_test_proba_lr_diab_def = lr_diab_def.predict_proba(X_diab_test_scaled)"
      ]
    },
    {
      "cell_type": "code",
      "execution_count": null,
      "metadata": {
        "id": "t9SI2XSPNS_k"
      },
      "outputs": [],
      "source": [
        "# Выполните предсказание вероятностей целевого класса на тестовой выборке моделью lr_diab_opt\n",
        "# Учтите, что lr_diab_opt обучалась на данных с масштабированием\n",
        "\n",
        "y_test_proba_lr_diab_opt = lr_diab_opt.best_estimator_.predict_proba(X_diab_test_scaled)"
      ]
    },
    {
      "cell_type": "code",
      "execution_count": null,
      "metadata": {
        "id": "_7mOoBmtNS_k"
      },
      "outputs": [],
      "source": [
        "# Просчитайте калибровочные кривые моделей на тестовой выборке, используя calibration_curve (n_bins=10)\n",
        "\n",
        "prob_true_lr_diab, prob_pred_lr_diab = calibration_curve(y_diab_test, y_test_proba_lr_diab[:,1], n_bins=10)\n",
        "prob_true_lr_diab_def, prob_pred_lr_diab_def = calibration_curve(y_diab_test, y_test_proba_lr_diab_def[:,1], n_bins=10)\n",
        "prob_true_lr_diab_opt, prob_pred_lr_diab_opt = calibration_curve(y_diab_test, y_test_proba_lr_diab_opt[:,1], n_bins=10)"
      ]
    },
    {
      "cell_type": "code",
      "execution_count": null,
      "metadata": {
        "colab": {
          "base_uri": "https://localhost:8080/",
          "height": 564
        },
        "id": "OEgttJN5NS_k",
        "outputId": "e644192a-a74b-4314-9262-5259071b38a4"
      },
      "outputs": [
        {
          "output_type": "display_data",
          "data": {
            "text/plain": [
              "<Figure size 1000x600 with 1 Axes>"
            ],
            "image/png": "[encoded data removed]"
          },
          "metadata": {}
        }
      ],
      "source": [
        "# Визуализируйте калибровочные кривые\n",
        "\n",
        "plt.figure(figsize=(10, 6))\n",
        "plt.plot([0, 1], [0, 1], linestyle='--', label='Идеально калиброванная модель')\n",
        "plt.plot(prob_pred_lr_diab, prob_true_lr_diab, marker='o', label='lr_diab')\n",
        "plt.plot(prob_pred_lr_diab_def, prob_true_lr_diab_def, marker='o', label='lr_diab_def')\n",
        "plt.plot(prob_pred_lr_diab_opt, prob_true_lr_diab_opt, marker='o', label='lr_diab_opt')\n",
        "plt.xlabel('Средняя предсказанная вероятность модели')\n",
        "plt.ylabel('Частота положительных меток')\n",
        "plt.title('Калибровочные кривые (диаграмма надежности)')\n",
        "plt.legend()\n",
        "plt.show()"
      ]
    },
    {
      "cell_type": "code",
      "execution_count": null,
      "metadata": {
        "colab": {
          "base_uri": "https://localhost:8080/"
        },
        "id": "o4EFde5lNS_k",
        "outputId": "483a3754-ee6f-4ab1-dd32-1768dc5eaaa0"
      },
      "outputs": [
        {
          "output_type": "stream",
          "name": "stdout",
          "text": [
            "0.005499704809704019\n",
            "0.0072597348256993295\n"
          ]
        },
        {
          "output_type": "execute_result",
          "data": {
            "text/plain": [
              "0.0072307095515605066"
            ]
          },
          "metadata": {},
          "execution_count": 119
        }
      ],
      "source": [
        "# Посчитайте метрику ECE для каждой из моделей, используя функцию ece_score\n",
        "\n",
        "print(ece_score(y_diab_test, y_test_proba_lr_diab[:,1]))\n",
        "\n",
        "print(ece_score(y_diab_test, y_test_proba_lr_diab_def[:,1]))\n",
        "\n",
        "ece_score(y_diab_test, y_test_proba_lr_diab_opt[:,1])"
      ]
    },
    {
      "cell_type": "code",
      "execution_count": null,
      "metadata": {
        "colab": {
          "base_uri": "https://localhost:8080/"
        },
        "id": "2bk1CsClNS_k",
        "outputId": "8ec128cb-da0f-4937-e091-019c9dadcae4"
      },
      "outputs": [
        {
          "output_type": "stream",
          "name": "stdout",
          "text": [
            "0.9594172422883837\n",
            "0.961813931787018\n",
            "0.961816495761806\n"
          ]
        }
      ],
      "source": [
        "# Посчитайте метрику AUC для каждой из моделей, используя функцию roc_auc_score\n",
        "\n",
        "print(roc_auc_score(y_diab_test, y_test_proba_lr_diab[:,1]))\n",
        "print(roc_auc_score(y_diab_test, y_test_proba_lr_diab_def[:,1]))\n",
        "print(roc_auc_score(y_diab_test, y_test_proba_lr_diab_opt[:,1]))"
      ]
    },
    {
      "cell_type": "markdown",
      "metadata": {
        "id": "cYQ2TCNONS_k"
      },
      "source": [
        "### ***Задание 3***\n",
        "\n",
        "**ВНИМАНИЕ:** Для решения этого задания используйте:\n",
        "\n",
        "* Датасет **до масштабирования** из задания 2: `X_diab`, `y_diab`.\n",
        "\n",
        "* Оптимальное значение гиперпараметра регуляризации C из задания 2: `C_opt`.\n",
        "\n",
        "Проверьте, является ли разница в калибровочной точности моделей `lr_diab`, `lr_diab_def`, `lr_diab_opt` значимой (равны ли метрики ECE для данных моделей в среднем). Для проверки равенства средних значений в трех группах (векторы значений ECE для каждой из трех моделей) используйте t-тесты и F-тест для регрессии statsmodels (OLS) с фиктивными переменными для групп.\n",
        "\n",
        "**Посчитайте векторы значений ECE для 100 различных random_state.** Для каждой итерации $i=0,...,99$ (100 итераций):\n",
        "\n",
        "**ВНИМАНИЕ:** Где возможно, фиксируйте random_state для итерации $i$ на значении $i$.\n",
        "\n",
        "1. Разделите обучающую выборку `X_diab` на обучающую (60%, `X_diab_sample_train`) и валидационную (40%, `X_diab_sample_val`) **подвыборки** со стратификацией по целевой переменной. Не забудьте зафиксировать random_state=$i$.\n",
        "\n",
        "2. Обучите три модели логистической регрессии на обучающей подвыборке `X_diab_sample_train` (не забудьте масштабировать подвыборки `X_diab_sample_train` и `X_diab_sample_val` для моделей с регуляризацией, зафиксировать random_state=$i$):\n",
        "    \n",
        "    * `lr_diab_sample` — логистическая регрессия **без регуляризации** на данных **без масштабирования** (`X_diab_sample_train`).\n",
        "\n",
        "    * `lr_diab_sample_def` — логистическая регрессия **с регуляризацией по умолчанию** на данных **с масштабированием** (`X_diab_sample_train_scaled`).\n",
        "\n",
        "    * `lr_diab_sample_opt` — логистическая регрессия **с оптимальным гиперпараметром регуляризации** `C_opt` на данных **с масштабированием** (`X_diab_sample_train_scaled`). Используйте оптимальный гиперпараметр регуляризации `C_opt` из задания 2.\n",
        "\n",
        "3. Посчитайте метрику ECE (функция ece_score) для каждой из обученных моделей.\n",
        "\n",
        "Используя линейную регрессию statsmodels (OLS) и векторы значений ECE, **проверьте гипотезу о равенстве средних значений метрики ECE** в трех группах:\n",
        "\n",
        "1. Обучите модель линейной регрессии statsmodels (OLS) `ols_ece_diab` с факторными группами (с фиктивными переменными):\n",
        "\n",
        "    $$y = \\alpha+\\beta_{default}D_{default}+\\beta_{optimal}D_{optimal}​+ϵ$$\n",
        "\n",
        "    где $\\alpha=\\text{ECE}^{no\\_penalty}_{mean}$ — среднее значение ECE в группе с меткой $M^{no\\_penalty}$ (среднее ECE для модели `lr_diab`), $D_{m}$ — индикатор модели с меткой $M^{m}$.\n",
        "\n",
        "\n",
        "\n",
        "2. Интерпретируя summary модели `ols_ece_diab`, проверьте гипотезу о равенстве средних в трех группах с помощью t-теста для коэффициентов $\\beta_{default}$ и $\\beta_{optimal}$, а также F-теста для всей модели."
      ]
    },
    {
      "cell_type": "code",
      "execution_count": null,
      "metadata": {
        "id": "4oQuosElNS_k"
      },
      "outputs": [],
      "source": [
        "# Посчитайте векторы значений ECE для 100 различных random_state\n",
        "# Для записи результатов итераций создадим датафрейм diab_ece_scores, заполненный нулями\n",
        "\n",
        "diab_ece_scores = pd.DataFrame({\n",
        "    'ece_no_penalty': np.zeros(100),\n",
        "    'ece_default': np.zeros(100),\n",
        "    'ece_optimal': np.zeros(100)\n",
        "}, index=range(100)\n",
        ")\n",
        "\n",
        "for i in range(100):\n",
        "    X_diab_i_train, X_diab_i_val, y_diab_i_train, y_diab_i_val = train_test_split(\n",
        "        X_diab, y_diab, random_state=i, test_size=0.4, stratify=y_diab)\n",
        "    # масштабирование\n",
        "    diab_sample_scaler = StandardScaler().set_output(transform='pandas')\n",
        "\n",
        "    X_diab_i_train_scaled = X_diab_i_train.copy();\n",
        "    X_diab_i_train_scaled[diab_num_feat] = diab_sample_scaler.fit_transform(X_diab_i_train[diab_num_feat])\n",
        "    X_diab_i_val_scaled = X_diab_i_val.copy()\n",
        "    X_diab_i_val_scaled[diab_num_feat] = diab_sample_scaler.transform(X_diab_i_val[diab_num_feat])\n",
        "\n",
        "    lr_diab_sample = LogisticRegression(random_state=i, penalty=None).fit(\n",
        "        X_diab_i_train, y_diab_i_train)\n",
        "\n",
        "    lr_diab_sample_def = LogisticRegression(random_state=i).fit(\n",
        "        X_diab_i_train_scaled, y_diab_i_train\n",
        "    )\n",
        "    lr_diab_sample_opt = LogisticRegression(random_state=i, C=C_opt['C']).fit(\n",
        "        X_diab_i_train_scaled, y_diab_i_train\n",
        "    )\n",
        "\n",
        "\n",
        "    diab_ece_scores.iloc[i] = np.array([\n",
        "        ece_score(y_diab_i_val, lr_diab_sample.predict_proba(X_diab_i_val)[:,1]),\n",
        "        ece_score(y_diab_i_val, lr_diab_sample_def.predict_proba(X_diab_i_val_scaled)[:,1]),\n",
        "        ece_score(y_diab_i_val, lr_diab_sample_opt.predict_proba(X_diab_i_val_scaled)[:,1])\n",
        "    ])"
      ]
    },
    {
      "cell_type": "code",
      "execution_count": null,
      "metadata": {
        "colab": {
          "base_uri": "https://localhost:8080/",
          "height": 178
        },
        "id": "p8NnKJp4NS_k",
        "outputId": "a55350fb-0ea3-4b55-e05c-75f8cc81723f"
      },
      "outputs": [
        {
          "output_type": "execute_result",
          "data": {
            "text/plain": [
              "ece_no_penalty    0.006238\n",
              "ece_default       0.006778\n",
              "ece_optimal       0.006762\n",
              "dtype: float64"
            ],
            "text/html": [
              "<div>\n",
              "<style scoped>\n",
              "    .dataframe tbody tr th:only-of-type {\n",
              "        vertical-align: middle;\n",
              "    }\n",
              "\n",
              "    .dataframe tbody tr th {\n",
              "        vertical-align: top;\n",
              "    }\n",
              "\n",
              "    .dataframe thead th {\n",
              "        text-align: right;\n",
              "    }\n",
              "</style>\n",
              "<table border=\"1\" class=\"dataframe\">\n",
              "  <thead>\n",
              "    <tr style=\"text-align: right;\">\n",
              "      <th></th>\n",
              "      <th>0</th>\n",
              "    </tr>\n",
              "  </thead>\n",
              "  <tbody>\n",
              "    <tr>\n",
              "      <th>ece_no_penalty</th>\n",
              "      <td>0.006238</td>\n",
              "    </tr>\n",
              "    <tr>\n",
              "      <th>ece_default</th>\n",
              "      <td>0.006778</td>\n",
              "    </tr>\n",
              "    <tr>\n",
              "      <th>ece_optimal</th>\n",
              "      <td>0.006762</td>\n",
              "    </tr>\n",
              "  </tbody>\n",
              "</table>\n",
              "</div><br><label><b>dtype:</b> float64</label>"
            ]
          },
          "metadata": {},
          "execution_count": 127
        }
      ],
      "source": [
        "# Выведите средние значения ECE в каждой из трех групп\n",
        "\n",
        "diab_ece_scores.mean()"
      ]
    },
    {
      "cell_type": "code",
      "execution_count": null,
      "metadata": {
        "colab": {
          "base_uri": "https://localhost:8080/",
          "height": 423
        },
        "id": "wByyFVkmNS_k",
        "outputId": "9420b04d-047a-44c5-957e-1e634ac02b32"
      },
      "outputs": [
        {
          "output_type": "execute_result",
          "data": {
            "text/plain": [
              "              group       ECE\n",
              "0    ece_no_penalty  0.004082\n",
              "1    ece_no_penalty  0.005382\n",
              "2    ece_no_penalty  0.005823\n",
              "3    ece_no_penalty  0.007371\n",
              "4    ece_no_penalty  0.003273\n",
              "..              ...       ...\n",
              "295     ece_optimal  0.007059\n",
              "296     ece_optimal  0.006352\n",
              "297     ece_optimal  0.007558\n",
              "298     ece_optimal  0.007441\n",
              "299     ece_optimal  0.008502\n",
              "\n",
              "[300 rows x 2 columns]"
            ],
            "text/html": [
              "\n",
              "  <div id=\"df-7ebcacd8-d133-49dc-981b-26cfb2c92f3e\" class=\"colab-df-container\">\n",
              "    <div>\n",
              "<style scoped>\n",
              "    .dataframe tbody tr th:only-of-type {\n",
              "        vertical-align: middle;\n",
              "    }\n",
              "\n",
              "    .dataframe tbody tr th {\n",
              "        vertical-align: top;\n",
              "    }\n",
              "\n",
              "    .dataframe thead th {\n",
              "        text-align: right;\n",
              "    }\n",
              "</style>\n",
              "<table border=\"1\" class=\"dataframe\">\n",
              "  <thead>\n",
              "    <tr style=\"text-align: right;\">\n",
              "      <th></th>\n",
              "      <th>group</th>\n",
              "      <th>ECE</th>\n",
              "    </tr>\n",
              "  </thead>\n",
              "  <tbody>\n",
              "    <tr>\n",
              "      <th>0</th>\n",
              "      <td>ece_no_penalty</td>\n",
              "      <td>0.004082</td>\n",
              "    </tr>\n",
              "    <tr>\n",
              "      <th>1</th>\n",
              "      <td>ece_no_penalty</td>\n",
              "      <td>0.005382</td>\n",
              "    </tr>\n",
              "    <tr>\n",
              "      <th>2</th>\n",
              "      <td>ece_no_penalty</td>\n",
              "      <td>0.005823</td>\n",
              "    </tr>\n",
              "    <tr>\n",
              "      <th>3</th>\n",
              "      <td>ece_no_penalty</td>\n",
              "      <td>0.007371</td>\n",
              "    </tr>\n",
              "    <tr>\n",
              "      <th>4</th>\n",
              "      <td>ece_no_penalty</td>\n",
              "      <td>0.003273</td>\n",
              "    </tr>\n",
              "    <tr>\n",
              "      <th>...</th>\n",
              "      <td>...</td>\n",
              "      <td>...</td>\n",
              "    </tr>\n",
              "    <tr>\n",
              "      <th>295</th>\n",
              "      <td>ece_optimal</td>\n",
              "      <td>0.007059</td>\n",
              "    </tr>\n",
              "    <tr>\n",
              "      <th>296</th>\n",
              "      <td>ece_optimal</td>\n",
              "      <td>0.006352</td>\n",
              "    </tr>\n",
              "    <tr>\n",
              "      <th>297</th>\n",
              "      <td>ece_optimal</td>\n",
              "      <td>0.007558</td>\n",
              "    </tr>\n",
              "    <tr>\n",
              "      <th>298</th>\n",
              "      <td>ece_optimal</td>\n",
              "      <td>0.007441</td>\n",
              "    </tr>\n",
              "    <tr>\n",
              "      <th>299</th>\n",
              "      <td>ece_optimal</td>\n",
              "      <td>0.008502</td>\n",
              "    </tr>\n",
              "  </tbody>\n",
              "</table>\n",
              "<p>300 rows × 2 columns</p>\n",
              "</div>\n",
              "    <div class=\"colab-df-buttons\">\n",
              "\n",
              "  <div class=\"colab-df-container\">\n",
              "    <button class=\"colab-df-convert\" onclick=\"convertToInteractive('df-7ebcacd8-d133-49dc-981b-26cfb2c92f3e')\"\n",
              "            title=\"Convert this dataframe to an interactive table.\"\n",
              "            style=\"display:none;\">\n",
              "\n",
              "  <svg xmlns=\"http://www.w3.org/2000/svg\" height=\"24px\" viewBox=\"0 -960 960 960\">\n",
              "    <path d=\"M120-120v-720h720v720H120Zm60-500h600v-160H180v160Zm220 220h160v-160H400v160Zm0 220h160v-160H400v160ZM180-400h160v-160H180v160Zm440 0h160v-160H620v160ZM180-180h160v-160H180v160Zm440 0h160v-160H620v160Z\"/>\n",
              "  </svg>\n",
              "    </button>\n",
              "\n",
              "  <style>\n",
              "    .colab-df-container {\n",
              "      display:flex;\n",
              "      gap: 12px;\n",
              "    }\n",
              "\n",
              "    .colab-df-convert {\n",
              "      background-color: #E8F0FE;\n",
              "      border: none;\n",
              "      border-radius: 50%;\n",
              "      cursor: pointer;\n",
              "      display: none;\n",
              "      fill: #1967D2;\n",
              "      height: 32px;\n",
              "      padding: 0 0 0 0;\n",
              "      width: 32px;\n",
              "    }\n",
              "\n",
              "    .colab-df-convert:hover {\n",
              "      background-color: #E2EBFA;\n",
              "      box-shadow: 0px 1px 2px rgba(60, 64, 67, 0.3), 0px 1px 3px 1px rgba(60, 64, 67, 0.15);\n",
              "      fill: #174EA6;\n",
              "    }\n",
              "\n",
              "    .colab-df-buttons div {\n",
              "      margin-bottom: 4px;\n",
              "    }\n",
              "\n",
              "    [theme=dark] .colab-df-convert {\n",
              "      background-color: #3B4455;\n",
              "      fill: #D2E3FC;\n",
              "    }\n",
              "\n",
              "    [theme=dark] .colab-df-convert:hover {\n",
              "      background-color: #434B5C;\n",
              "      box-shadow: 0px 1px 3px 1px rgba(0, 0, 0, 0.15);\n",
              "      filter: drop-shadow(0px 1px 2px rgba(0, 0, 0, 0.3));\n",
              "      fill: #FFFFFF;\n",
              "    }\n",
              "  </style>\n",
              "\n",
              "    <script>\n",
              "      const buttonEl =\n",
              "        document.querySelector('#df-7ebcacd8-d133-49dc-981b-26cfb2c92f3e button.colab-df-convert');\n",
              "      buttonEl.style.display =\n",
              "        google.colab.kernel.accessAllowed ? 'block' : 'none';\n",
              "\n",
              "      async function convertToInteractive(key) {\n",
              "        const element = document.querySelector('#df-7ebcacd8-d133-49dc-981b-26cfb2c92f3e');\n",
              "        const dataTable =\n",
              "          await google.colab.kernel.invokeFunction('convertToInteractive',\n",
              "                                                    [key], {});\n",
              "        if (!dataTable) return;\n",
              "\n",
              "        const docLinkHtml = 'Like what you see? Visit the ' +\n",
              "          '<a target=\"_blank\" href=https://colab.research.google.com/notebooks/data_table.ipynb>data table notebook</a>'\n",
              "          + ' to learn more about interactive tables.';\n",
              "        element.innerHTML = '';\n",
              "        dataTable['output_type'] = 'display_data';\n",
              "        await google.colab.output.renderOutput(dataTable, element);\n",
              "        const docLink = document.createElement('div');\n",
              "        docLink.innerHTML = docLinkHtml;\n",
              "        element.appendChild(docLink);\n",
              "      }\n",
              "    </script>\n",
              "  </div>\n",
              "\n",
              "\n",
              "    <div id=\"df-9561f035-96b5-4782-92b2-bdb8f4384559\">\n",
              "      <button class=\"colab-df-quickchart\" onclick=\"quickchart('df-9561f035-96b5-4782-92b2-bdb8f4384559')\"\n",
              "                title=\"Suggest charts\"\n",
              "                style=\"display:none;\">\n",
              "\n",
              "<svg xmlns=\"http://www.w3.org/2000/svg\" height=\"24px\"viewBox=\"0 0 24 24\"\n",
              "     width=\"24px\">\n",
              "    <g>\n",
              "        <path d=\"M19 3H5c-1.1 0-2 .9-2 2v14c0 1.1.9 2 2 2h14c1.1 0 2-.9 2-2V5c0-1.1-.9-2-2-2zM9 17H7v-7h2v7zm4 0h-2V7h2v10zm4 0h-2v-4h2v4z\"/>\n",
              "    </g>\n",
              "</svg>\n",
              "      </button>\n",
              "\n",
              "<style>\n",
              "  .colab-df-quickchart {\n",
              "      --bg-color: #E8F0FE;\n",
              "      --fill-color: #1967D2;\n",
              "      --hover-bg-color: #E2EBFA;\n",
              "      --hover-fill-color: #174EA6;\n",
              "      --disabled-fill-color: #AAA;\n",
              "      --disabled-bg-color: #DDD;\n",
              "  }\n",
              "\n",
              "  [theme=dark] .colab-df-quickchart {\n",
              "      --bg-color: #3B4455;\n",
              "      --fill-color: #D2E3FC;\n",
              "      --hover-bg-color: #434B5C;\n",
              "      --hover-fill-color: #FFFFFF;\n",
              "      --disabled-bg-color: #3B4455;\n",
              "      --disabled-fill-color: #666;\n",
              "  }\n",
              "\n",
              "  .colab-df-quickchart {\n",
              "    background-color: var(--bg-color);\n",
              "    border: none;\n",
              "    border-radius: 50%;\n",
              "    cursor: pointer;\n",
              "    display: none;\n",
              "    fill: var(--fill-color);\n",
              "    height: 32px;\n",
              "    padding: 0;\n",
              "    width: 32px;\n",
              "  }\n",
              "\n",
              "  .colab-df-quickchart:hover {\n",
              "    background-color: var(--hover-bg-color);\n",
              "    box-shadow: 0 1px 2px rgba(60, 64, 67, 0.3), 0 1px 3px 1px rgba(60, 64, 67, 0.15);\n",
              "    fill: var(--button-hover-fill-color);\n",
              "  }\n",
              "\n",
              "  .colab-df-quickchart-complete:disabled,\n",
              "  .colab-df-quickchart-complete:disabled:hover {\n",
              "    background-color: var(--disabled-bg-color);\n",
              "    fill: var(--disabled-fill-color);\n",
              "    box-shadow: none;\n",
              "  }\n",
              "\n",
              "  .colab-df-spinner {\n",
              "    border: 2px solid var(--fill-color);\n",
              "    border-color: transparent;\n",
              "    border-bottom-color: var(--fill-color);\n",
              "    animation:\n",
              "      spin 1s steps(1) infinite;\n",
              "  }\n",
              "\n",
              "  @keyframes spin {\n",
              "    0% {\n",
              "      border-color: transparent;\n",
              "      border-bottom-color: var(--fill-color);\n",
              "      border-left-color: var(--fill-color);\n",
              "    }\n",
              "    20% {\n",
              "      border-color: transparent;\n",
              "      border-left-color: var(--fill-color);\n",
              "      border-top-color: var(--fill-color);\n",
              "    }\n",
              "    30% {\n",
              "      border-color: transparent;\n",
              "      border-left-color: var(--fill-color);\n",
              "      border-top-color: var(--fill-color);\n",
              "      border-right-color: var(--fill-color);\n",
              "    }\n",
              "    40% {\n",
              "      border-color: transparent;\n",
              "      border-right-color: var(--fill-color);\n",
              "      border-top-color: var(--fill-color);\n",
              "    }\n",
              "    60% {\n",
              "      border-color: transparent;\n",
              "      border-right-color: var(--fill-color);\n",
              "    }\n",
              "    80% {\n",
              "      border-color: transparent;\n",
              "      border-right-color: var(--fill-color);\n",
              "      border-bottom-color: var(--fill-color);\n",
              "    }\n",
              "    90% {\n",
              "      border-color: transparent;\n",
              "      border-bottom-color: var(--fill-color);\n",
              "    }\n",
              "  }\n",
              "</style>\n",
              "\n",
              "      <script>\n",
              "        async function quickchart(key) {\n",
              "          const quickchartButtonEl =\n",
              "            document.querySelector('#' + key + ' button');\n",
              "          quickchartButtonEl.disabled = true;  // To prevent multiple clicks.\n",
              "          quickchartButtonEl.classList.add('colab-df-spinner');\n",
              "          try {\n",
              "            const charts = await google.colab.kernel.invokeFunction(\n",
              "                'suggestCharts', [key], {});\n",
              "          } catch (error) {\n",
              "            console.error('Error during call to suggestCharts:', error);\n",
              "          }\n",
              "          quickchartButtonEl.classList.remove('colab-df-spinner');\n",
              "          quickchartButtonEl.classList.add('colab-df-quickchart-complete');\n",
              "        }\n",
              "        (() => {\n",
              "          let quickchartButtonEl =\n",
              "            document.querySelector('#df-9561f035-96b5-4782-92b2-bdb8f4384559 button');\n",
              "          quickchartButtonEl.style.display =\n",
              "            google.colab.kernel.accessAllowed ? 'block' : 'none';\n",
              "        })();\n",
              "      </script>\n",
              "    </div>\n",
              "    </div>\n",
              "  </div>\n"
            ],
            "application/vnd.google.colaboratory.intrinsic+json": {
              "type": "dataframe",
              "variable_name": "diab_ece_groups",
              "summary": "{\n  \"name\": \"diab_ece_groups\",\n  \"rows\": 300,\n  \"fields\": [\n    {\n      \"column\": \"group\",\n      \"properties\": {\n        \"dtype\": \"category\",\n        \"num_unique_values\": 3,\n        \"samples\": [\n          \"ece_no_penalty\",\n          \"ece_default\",\n          \"ece_optimal\"\n        ],\n        \"semantic_type\": \"\",\n        \"description\": \"\"\n      }\n    },\n    {\n      \"column\": \"ECE\",\n      \"properties\": {\n        \"dtype\": \"number\",\n        \"std\": 0.0010287497776897258,\n        \"min\": 0.0032725842822961416,\n        \"max\": 0.008998201505198887,\n        \"num_unique_values\": 300,\n        \"samples\": [\n          0.007583508194121729,\n          0.005754821928741386,\n          0.005485263005519406\n        ],\n        \"semantic_type\": \"\",\n        \"description\": \"\"\n      }\n    }\n  ]\n}"
            }
          },
          "metadata": {},
          "execution_count": 128
        }
      ],
      "source": [
        "# Представим значения ECE в виде двух векторов: метка группы (group) и ECE наблюдения, соответствующего метке (ECE)\n",
        "\n",
        "diab_ece_groups = diab_ece_scores.melt()\n",
        "diab_ece_groups.columns = ['group', 'ECE']\n",
        "diab_ece_groups"
      ]
    },
    {
      "cell_type": "code",
      "execution_count": null,
      "metadata": {
        "colab": {
          "base_uri": "https://localhost:8080/",
          "height": 423
        },
        "id": "CQUbyg5SNS_k",
        "outputId": "d806edac-5798-4450-df68-869dc559eac9"
      },
      "outputs": [
        {
          "output_type": "execute_result",
          "data": {
            "text/plain": [
              "          ECE  D_default  D_optimal\n",
              "0    0.004082          0          0\n",
              "1    0.005382          0          0\n",
              "2    0.005823          0          0\n",
              "3    0.007371          0          0\n",
              "4    0.003273          0          0\n",
              "..        ...        ...        ...\n",
              "295  0.007059          0          1\n",
              "296  0.006352          0          1\n",
              "297  0.007558          0          1\n",
              "298  0.007441          0          1\n",
              "299  0.008502          0          1\n",
              "\n",
              "[300 rows x 3 columns]"
            ],
            "text/html": [
              "\n",
              "  <div id=\"df-b64e7789-0893-4ef7-bf0e-72dfea3a42aa\" class=\"colab-df-container\">\n",
              "    <div>\n",
              "<style scoped>\n",
              "    .dataframe tbody tr th:only-of-type {\n",
              "        vertical-align: middle;\n",
              "    }\n",
              "\n",
              "    .dataframe tbody tr th {\n",
              "        vertical-align: top;\n",
              "    }\n",
              "\n",
              "    .dataframe thead th {\n",
              "        text-align: right;\n",
              "    }\n",
              "</style>\n",
              "<table border=\"1\" class=\"dataframe\">\n",
              "  <thead>\n",
              "    <tr style=\"text-align: right;\">\n",
              "      <th></th>\n",
              "      <th>ECE</th>\n",
              "      <th>D_default</th>\n",
              "      <th>D_optimal</th>\n",
              "    </tr>\n",
              "  </thead>\n",
              "  <tbody>\n",
              "    <tr>\n",
              "      <th>0</th>\n",
              "      <td>0.004082</td>\n",
              "      <td>0</td>\n",
              "      <td>0</td>\n",
              "    </tr>\n",
              "    <tr>\n",
              "      <th>1</th>\n",
              "      <td>0.005382</td>\n",
              "      <td>0</td>\n",
              "      <td>0</td>\n",
              "    </tr>\n",
              "    <tr>\n",
              "      <th>2</th>\n",
              "      <td>0.005823</td>\n",
              "      <td>0</td>\n",
              "      <td>0</td>\n",
              "    </tr>\n",
              "    <tr>\n",
              "      <th>3</th>\n",
              "      <td>0.007371</td>\n",
              "      <td>0</td>\n",
              "      <td>0</td>\n",
              "    </tr>\n",
              "    <tr>\n",
              "      <th>4</th>\n",
              "      <td>0.003273</td>\n",
              "      <td>0</td>\n",
              "      <td>0</td>\n",
              "    </tr>\n",
              "    <tr>\n",
              "      <th>...</th>\n",
              "      <td>...</td>\n",
              "      <td>...</td>\n",
              "      <td>...</td>\n",
              "    </tr>\n",
              "    <tr>\n",
              "      <th>295</th>\n",
              "      <td>0.007059</td>\n",
              "      <td>0</td>\n",
              "      <td>1</td>\n",
              "    </tr>\n",
              "    <tr>\n",
              "      <th>296</th>\n",
              "      <td>0.006352</td>\n",
              "      <td>0</td>\n",
              "      <td>1</td>\n",
              "    </tr>\n",
              "    <tr>\n",
              "      <th>297</th>\n",
              "      <td>0.007558</td>\n",
              "      <td>0</td>\n",
              "      <td>1</td>\n",
              "    </tr>\n",
              "    <tr>\n",
              "      <th>298</th>\n",
              "      <td>0.007441</td>\n",
              "      <td>0</td>\n",
              "      <td>1</td>\n",
              "    </tr>\n",
              "    <tr>\n",
              "      <th>299</th>\n",
              "      <td>0.008502</td>\n",
              "      <td>0</td>\n",
              "      <td>1</td>\n",
              "    </tr>\n",
              "  </tbody>\n",
              "</table>\n",
              "<p>300 rows × 3 columns</p>\n",
              "</div>\n",
              "    <div class=\"colab-df-buttons\">\n",
              "\n",
              "  <div class=\"colab-df-container\">\n",
              "    <button class=\"colab-df-convert\" onclick=\"convertToInteractive('df-b64e7789-0893-4ef7-bf0e-72dfea3a42aa')\"\n",
              "            title=\"Convert this dataframe to an interactive table.\"\n",
              "            style=\"display:none;\">\n",
              "\n",
              "  <svg xmlns=\"http://www.w3.org/2000/svg\" height=\"24px\" viewBox=\"0 -960 960 960\">\n",
              "    <path d=\"M120-120v-720h720v720H120Zm60-500h600v-160H180v160Zm220 220h160v-160H400v160Zm0 220h160v-160H400v160ZM180-400h160v-160H180v160Zm440 0h160v-160H620v160ZM180-180h160v-160H180v160Zm440 0h160v-160H620v160Z\"/>\n",
              "  </svg>\n",
              "    </button>\n",
              "\n",
              "  <style>\n",
              "    .colab-df-container {\n",
              "      display:flex;\n",
              "      gap: 12px;\n",
              "    }\n",
              "\n",
              "    .colab-df-convert {\n",
              "      background-color: #E8F0FE;\n",
              "      border: none;\n",
              "      border-radius: 50%;\n",
              "      cursor: pointer;\n",
              "      display: none;\n",
              "      fill: #1967D2;\n",
              "      height: 32px;\n",
              "      padding: 0 0 0 0;\n",
              "      width: 32px;\n",
              "    }\n",
              "\n",
              "    .colab-df-convert:hover {\n",
              "      background-color: #E2EBFA;\n",
              "      box-shadow: 0px 1px 2px rgba(60, 64, 67, 0.3), 0px 1px 3px 1px rgba(60, 64, 67, 0.15);\n",
              "      fill: #174EA6;\n",
              "    }\n",
              "\n",
              "    .colab-df-buttons div {\n",
              "      margin-bottom: 4px;\n",
              "    }\n",
              "\n",
              "    [theme=dark] .colab-df-convert {\n",
              "      background-color: #3B4455;\n",
              "      fill: #D2E3FC;\n",
              "    }\n",
              "\n",
              "    [theme=dark] .colab-df-convert:hover {\n",
              "      background-color: #434B5C;\n",
              "      box-shadow: 0px 1px 3px 1px rgba(0, 0, 0, 0.15);\n",
              "      filter: drop-shadow(0px 1px 2px rgba(0, 0, 0, 0.3));\n",
              "      fill: #FFFFFF;\n",
              "    }\n",
              "  </style>\n",
              "\n",
              "    <script>\n",
              "      const buttonEl =\n",
              "        document.querySelector('#df-b64e7789-0893-4ef7-bf0e-72dfea3a42aa button.colab-df-convert');\n",
              "      buttonEl.style.display =\n",
              "        google.colab.kernel.accessAllowed ? 'block' : 'none';\n",
              "\n",
              "      async function convertToInteractive(key) {\n",
              "        const element = document.querySelector('#df-b64e7789-0893-4ef7-bf0e-72dfea3a42aa');\n",
              "        const dataTable =\n",
              "          await google.colab.kernel.invokeFunction('convertToInteractive',\n",
              "                                                    [key], {});\n",
              "        if (!dataTable) return;\n",
              "\n",
              "        const docLinkHtml = 'Like what you see? Visit the ' +\n",
              "          '<a target=\"_blank\" href=https://colab.research.google.com/notebooks/data_table.ipynb>data table notebook</a>'\n",
              "          + ' to learn more about interactive tables.';\n",
              "        element.innerHTML = '';\n",
              "        dataTable['output_type'] = 'display_data';\n",
              "        await google.colab.output.renderOutput(dataTable, element);\n",
              "        const docLink = document.createElement('div');\n",
              "        docLink.innerHTML = docLinkHtml;\n",
              "        element.appendChild(docLink);\n",
              "      }\n",
              "    </script>\n",
              "  </div>\n",
              "\n",
              "\n",
              "    <div id=\"df-27ab1cba-a7fb-46bb-b127-7a9e2e0a0bcf\">\n",
              "      <button class=\"colab-df-quickchart\" onclick=\"quickchart('df-27ab1cba-a7fb-46bb-b127-7a9e2e0a0bcf')\"\n",
              "                title=\"Suggest charts\"\n",
              "                style=\"display:none;\">\n",
              "\n",
              "<svg xmlns=\"http://www.w3.org/2000/svg\" height=\"24px\"viewBox=\"0 0 24 24\"\n",
              "     width=\"24px\">\n",
              "    <g>\n",
              "        <path d=\"M19 3H5c-1.1 0-2 .9-2 2v14c0 1.1.9 2 2 2h14c1.1 0 2-.9 2-2V5c0-1.1-.9-2-2-2zM9 17H7v-7h2v7zm4 0h-2V7h2v10zm4 0h-2v-4h2v4z\"/>\n",
              "    </g>\n",
              "</svg>\n",
              "      </button>\n",
              "\n",
              "<style>\n",
              "  .colab-df-quickchart {\n",
              "      --bg-color: #E8F0FE;\n",
              "      --fill-color: #1967D2;\n",
              "      --hover-bg-color: #E2EBFA;\n",
              "      --hover-fill-color: #174EA6;\n",
              "      --disabled-fill-color: #AAA;\n",
              "      --disabled-bg-color: #DDD;\n",
              "  }\n",
              "\n",
              "  [theme=dark] .colab-df-quickchart {\n",
              "      --bg-color: #3B4455;\n",
              "      --fill-color: #D2E3FC;\n",
              "      --hover-bg-color: #434B5C;\n",
              "      --hover-fill-color: #FFFFFF;\n",
              "      --disabled-bg-color: #3B4455;\n",
              "      --disabled-fill-color: #666;\n",
              "  }\n",
              "\n",
              "  .colab-df-quickchart {\n",
              "    background-color: var(--bg-color);\n",
              "    border: none;\n",
              "    border-radius: 50%;\n",
              "    cursor: pointer;\n",
              "    display: none;\n",
              "    fill: var(--fill-color);\n",
              "    height: 32px;\n",
              "    padding: 0;\n",
              "    width: 32px;\n",
              "  }\n",
              "\n",
              "  .colab-df-quickchart:hover {\n",
              "    background-color: var(--hover-bg-color);\n",
              "    box-shadow: 0 1px 2px rgba(60, 64, 67, 0.3), 0 1px 3px 1px rgba(60, 64, 67, 0.15);\n",
              "    fill: var(--button-hover-fill-color);\n",
              "  }\n",
              "\n",
              "  .colab-df-quickchart-complete:disabled,\n",
              "  .colab-df-quickchart-complete:disabled:hover {\n",
              "    background-color: var(--disabled-bg-color);\n",
              "    fill: var(--disabled-fill-color);\n",
              "    box-shadow: none;\n",
              "  }\n",
              "\n",
              "  .colab-df-spinner {\n",
              "    border: 2px solid var(--fill-color);\n",
              "    border-color: transparent;\n",
              "    border-bottom-color: var(--fill-color);\n",
              "    animation:\n",
              "      spin 1s steps(1) infinite;\n",
              "  }\n",
              "\n",
              "  @keyframes spin {\n",
              "    0% {\n",
              "      border-color: transparent;\n",
              "      border-bottom-color: var(--fill-color);\n",
              "      border-left-color: var(--fill-color);\n",
              "    }\n",
              "    20% {\n",
              "      border-color: transparent;\n",
              "      border-left-color: var(--fill-color);\n",
              "      border-top-color: var(--fill-color);\n",
              "    }\n",
              "    30% {\n",
              "      border-color: transparent;\n",
              "      border-left-color: var(--fill-color);\n",
              "      border-top-color: var(--fill-color);\n",
              "      border-right-color: var(--fill-color);\n",
              "    }\n",
              "    40% {\n",
              "      border-color: transparent;\n",
              "      border-right-color: var(--fill-color);\n",
              "      border-top-color: var(--fill-color);\n",
              "    }\n",
              "    60% {\n",
              "      border-color: transparent;\n",
              "      border-right-color: var(--fill-color);\n",
              "    }\n",
              "    80% {\n",
              "      border-color: transparent;\n",
              "      border-right-color: var(--fill-color);\n",
              "      border-bottom-color: var(--fill-color);\n",
              "    }\n",
              "    90% {\n",
              "      border-color: transparent;\n",
              "      border-bottom-color: var(--fill-color);\n",
              "    }\n",
              "  }\n",
              "</style>\n",
              "\n",
              "      <script>\n",
              "        async function quickchart(key) {\n",
              "          const quickchartButtonEl =\n",
              "            document.querySelector('#' + key + ' button');\n",
              "          quickchartButtonEl.disabled = true;  // To prevent multiple clicks.\n",
              "          quickchartButtonEl.classList.add('colab-df-spinner');\n",
              "          try {\n",
              "            const charts = await google.colab.kernel.invokeFunction(\n",
              "                'suggestCharts', [key], {});\n",
              "          } catch (error) {\n",
              "            console.error('Error during call to suggestCharts:', error);\n",
              "          }\n",
              "          quickchartButtonEl.classList.remove('colab-df-spinner');\n",
              "          quickchartButtonEl.classList.add('colab-df-quickchart-complete');\n",
              "        }\n",
              "        (() => {\n",
              "          let quickchartButtonEl =\n",
              "            document.querySelector('#df-27ab1cba-a7fb-46bb-b127-7a9e2e0a0bcf button');\n",
              "          quickchartButtonEl.style.display =\n",
              "            google.colab.kernel.accessAllowed ? 'block' : 'none';\n",
              "        })();\n",
              "      </script>\n",
              "    </div>\n",
              "    </div>\n",
              "  </div>\n"
            ],
            "application/vnd.google.colaboratory.intrinsic+json": {
              "type": "dataframe",
              "variable_name": "diab_ece_groups",
              "summary": "{\n  \"name\": \"diab_ece_groups\",\n  \"rows\": 300,\n  \"fields\": [\n    {\n      \"column\": \"ECE\",\n      \"properties\": {\n        \"dtype\": \"number\",\n        \"std\": 0.0010287497776897258,\n        \"min\": 0.0032725842822961416,\n        \"max\": 0.008998201505198887,\n        \"num_unique_values\": 300,\n        \"samples\": [\n          0.007583508194121729,\n          0.005754821928741386,\n          0.005485263005519406\n        ],\n        \"semantic_type\": \"\",\n        \"description\": \"\"\n      }\n    },\n    {\n      \"column\": \"D_default\",\n      \"properties\": {\n        \"dtype\": \"number\",\n        \"std\": 0,\n        \"min\": 0,\n        \"max\": 1,\n        \"num_unique_values\": 2,\n        \"samples\": [\n          1,\n          0\n        ],\n        \"semantic_type\": \"\",\n        \"description\": \"\"\n      }\n    },\n    {\n      \"column\": \"D_optimal\",\n      \"properties\": {\n        \"dtype\": \"number\",\n        \"std\": 0,\n        \"min\": 0,\n        \"max\": 1,\n        \"num_unique_values\": 2,\n        \"samples\": [\n          1,\n          0\n        ],\n        \"semantic_type\": \"\",\n        \"description\": \"\"\n      }\n    }\n  ]\n}"
            }
          },
          "metadata": {},
          "execution_count": 130
        }
      ],
      "source": [
        "# Сформируйте датафрейм для проверки гипотезы\n",
        "# Добавьте в датафрейм два столбца с фиктивными переменными:\n",
        "#   D_default = 1, если group = 'ece_default'; 0 — иначе\n",
        "#   D_optimal = 1, если group = 'ece_optimal'; 0 — иначе\n",
        "\n",
        "diab_ece_groups['D_default'] = (diab_ece_groups['group'] == 'ece_default').astype(int)\n",
        "diab_ece_groups['D_optimal'] = (diab_ece_groups['group'] == 'ece_optimal').astype(int)\n",
        "diab_ece_groups = diab_ece_groups.drop(columns=['group'])\n",
        "diab_ece_groups"
      ]
    },
    {
      "cell_type": "code",
      "execution_count": null,
      "metadata": {
        "id": "TDyvdRPYNS_k"
      },
      "outputs": [],
      "source": [
        "# Выделите столбец ECE датафрейма diab_ece_groups в отдельную переменную\n",
        "\n",
        "X_diab_ece_groups, y_diab_ece_groups = diab_ece_groups.drop('ECE', axis=1),diab_ece_groups['ECE']"
      ]
    },
    {
      "cell_type": "code",
      "execution_count": null,
      "metadata": {
        "colab": {
          "base_uri": "https://localhost:8080/",
          "height": 465
        },
        "id": "KhZ2MaSCNS_l",
        "outputId": "fbe72e62-ea8d-4271-8178-00b6bde2e34c"
      },
      "outputs": [
        {
          "output_type": "execute_result",
          "data": {
            "text/plain": [
              "<class 'statsmodels.iolib.summary.Summary'>\n",
              "\"\"\"\n",
              "                            OLS Regression Results                            \n",
              "==============================================================================\n",
              "Dep. Variable:                    ECE   R-squared:                       0.060\n",
              "Model:                            OLS   Adj. R-squared:                  0.053\n",
              "Method:                 Least Squares   F-statistic:                     9.427\n",
              "Date:                Mon, 06 Oct 2025   Prob (F-statistic):           0.000107\n",
              "Time:                        22:10:08   Log-Likelihood:                 1647.9\n",
              "No. Observations:                 300   AIC:                            -3290.\n",
              "Df Residuals:                     297   BIC:                            -3279.\n",
              "Df Model:                           2                                         \n",
              "Covariance Type:            nonrobust                                         \n",
              "==============================================================================\n",
              "                 coef    std err          t      P>|t|      [0.025      0.975]\n",
              "------------------------------------------------------------------------------\n",
              "const          0.0062      0.000     62.323      0.000       0.006       0.006\n",
              "D_default      0.0005      0.000      3.815      0.000       0.000       0.001\n",
              "D_optimal      0.0005      0.000      3.703      0.000       0.000       0.001\n",
              "==============================================================================\n",
              "Omnibus:                        1.534   Durbin-Watson:                   1.959\n",
              "Prob(Omnibus):                  0.464   Jarque-Bera (JB):                1.578\n",
              "Skew:                           0.122   Prob(JB):                        0.454\n",
              "Kurtosis:                       2.742   Cond. No.                         3.73\n",
              "==============================================================================\n",
              "\n",
              "Notes:\n",
              "[1] Standard Errors assume that the covariance matrix of the errors is correctly specified.\n",
              "\"\"\""
            ],
            "text/html": [
              "<table class=\"simpletable\">\n",
              "<caption>OLS Regression Results</caption>\n",
              "<tr>\n",
              "  <th>Dep. Variable:</th>           <td>ECE</td>       <th>  R-squared:         </th> <td>   0.060</td>\n",
              "</tr>\n",
              "<tr>\n",
              "  <th>Model:</th>                   <td>OLS</td>       <th>  Adj. R-squared:    </th> <td>   0.053</td>\n",
              "</tr>\n",
              "<tr>\n",
              "  <th>Method:</th>             <td>Least Squares</td>  <th>  F-statistic:       </th> <td>   9.427</td>\n",
              "</tr>\n",
              "<tr>\n",
              "  <th>Date:</th>             <td>Mon, 06 Oct 2025</td> <th>  Prob (F-statistic):</th> <td>0.000107</td>\n",
              "</tr>\n",
              "<tr>\n",
              "  <th>Time:</th>                 <td>22:10:08</td>     <th>  Log-Likelihood:    </th> <td>  1647.9</td>\n",
              "</tr>\n",
              "<tr>\n",
              "  <th>No. Observations:</th>      <td>   300</td>      <th>  AIC:               </th> <td>  -3290.</td>\n",
              "</tr>\n",
              "<tr>\n",
              "  <th>Df Residuals:</th>          <td>   297</td>      <th>  BIC:               </th> <td>  -3279.</td>\n",
              "</tr>\n",
              "<tr>\n",
              "  <th>Df Model:</th>              <td>     2</td>      <th>                     </th>     <td> </td>   \n",
              "</tr>\n",
              "<tr>\n",
              "  <th>Covariance Type:</th>      <td>nonrobust</td>    <th>                     </th>     <td> </td>   \n",
              "</tr>\n",
              "</table>\n",
              "<table class=\"simpletable\">\n",
              "<tr>\n",
              "      <td></td>         <th>coef</th>     <th>std err</th>      <th>t</th>      <th>P>|t|</th>  <th>[0.025</th>    <th>0.975]</th>  \n",
              "</tr>\n",
              "<tr>\n",
              "  <th>const</th>     <td>    0.0062</td> <td>    0.000</td> <td>   62.323</td> <td> 0.000</td> <td>    0.006</td> <td>    0.006</td>\n",
              "</tr>\n",
              "<tr>\n",
              "  <th>D_default</th> <td>    0.0005</td> <td>    0.000</td> <td>    3.815</td> <td> 0.000</td> <td>    0.000</td> <td>    0.001</td>\n",
              "</tr>\n",
              "<tr>\n",
              "  <th>D_optimal</th> <td>    0.0005</td> <td>    0.000</td> <td>    3.703</td> <td> 0.000</td> <td>    0.000</td> <td>    0.001</td>\n",
              "</tr>\n",
              "</table>\n",
              "<table class=\"simpletable\">\n",
              "<tr>\n",
              "  <th>Omnibus:</th>       <td> 1.534</td> <th>  Durbin-Watson:     </th> <td>   1.959</td>\n",
              "</tr>\n",
              "<tr>\n",
              "  <th>Prob(Omnibus):</th> <td> 0.464</td> <th>  Jarque-Bera (JB):  </th> <td>   1.578</td>\n",
              "</tr>\n",
              "<tr>\n",
              "  <th>Skew:</th>          <td> 0.122</td> <th>  Prob(JB):          </th> <td>   0.454</td>\n",
              "</tr>\n",
              "<tr>\n",
              "  <th>Kurtosis:</th>      <td> 2.742</td> <th>  Cond. No.          </th> <td>    3.73</td>\n",
              "</tr>\n",
              "</table><br/><br/>Notes:<br/>[1] Standard Errors assume that the covariance matrix of the errors is correctly specified."
            ],
            "text/latex": "\\begin{center}\n\\begin{tabular}{lclc}\n\\toprule\n\\textbf{Dep. Variable:}    &       ECE        & \\textbf{  R-squared:         } &     0.060   \\\\\n\\textbf{Model:}            &       OLS        & \\textbf{  Adj. R-squared:    } &     0.053   \\\\\n\\textbf{Method:}           &  Least Squares   & \\textbf{  F-statistic:       } &     9.427   \\\\\n\\textbf{Date:}             & Mon, 06 Oct 2025 & \\textbf{  Prob (F-statistic):} &  0.000107   \\\\\n\\textbf{Time:}             &     22:10:08     & \\textbf{  Log-Likelihood:    } &    1647.9   \\\\\n\\textbf{No. Observations:} &         300      & \\textbf{  AIC:               } &    -3290.   \\\\\n\\textbf{Df Residuals:}     &         297      & \\textbf{  BIC:               } &    -3279.   \\\\\n\\textbf{Df Model:}         &           2      & \\textbf{                     } &             \\\\\n\\textbf{Covariance Type:}  &    nonrobust     & \\textbf{                     } &             \\\\\n\\bottomrule\n\\end{tabular}\n\\begin{tabular}{lcccccc}\n                    & \\textbf{coef} & \\textbf{std err} & \\textbf{t} & \\textbf{P$> |$t$|$} & \\textbf{[0.025} & \\textbf{0.975]}  \\\\\n\\midrule\n\\textbf{const}      &       0.0062  &        0.000     &    62.323  &         0.000        &        0.006    &        0.006     \\\\\n\\textbf{D\\_default} &       0.0005  &        0.000     &     3.815  &         0.000        &        0.000    &        0.001     \\\\\n\\textbf{D\\_optimal} &       0.0005  &        0.000     &     3.703  &         0.000        &        0.000    &        0.001     \\\\\n\\bottomrule\n\\end{tabular}\n\\begin{tabular}{lclc}\n\\textbf{Omnibus:}       &  1.534 & \\textbf{  Durbin-Watson:     } &    1.959  \\\\\n\\textbf{Prob(Omnibus):} &  0.464 & \\textbf{  Jarque-Bera (JB):  } &    1.578  \\\\\n\\textbf{Skew:}          &  0.122 & \\textbf{  Prob(JB):          } &    0.454  \\\\\n\\textbf{Kurtosis:}      &  2.742 & \\textbf{  Cond. No.          } &     3.73  \\\\\n\\bottomrule\n\\end{tabular}\n%\\caption{OLS Regression Results}\n\\end{center}\n\nNotes: \\newline\n [1] Standard Errors assume that the covariance matrix of the errors is correctly specified."
          },
          "metadata": {},
          "execution_count": 136
        }
      ],
      "source": [
        "# Проверьте гипотезу о равенстве средних значений метрики ECE в трех группах, используя ols_ece_diab\n",
        "# Выведите summary для ols_ece_diab\n",
        "# Перед обучением ols_ece_diab необходимо добавить константу к X_diab_ece_groups с помощью метода add_constant\n",
        "\n",
        "X_diab_ece_groups_const = sm.add_constant(X_diab_ece_groups)\n",
        "ols_ece_diab = OLS(y_diab_ece_groups, X_diab_ece_groups_const).fit()\n",
        "ols_ece_diab.summary()"
      ]
    },
    {
      "cell_type": "markdown",
      "metadata": {
        "id": "nghKXdUSNS_l"
      },
      "source": [
        "### ***Задание 4***\n",
        "\n",
        "**ВНИМАНИЕ:** Для решения этого задания используйте:\n",
        "\n",
        "* Тестовую выборку **до масштабирования** из задания 2: `X_diab_test`, `y_diab_test`.\n",
        "\n",
        "* Обученную модель `lr_diab` из задания 3.\n",
        "\n",
        "В рамках тестовой выборки `X_diab_test` отберите несколько пациентов по заданным условиям (метод [query](https://pandas.pydata.org/docs/user_guide/indexing.html#the-query-method)) и с помощью модели `lr_diab` предскажите вероятности целевого класса для каждого из этих пациентов. Условия для отбора пациентов:\n",
        "\n",
        "* Возраст — 54.\n",
        "\n",
        "* Пол — мужчина.\n",
        "\n",
        "* Наличие гипертонии — нет.\n",
        "\n",
        "* Наличие сердечно-сосудистых заболеваний — да.\n",
        "\n",
        "* Индекс массы тела (BMI) — от 27 (включительно) до 28 (включительно).\n",
        "\n",
        "* Уровень гликированного гемоглобина — не меньше 6.\n",
        "\n",
        "* Уровень глюкозы в крови — не больше 155."
      ]
    },
    {
      "cell_type": "code",
      "source": [
        "X_diab_test.info()"
      ],
      "metadata": {
        "colab": {
          "base_uri": "https://localhost:8080/"
        },
        "id": "S_8TFlOzmh6Z",
        "outputId": "236c3db3-c818-4e46-a725-08732545026e"
      },
      "execution_count": null,
      "outputs": [
        {
          "output_type": "stream",
          "name": "stdout",
          "text": [
            "<class 'pandas.core.frame.DataFrame'>\n",
            "Index: 39993 entries, 56292 to 3794\n",
            "Data columns (total 7 columns):\n",
            " #   Column               Non-Null Count  Dtype  \n",
            "---  ------               --------------  -----  \n",
            " 0   age                  39993 non-null  float64\n",
            " 1   bmi                  39993 non-null  float64\n",
            " 2   HbA1c_level          39993 non-null  float64\n",
            " 3   blood_glucose_level  39993 non-null  int64  \n",
            " 4   gender_Male          39993 non-null  float64\n",
            " 5   hypertension_Yes     39993 non-null  float64\n",
            " 6   heart_disease_Yes    39993 non-null  float64\n",
            "dtypes: float64(6), int64(1)\n",
            "memory usage: 2.4 MB\n"
          ]
        }
      ]
    },
    {
      "cell_type": "code",
      "execution_count": 15,
      "metadata": {
        "colab": {
          "base_uri": "https://localhost:8080/",
          "height": 143
        },
        "id": "RBaMXmo5NS_l",
        "outputId": "2023a3d8-cb56-4257-d53a-be0fe8050636"
      },
      "outputs": [
        {
          "output_type": "execute_result",
          "data": {
            "text/plain": [
              "        age    bmi  HbA1c_level  blood_glucose_level  gender_Male  \\\n",
              "3327   54.0  27.32          8.8                  130          1.0   \n",
              "94355  54.0  27.32          6.0                   85          1.0   \n",
              "72982  54.0  27.32          6.5                  155          1.0   \n",
              "\n",
              "       hypertension_Yes  heart_disease_Yes  \n",
              "3327                0.0                1.0  \n",
              "94355               0.0                1.0  \n",
              "72982               0.0                1.0  "
            ],
            "text/html": [
              "\n",
              "  <div id=\"df-a5c9a319-3fdc-4922-b400-c667aa9aab9f\" class=\"colab-df-container\">\n",
              "    <div>\n",
              "<style scoped>\n",
              "    .dataframe tbody tr th:only-of-type {\n",
              "        vertical-align: middle;\n",
              "    }\n",
              "\n",
              "    .dataframe tbody tr th {\n",
              "        vertical-align: top;\n",
              "    }\n",
              "\n",
              "    .dataframe thead th {\n",
              "        text-align: right;\n",
              "    }\n",
              "</style>\n",
              "<table border=\"1\" class=\"dataframe\">\n",
              "  <thead>\n",
              "    <tr style=\"text-align: right;\">\n",
              "      <th></th>\n",
              "      <th>age</th>\n",
              "      <th>bmi</th>\n",
              "      <th>HbA1c_level</th>\n",
              "      <th>blood_glucose_level</th>\n",
              "      <th>gender_Male</th>\n",
              "      <th>hypertension_Yes</th>\n",
              "      <th>heart_disease_Yes</th>\n",
              "    </tr>\n",
              "  </thead>\n",
              "  <tbody>\n",
              "    <tr>\n",
              "      <th>3327</th>\n",
              "      <td>54.0</td>\n",
              "      <td>27.32</td>\n",
              "      <td>8.8</td>\n",
              "      <td>130</td>\n",
              "      <td>1.0</td>\n",
              "      <td>0.0</td>\n",
              "      <td>1.0</td>\n",
              "    </tr>\n",
              "    <tr>\n",
              "      <th>94355</th>\n",
              "      <td>54.0</td>\n",
              "      <td>27.32</td>\n",
              "      <td>6.0</td>\n",
              "      <td>85</td>\n",
              "      <td>1.0</td>\n",
              "      <td>0.0</td>\n",
              "      <td>1.0</td>\n",
              "    </tr>\n",
              "    <tr>\n",
              "      <th>72982</th>\n",
              "      <td>54.0</td>\n",
              "      <td>27.32</td>\n",
              "      <td>6.5</td>\n",
              "      <td>155</td>\n",
              "      <td>1.0</td>\n",
              "      <td>0.0</td>\n",
              "      <td>1.0</td>\n",
              "    </tr>\n",
              "  </tbody>\n",
              "</table>\n",
              "</div>\n",
              "    <div class=\"colab-df-buttons\">\n",
              "\n",
              "  <div class=\"colab-df-container\">\n",
              "    <button class=\"colab-df-convert\" onclick=\"convertToInteractive('df-a5c9a319-3fdc-4922-b400-c667aa9aab9f')\"\n",
              "            title=\"Convert this dataframe to an interactive table.\"\n",
              "            style=\"display:none;\">\n",
              "\n",
              "  <svg xmlns=\"http://www.w3.org/2000/svg\" height=\"24px\" viewBox=\"0 -960 960 960\">\n",
              "    <path d=\"M120-120v-720h720v720H120Zm60-500h600v-160H180v160Zm220 220h160v-160H400v160Zm0 220h160v-160H400v160ZM180-400h160v-160H180v160Zm440 0h160v-160H620v160ZM180-180h160v-160H180v160Zm440 0h160v-160H620v160Z\"/>\n",
              "  </svg>\n",
              "    </button>\n",
              "\n",
              "  <style>\n",
              "    .colab-df-container {\n",
              "      display:flex;\n",
              "      gap: 12px;\n",
              "    }\n",
              "\n",
              "    .colab-df-convert {\n",
              "      background-color: #E8F0FE;\n",
              "      border: none;\n",
              "      border-radius: 50%;\n",
              "      cursor: pointer;\n",
              "      display: none;\n",
              "      fill: #1967D2;\n",
              "      height: 32px;\n",
              "      padding: 0 0 0 0;\n",
              "      width: 32px;\n",
              "    }\n",
              "\n",
              "    .colab-df-convert:hover {\n",
              "      background-color: #E2EBFA;\n",
              "      box-shadow: 0px 1px 2px rgba(60, 64, 67, 0.3), 0px 1px 3px 1px rgba(60, 64, 67, 0.15);\n",
              "      fill: #174EA6;\n",
              "    }\n",
              "\n",
              "    .colab-df-buttons div {\n",
              "      margin-bottom: 4px;\n",
              "    }\n",
              "\n",
              "    [theme=dark] .colab-df-convert {\n",
              "      background-color: #3B4455;\n",
              "      fill: #D2E3FC;\n",
              "    }\n",
              "\n",
              "    [theme=dark] .colab-df-convert:hover {\n",
              "      background-color: #434B5C;\n",
              "      box-shadow: 0px 1px 3px 1px rgba(0, 0, 0, 0.15);\n",
              "      filter: drop-shadow(0px 1px 2px rgba(0, 0, 0, 0.3));\n",
              "      fill: #FFFFFF;\n",
              "    }\n",
              "  </style>\n",
              "\n",
              "    <script>\n",
              "      const buttonEl =\n",
              "        document.querySelector('#df-a5c9a319-3fdc-4922-b400-c667aa9aab9f button.colab-df-convert');\n",
              "      buttonEl.style.display =\n",
              "        google.colab.kernel.accessAllowed ? 'block' : 'none';\n",
              "\n",
              "      async function convertToInteractive(key) {\n",
              "        const element = document.querySelector('#df-a5c9a319-3fdc-4922-b400-c667aa9aab9f');\n",
              "        const dataTable =\n",
              "          await google.colab.kernel.invokeFunction('convertToInteractive',\n",
              "                                                    [key], {});\n",
              "        if (!dataTable) return;\n",
              "\n",
              "        const docLinkHtml = 'Like what you see? Visit the ' +\n",
              "          '<a target=\"_blank\" href=https://colab.research.google.com/notebooks/data_table.ipynb>data table notebook</a>'\n",
              "          + ' to learn more about interactive tables.';\n",
              "        element.innerHTML = '';\n",
              "        dataTable['output_type'] = 'display_data';\n",
              "        await google.colab.output.renderOutput(dataTable, element);\n",
              "        const docLink = document.createElement('div');\n",
              "        docLink.innerHTML = docLinkHtml;\n",
              "        element.appendChild(docLink);\n",
              "      }\n",
              "    </script>\n",
              "  </div>\n",
              "\n",
              "\n",
              "    <div id=\"df-0fd3540e-ee9d-4361-9cdb-e05e2b3f031d\">\n",
              "      <button class=\"colab-df-quickchart\" onclick=\"quickchart('df-0fd3540e-ee9d-4361-9cdb-e05e2b3f031d')\"\n",
              "                title=\"Suggest charts\"\n",
              "                style=\"display:none;\">\n",
              "\n",
              "<svg xmlns=\"http://www.w3.org/2000/svg\" height=\"24px\"viewBox=\"0 0 24 24\"\n",
              "     width=\"24px\">\n",
              "    <g>\n",
              "        <path d=\"M19 3H5c-1.1 0-2 .9-2 2v14c0 1.1.9 2 2 2h14c1.1 0 2-.9 2-2V5c0-1.1-.9-2-2-2zM9 17H7v-7h2v7zm4 0h-2V7h2v10zm4 0h-2v-4h2v4z\"/>\n",
              "    </g>\n",
              "</svg>\n",
              "      </button>\n",
              "\n",
              "<style>\n",
              "  .colab-df-quickchart {\n",
              "      --bg-color: #E8F0FE;\n",
              "      --fill-color: #1967D2;\n",
              "      --hover-bg-color: #E2EBFA;\n",
              "      --hover-fill-color: #174EA6;\n",
              "      --disabled-fill-color: #AAA;\n",
              "      --disabled-bg-color: #DDD;\n",
              "  }\n",
              "\n",
              "  [theme=dark] .colab-df-quickchart {\n",
              "      --bg-color: #3B4455;\n",
              "      --fill-color: #D2E3FC;\n",
              "      --hover-bg-color: #434B5C;\n",
              "      --hover-fill-color: #FFFFFF;\n",
              "      --disabled-bg-color: #3B4455;\n",
              "      --disabled-fill-color: #666;\n",
              "  }\n",
              "\n",
              "  .colab-df-quickchart {\n",
              "    background-color: var(--bg-color);\n",
              "    border: none;\n",
              "    border-radius: 50%;\n",
              "    cursor: pointer;\n",
              "    display: none;\n",
              "    fill: var(--fill-color);\n",
              "    height: 32px;\n",
              "    padding: 0;\n",
              "    width: 32px;\n",
              "  }\n",
              "\n",
              "  .colab-df-quickchart:hover {\n",
              "    background-color: var(--hover-bg-color);\n",
              "    box-shadow: 0 1px 2px rgba(60, 64, 67, 0.3), 0 1px 3px 1px rgba(60, 64, 67, 0.15);\n",
              "    fill: var(--button-hover-fill-color);\n",
              "  }\n",
              "\n",
              "  .colab-df-quickchart-complete:disabled,\n",
              "  .colab-df-quickchart-complete:disabled:hover {\n",
              "    background-color: var(--disabled-bg-color);\n",
              "    fill: var(--disabled-fill-color);\n",
              "    box-shadow: none;\n",
              "  }\n",
              "\n",
              "  .colab-df-spinner {\n",
              "    border: 2px solid var(--fill-color);\n",
              "    border-color: transparent;\n",
              "    border-bottom-color: var(--fill-color);\n",
              "    animation:\n",
              "      spin 1s steps(1) infinite;\n",
              "  }\n",
              "\n",
              "  @keyframes spin {\n",
              "    0% {\n",
              "      border-color: transparent;\n",
              "      border-bottom-color: var(--fill-color);\n",
              "      border-left-color: var(--fill-color);\n",
              "    }\n",
              "    20% {\n",
              "      border-color: transparent;\n",
              "      border-left-color: var(--fill-color);\n",
              "      border-top-color: var(--fill-color);\n",
              "    }\n",
              "    30% {\n",
              "      border-color: transparent;\n",
              "      border-left-color: var(--fill-color);\n",
              "      border-top-color: var(--fill-color);\n",
              "      border-right-color: var(--fill-color);\n",
              "    }\n",
              "    40% {\n",
              "      border-color: transparent;\n",
              "      border-right-color: var(--fill-color);\n",
              "      border-top-color: var(--fill-color);\n",
              "    }\n",
              "    60% {\n",
              "      border-color: transparent;\n",
              "      border-right-color: var(--fill-color);\n",
              "    }\n",
              "    80% {\n",
              "      border-color: transparent;\n",
              "      border-right-color: var(--fill-color);\n",
              "      border-bottom-color: var(--fill-color);\n",
              "    }\n",
              "    90% {\n",
              "      border-color: transparent;\n",
              "      border-bottom-color: var(--fill-color);\n",
              "    }\n",
              "  }\n",
              "</style>\n",
              "\n",
              "      <script>\n",
              "        async function quickchart(key) {\n",
              "          const quickchartButtonEl =\n",
              "            document.querySelector('#' + key + ' button');\n",
              "          quickchartButtonEl.disabled = true;  // To prevent multiple clicks.\n",
              "          quickchartButtonEl.classList.add('colab-df-spinner');\n",
              "          try {\n",
              "            const charts = await google.colab.kernel.invokeFunction(\n",
              "                'suggestCharts', [key], {});\n",
              "          } catch (error) {\n",
              "            console.error('Error during call to suggestCharts:', error);\n",
              "          }\n",
              "          quickchartButtonEl.classList.remove('colab-df-spinner');\n",
              "          quickchartButtonEl.classList.add('colab-df-quickchart-complete');\n",
              "        }\n",
              "        (() => {\n",
              "          let quickchartButtonEl =\n",
              "            document.querySelector('#df-0fd3540e-ee9d-4361-9cdb-e05e2b3f031d button');\n",
              "          quickchartButtonEl.style.display =\n",
              "            google.colab.kernel.accessAllowed ? 'block' : 'none';\n",
              "        })();\n",
              "      </script>\n",
              "    </div>\n",
              "    </div>\n",
              "  </div>\n"
            ],
            "application/vnd.google.colaboratory.intrinsic+json": {
              "type": "dataframe",
              "variable_name": "X_diab_test_sample",
              "summary": "{\n  \"name\": \"X_diab_test_sample\",\n  \"rows\": 3,\n  \"fields\": [\n    {\n      \"column\": \"age\",\n      \"properties\": {\n        \"dtype\": \"number\",\n        \"std\": 0.0,\n        \"min\": 54.0,\n        \"max\": 54.0,\n        \"num_unique_values\": 1,\n        \"samples\": [\n          54.0\n        ],\n        \"semantic_type\": \"\",\n        \"description\": \"\"\n      }\n    },\n    {\n      \"column\": \"bmi\",\n      \"properties\": {\n        \"dtype\": \"number\",\n        \"std\": 4.351167857633658e-15,\n        \"min\": 27.32,\n        \"max\": 27.32,\n        \"num_unique_values\": 1,\n        \"samples\": [\n          27.32\n        ],\n        \"semantic_type\": \"\",\n        \"description\": \"\"\n      }\n    },\n    {\n      \"column\": \"HbA1c_level\",\n      \"properties\": {\n        \"dtype\": \"number\",\n        \"std\": 1.4933184523068082,\n        \"min\": 6.0,\n        \"max\": 8.8,\n        \"num_unique_values\": 3,\n        \"samples\": [\n          8.8\n        ],\n        \"semantic_type\": \"\",\n        \"description\": \"\"\n      }\n    },\n    {\n      \"column\": \"blood_glucose_level\",\n      \"properties\": {\n        \"dtype\": \"number\",\n        \"std\": 35,\n        \"min\": 85,\n        \"max\": 155,\n        \"num_unique_values\": 3,\n        \"samples\": [\n          130\n        ],\n        \"semantic_type\": \"\",\n        \"description\": \"\"\n      }\n    },\n    {\n      \"column\": \"gender_Male\",\n      \"properties\": {\n        \"dtype\": \"number\",\n        \"std\": 0.0,\n        \"min\": 1.0,\n        \"max\": 1.0,\n        \"num_unique_values\": 1,\n        \"samples\": [\n          1.0\n        ],\n        \"semantic_type\": \"\",\n        \"description\": \"\"\n      }\n    },\n    {\n      \"column\": \"hypertension_Yes\",\n      \"properties\": {\n        \"dtype\": \"number\",\n        \"std\": 0.0,\n        \"min\": 0.0,\n        \"max\": 0.0,\n        \"num_unique_values\": 1,\n        \"samples\": [\n          0.0\n        ],\n        \"semantic_type\": \"\",\n        \"description\": \"\"\n      }\n    },\n    {\n      \"column\": \"heart_disease_Yes\",\n      \"properties\": {\n        \"dtype\": \"number\",\n        \"std\": 0.0,\n        \"min\": 1.0,\n        \"max\": 1.0,\n        \"num_unique_values\": 1,\n        \"samples\": [\n          1.0\n        ],\n        \"semantic_type\": \"\",\n        \"description\": \"\"\n      }\n    }\n  ]\n}"
            }
          },
          "metadata": {},
          "execution_count": 15
        }
      ],
      "source": [
        "# В рамках тестовой выборки X_diab_test отберите несколько пациентов по заданным условиям\n",
        "\n",
        "X_diab_test_sample = X_diab_test.query('age==54 &'\\\n",
        "                                      'gender_Male==1 &'\\\n",
        "                                      'hypertension_Yes==0 &'\\\n",
        "                                      'heart_disease_Yes==1 &'\\\n",
        "                                      'bmi >= 27 & bmi <= 28 &'\\\n",
        "                                      'HbA1c_level >= 6 &'\\\n",
        "                                      'blood_glucose_level <= 155')\n",
        "diab_test_sample_ids = X_diab_test_sample.index\n",
        "X_diab_test_sample"
      ]
    },
    {
      "cell_type": "code",
      "execution_count": 16,
      "metadata": {
        "colab": {
          "base_uri": "https://localhost:8080/",
          "height": 178
        },
        "id": "IZKyE-eINS_l",
        "outputId": "89412024-58d7-42f9-9b64-3e3a66564d68"
      },
      "outputs": [
        {
          "output_type": "execute_result",
          "data": {
            "text/plain": [
              "3327     0.984612\n",
              "94355    0.032684\n",
              "72982    0.487272\n",
              "dtype: float64"
            ],
            "text/html": [
              "<div>\n",
              "<style scoped>\n",
              "    .dataframe tbody tr th:only-of-type {\n",
              "        vertical-align: middle;\n",
              "    }\n",
              "\n",
              "    .dataframe tbody tr th {\n",
              "        vertical-align: top;\n",
              "    }\n",
              "\n",
              "    .dataframe thead th {\n",
              "        text-align: right;\n",
              "    }\n",
              "</style>\n",
              "<table border=\"1\" class=\"dataframe\">\n",
              "  <thead>\n",
              "    <tr style=\"text-align: right;\">\n",
              "      <th></th>\n",
              "      <th>0</th>\n",
              "    </tr>\n",
              "  </thead>\n",
              "  <tbody>\n",
              "    <tr>\n",
              "      <th>3327</th>\n",
              "      <td>0.984612</td>\n",
              "    </tr>\n",
              "    <tr>\n",
              "      <th>94355</th>\n",
              "      <td>0.032684</td>\n",
              "    </tr>\n",
              "    <tr>\n",
              "      <th>72982</th>\n",
              "      <td>0.487272</td>\n",
              "    </tr>\n",
              "  </tbody>\n",
              "</table>\n",
              "</div><br><label><b>dtype:</b> float64</label>"
            ]
          },
          "metadata": {},
          "execution_count": 16
        }
      ],
      "source": [
        "# C помощью модели lr_diab предскажите вероятности целевого класса для каждого из пациентов в X_diab_test_sample\n",
        "\n",
        "y_test_sample_lr_diab = pd.Series(lr_diab.predict_proba(X_diab_test_sample)[:,1], index=diab_test_sample_ids)\n",
        "y_test_sample_lr_diab"
      ]
    },
    {
      "cell_type": "markdown",
      "metadata": {
        "id": "8Np8GmgfNS_l"
      },
      "source": [
        "### ***Задание 5***\n",
        "\n",
        "**ВНИМАНИЕ:** Для решения этого задания используйте:\n",
        "\n",
        "* Тестовую выборку **до масштабирования** из задания 2: `X_diab_test`, `y_diab_test`.\n",
        "\n",
        "* Датасет с отобранными в задании 4 пациентами: `X_diab_test_sample`.\n",
        "\n",
        "* Обученную модель `lr_diab` из задания 3.\n",
        "\n",
        "Для отобранных пациентов (`X_diab_test_sample`) скорректируйте данные при следующих **последовательных** событиях:\n",
        "\n",
        "1. Событие 1: коррекция оборудования. Выяснилось, что оборудование, собирающее анализы у пациентов, завышает значение уровня гликированного гемоглобина (HbA1c_level) у всех отобранных пациентов на 0.2. Уменьшите значение гликированного гемоглобина (HbA1c_level) у отобранных пациентов на 0.2.\n",
        "\n",
        "2. Событие 2: уточнение диагноза. Благодаря новым методам диагностики, у некоторых пациентов была диагностирована гипертония, в том числе и у всех отобранных пациентов. Для отобранных пациентов установите флаг наличия гипертонии (hypertension = 1).\n",
        "\n",
        "3. Событие 3: учет погрешности измерений. Чтобы учесть возможность ошибки в результатах анализов, было принято решение также считать вероятность диабета в случае, когда уровень глюкозы в крови (blood_glucose_level) выше текущего на величину стандартного отклонения в выборке (тестовой). Для отобранных пациентов увеличьте уровень глюкозы в крови (blood_glucose_level) на величину стандартного отклонения blood_glucose_level в тестовой выборке `X_diab_test_sample`.\n",
        "\n",
        "После каждой коррекции данных определите изменение вероятности предсказания наличия диабета для отобранных пациентов."
      ]
    },
    {
      "cell_type": "code",
      "execution_count": 17,
      "metadata": {
        "colab": {
          "base_uri": "https://localhost:8080/"
        },
        "id": "MgXnv8RmNS_l",
        "outputId": "3ddaa891-a51e-47d8-fe46-0cff502c1237"
      },
      "outputs": [
        {
          "output_type": "stream",
          "name": "stdout",
          "text": [
            "3327     0.999800\n",
            "94355    0.725266\n",
            "72982    0.986711\n",
            "dtype: float64\n",
            "3327     0.015188\n",
            "94355    0.692582\n",
            "72982    0.499439\n",
            "dtype: float64\n"
          ]
        }
      ],
      "source": [
        "# Событие 1: коррекция оборудования\n",
        "# Определите изменение вероятности предсказания наличия диабета при изменении HbA1c_level\n",
        "X_diab_test_sample_modified = X_diab_test_sample.copy()\n",
        "X_diab_test_sample_modified['HbA1c_level'] +=2\n",
        "y_test_sample_lr_diab_edit1 = pd.Series(lr_diab.predict_proba(X_diab_test_sample_modified)[:,1], index=X_diab_test_sample_modified.index)\n",
        "print(y_test_sample_lr_diab_edit1)\n",
        "print(y_test_sample_lr_diab_edit1-y_test_sample_lr_diab)"
      ]
    },
    {
      "cell_type": "code",
      "execution_count": 18,
      "metadata": {
        "colab": {
          "base_uri": "https://localhost:8080/"
        },
        "id": "DCJ4tUk8NS_l",
        "outputId": "2e868a41-1348-4444-87e6-0f4c53c7794c"
      },
      "outputs": [
        {
          "output_type": "stream",
          "name": "stdout",
          "text": [
            "3327     0.999837\n",
            "94355    0.763629\n",
            "72982    0.989115\n",
            "dtype: float64\n",
            "3327     0.000037\n",
            "94355    0.038362\n",
            "72982    0.002404\n",
            "dtype: float64\n"
          ]
        }
      ],
      "source": [
        "# Событие 2: уточнение диагноза\n",
        "# Определите изменение вероятности предсказания наличия диабета при изменении hypertension\n",
        "# ВНИМАНИЕ: корректировка hypertension происходит после изменения HbA1c_level\n",
        "\n",
        "X_diab_test_sample_modified2 = X_diab_test_sample_modified.copy()\n",
        "X_diab_test_sample_modified2['hypertension_Yes']=1\n",
        "y_test_sample_lr_diab_edit2 = pd.Series(lr_diab.predict_proba(X_diab_test_sample_modified2)[:,1], index=X_diab_test_sample_modified2.index)\n",
        "print(y_test_sample_lr_diab_edit2)\n",
        "print(y_test_sample_lr_diab_edit2-y_test_sample_lr_diab_edit1)\n"
      ]
    },
    {
      "cell_type": "code",
      "execution_count": 19,
      "metadata": {
        "colab": {
          "base_uri": "https://localhost:8080/"
        },
        "id": "Z0tMUR4PNS_l",
        "outputId": "8c27330a-0e80-4086-b9cc-0a0b1fe4173f"
      },
      "outputs": [
        {
          "output_type": "stream",
          "name": "stdout",
          "text": [
            "3327     0.999948\n",
            "94355    0.909818\n",
            "72982    0.996488\n",
            "dtype: float64\n",
            "3327     0.000111\n",
            "94355    0.146190\n",
            "72982    0.007374\n",
            "dtype: float64\n"
          ]
        }
      ],
      "source": [
        "# Событие 3: учет погрешности измерений\n",
        "# Определите изменение вероятности предсказания наличия диабета при изменении blood_glucose_level\n",
        "# ВНИМАНИЕ: корректировка blood_glucose_level происходит после изменения HbA1c_level и hypertension\n",
        "X_diab_test_sample_modified3 = X_diab_test_sample_modified2.copy()\n",
        "X_diab_test_sample_modified3['blood_glucose_level'] += X_diab_test_sample_modified3.blood_glucose_level.std()\n",
        "y_test_sample_lr_diab_edit3 = pd.Series(lr_diab.predict_proba(X_diab_test_sample_modified3)[:,1], index=X_diab_test_sample_modified3.index)\n",
        "\n",
        "print(y_test_sample_lr_diab_edit3)\n",
        "print(y_test_sample_lr_diab_edit3-y_test_sample_lr_diab_edit2)\n"
      ]
    },
    {
      "cell_type": "markdown",
      "metadata": {
        "id": "UtHh-x0KNS_l"
      },
      "source": [
        "### **ColumnTransformer и Pipeline**\n",
        "\n",
        "ColumnTransformer и Pipeline из библиотеки scikit-learn — это инструменты, которые позволяют автоматизировать и упорядочить процесс предобработки данных для обучения моделей машинного обучения.\n",
        "\n",
        "**ColumnTransformer** — это инструмент, позволяющий применять различные преобразования к разным столбцам данных (например, числовым и категориальным), объединяя результаты в единую табличную структуру. Это особенно полезно для датасетов с разнородными типами признаков.\n",
        "\n",
        "В рамках заданий ColumnTransformer будет использоваться для автоматизации стандартных шагов предобработки (масштабирование числовых признаков и One-Hot кодирование категориальных признаков) перед подачей их в модель.\n",
        "\n",
        "**Pipeline (пайплайн, конвейер)** — это инструмент объединения последовательности этапов обработки данных и обучения модели в единый объект. Каждый этап пайплайна должен быть трансформатором (иметь методы fit и transform), кроме последнего, который может быть моделью (например, классификатором или регрессором). Это инкапсулирует всю цепочку действий, предотвращает утечку данных на обучающих/тестовых выборках, облегчает повторяемость экспериментов, делает код прозрачным и легко расширяемым.\n",
        "\n",
        "Pipeline интегрируется с инструментами автоматического подбора гиперпараметров (например, GridSearchCV или RandomizedSearchCV), с помощью чего возможно оптимизировать параметры как препроцессора, так и самой модели.\n",
        "\n",
        "В рамках заданий будет рассматриваться простейший пример пайплайна, где первым шагом выступает ColumnTransformer, а вторым — модель (например, LogisticRegression).\n",
        "\n",
        "*Поскольку пайплайн объединяет этапы обработки данных и сам алгоритм обучения в единый объект с методами fit и predict, его **упрощенно можно назвать моделью**. При этом важно помнить, что внутри пайплайна модель — это последний шаг, а предыдущие шаги отвечают за преобразование признаков.*\n",
        "\n",
        "* [Column Transformer with Mixed Types | scikit-learn.org](https://scikit-learn.org/stable/auto_examples/compose/plot_column_transformer_mixed_types.html)\n",
        "\n",
        "* [Pipelines and composite estimators | scikit-learn.org](https://scikit-learn.org/stable/modules/compose.html)"
      ]
    },
    {
      "cell_type": "markdown",
      "metadata": {
        "id": "AaUcmPYHNS_l"
      },
      "source": [
        "### ***Задание 6***\n",
        "\n",
        "**ВНИМАНИЕ:** Для решения этого задания используйте:\n",
        "\n",
        "* Исходный датасет Diabetes prediction dataset из задания 2: `df_diab`.\n",
        "\n",
        "Выполните предобработку датасета `df_diab` и постройте пайплайн `pipe_clf`:\n",
        "\n",
        "1. Выделите объясняемый фактор в отдельную переменную `y_pipe`.\n",
        "\n",
        "2. Разделите датасет на обучающую (60%) и тестовую (40%) выборки со стратификацией по целевой переменной.\n",
        "\n",
        "3. Определите правило предобработки колонок с помощью `pipe_col_prep` (ColumnTransformer):\n",
        "\n",
        "    * Для категориальных переменных `diab_cat_feat` ('cat') — OneHotEncoder(drop='first', sparse_output=False).\n",
        "\n",
        "    * Для количественных переменных `diab_num_feat` ('num') — StandardScaler().\n",
        "\n",
        "4. Постройте пайплайн `pipe_clf` (Pipeline) из двух шагов:\n",
        "\n",
        "    1. 'col_prep': `pipe_col_prep`.\n",
        "\n",
        "    2. 'clf': LogisticRegression.\n",
        "\n",
        "Используя пайплайн `pipe_clf`, подберите оптимальный гиперпараметр регуляризации с помощью GridSearchCV **(метрика оптимизации — AUC)** и обучите модель с оптимальным параметром регуляризации `lr_pipe`.\n",
        "\n",
        "Используя регрессионные коэффициенты обученной модели `lr_pipe`, определите признак, который оказывает наибольшее влияние на прогноз диагноза (*подсказка: для извлечения коэффициентов используйте аттрибут named_steps*). Сравните коэффициенты модели `lr_pipe` (`pipe_coefs`) с коэффициентами модели `lr_diab` (`diab_coefs`)."
      ]
    },
    {
      "cell_type": "code",
      "execution_count": 20,
      "metadata": {
        "id": "DcNYxDQfNS_l"
      },
      "outputs": [],
      "source": [
        "# Выделите объясняемый фактор в отдельную переменную\n",
        "\n",
        "X_pipe, y_pipe = df_diab.drop(columns=['diabetes']), df_diab['diabetes']"
      ]
    },
    {
      "cell_type": "code",
      "execution_count": 21,
      "metadata": {
        "id": "X1qnFPlANS_l"
      },
      "outputs": [],
      "source": [
        "# Разделите датасет на обучающую (60%) и тестовую (40%) выборки со стратификацией по целевой переменной\n",
        "# Не забудьте зафиксировать RANDOM_STATE\n",
        "\n",
        "X_pipe_train, X_pipe_test, y_pipe_train, y_pipe_test = train_test_split(X_pipe,\n",
        "                                                                        y_pipe,\n",
        "                                                                        test_size=0.4,\n",
        "                                                                        random_state=RANDOM_STATE,\n",
        "                                                                        stratify=y_pipe)"
      ]
    },
    {
      "cell_type": "code",
      "execution_count": 22,
      "metadata": {
        "id": "Crr2BY3oNS_l"
      },
      "outputs": [],
      "source": [
        "# Определите правило предобработки колонок с помощью pipe_col_prep (ColumnTransformer)\n",
        "\n",
        "pipe_col_prep = ColumnTransformer(\n",
        "    transformers=[\n",
        "        ('cat', OneHotEncoder(drop='first', sparse_output=False), diab_cat_feat),\n",
        "        ('num', StandardScaler(), diab_num_feat),\n",
        "    ]\n",
        ")"
      ]
    },
    {
      "cell_type": "code",
      "execution_count": 23,
      "metadata": {
        "id": "r2IolJuxNS_m"
      },
      "outputs": [],
      "source": [
        "# Постройте пайплайн pipe_clf\n",
        "# Не забудьте зафиксировать RANDOM_STATE\n",
        "\n",
        "pipe_clf = Pipeline(\n",
        "    steps=[\n",
        "        ('col_prep', pipe_col_prep),\n",
        "        ('clf', LogisticRegression(random_state=RANDOM_STATE))\n",
        "    ]\n",
        ")"
      ]
    },
    {
      "cell_type": "code",
      "execution_count": 24,
      "metadata": {
        "id": "_OnowdKuNS_m"
      },
      "outputs": [],
      "source": [
        "# Оптимальные гиперпараметры обучения подберите с помощью GridSearchCV\n",
        "# Не забудьте зафиксировать RANDOM_STATE\n",
        "\n",
        "params = {'clf__C' : [0.05, 0.1, 0.15, 0.2, 0.25, 0.3]}\n",
        "cv = 5\n",
        "scoring = 'roc_auc'\n",
        "\n",
        "cv_lr_pipe = GridSearchCV(\n",
        "    estimator=pipe_clf,\n",
        "    param_grid=params,\n",
        "    cv=cv,\n",
        "    scoring=scoring\n",
        ").fit(X_pipe_train, y_pipe_train)"
      ]
    },
    {
      "cell_type": "code",
      "execution_count": 25,
      "metadata": {
        "id": "uhhuLYqsNS_m",
        "colab": {
          "base_uri": "https://localhost:8080/"
        },
        "outputId": "24c3dfe9-6be4-43d9-a4ef-495cb42a1b8f"
      },
      "outputs": [
        {
          "output_type": "execute_result",
          "data": {
            "text/plain": [
              "0.05"
            ]
          },
          "metadata": {},
          "execution_count": 25
        }
      ],
      "source": [
        "# Выведите оптимальное значение гиперпараметра C\n",
        "\n",
        "cv_lr_pipe.best_params_['clf__C']"
      ]
    },
    {
      "cell_type": "code",
      "execution_count": 26,
      "metadata": {
        "id": "8z4WdC6qNS_m"
      },
      "outputs": [],
      "source": [
        "# Обучите модель lr_pipe с оптимальным гиперпараметром регуляризации\n",
        "\n",
        "lr_pipe = cv_lr_pipe.best_estimator_.fit(X_pipe_train, y_pipe_train)"
      ]
    },
    {
      "cell_type": "code",
      "execution_count": 27,
      "metadata": {
        "id": "ebDP6X2sNS_m"
      },
      "outputs": [],
      "source": [
        "# Используя коэффициенты lr_pipe, определите признак, который оказывает наибольшее влияние на прогноз диагноза\n",
        "\n",
        "pipe_coefs = pd.DataFrame({\n",
        "    'lr_pipe coef': lr_pipe.named_steps['clf'].coef_[0]\n",
        "}, index=lr_pipe.named_steps['col_prep'].get_feature_names_out())"
      ]
    },
    {
      "cell_type": "code",
      "source": [
        "pipe_coefs"
      ],
      "metadata": {
        "colab": {
          "base_uri": "https://localhost:8080/",
          "height": 269
        },
        "id": "FFQiNCejEaWm",
        "outputId": "af688528-6388-4521-d661-98d7ac635e1e"
      },
      "execution_count": 28,
      "outputs": [
        {
          "output_type": "execute_result",
          "data": {
            "text/plain": [
              "                          lr_pipe coef\n",
              "cat__gender_Male              0.273350\n",
              "cat__hypertension_Yes         0.719970\n",
              "cat__heart_disease_Yes        0.655183\n",
              "num__age                      1.038600\n",
              "num__bmi                      0.573836\n",
              "num__HbA1c_level              2.403829\n",
              "num__blood_glucose_level      1.307091"
            ],
            "text/html": [
              "\n",
              "  <div id=\"df-f498d020-2166-48ba-8d89-a3eb3a0003e4\" class=\"colab-df-container\">\n",
              "    <div>\n",
              "<style scoped>\n",
              "    .dataframe tbody tr th:only-of-type {\n",
              "        vertical-align: middle;\n",
              "    }\n",
              "\n",
              "    .dataframe tbody tr th {\n",
              "        vertical-align: top;\n",
              "    }\n",
              "\n",
              "    .dataframe thead th {\n",
              "        text-align: right;\n",
              "    }\n",
              "</style>\n",
              "<table border=\"1\" class=\"dataframe\">\n",
              "  <thead>\n",
              "    <tr style=\"text-align: right;\">\n",
              "      <th></th>\n",
              "      <th>lr_pipe coef</th>\n",
              "    </tr>\n",
              "  </thead>\n",
              "  <tbody>\n",
              "    <tr>\n",
              "      <th>cat__gender_Male</th>\n",
              "      <td>0.273350</td>\n",
              "    </tr>\n",
              "    <tr>\n",
              "      <th>cat__hypertension_Yes</th>\n",
              "      <td>0.719970</td>\n",
              "    </tr>\n",
              "    <tr>\n",
              "      <th>cat__heart_disease_Yes</th>\n",
              "      <td>0.655183</td>\n",
              "    </tr>\n",
              "    <tr>\n",
              "      <th>num__age</th>\n",
              "      <td>1.038600</td>\n",
              "    </tr>\n",
              "    <tr>\n",
              "      <th>num__bmi</th>\n",
              "      <td>0.573836</td>\n",
              "    </tr>\n",
              "    <tr>\n",
              "      <th>num__HbA1c_level</th>\n",
              "      <td>2.403829</td>\n",
              "    </tr>\n",
              "    <tr>\n",
              "      <th>num__blood_glucose_level</th>\n",
              "      <td>1.307091</td>\n",
              "    </tr>\n",
              "  </tbody>\n",
              "</table>\n",
              "</div>\n",
              "    <div class=\"colab-df-buttons\">\n",
              "\n",
              "  <div class=\"colab-df-container\">\n",
              "    <button class=\"colab-df-convert\" onclick=\"convertToInteractive('df-f498d020-2166-48ba-8d89-a3eb3a0003e4')\"\n",
              "            title=\"Convert this dataframe to an interactive table.\"\n",
              "            style=\"display:none;\">\n",
              "\n",
              "  <svg xmlns=\"http://www.w3.org/2000/svg\" height=\"24px\" viewBox=\"0 -960 960 960\">\n",
              "    <path d=\"M120-120v-720h720v720H120Zm60-500h600v-160H180v160Zm220 220h160v-160H400v160Zm0 220h160v-160H400v160ZM180-400h160v-160H180v160Zm440 0h160v-160H620v160ZM180-180h160v-160H180v160Zm440 0h160v-160H620v160Z\"/>\n",
              "  </svg>\n",
              "    </button>\n",
              "\n",
              "  <style>\n",
              "    .colab-df-container {\n",
              "      display:flex;\n",
              "      gap: 12px;\n",
              "    }\n",
              "\n",
              "    .colab-df-convert {\n",
              "      background-color: #E8F0FE;\n",
              "      border: none;\n",
              "      border-radius: 50%;\n",
              "      cursor: pointer;\n",
              "      display: none;\n",
              "      fill: #1967D2;\n",
              "      height: 32px;\n",
              "      padding: 0 0 0 0;\n",
              "      width: 32px;\n",
              "    }\n",
              "\n",
              "    .colab-df-convert:hover {\n",
              "      background-color: #E2EBFA;\n",
              "      box-shadow: 0px 1px 2px rgba(60, 64, 67, 0.3), 0px 1px 3px 1px rgba(60, 64, 67, 0.15);\n",
              "      fill: #174EA6;\n",
              "    }\n",
              "\n",
              "    .colab-df-buttons div {\n",
              "      margin-bottom: 4px;\n",
              "    }\n",
              "\n",
              "    [theme=dark] .colab-df-convert {\n",
              "      background-color: #3B4455;\n",
              "      fill: #D2E3FC;\n",
              "    }\n",
              "\n",
              "    [theme=dark] .colab-df-convert:hover {\n",
              "      background-color: #434B5C;\n",
              "      box-shadow: 0px 1px 3px 1px rgba(0, 0, 0, 0.15);\n",
              "      filter: drop-shadow(0px 1px 2px rgba(0, 0, 0, 0.3));\n",
              "      fill: #FFFFFF;\n",
              "    }\n",
              "  </style>\n",
              "\n",
              "    <script>\n",
              "      const buttonEl =\n",
              "        document.querySelector('#df-f498d020-2166-48ba-8d89-a3eb3a0003e4 button.colab-df-convert');\n",
              "      buttonEl.style.display =\n",
              "        google.colab.kernel.accessAllowed ? 'block' : 'none';\n",
              "\n",
              "      async function convertToInteractive(key) {\n",
              "        const element = document.querySelector('#df-f498d020-2166-48ba-8d89-a3eb3a0003e4');\n",
              "        const dataTable =\n",
              "          await google.colab.kernel.invokeFunction('convertToInteractive',\n",
              "                                                    [key], {});\n",
              "        if (!dataTable) return;\n",
              "\n",
              "        const docLinkHtml = 'Like what you see? Visit the ' +\n",
              "          '<a target=\"_blank\" href=https://colab.research.google.com/notebooks/data_table.ipynb>data table notebook</a>'\n",
              "          + ' to learn more about interactive tables.';\n",
              "        element.innerHTML = '';\n",
              "        dataTable['output_type'] = 'display_data';\n",
              "        await google.colab.output.renderOutput(dataTable, element);\n",
              "        const docLink = document.createElement('div');\n",
              "        docLink.innerHTML = docLinkHtml;\n",
              "        element.appendChild(docLink);\n",
              "      }\n",
              "    </script>\n",
              "  </div>\n",
              "\n",
              "\n",
              "    <div id=\"df-c6d15765-1584-4a8c-a258-baba067d296a\">\n",
              "      <button class=\"colab-df-quickchart\" onclick=\"quickchart('df-c6d15765-1584-4a8c-a258-baba067d296a')\"\n",
              "                title=\"Suggest charts\"\n",
              "                style=\"display:none;\">\n",
              "\n",
              "<svg xmlns=\"http://www.w3.org/2000/svg\" height=\"24px\"viewBox=\"0 0 24 24\"\n",
              "     width=\"24px\">\n",
              "    <g>\n",
              "        <path d=\"M19 3H5c-1.1 0-2 .9-2 2v14c0 1.1.9 2 2 2h14c1.1 0 2-.9 2-2V5c0-1.1-.9-2-2-2zM9 17H7v-7h2v7zm4 0h-2V7h2v10zm4 0h-2v-4h2v4z\"/>\n",
              "    </g>\n",
              "</svg>\n",
              "      </button>\n",
              "\n",
              "<style>\n",
              "  .colab-df-quickchart {\n",
              "      --bg-color: #E8F0FE;\n",
              "      --fill-color: #1967D2;\n",
              "      --hover-bg-color: #E2EBFA;\n",
              "      --hover-fill-color: #174EA6;\n",
              "      --disabled-fill-color: #AAA;\n",
              "      --disabled-bg-color: #DDD;\n",
              "  }\n",
              "\n",
              "  [theme=dark] .colab-df-quickchart {\n",
              "      --bg-color: #3B4455;\n",
              "      --fill-color: #D2E3FC;\n",
              "      --hover-bg-color: #434B5C;\n",
              "      --hover-fill-color: #FFFFFF;\n",
              "      --disabled-bg-color: #3B4455;\n",
              "      --disabled-fill-color: #666;\n",
              "  }\n",
              "\n",
              "  .colab-df-quickchart {\n",
              "    background-color: var(--bg-color);\n",
              "    border: none;\n",
              "    border-radius: 50%;\n",
              "    cursor: pointer;\n",
              "    display: none;\n",
              "    fill: var(--fill-color);\n",
              "    height: 32px;\n",
              "    padding: 0;\n",
              "    width: 32px;\n",
              "  }\n",
              "\n",
              "  .colab-df-quickchart:hover {\n",
              "    background-color: var(--hover-bg-color);\n",
              "    box-shadow: 0 1px 2px rgba(60, 64, 67, 0.3), 0 1px 3px 1px rgba(60, 64, 67, 0.15);\n",
              "    fill: var(--button-hover-fill-color);\n",
              "  }\n",
              "\n",
              "  .colab-df-quickchart-complete:disabled,\n",
              "  .colab-df-quickchart-complete:disabled:hover {\n",
              "    background-color: var(--disabled-bg-color);\n",
              "    fill: var(--disabled-fill-color);\n",
              "    box-shadow: none;\n",
              "  }\n",
              "\n",
              "  .colab-df-spinner {\n",
              "    border: 2px solid var(--fill-color);\n",
              "    border-color: transparent;\n",
              "    border-bottom-color: var(--fill-color);\n",
              "    animation:\n",
              "      spin 1s steps(1) infinite;\n",
              "  }\n",
              "\n",
              "  @keyframes spin {\n",
              "    0% {\n",
              "      border-color: transparent;\n",
              "      border-bottom-color: var(--fill-color);\n",
              "      border-left-color: var(--fill-color);\n",
              "    }\n",
              "    20% {\n",
              "      border-color: transparent;\n",
              "      border-left-color: var(--fill-color);\n",
              "      border-top-color: var(--fill-color);\n",
              "    }\n",
              "    30% {\n",
              "      border-color: transparent;\n",
              "      border-left-color: var(--fill-color);\n",
              "      border-top-color: var(--fill-color);\n",
              "      border-right-color: var(--fill-color);\n",
              "    }\n",
              "    40% {\n",
              "      border-color: transparent;\n",
              "      border-right-color: var(--fill-color);\n",
              "      border-top-color: var(--fill-color);\n",
              "    }\n",
              "    60% {\n",
              "      border-color: transparent;\n",
              "      border-right-color: var(--fill-color);\n",
              "    }\n",
              "    80% {\n",
              "      border-color: transparent;\n",
              "      border-right-color: var(--fill-color);\n",
              "      border-bottom-color: var(--fill-color);\n",
              "    }\n",
              "    90% {\n",
              "      border-color: transparent;\n",
              "      border-bottom-color: var(--fill-color);\n",
              "    }\n",
              "  }\n",
              "</style>\n",
              "\n",
              "      <script>\n",
              "        async function quickchart(key) {\n",
              "          const quickchartButtonEl =\n",
              "            document.querySelector('#' + key + ' button');\n",
              "          quickchartButtonEl.disabled = true;  // To prevent multiple clicks.\n",
              "          quickchartButtonEl.classList.add('colab-df-spinner');\n",
              "          try {\n",
              "            const charts = await google.colab.kernel.invokeFunction(\n",
              "                'suggestCharts', [key], {});\n",
              "          } catch (error) {\n",
              "            console.error('Error during call to suggestCharts:', error);\n",
              "          }\n",
              "          quickchartButtonEl.classList.remove('colab-df-spinner');\n",
              "          quickchartButtonEl.classList.add('colab-df-quickchart-complete');\n",
              "        }\n",
              "        (() => {\n",
              "          let quickchartButtonEl =\n",
              "            document.querySelector('#df-c6d15765-1584-4a8c-a258-baba067d296a button');\n",
              "          quickchartButtonEl.style.display =\n",
              "            google.colab.kernel.accessAllowed ? 'block' : 'none';\n",
              "        })();\n",
              "      </script>\n",
              "    </div>\n",
              "    </div>\n",
              "  </div>\n"
            ],
            "application/vnd.google.colaboratory.intrinsic+json": {
              "type": "dataframe",
              "variable_name": "pipe_coefs",
              "summary": "{\n  \"name\": \"pipe_coefs\",\n  \"rows\": 7,\n  \"fields\": [\n    {\n      \"column\": \"lr_pipe coef\",\n      \"properties\": {\n        \"dtype\": \"number\",\n        \"std\": 0.7039613885604964,\n        \"min\": 0.27335022445738655,\n        \"max\": 2.403829353851735,\n        \"num_unique_values\": 7,\n        \"samples\": [\n          0.27335022445738655,\n          0.7199703260634012,\n          2.403829353851735\n        ],\n        \"semantic_type\": \"\",\n        \"description\": \"\"\n      }\n    }\n  ]\n}"
            }
          },
          "metadata": {},
          "execution_count": 28
        }
      ]
    },
    {
      "cell_type": "code",
      "execution_count": 29,
      "metadata": {
        "id": "22iCKa4eNS_m"
      },
      "outputs": [],
      "source": [
        "# Сравните коэффициенты lr_pipe (pipe_coefs) с коэффициентами lr_diab (diab_coefs)\n",
        "\n",
        "diab_coefs = pd.DataFrame({\n",
        "    'lr_diab coef': lr_diab.coef_[0]\n",
        "}, index=lr_diab.feature_names_in_\n",
        ")"
      ]
    },
    {
      "cell_type": "code",
      "source": [
        "diab_coefs"
      ],
      "metadata": {
        "colab": {
          "base_uri": "https://localhost:8080/",
          "height": 269
        },
        "id": "AFt-nDpIFQeE",
        "outputId": "bc06c068-e6c4-40d6-e350-836d54e0fcd1"
      },
      "execution_count": 30,
      "outputs": [
        {
          "output_type": "execute_result",
          "data": {
            "text/plain": [
              "                     lr_diab coef\n",
              "age                      0.040979\n",
              "bmi                      0.081730\n",
              "HbA1c_level              2.179184\n",
              "blood_glucose_level      0.032102\n",
              "gender_Male             -0.239284\n",
              "hypertension_Yes         0.201940\n",
              "heart_disease_Yes        2.009798"
            ],
            "text/html": [
              "\n",
              "  <div id=\"df-526e0dbf-4408-4ca5-9d4b-6e58d4488211\" class=\"colab-df-container\">\n",
              "    <div>\n",
              "<style scoped>\n",
              "    .dataframe tbody tr th:only-of-type {\n",
              "        vertical-align: middle;\n",
              "    }\n",
              "\n",
              "    .dataframe tbody tr th {\n",
              "        vertical-align: top;\n",
              "    }\n",
              "\n",
              "    .dataframe thead th {\n",
              "        text-align: right;\n",
              "    }\n",
              "</style>\n",
              "<table border=\"1\" class=\"dataframe\">\n",
              "  <thead>\n",
              "    <tr style=\"text-align: right;\">\n",
              "      <th></th>\n",
              "      <th>lr_diab coef</th>\n",
              "    </tr>\n",
              "  </thead>\n",
              "  <tbody>\n",
              "    <tr>\n",
              "      <th>age</th>\n",
              "      <td>0.040979</td>\n",
              "    </tr>\n",
              "    <tr>\n",
              "      <th>bmi</th>\n",
              "      <td>0.081730</td>\n",
              "    </tr>\n",
              "    <tr>\n",
              "      <th>HbA1c_level</th>\n",
              "      <td>2.179184</td>\n",
              "    </tr>\n",
              "    <tr>\n",
              "      <th>blood_glucose_level</th>\n",
              "      <td>0.032102</td>\n",
              "    </tr>\n",
              "    <tr>\n",
              "      <th>gender_Male</th>\n",
              "      <td>-0.239284</td>\n",
              "    </tr>\n",
              "    <tr>\n",
              "      <th>hypertension_Yes</th>\n",
              "      <td>0.201940</td>\n",
              "    </tr>\n",
              "    <tr>\n",
              "      <th>heart_disease_Yes</th>\n",
              "      <td>2.009798</td>\n",
              "    </tr>\n",
              "  </tbody>\n",
              "</table>\n",
              "</div>\n",
              "    <div class=\"colab-df-buttons\">\n",
              "\n",
              "  <div class=\"colab-df-container\">\n",
              "    <button class=\"colab-df-convert\" onclick=\"convertToInteractive('df-526e0dbf-4408-4ca5-9d4b-6e58d4488211')\"\n",
              "            title=\"Convert this dataframe to an interactive table.\"\n",
              "            style=\"display:none;\">\n",
              "\n",
              "  <svg xmlns=\"http://www.w3.org/2000/svg\" height=\"24px\" viewBox=\"0 -960 960 960\">\n",
              "    <path d=\"M120-120v-720h720v720H120Zm60-500h600v-160H180v160Zm220 220h160v-160H400v160Zm0 220h160v-160H400v160ZM180-400h160v-160H180v160Zm440 0h160v-160H620v160ZM180-180h160v-160H180v160Zm440 0h160v-160H620v160Z\"/>\n",
              "  </svg>\n",
              "    </button>\n",
              "\n",
              "  <style>\n",
              "    .colab-df-container {\n",
              "      display:flex;\n",
              "      gap: 12px;\n",
              "    }\n",
              "\n",
              "    .colab-df-convert {\n",
              "      background-color: #E8F0FE;\n",
              "      border: none;\n",
              "      border-radius: 50%;\n",
              "      cursor: pointer;\n",
              "      display: none;\n",
              "      fill: #1967D2;\n",
              "      height: 32px;\n",
              "      padding: 0 0 0 0;\n",
              "      width: 32px;\n",
              "    }\n",
              "\n",
              "    .colab-df-convert:hover {\n",
              "      background-color: #E2EBFA;\n",
              "      box-shadow: 0px 1px 2px rgba(60, 64, 67, 0.3), 0px 1px 3px 1px rgba(60, 64, 67, 0.15);\n",
              "      fill: #174EA6;\n",
              "    }\n",
              "\n",
              "    .colab-df-buttons div {\n",
              "      margin-bottom: 4px;\n",
              "    }\n",
              "\n",
              "    [theme=dark] .colab-df-convert {\n",
              "      background-color: #3B4455;\n",
              "      fill: #D2E3FC;\n",
              "    }\n",
              "\n",
              "    [theme=dark] .colab-df-convert:hover {\n",
              "      background-color: #434B5C;\n",
              "      box-shadow: 0px 1px 3px 1px rgba(0, 0, 0, 0.15);\n",
              "      filter: drop-shadow(0px 1px 2px rgba(0, 0, 0, 0.3));\n",
              "      fill: #FFFFFF;\n",
              "    }\n",
              "  </style>\n",
              "\n",
              "    <script>\n",
              "      const buttonEl =\n",
              "        document.querySelector('#df-526e0dbf-4408-4ca5-9d4b-6e58d4488211 button.colab-df-convert');\n",
              "      buttonEl.style.display =\n",
              "        google.colab.kernel.accessAllowed ? 'block' : 'none';\n",
              "\n",
              "      async function convertToInteractive(key) {\n",
              "        const element = document.querySelector('#df-526e0dbf-4408-4ca5-9d4b-6e58d4488211');\n",
              "        const dataTable =\n",
              "          await google.colab.kernel.invokeFunction('convertToInteractive',\n",
              "                                                    [key], {});\n",
              "        if (!dataTable) return;\n",
              "\n",
              "        const docLinkHtml = 'Like what you see? Visit the ' +\n",
              "          '<a target=\"_blank\" href=https://colab.research.google.com/notebooks/data_table.ipynb>data table notebook</a>'\n",
              "          + ' to learn more about interactive tables.';\n",
              "        element.innerHTML = '';\n",
              "        dataTable['output_type'] = 'display_data';\n",
              "        await google.colab.output.renderOutput(dataTable, element);\n",
              "        const docLink = document.createElement('div');\n",
              "        docLink.innerHTML = docLinkHtml;\n",
              "        element.appendChild(docLink);\n",
              "      }\n",
              "    </script>\n",
              "  </div>\n",
              "\n",
              "\n",
              "    <div id=\"df-1133ae60-1f4e-45de-a5c6-47bd97e2b5dd\">\n",
              "      <button class=\"colab-df-quickchart\" onclick=\"quickchart('df-1133ae60-1f4e-45de-a5c6-47bd97e2b5dd')\"\n",
              "                title=\"Suggest charts\"\n",
              "                style=\"display:none;\">\n",
              "\n",
              "<svg xmlns=\"http://www.w3.org/2000/svg\" height=\"24px\"viewBox=\"0 0 24 24\"\n",
              "     width=\"24px\">\n",
              "    <g>\n",
              "        <path d=\"M19 3H5c-1.1 0-2 .9-2 2v14c0 1.1.9 2 2 2h14c1.1 0 2-.9 2-2V5c0-1.1-.9-2-2-2zM9 17H7v-7h2v7zm4 0h-2V7h2v10zm4 0h-2v-4h2v4z\"/>\n",
              "    </g>\n",
              "</svg>\n",
              "      </button>\n",
              "\n",
              "<style>\n",
              "  .colab-df-quickchart {\n",
              "      --bg-color: #E8F0FE;\n",
              "      --fill-color: #1967D2;\n",
              "      --hover-bg-color: #E2EBFA;\n",
              "      --hover-fill-color: #174EA6;\n",
              "      --disabled-fill-color: #AAA;\n",
              "      --disabled-bg-color: #DDD;\n",
              "  }\n",
              "\n",
              "  [theme=dark] .colab-df-quickchart {\n",
              "      --bg-color: #3B4455;\n",
              "      --fill-color: #D2E3FC;\n",
              "      --hover-bg-color: #434B5C;\n",
              "      --hover-fill-color: #FFFFFF;\n",
              "      --disabled-bg-color: #3B4455;\n",
              "      --disabled-fill-color: #666;\n",
              "  }\n",
              "\n",
              "  .colab-df-quickchart {\n",
              "    background-color: var(--bg-color);\n",
              "    border: none;\n",
              "    border-radius: 50%;\n",
              "    cursor: pointer;\n",
              "    display: none;\n",
              "    fill: var(--fill-color);\n",
              "    height: 32px;\n",
              "    padding: 0;\n",
              "    width: 32px;\n",
              "  }\n",
              "\n",
              "  .colab-df-quickchart:hover {\n",
              "    background-color: var(--hover-bg-color);\n",
              "    box-shadow: 0 1px 2px rgba(60, 64, 67, 0.3), 0 1px 3px 1px rgba(60, 64, 67, 0.15);\n",
              "    fill: var(--button-hover-fill-color);\n",
              "  }\n",
              "\n",
              "  .colab-df-quickchart-complete:disabled,\n",
              "  .colab-df-quickchart-complete:disabled:hover {\n",
              "    background-color: var(--disabled-bg-color);\n",
              "    fill: var(--disabled-fill-color);\n",
              "    box-shadow: none;\n",
              "  }\n",
              "\n",
              "  .colab-df-spinner {\n",
              "    border: 2px solid var(--fill-color);\n",
              "    border-color: transparent;\n",
              "    border-bottom-color: var(--fill-color);\n",
              "    animation:\n",
              "      spin 1s steps(1) infinite;\n",
              "  }\n",
              "\n",
              "  @keyframes spin {\n",
              "    0% {\n",
              "      border-color: transparent;\n",
              "      border-bottom-color: var(--fill-color);\n",
              "      border-left-color: var(--fill-color);\n",
              "    }\n",
              "    20% {\n",
              "      border-color: transparent;\n",
              "      border-left-color: var(--fill-color);\n",
              "      border-top-color: var(--fill-color);\n",
              "    }\n",
              "    30% {\n",
              "      border-color: transparent;\n",
              "      border-left-color: var(--fill-color);\n",
              "      border-top-color: var(--fill-color);\n",
              "      border-right-color: var(--fill-color);\n",
              "    }\n",
              "    40% {\n",
              "      border-color: transparent;\n",
              "      border-right-color: var(--fill-color);\n",
              "      border-top-color: var(--fill-color);\n",
              "    }\n",
              "    60% {\n",
              "      border-color: transparent;\n",
              "      border-right-color: var(--fill-color);\n",
              "    }\n",
              "    80% {\n",
              "      border-color: transparent;\n",
              "      border-right-color: var(--fill-color);\n",
              "      border-bottom-color: var(--fill-color);\n",
              "    }\n",
              "    90% {\n",
              "      border-color: transparent;\n",
              "      border-bottom-color: var(--fill-color);\n",
              "    }\n",
              "  }\n",
              "</style>\n",
              "\n",
              "      <script>\n",
              "        async function quickchart(key) {\n",
              "          const quickchartButtonEl =\n",
              "            document.querySelector('#' + key + ' button');\n",
              "          quickchartButtonEl.disabled = true;  // To prevent multiple clicks.\n",
              "          quickchartButtonEl.classList.add('colab-df-spinner');\n",
              "          try {\n",
              "            const charts = await google.colab.kernel.invokeFunction(\n",
              "                'suggestCharts', [key], {});\n",
              "          } catch (error) {\n",
              "            console.error('Error during call to suggestCharts:', error);\n",
              "          }\n",
              "          quickchartButtonEl.classList.remove('colab-df-spinner');\n",
              "          quickchartButtonEl.classList.add('colab-df-quickchart-complete');\n",
              "        }\n",
              "        (() => {\n",
              "          let quickchartButtonEl =\n",
              "            document.querySelector('#df-1133ae60-1f4e-45de-a5c6-47bd97e2b5dd button');\n",
              "          quickchartButtonEl.style.display =\n",
              "            google.colab.kernel.accessAllowed ? 'block' : 'none';\n",
              "        })();\n",
              "      </script>\n",
              "    </div>\n",
              "    </div>\n",
              "  </div>\n"
            ],
            "application/vnd.google.colaboratory.intrinsic+json": {
              "type": "dataframe",
              "variable_name": "diab_coefs",
              "summary": "{\n  \"name\": \"diab_coefs\",\n  \"rows\": 7,\n  \"fields\": [\n    {\n      \"column\": \"lr_diab coef\",\n      \"properties\": {\n        \"dtype\": \"number\",\n        \"std\": 1.0203103918814447,\n        \"min\": -0.23928355293513207,\n        \"max\": 2.1791840700633807,\n        \"num_unique_values\": 7,\n        \"samples\": [\n          0.04097902617364947,\n          0.08173029290934541,\n          0.20194021211997423\n        ],\n        \"semantic_type\": \"\",\n        \"description\": \"\"\n      }\n    }\n  ]\n}"
            }
          },
          "metadata": {},
          "execution_count": 30
        }
      ]
    },
    {
      "cell_type": "markdown",
      "metadata": {
        "id": "jdk_MITHNS_m"
      },
      "source": [
        "### ***Задание 7***\n",
        "\n",
        "**ВНИМАНИЕ:** Для решения этого задания используйте:\n",
        "\n",
        "* Обученную модель `lr_pipe` из задания 6.\n",
        "\n",
        "* Тестовую выборку из задания 6: `X_pipe_test`, `y_pipe_test`.\n",
        "\n",
        "На тестовой выборке постройте матрицу ошибок для прогноза целевого класса моделью `lr_pipe` (функция [confusion_matrix](https://scikit-learn.org/stable/modules/generated/sklearn.metrics.confusion_matrix.html)).\n",
        "\n",
        "На тестовой выборке интерпретируйте матрицу ошибок для модели `lr_pipe`, выбрав все верные утверждения из списка (см. тест):\n",
        "\n",
        "* Модель `lr_pipe` спрогнозировала у пациента из тестовой выборки наличие диабета. Вероятность ошибки этого прогноза больше 10%.\n",
        "\n",
        "* Врачи диагностировали у пациента из тестовой выборки диабет. Модель `lr_pipe` сможет сделать правильный прогноз для данного пациента с вероятностью, большей 80%.\n",
        "\n",
        "* Модель `lr_pipe` предоставила неверный прогноз для пациентов (в тестовой выборке), которые в реальности не имеют диагностированный диабет, больше, чем в 2% случаев.\n",
        "\n",
        "* Те пациенты (в тестовой выборке), у кого было предсказано отсутствие диабета (с помощью `lr_pipe`), в действительности имеют диабет менее, чем в 4% случаев.\n",
        "\n",
        "Постройте отчет по метрикам классификации (функция [classification_report](https://scikit-learn.org/stable/modules/generated/sklearn.metrics.classification_report.html)) для модели `lr_pipe` на тестовой выборке и интерпретируйте результаты отчета."
      ]
    },
    {
      "cell_type": "code",
      "execution_count": 31,
      "metadata": {
        "id": "VBv8Pd_UNS_m"
      },
      "outputs": [],
      "source": [
        "# Выполните прогноз целевого класса на тестовой выборке с помощью модели lr_pipe\n",
        "\n",
        "y_test_pred_lr_pipe = lr_pipe.predict(X_pipe_test)"
      ]
    },
    {
      "cell_type": "code",
      "execution_count": 32,
      "metadata": {
        "id": "mlD1jsC2NS_m"
      },
      "outputs": [],
      "source": [
        "# Постройте матрицу ошибок для прогноза\n",
        "\n",
        "pipe_confusion_matrix = confusion_matrix(y_pipe_test, y_test_pred_lr_pipe)"
      ]
    },
    {
      "cell_type": "code",
      "execution_count": null,
      "metadata": {
        "id": "uR-I7ZPONS_m",
        "colab": {
          "base_uri": "https://localhost:8080/",
          "height": 410
        },
        "outputId": "849d29e7-fa1e-4a3f-dd12-937c846863b7"
      },
      "outputs": [
        {
          "output_type": "display_data",
          "data": {
            "text/plain": [
              "<Figure size 600x400 with 2 Axes>"
            ],
            "image/png": "[encoded data removed]"
          },
          "metadata": {}
        }
      ],
      "source": [
        "# Визуализируйте матрицу ошибок для удобства в интерпретации\n",
        "\n",
        "plt.figure(figsize=(6, 4))\n",
        "ax = sns.heatmap(pipe_confusion_matrix, annot=True, cmap='Blues', fmt='g')\n",
        "ax.set_title('Матрица ошибок')\n",
        "ax.set_xlabel('Предсказанный класс')\n",
        "ax.set_ylabel('Истинный класс')\n",
        "plt.show()"
      ]
    },
    {
      "cell_type": "code",
      "execution_count": 33,
      "metadata": {
        "id": "6dYRIOX1NS_m",
        "colab": {
          "base_uri": "https://localhost:8080/"
        },
        "outputId": "ba808fff-f392-4f32-cbd2-dd81eeab2001"
      },
      "outputs": [
        {
          "output_type": "stream",
          "name": "stdout",
          "text": [
            "TP: 2124, TN: 36270, FN:1276, FP:323\n",
            "FP/(FP+TP) = 0.13 # ложноположительные случаи/ко всем положительным дианостикам\n"
          ]
        }
      ],
      "source": [
        "# Модель lr_pipe спрогнозировала у пациента из тестовой выборки наличие диабета. Вероятность ошибки этого прогноза больше 10%\n",
        "\n",
        "pre = lr_pipe.predict(X_pipe_test)\n",
        "FN = ((pre==0) & (y_diab_test ==1)).sum()\n",
        "FP = ((pre==1) & (y_diab_test ==0)).sum()\n",
        "TP = ((pre==1) & (y_diab_test ==1)).sum()\n",
        "TN = ((pre==0) & (y_diab_test ==0)).sum()\n",
        "print(f'TP: {TP}, TN: {TN}, FN:{FN}, FP:{FP}')\n",
        "print(f'FP/(FP+TP) = {FP/(FP+TP):.2f} # ложноположительные случаи/ко всем положительным дианостикам')\n"
      ]
    },
    {
      "cell_type": "code",
      "execution_count": 34,
      "metadata": {
        "id": "iu_eLJbeNS_m",
        "colab": {
          "base_uri": "https://localhost:8080/"
        },
        "outputId": "7bdf2ff2-e09b-41d6-e31f-bfebf5d5bb8b"
      },
      "outputs": [
        {
          "output_type": "stream",
          "name": "stdout",
          "text": [
            "TP/(TP+FP) = 0.87 #верная дианостика/ко всем положит. диагностикам\n"
          ]
        }
      ],
      "source": [
        "# Врачи диагностировали у пациента из тестовой выборки диабет. Модель lr_pipe сможет сделать правильный прогноз для данного пациента с вероятностью, большей 80%\n",
        "\n",
        "print(f'TP/(TP+FP) = {TP/(TP+FP):.2f} #верная дианостика/ко всем положит. диагностикам')"
      ]
    },
    {
      "cell_type": "code",
      "execution_count": 36,
      "metadata": {
        "id": "ZMLvDwTqNS_m",
        "colab": {
          "base_uri": "https://localhost:8080/"
        },
        "outputId": "359132d4-ab1f-4203-c1fa-b921a7b6b3ef"
      },
      "outputs": [
        {
          "output_type": "stream",
          "name": "stdout",
          "text": [
            "(FP+FN)/(FP+TN) = 0.04 # все ложные диагностика/ко всем у кого нет диабета на самом деле\n"
          ]
        }
      ],
      "source": [
        "# Модель lr_pipe предоставила неверный прогноз для пациентов (в тестовой выборке), которые в реальности не имеют диагностированный диабет, больше, чем в 2% случаев\n",
        "\n",
        "print(f'(FP+FN)/(FP+TN) = {(FP+FN)/(FP+TN):.2f} # все ложные диагностика/ко всем у кого нет диабета на самом деле')"
      ]
    },
    {
      "cell_type": "code",
      "source": [
        "# Те пациенты (в тестовой выборке), у кого было предсказано отсутствие диабета (с помощью lr_pipe), в действительности имеют диабет менее, чем в 4% случаев.\n",
        "print(f'FN/(FN+TN) = {FN/(FN+TN):.2f} # ложноотрицательные /ко всем отриц. диагнозам')"
      ],
      "metadata": {
        "colab": {
          "base_uri": "https://localhost:8080/"
        },
        "id": "2Gm-mKeMcKV8",
        "outputId": "e2a9f21a-840d-41b2-8d56-114c940829f1"
      },
      "execution_count": 37,
      "outputs": [
        {
          "output_type": "stream",
          "name": "stdout",
          "text": [
            "FN/(FN+TN) = 0.03 # ложноотрицательные /ко всем отриц. диагнозам\n"
          ]
        }
      ]
    },
    {
      "cell_type": "code",
      "execution_count": null,
      "metadata": {
        "id": "kcsb03djNS_m",
        "colab": {
          "base_uri": "https://localhost:8080/"
        },
        "outputId": "bdff8136-6216-4479-8ccf-dec9efc89d0d"
      },
      "outputs": [
        {
          "output_type": "stream",
          "name": "stdout",
          "text": [
            "              precision    recall  f1-score   support\n",
            "\n",
            "           0       0.97      0.99      0.98     36593\n",
            "           1       0.87      0.62      0.73      3400\n",
            "\n",
            "    accuracy                           0.96     39993\n",
            "   macro avg       0.92      0.81      0.85     39993\n",
            "weighted avg       0.96      0.96      0.96     39993\n",
            "\n"
          ]
        }
      ],
      "source": [
        "# Постройте отчет по метрикам классификации\n",
        "\n",
        "print(classification_report(y_pipe_test, pre))"
      ]
    },
    {
      "cell_type": "markdown",
      "metadata": {
        "id": "eZcCdFAwNS_m"
      },
      "source": [
        "### **Задание 8**\n",
        "\n",
        "**ВНИМАНИЕ:** Для решения этого задания используйте:\n",
        "\n",
        "* Обученную модель `lr_pipe` из задания 6.\n",
        "\n",
        "* Тестовую выборку из задания 6: `X_pipe_test`, `y_pipe_test`.\n",
        "\n",
        "Постройте ROC-кривую для модели `lr_pipe` на тестовой выборке и рассчитайте метрику AUC (AUC-ROC).\n",
        "\n",
        "Для трех порогов классификации (0.25, 0.5, 0.75) для модели `lr_pipe` на тестовой выборке рассчитайте и сравните значения метрик: precision, recall, accuracy, f1.\n",
        "\n",
        "На отрезке [0, 1] найдите такое значение порога классификации, при котором метрика f1 будет принимать максимальное значение на тестовой выборке (шаг поиска `step` — 0.001)."
      ]
    },
    {
      "cell_type": "code",
      "execution_count": 39,
      "metadata": {
        "id": "ibpnbRlRNS_n"
      },
      "outputs": [],
      "source": [
        "# Выполните прогноз вероятностей целевого класса на тестовой выборке моделью lr_pipe\n",
        "\n",
        "y_test_proba_lr_pipe = lr_pipe.predict_proba(X_pipe_test)[:,1]"
      ]
    },
    {
      "cell_type": "code",
      "execution_count": 40,
      "metadata": {
        "id": "s0fMOMxbNS_n"
      },
      "outputs": [],
      "source": [
        "# Постройте ROC-кривую для модели lr_pipe на тестовой выборке и рассчитайте метрику AUC\n",
        "\n",
        "fpr_lr_pipe, tpr_lr_pipe, _ = roc_curve(y_pipe_test, y_test_proba_lr_pipe)\n",
        "auc_lr_pipe = roc_auc_score(y_pipe_test, y_test_proba_lr_pipe)"
      ]
    },
    {
      "cell_type": "code",
      "execution_count": 41,
      "metadata": {
        "id": "MvDlCsd7NS_n",
        "colab": {
          "base_uri": "https://localhost:8080/",
          "height": 472
        },
        "outputId": "73916ffd-7e6b-41d0-cab1-8c59c8d4b8ca"
      },
      "outputs": [
        {
          "output_type": "display_data",
          "data": {
            "text/plain": [
              "<Figure size 640x480 with 1 Axes>"
            ],
            "image/png": "[encoded data removed]"
          },
          "metadata": {}
        }
      ],
      "source": [
        "# Визуализируйте ROC-кривую и значение AUC на графике\n",
        "\n",
        "plt.plot([0, 1], [0, 1], linestyle='--')\n",
        "plt.plot(fpr_lr_pipe, tpr_lr_pipe, c='r', label=f'ROC-AUC: {auc_lr_pipe: .3f}')\n",
        "plt.title('ROC-кривая')\n",
        "plt.xlabel('False Positive Rate')\n",
        "plt.ylabel('True Positive Rate')\n",
        "plt.legend()\n",
        "plt.show()"
      ]
    },
    {
      "cell_type": "code",
      "execution_count": 42,
      "metadata": {
        "id": "8mifahaGNS_n",
        "colab": {
          "base_uri": "https://localhost:8080/"
        },
        "outputId": "52828018-d3f4-4923-b3af-6fca192a543e"
      },
      "outputs": [
        {
          "output_type": "execute_result",
          "data": {
            "text/plain": [
              "[{'threshold': 0.25,\n",
              "  'precision': 0.6555727554179567,\n",
              "  'recall': 0.7473529411764706,\n",
              "  'accuracy': 0.9451403995699247,\n",
              "  'f1': 0.6984606926882903},\n",
              " {'threshold': 0.5,\n",
              "  'precision': 0.8680016346546792,\n",
              "  'recall': 0.6247058823529412,\n",
              "  'accuracy': 0.9600180031505513,\n",
              "  'f1': 0.7265264238070805},\n",
              " {'threshold': 0.75,\n",
              "  'precision': 0.9770773638968482,\n",
              "  'recall': 0.5014705882352941,\n",
              "  'accuracy': 0.9566174080464082,\n",
              "  'f1': 0.6627793974732751}]"
            ]
          },
          "metadata": {},
          "execution_count": 42
        }
      ],
      "source": [
        "# Для трех порогов классификации для модели lr_pipe на тестовой выборке\n",
        "# рассчитайте и сравните значения метрик: precision, recall, accuracy, f1\n",
        "\n",
        "thresholds = [0.25, 0.5, 0.75]\n",
        "pipe_score = []\n",
        "for th in thresholds:\n",
        "  y_pred = (y_test_proba_lr_pipe > th).astype(int)\n",
        "\n",
        "  pipe_score.append({\n",
        "      'threshold': th,\n",
        "      'precision': precision_score(y_pipe_test, y_pred),\n",
        "      'recall':    recall_score(y_pipe_test, y_pred),\n",
        "      'accuracy':  accuracy_score(y_pipe_test, y_pred),\n",
        "      'f1':        f1_score(y_pipe_test, y_pred)\n",
        "  })\n",
        "\n",
        "pipe_score"
      ]
    },
    {
      "cell_type": "code",
      "execution_count": 43,
      "metadata": {
        "id": "JK96oty9NS_n",
        "colab": {
          "base_uri": "https://localhost:8080/"
        },
        "outputId": "c1b4419a-b9f6-48ed-81c5-05fd7e05bc77"
      },
      "outputs": [
        {
          "output_type": "stream",
          "name": "stdout",
          "text": [
            "best f1= 0.7309, best threshold = 0.4540\n"
          ]
        }
      ],
      "source": [
        "# На отрезке [0, 1] найдите такое значение порога классификации, при котором метрика f1 будет принимать максимальное значение на тестовой выборке\n",
        "# Шаг поиска — 0.001\n",
        "\n",
        "step = 0.001\n",
        "thresholds_arr = np.arange(0, 1+step, step)\n",
        "f1_ = []\n",
        "\n",
        "for th in thresholds_arr:\n",
        "  y_pred = (y_test_proba_lr_pipe >= th).astype(int)\n",
        "  f1_.append(f1_score(y_pipe_test, y_pred))\n",
        "\n",
        "best_idx = np.argmax(f1_)\n",
        "best_th  = thresholds_arr[best_idx]\n",
        "best_f1 = f1_[best_idx]\n",
        "print(f'best f1= {best_f1:.4f}, best threshold = {best_th:.4f}')\n"
      ]
    },
    {
      "cell_type": "markdown",
      "metadata": {
        "id": "qhK5qXTINS_n"
      },
      "source": [
        "### **Коэффициент Джини**\n",
        "\n",
        "**Коэффициент Джини (Gini)** — это метрика оценки качества моделей бинарной классификации, которая представляет собой линейное преобразование метрики AUC (Area Under the ROC Curve):\n",
        "\n",
        "$$\\text{Gini}=2 \\times \\text{AUC}−1$$\n",
        "\n",
        "Значение Gini изменяется от 0 (отсутствие разделяющей способности) до 1 (идеальная модель), что позволяет интерпретировать Gini как меру корреляции между предсказанными вероятностями и истинными метками класса."
      ]
    },
    {
      "cell_type": "markdown",
      "metadata": {
        "id": "vsN3v5bxNS_n"
      },
      "source": [
        "### ***Задание 9***\n",
        "\n",
        "**ВНИМАНИЕ:** Для решения этого задания используйте:\n",
        "\n",
        "* Обученную модель `lr_pipe` из задания 6.\n",
        "\n",
        "* Тестовую выборку из задания 6: `X_pipe_test`, `y_pipe_test`.\n",
        "\n",
        "Реализуем две простые функции (модели) для предсказания вероятностей целевого класса в тестовой выборке:\n",
        "\n",
        "* `random_uniform` — функция (модель), предсказывающая вероятности случайно из равномерного распределения.\n",
        "\n",
        "* `linear_hba1c` — функция (модель), предсказывающая вероятности с помощью линейного преобразования (стандартизации) значений фактора HbA1c_level.\n",
        "\n",
        "На тестовой выборке сравните точность прогноза модели `lr_pipe` и функций (моделей) `random_uniform` и `linear_hba1c`, построив ROC-кривую и рассчитав значения метрики AUC и коэффициента Gini."
      ]
    },
    {
      "cell_type": "code",
      "execution_count": 44,
      "metadata": {
        "id": "pwzzPCDzNS_n"
      },
      "outputs": [],
      "source": [
        "# Предскажите вероятности целевого класса в тестовой выборке с помощью random_uniform\n",
        "# Не забудьте зафиксировать RANDOM_STATE\n",
        "\n",
        "def random_uniform(N, random_state=None):\n",
        "    \"\"\"\n",
        "    Возвращает случайный прогноз вероятностей целевого класса из равномерного распределения.\n",
        "\n",
        "    Аргументы:\n",
        "        N (int): Длина вектора прогноза вероятностей целевого класса.\n",
        "        random_state (int): Параметр, фиксирующий случайное состояние результата выполнения функции. По умолчанию не используется (None).\n",
        "\n",
        "    Возвращает:\n",
        "        numpy.ndarray: Предсказанные вероятности целевого класса.\n",
        "    \"\"\"\n",
        "    rng = np.random.RandomState(random_state)\n",
        "    return rng.uniform(0, 1, N)\n",
        "\n",
        "y_test_proba_random_uniform = random_uniform(y_pipe_test.size, random_state=RANDOM_STATE)"
      ]
    },
    {
      "cell_type": "code",
      "execution_count": 45,
      "metadata": {
        "id": "3MrPj080NS_n"
      },
      "outputs": [],
      "source": [
        "# Предскажите вероятности целевого класса в тестовой выборке с помощью linear_hba1c\n",
        "\n",
        "def linear_hba1c(hba1c_level):\n",
        "    \"\"\"\n",
        "    Возвращает прогноз вероятностей целевого класса с помощью линейного преобразования (стандартизации) значений фактора HbA1c_level.\n",
        "\n",
        "    Аргументы:\n",
        "        hba1c_level (numpy.ndarray): Вектор значений фактора HbA1c_level в тестовой выборке.\n",
        "\n",
        "    Возвращает:\n",
        "        numpy.ndarray: Предсказанные вероятности целевого класса.\n",
        "    \"\"\"\n",
        "    return (hba1c_level - hba1c_level.min()) / (hba1c_level.max() - hba1c_level.min())\n",
        "\n",
        "y_test_proba_linear_hba1c = linear_hba1c(X_pipe_test['HbA1c_level'])"
      ]
    },
    {
      "cell_type": "code",
      "execution_count": 46,
      "metadata": {
        "id": "u7xhVyTNNS_n"
      },
      "outputs": [],
      "source": [
        "# Дополните функцию gini\n",
        "\n",
        "def gini(y_true, y_score):\n",
        "    \"\"\"\n",
        "    Возвращает значение коэффициента Gini для предсказанных вероятностей.\n",
        "\n",
        "    Аргументы:\n",
        "        y_true (numpy.ndarray): Истинные значения целевой переменной.\n",
        "        y_score (numpy.ndarray): Предсказанные вероятности целевого класса.\n",
        "\n",
        "    Возвращает:\n",
        "        float: Значение коэффициента Gini для предсказанных вероятностей.\n",
        "    \"\"\"\n",
        "    return roc_auc_score(y_true, y_score)*2 - 1"
      ]
    },
    {
      "cell_type": "code",
      "execution_count": 47,
      "metadata": {
        "id": "KB4aKlBvNS_n"
      },
      "outputs": [],
      "source": [
        "# Постройте ROC-кривые для random_uniform и linear_hba1c на тестовой выборке\n",
        "\n",
        "fpr_random_uniform, tpr_random_uniform, _ = roc_curve(y_pipe_test, y_test_proba_random_uniform)\n",
        "fpr_linear_hba1c, tpr_linear_hba1c, _ = roc_curve(y_pipe_test, y_test_proba_linear_hba1c)"
      ]
    },
    {
      "cell_type": "code",
      "execution_count": 48,
      "metadata": {
        "id": "nfTgUvalNS_n"
      },
      "outputs": [],
      "source": [
        "# Рассчитайте метрику AUC для random_uniform и linear_hba1c на тестовой выборке\n",
        "\n",
        "auc_random_uniform = roc_auc_score(y_pipe_test, y_test_proba_random_uniform)\n",
        "auc_linear_hba1c = roc_auc_score(y_pipe_test, y_test_proba_linear_hba1c)"
      ]
    },
    {
      "cell_type": "code",
      "execution_count": 49,
      "metadata": {
        "id": "J3S5oIT1NS_n"
      },
      "outputs": [],
      "source": [
        "# Рассчитайте коэффициент Gini для lr_pipe, random_uniform и linear_hba1c на тестовой выборке\n",
        "\n",
        "gini_lr_pipe = gini(y_pipe_test, y_test_proba_lr_pipe)\n",
        "gini_random_uniform = gini(y_pipe_test, y_test_proba_random_uniform)\n",
        "gini_linear_hba1c = gini(y_pipe_test, y_test_proba_linear_hba1c)"
      ]
    },
    {
      "cell_type": "code",
      "execution_count": null,
      "metadata": {
        "id": "xBwOQG--NS_n",
        "colab": {
          "base_uri": "https://localhost:8080/",
          "height": 472
        },
        "outputId": "c0355847-204d-4ed4-b02e-4b3d6bd7bd96"
      },
      "outputs": [
        {
          "output_type": "display_data",
          "data": {
            "text/plain": [
              "<Figure size 640x480 with 1 Axes>"
            ],
            "image/png": "[encoded data removed]"
          },
          "metadata": {}
        }
      ],
      "source": [
        "# Визуализируйте ROC-кривые и сравните значения AUC и Gini для трех моделей\n",
        "\n",
        "plt.plot([0, 1], [0, 1], linestyle='--')\n",
        "plt.plot(fpr_random_uniform, tpr_random_uniform, c='g', label=f'random uniform')\n",
        "plt.plot(fpr_linear_hba1c, tpr_linear_hba1c, c='r', label=f'linear hba1c')\n",
        "plt.plot(fpr_lr_pipe, tpr_lr_pipe, c='m', label=f'lr_pipe')\n",
        "plt.title('ROC-кривые')\n",
        "plt.xlabel('False Positive Rate')\n",
        "plt.ylabel('True Positive Rate')\n",
        "plt.legend()\n",
        "plt.show()"
      ]
    }
  ],
  "metadata": {
    "kernelspec": {
      "display_name": "ml-course",
      "language": "python",
      "name": "python3"
    },
    "language_info": {
      "codemirror_mode": {
        "name": "ipython",
        "version": 3
      },
      "file_extension": ".py",
      "mimetype": "text/x-python",
      "name": "python",
      "nbconvert_exporter": "python",
      "pygments_lexer": "ipython3",
      "version": "3.11.11"
    },
    "colab": {
      "provenance": [],
      "include_colab_link": true
    }
  },
  "nbformat": 4,
  "nbformat_minor": 0
}