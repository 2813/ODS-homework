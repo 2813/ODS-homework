{
  "cells": [
    {
      "cell_type": "markdown",
      "metadata": {
        "id": "view-in-github",
        "colab_type": "text"
      },
      "source": [
        "<a href=\"https://colab.research.google.com/github/2813/ODS-homework/blob/main/04_ODS_ML.ipynb\" target=\"_parent\"><img src=\"https://colab.research.google.com/assets/colab-badge.svg\" alt=\"Open In Colab\"/></a>"
      ]
    },
    {
      "cell_type": "markdown",
      "id": "9bbdfd1e",
      "metadata": {
        "id": "9bbdfd1e"
      },
      "source": [
        "# **Деревья решений**"
      ]
    },
    {
      "cell_type": "markdown",
      "id": "6daf3325",
      "metadata": {
        "id": "6daf3325"
      },
      "source": [
        "## **Подготовка для работы в Google Colab или Kaggle**"
      ]
    },
    {
      "cell_type": "markdown",
      "id": "ac44d38e",
      "metadata": {
        "id": "ac44d38e"
      },
      "source": [
        "#### Код для подключения Google Drive в Colab"
      ]
    },
    {
      "cell_type": "code",
      "execution_count": null,
      "id": "de05e484",
      "metadata": {
        "id": "de05e484"
      },
      "outputs": [],
      "source": [
        "from google.colab import drive\n",
        "drive.mount('/content/drive')"
      ]
    },
    {
      "cell_type": "markdown",
      "id": "ac50e760",
      "metadata": {
        "id": "ac50e760"
      },
      "source": [
        "#### Код для получения пути к файлам в Kaggle"
      ]
    },
    {
      "cell_type": "code",
      "execution_count": null,
      "id": "07c6bdac",
      "metadata": {
        "id": "07c6bdac"
      },
      "outputs": [],
      "source": [
        "import os\n",
        "for dirname, _, filenames in os.walk('/kaggle/input'):\n",
        "    for filename in filenames:\n",
        "        print(os.path.join(dirname, filename))"
      ]
    },
    {
      "cell_type": "markdown",
      "id": "ed1a9d17",
      "metadata": {
        "id": "ed1a9d17"
      },
      "source": [
        "#### Код для установки библиотек"
      ]
    },
    {
      "cell_type": "code",
      "execution_count": null,
      "id": "d56799f2",
      "metadata": {
        "id": "d56799f2"
      },
      "outputs": [],
      "source": [
        "%pip install numpy==1.26.4 pandas==2.1.4 scikit-learn==1.7.0 matplotlib==3.8.0 graphviz == 0.21"
      ]
    },
    {
      "cell_type": "markdown",
      "id": "8bc68002",
      "metadata": {
        "id": "8bc68002"
      },
      "source": [
        "## **Важная информация**"
      ]
    },
    {
      "cell_type": "markdown",
      "id": "686b6af3",
      "metadata": {
        "id": "686b6af3"
      },
      "source": [
        "**Для правильного воспроизведения результатов** решения задач:\n",
        "\n",
        "* Рекомендуется придерживаться имеющего в заданиях кода в исходной последовательности. Для этого при решении задач **восстановите недостающие фрагменты кода, которые отмечены символом** `...` (Ellipsis).\n",
        "\n",
        "* Если класс, функция или метод предусматривает параметр random_state, всегда указывайте **random_state=RANDOM_STATE**.\n",
        "\n",
        "* Для всех параметров (кроме random_state) класса, функции или метода **используйте значения по умолчанию, если иное не указано в задании**.\n",
        "\n",
        "**Если скорость обучения слишком низкая**, рекомендуется следующее:\n",
        "\n",
        "* В модели или/и GridSearchCV поменяйте значение параметра n_jobs, который отвечает за параллелизм вычислений.\n",
        "\n",
        "* Воспользуйтесь вычислительными ресурсами Google Colab или Kaggle.\n",
        "\n",
        "***Использовать GPU не рекомендуется, поскольку результаты обучения некоторых моделей могут отличаться на CPU и GPU.***\n",
        "\n",
        "После выполнения каждого задания **ответьте на вопросы в тесте.**\n",
        "\n",
        "**ВНИМАНИЕ:** **После каждого нового запуска ноутбука** перед тем, как приступить к выполнению заданий, проверьте настройку виртуального окружения, выполнив код в ячейке ниже."
      ]
    },
    {
      "cell_type": "code",
      "execution_count": 1,
      "id": "44397273",
      "metadata": {
        "colab": {
          "base_uri": "https://localhost:8080/"
        },
        "id": "44397273",
        "outputId": "e83174aa-cca4-4763-b6cc-7dc6ec5c6a8e"
      },
      "outputs": [
        {
          "output_type": "stream",
          "name": "stdout",
          "text": [
            "Компонент       | Требуется    | Установлено  | Соответствие\n",
            "--------------------------------------------------------------\n",
            "python          | 3.11.x       | 3.12.12      | x (требуется 3.11.x)\n",
            "numpy           | 1.26.4       | 2.0.2        | x (требуется 1.26.4)\n",
            "pandas          | 2.1.4        | 2.2.2        | x (требуется 2.1.4)\n",
            "scikit-learn    | 1.7.0        | 1.6.1        | x (требуется 1.7.0)\n",
            "matplotlib      | 3.8.0        | 3.10.0       | x (требуется 3.8.0)\n",
            "graphviz        | 0.21         | 0.21         | ✓\n",
            "\n",
            "Результат проверки:  x\n",
            "ВНИМАНИЕ: Версии некоторых компонентов не соответствуют требованиям!\n",
            "Для решения проблемы обратитесь к инструкции по настройке виртуального окружения\n"
          ]
        }
      ],
      "source": [
        "# Код для проверки настройки виртуального окружения\n",
        "\n",
        "import sys\n",
        "from importlib.metadata import version\n",
        "\n",
        "required = {\n",
        "    'python': '3.11.x',\n",
        "    'numpy': '1.26.4',\n",
        "    'pandas': '2.1.4',\n",
        "    'scikit-learn': '1.7.0',\n",
        "    'matplotlib': '3.8.0',\n",
        "    'graphviz': '0.21'\n",
        "}\n",
        "\n",
        "print(f'{\"Компонент\":<15} | {\"Требуется\":<12} | {\"Установлено\":<12} | {\"Соответствие\"}')\n",
        "print('-' * 62)\n",
        "\n",
        "environment_ok = True\n",
        "for lib, req_ver in required.items():\n",
        "    try:\n",
        "        if lib == 'python':\n",
        "            inst_ver = sys.version.split()[0]\n",
        "            status = '✓' if sys.version_info.major == 3 and sys.version_info.minor == 11 else f'x (требуется {req_ver})'\n",
        "        else:\n",
        "            inst_ver = version(lib)\n",
        "            if inst_ver == req_ver:\n",
        "                status = '✓'\n",
        "            else:\n",
        "                environment_ok = False\n",
        "                status = f'x (требуется {req_ver})'\n",
        "    except:\n",
        "        environment_ok = False\n",
        "        inst_ver = '-'\n",
        "        status = 'x (не установлена)'\n",
        "    print(f'{lib:<15} | {req_ver:<12} | {inst_ver:<12} | {status}')\n",
        "\n",
        "print('\\nРезультат проверки: ',\n",
        "      '✓\\nВсе версии соответствуют требованиям'\n",
        "      if environment_ok else\n",
        "      'x\\nВНИМАНИЕ: Версии некоторых компонентов не соответствуют требованиям!\\n'\n",
        "      'Для решения проблемы обратитесь к инструкции по настройке виртуального окружения')"
      ]
    },
    {
      "cell_type": "markdown",
      "id": "8e020f4f",
      "metadata": {
        "id": "8e020f4f"
      },
      "source": [
        "## **Импорт библиотек и вспомогательные функции**"
      ]
    },
    {
      "cell_type": "code",
      "execution_count": 2,
      "id": "dc1d0aea",
      "metadata": {
        "id": "dc1d0aea"
      },
      "outputs": [],
      "source": [
        "import warnings\n",
        "warnings.filterwarnings('ignore')"
      ]
    },
    {
      "cell_type": "code",
      "execution_count": 3,
      "id": "f9637a7d",
      "metadata": {
        "id": "f9637a7d"
      },
      "outputs": [],
      "source": [
        "import pandas as pd\n",
        "import numpy as np\n",
        "\n",
        "import matplotlib.pyplot as plt\n",
        "import graphviz\n",
        "\n",
        "from sklearn import tree\n",
        "from sklearn import datasets\n",
        "from sklearn.tree import DecisionTreeClassifier, DecisionTreeRegressor, plot_tree\n",
        "from sklearn.metrics import classification_report, mean_squared_error, mean_absolute_percentage_error, r2_score\n",
        "from sklearn.model_selection import train_test_split, GridSearchCV"
      ]
    },
    {
      "cell_type": "code",
      "execution_count": 4,
      "id": "87e4707b",
      "metadata": {
        "id": "87e4707b"
      },
      "outputs": [],
      "source": [
        "RANDOM_STATE = 42"
      ]
    },
    {
      "cell_type": "code",
      "execution_count": 5,
      "id": "4c9988fc",
      "metadata": {
        "id": "4c9988fc"
      },
      "outputs": [],
      "source": [
        "def metrics_report(y_true, y_pred):\n",
        "    \"\"\"\n",
        "    Выводит отчёт с основными метриками качества регрессии.\n",
        "    Округляет до 4-х знаков после запятой и выводит значения R2 (коэффициент детерминации), RMSE (среднеквадратичная ошибка) и MAPE (средняя абсолютная процентная ошибка) для оценки качества предсказаний.\n",
        "\n",
        "    Аргументы:\n",
        "        y_true (numpy.ndarray): Истинные значения целевой переменной.\n",
        "        y_pred (numpy.ndarray): Предсказанные значения целевой переменной.\n",
        "    \"\"\"\n",
        "    print(f'R2 score: {r2_score(y_true, y_pred):.4f}')\n",
        "    print(f'RMSE: {mean_squared_error(y_true, y_pred)**0.5:.4f}')\n",
        "    print(f'MAPE: {mean_absolute_percentage_error(y_true, y_pred):.4f}')"
      ]
    },
    {
      "cell_type": "markdown",
      "id": "76776d4a",
      "metadata": {
        "id": "76776d4a"
      },
      "source": [
        "## **Практическая часть**"
      ]
    },
    {
      "cell_type": "markdown",
      "id": "cd1184c9",
      "metadata": {
        "id": "cd1184c9"
      },
      "source": [
        "### **Определения**\n",
        "\n",
        "* **Дерево решений** — это модель, построенная на основе решающих правил вида «если, то», упорядоченных в древовидную иерархическую структуру.\n",
        "\n",
        "* **Узел** (node) — это элемент дерева, который может быть либо внутренним (с условием проверки признака), либо листом (с конечным решением).\n",
        "\n",
        "* **Внутренний узел** — это элемент дерева, который выполняет проверку значений признаков и направляет объекты к подузлам в зависимости от результата проверки.\n",
        "\n",
        "* **Лист** (leaf) — это терминальный узел дерева, принимающий решение, то есть присваивающий объекту конечную метку класса (в задачах классификации) или значение целевой переменной (в задачах регрессии).\n",
        "\n",
        "* **Глубина дерева** — это максимальное число ребер (уровней), которые необходимо пройти, начиная от корневого узла до самого глубокого листового узла."
      ]
    },
    {
      "cell_type": "markdown",
      "id": "c1290703",
      "metadata": {
        "id": "c1290703"
      },
      "source": [
        "### **Деревья решений в задаче классификации**\n",
        "\n",
        "В рамках задачи классификации дерево решений рекурсивно разбивает данные на подмножества, стремясь максимизировать \"чистоту\" узлов, то есть стремясь к ситуации, когда в каждом узле дерева преобладают объекты одного класса.\n",
        "\n",
        "Один из основных способов оценки качества разбиения — **индекс (критерий) Джини (Gini impurity)**, измеряющий вероятность ошибки, если случайно классифицировать объект в узле согласно распределению классов. Чем ниже значение индекса Джини, тем чище множество (лучше разделение).\n",
        "\n",
        "Формула индекса Джини:\n",
        "\n",
        "$$\\text{G}=1-\\sum_{i=1}^{k}{p^{2}_{i}}$$\n",
        "\n",
        "где $k$ — количество классов, $p_{i}$ — доля объектов класса $i$ в узле.\n",
        "\n",
        "Еще одним критерием для оценки разбиения является энтропия:\n",
        "\n",
        "$$\\text{H}=-\\sum_{i=1}^{k}{p_{i}\\log p_{i}}$$\n",
        "\n",
        "Энтропия измеряет степень неопределенности в распределении классов. Энтропия равна нулю, если узел \"чистый\" (все объекты в узле относятся к одному классу), и достигает максимума, если классы распределены равномерно.\n",
        "\n",
        "Оба критерия имеют схожие свойства и часто приводят к похожим результатам, но энтропия сильнее штрафует не однородные узлы. На практике выбор между критериями зависит от конкретной задачи и данных."
      ]
    },
    {
      "cell_type": "markdown",
      "id": "9a5b978a",
      "metadata": {
        "id": "9a5b978a"
      },
      "source": [
        "### ***Задание 1***\n",
        "\n",
        "Сгенерируйте набор данных с двумя классами и двумя признаками с помощью [make_moons](https://scikit-learn.org/stable/modules/generated/sklearn.datasets.make_moons.html) (см. код).\n",
        "\n",
        "Реализуйте два простейших дерева решений, дополнив функции one_rule_tree_predict и two_rules_tree_predict:\n",
        "\n",
        "* Дерево с одним узлом (функция one_rule_tree_predict):\n",
        "\n",
        "    * если $x_1 \\le -0.5$, то 0\n",
        "\n",
        "    * иначе: 1\n",
        "\n",
        "* Дерево с двумя узлами (функция two_rules_tree_predict):\n",
        "\n",
        "    * если $x_1 \\le -0.5$, то 0\n",
        "\n",
        "    * иначе:\n",
        "    \n",
        "        * если $x_2 \\le 0$, то 1\n",
        "        \n",
        "        * иначе: 0\n",
        "\n",
        "Дополните класс CustomDecisionTreeClassifier, добавив недостающий код там, где это необходимо.\n",
        "\n",
        "Обучите два дерева решений **c максимальной глубиной 3** на всем наборе данных:\n",
        "\n",
        "* `tree_custom` — дерево CustomDecisionTreeClassifier.\n",
        "\n",
        "* `tree_sk` — дерево DecisionTreeClassifier из библиотеки sklearn.\n",
        "\n",
        "Для каждого из деревьев решений, включая простейшие деревья в виде функций (one_rule_tree_predict, two_rules_tree_predict, `tree_custom`, `tree_sk`), постройте отчёт по метрикам классификации."
      ]
    },
    {
      "cell_type": "code",
      "execution_count": 6,
      "id": "6f2483f3",
      "metadata": {
        "id": "6f2483f3"
      },
      "outputs": [],
      "source": [
        "def display_decision_boundary(classifier, features, labels):\n",
        "    \"\"\"\n",
        "    Визуализирует границу решений классификатора на двумерных данных.\n",
        "\n",
        "    Аргументы:\n",
        "        classifier (callable): Функция или метод модели, принимающий таблицу с признаками и возвращающий предсказанные классы.\n",
        "        features (pandas.DataFrame): Двумерная таблица с признаками (только два признака), по которым строится визуализация.\n",
        "        labels (numpy.ndarray): Массив меток классов.\n",
        "    \"\"\"\n",
        "    x1_min, x1_max = features.iloc[:, 0].min() - 1, features.iloc[:, 0].max() + 1\n",
        "    x2_min, x2_max = features.iloc[:, 1].min() - 1, features.iloc[:, 1].max() + 1\n",
        "    x1x1, x2x2 = np.meshgrid(np.arange(x1_min, x1_max, 0.01), np.arange(x2_min, x2_max, 0.01))\n",
        "    decision = classifier(pd.DataFrame(np.c_[x1x1.ravel(), x2x2.ravel()], columns=features.columns)).reshape(x1x1.shape)\n",
        "    plt.contourf(x1x1, x2x2, decision, alpha=0.5)\n",
        "    plt.scatter(features.iloc[:, 0], features.iloc[:, 1], c=labels, edgecolors='k')\n",
        "    plt.show()"
      ]
    },
    {
      "cell_type": "code",
      "execution_count": 7,
      "id": "4d54e6b5",
      "metadata": {
        "id": "4d54e6b5"
      },
      "outputs": [],
      "source": [
        "# Сгенерируйте набор данных с двумя классами и двумя признаками с помощью make_moons\n",
        "\n",
        "features, labels = datasets.make_moons(n_samples=200, noise=0.15, random_state=RANDOM_STATE)\n",
        "features = pd.DataFrame(features)\n",
        "features.columns = ['x1', 'x2']"
      ]
    },
    {
      "cell_type": "code",
      "execution_count": 8,
      "id": "00bbb965",
      "metadata": {
        "colab": {
          "base_uri": "https://localhost:8080/",
          "height": 423
        },
        "id": "00bbb965",
        "outputId": "0ae38c6e-6d35-4da9-a206-323a9c8e075f"
      },
      "outputs": [
        {
          "output_type": "execute_result",
          "data": {
            "text/plain": [
              "           x1        x2\n",
              "0   -1.078161  0.063368\n",
              "1    0.939809  0.457119\n",
              "2    0.695151  0.642107\n",
              "3    1.150173 -0.347871\n",
              "4    0.249173 -0.068544\n",
              "..        ...       ...\n",
              "195 -0.039215  0.248731\n",
              "196  0.778639  0.348020\n",
              "197 -1.350844  0.323007\n",
              "198  1.863808 -0.105644\n",
              "199  0.037612  0.477613\n",
              "\n",
              "[200 rows x 2 columns]"
            ],
            "text/html": [
              "\n",
              "  <div id=\"df-de4c3b04-0639-4f17-a805-52a921c8fe50\" class=\"colab-df-container\">\n",
              "    <div>\n",
              "<style scoped>\n",
              "    .dataframe tbody tr th:only-of-type {\n",
              "        vertical-align: middle;\n",
              "    }\n",
              "\n",
              "    .dataframe tbody tr th {\n",
              "        vertical-align: top;\n",
              "    }\n",
              "\n",
              "    .dataframe thead th {\n",
              "        text-align: right;\n",
              "    }\n",
              "</style>\n",
              "<table border=\"1\" class=\"dataframe\">\n",
              "  <thead>\n",
              "    <tr style=\"text-align: right;\">\n",
              "      <th></th>\n",
              "      <th>x1</th>\n",
              "      <th>x2</th>\n",
              "    </tr>\n",
              "  </thead>\n",
              "  <tbody>\n",
              "    <tr>\n",
              "      <th>0</th>\n",
              "      <td>-1.078161</td>\n",
              "      <td>0.063368</td>\n",
              "    </tr>\n",
              "    <tr>\n",
              "      <th>1</th>\n",
              "      <td>0.939809</td>\n",
              "      <td>0.457119</td>\n",
              "    </tr>\n",
              "    <tr>\n",
              "      <th>2</th>\n",
              "      <td>0.695151</td>\n",
              "      <td>0.642107</td>\n",
              "    </tr>\n",
              "    <tr>\n",
              "      <th>3</th>\n",
              "      <td>1.150173</td>\n",
              "      <td>-0.347871</td>\n",
              "    </tr>\n",
              "    <tr>\n",
              "      <th>4</th>\n",
              "      <td>0.249173</td>\n",
              "      <td>-0.068544</td>\n",
              "    </tr>\n",
              "    <tr>\n",
              "      <th>...</th>\n",
              "      <td>...</td>\n",
              "      <td>...</td>\n",
              "    </tr>\n",
              "    <tr>\n",
              "      <th>195</th>\n",
              "      <td>-0.039215</td>\n",
              "      <td>0.248731</td>\n",
              "    </tr>\n",
              "    <tr>\n",
              "      <th>196</th>\n",
              "      <td>0.778639</td>\n",
              "      <td>0.348020</td>\n",
              "    </tr>\n",
              "    <tr>\n",
              "      <th>197</th>\n",
              "      <td>-1.350844</td>\n",
              "      <td>0.323007</td>\n",
              "    </tr>\n",
              "    <tr>\n",
              "      <th>198</th>\n",
              "      <td>1.863808</td>\n",
              "      <td>-0.105644</td>\n",
              "    </tr>\n",
              "    <tr>\n",
              "      <th>199</th>\n",
              "      <td>0.037612</td>\n",
              "      <td>0.477613</td>\n",
              "    </tr>\n",
              "  </tbody>\n",
              "</table>\n",
              "<p>200 rows × 2 columns</p>\n",
              "</div>\n",
              "    <div class=\"colab-df-buttons\">\n",
              "\n",
              "  <div class=\"colab-df-container\">\n",
              "    <button class=\"colab-df-convert\" onclick=\"convertToInteractive('df-de4c3b04-0639-4f17-a805-52a921c8fe50')\"\n",
              "            title=\"Convert this dataframe to an interactive table.\"\n",
              "            style=\"display:none;\">\n",
              "\n",
              "  <svg xmlns=\"http://www.w3.org/2000/svg\" height=\"24px\" viewBox=\"0 -960 960 960\">\n",
              "    <path d=\"M120-120v-720h720v720H120Zm60-500h600v-160H180v160Zm220 220h160v-160H400v160Zm0 220h160v-160H400v160ZM180-400h160v-160H180v160Zm440 0h160v-160H620v160ZM180-180h160v-160H180v160Zm440 0h160v-160H620v160Z\"/>\n",
              "  </svg>\n",
              "    </button>\n",
              "\n",
              "  <style>\n",
              "    .colab-df-container {\n",
              "      display:flex;\n",
              "      gap: 12px;\n",
              "    }\n",
              "\n",
              "    .colab-df-convert {\n",
              "      background-color: #E8F0FE;\n",
              "      border: none;\n",
              "      border-radius: 50%;\n",
              "      cursor: pointer;\n",
              "      display: none;\n",
              "      fill: #1967D2;\n",
              "      height: 32px;\n",
              "      padding: 0 0 0 0;\n",
              "      width: 32px;\n",
              "    }\n",
              "\n",
              "    .colab-df-convert:hover {\n",
              "      background-color: #E2EBFA;\n",
              "      box-shadow: 0px 1px 2px rgba(60, 64, 67, 0.3), 0px 1px 3px 1px rgba(60, 64, 67, 0.15);\n",
              "      fill: #174EA6;\n",
              "    }\n",
              "\n",
              "    .colab-df-buttons div {\n",
              "      margin-bottom: 4px;\n",
              "    }\n",
              "\n",
              "    [theme=dark] .colab-df-convert {\n",
              "      background-color: #3B4455;\n",
              "      fill: #D2E3FC;\n",
              "    }\n",
              "\n",
              "    [theme=dark] .colab-df-convert:hover {\n",
              "      background-color: #434B5C;\n",
              "      box-shadow: 0px 1px 3px 1px rgba(0, 0, 0, 0.15);\n",
              "      filter: drop-shadow(0px 1px 2px rgba(0, 0, 0, 0.3));\n",
              "      fill: #FFFFFF;\n",
              "    }\n",
              "  </style>\n",
              "\n",
              "    <script>\n",
              "      const buttonEl =\n",
              "        document.querySelector('#df-de4c3b04-0639-4f17-a805-52a921c8fe50 button.colab-df-convert');\n",
              "      buttonEl.style.display =\n",
              "        google.colab.kernel.accessAllowed ? 'block' : 'none';\n",
              "\n",
              "      async function convertToInteractive(key) {\n",
              "        const element = document.querySelector('#df-de4c3b04-0639-4f17-a805-52a921c8fe50');\n",
              "        const dataTable =\n",
              "          await google.colab.kernel.invokeFunction('convertToInteractive',\n",
              "                                                    [key], {});\n",
              "        if (!dataTable) return;\n",
              "\n",
              "        const docLinkHtml = 'Like what you see? Visit the ' +\n",
              "          '<a target=\"_blank\" href=https://colab.research.google.com/notebooks/data_table.ipynb>data table notebook</a>'\n",
              "          + ' to learn more about interactive tables.';\n",
              "        element.innerHTML = '';\n",
              "        dataTable['output_type'] = 'display_data';\n",
              "        await google.colab.output.renderOutput(dataTable, element);\n",
              "        const docLink = document.createElement('div');\n",
              "        docLink.innerHTML = docLinkHtml;\n",
              "        element.appendChild(docLink);\n",
              "      }\n",
              "    </script>\n",
              "  </div>\n",
              "\n",
              "\n",
              "    <div id=\"df-4d0605d3-17e6-4fe7-8dc5-90b1e5f8491d\">\n",
              "      <button class=\"colab-df-quickchart\" onclick=\"quickchart('df-4d0605d3-17e6-4fe7-8dc5-90b1e5f8491d')\"\n",
              "                title=\"Suggest charts\"\n",
              "                style=\"display:none;\">\n",
              "\n",
              "<svg xmlns=\"http://www.w3.org/2000/svg\" height=\"24px\"viewBox=\"0 0 24 24\"\n",
              "     width=\"24px\">\n",
              "    <g>\n",
              "        <path d=\"M19 3H5c-1.1 0-2 .9-2 2v14c0 1.1.9 2 2 2h14c1.1 0 2-.9 2-2V5c0-1.1-.9-2-2-2zM9 17H7v-7h2v7zm4 0h-2V7h2v10zm4 0h-2v-4h2v4z\"/>\n",
              "    </g>\n",
              "</svg>\n",
              "      </button>\n",
              "\n",
              "<style>\n",
              "  .colab-df-quickchart {\n",
              "      --bg-color: #E8F0FE;\n",
              "      --fill-color: #1967D2;\n",
              "      --hover-bg-color: #E2EBFA;\n",
              "      --hover-fill-color: #174EA6;\n",
              "      --disabled-fill-color: #AAA;\n",
              "      --disabled-bg-color: #DDD;\n",
              "  }\n",
              "\n",
              "  [theme=dark] .colab-df-quickchart {\n",
              "      --bg-color: #3B4455;\n",
              "      --fill-color: #D2E3FC;\n",
              "      --hover-bg-color: #434B5C;\n",
              "      --hover-fill-color: #FFFFFF;\n",
              "      --disabled-bg-color: #3B4455;\n",
              "      --disabled-fill-color: #666;\n",
              "  }\n",
              "\n",
              "  .colab-df-quickchart {\n",
              "    background-color: var(--bg-color);\n",
              "    border: none;\n",
              "    border-radius: 50%;\n",
              "    cursor: pointer;\n",
              "    display: none;\n",
              "    fill: var(--fill-color);\n",
              "    height: 32px;\n",
              "    padding: 0;\n",
              "    width: 32px;\n",
              "  }\n",
              "\n",
              "  .colab-df-quickchart:hover {\n",
              "    background-color: var(--hover-bg-color);\n",
              "    box-shadow: 0 1px 2px rgba(60, 64, 67, 0.3), 0 1px 3px 1px rgba(60, 64, 67, 0.15);\n",
              "    fill: var(--button-hover-fill-color);\n",
              "  }\n",
              "\n",
              "  .colab-df-quickchart-complete:disabled,\n",
              "  .colab-df-quickchart-complete:disabled:hover {\n",
              "    background-color: var(--disabled-bg-color);\n",
              "    fill: var(--disabled-fill-color);\n",
              "    box-shadow: none;\n",
              "  }\n",
              "\n",
              "  .colab-df-spinner {\n",
              "    border: 2px solid var(--fill-color);\n",
              "    border-color: transparent;\n",
              "    border-bottom-color: var(--fill-color);\n",
              "    animation:\n",
              "      spin 1s steps(1) infinite;\n",
              "  }\n",
              "\n",
              "  @keyframes spin {\n",
              "    0% {\n",
              "      border-color: transparent;\n",
              "      border-bottom-color: var(--fill-color);\n",
              "      border-left-color: var(--fill-color);\n",
              "    }\n",
              "    20% {\n",
              "      border-color: transparent;\n",
              "      border-left-color: var(--fill-color);\n",
              "      border-top-color: var(--fill-color);\n",
              "    }\n",
              "    30% {\n",
              "      border-color: transparent;\n",
              "      border-left-color: var(--fill-color);\n",
              "      border-top-color: var(--fill-color);\n",
              "      border-right-color: var(--fill-color);\n",
              "    }\n",
              "    40% {\n",
              "      border-color: transparent;\n",
              "      border-right-color: var(--fill-color);\n",
              "      border-top-color: var(--fill-color);\n",
              "    }\n",
              "    60% {\n",
              "      border-color: transparent;\n",
              "      border-right-color: var(--fill-color);\n",
              "    }\n",
              "    80% {\n",
              "      border-color: transparent;\n",
              "      border-right-color: var(--fill-color);\n",
              "      border-bottom-color: var(--fill-color);\n",
              "    }\n",
              "    90% {\n",
              "      border-color: transparent;\n",
              "      border-bottom-color: var(--fill-color);\n",
              "    }\n",
              "  }\n",
              "</style>\n",
              "\n",
              "      <script>\n",
              "        async function quickchart(key) {\n",
              "          const quickchartButtonEl =\n",
              "            document.querySelector('#' + key + ' button');\n",
              "          quickchartButtonEl.disabled = true;  // To prevent multiple clicks.\n",
              "          quickchartButtonEl.classList.add('colab-df-spinner');\n",
              "          try {\n",
              "            const charts = await google.colab.kernel.invokeFunction(\n",
              "                'suggestCharts', [key], {});\n",
              "          } catch (error) {\n",
              "            console.error('Error during call to suggestCharts:', error);\n",
              "          }\n",
              "          quickchartButtonEl.classList.remove('colab-df-spinner');\n",
              "          quickchartButtonEl.classList.add('colab-df-quickchart-complete');\n",
              "        }\n",
              "        (() => {\n",
              "          let quickchartButtonEl =\n",
              "            document.querySelector('#df-4d0605d3-17e6-4fe7-8dc5-90b1e5f8491d button');\n",
              "          quickchartButtonEl.style.display =\n",
              "            google.colab.kernel.accessAllowed ? 'block' : 'none';\n",
              "        })();\n",
              "      </script>\n",
              "    </div>\n",
              "    </div>\n",
              "  </div>\n"
            ],
            "application/vnd.google.colaboratory.intrinsic+json": {
              "type": "dataframe",
              "variable_name": "features",
              "summary": "{\n  \"name\": \"features\",\n  \"rows\": 200,\n  \"fields\": [\n    {\n      \"column\": \"x1\",\n      \"properties\": {\n        \"dtype\": \"number\",\n        \"std\": 0.8897260481384403,\n        \"min\": -1.3508437151347392,\n        \"max\": 2.220367855052293,\n        \"num_unique_values\": 200,\n        \"samples\": [\n          2.220367855052293,\n          1.9226235347567766,\n          1.0912940058431317\n        ],\n        \"semantic_type\": \"\",\n        \"description\": \"\"\n      }\n    },\n    {\n      \"column\": \"x2\",\n      \"properties\": {\n        \"dtype\": \"number\",\n        \"std\": 0.5148343835203371,\n        \"min\": -0.7001134692796323,\n        \"max\": 1.3596768536551787,\n        \"num_unique_values\": 200,\n        \"samples\": [\n          0.2760709227055085,\n          -0.06382038548633512,\n          0.24579338061235823\n        ],\n        \"semantic_type\": \"\",\n        \"description\": \"\"\n      }\n    }\n  ]\n}"
            }
          },
          "metadata": {},
          "execution_count": 8
        }
      ],
      "source": [
        "# В features два признака: x1 и x2\n",
        "\n",
        "features"
      ]
    },
    {
      "cell_type": "code",
      "execution_count": 9,
      "id": "55084ee0",
      "metadata": {
        "colab": {
          "base_uri": "https://localhost:8080/",
          "height": 430
        },
        "id": "55084ee0",
        "outputId": "a2122d04-af22-4866-cb04-07eb3db9131a"
      },
      "outputs": [
        {
          "output_type": "display_data",
          "data": {
            "text/plain": [
              "<Figure size 640x480 with 1 Axes>"
            ],
            "image/png": "[encoded data removed]"
          },
          "metadata": {}
        }
      ],
      "source": [
        "# Визуализируйте датасет\n",
        "\n",
        "plt.scatter(features['x1'], features['x2'], c=labels, edgecolors='k')\n",
        "plt.show()"
      ]
    },
    {
      "cell_type": "code",
      "execution_count": 22,
      "id": "4236a1c7",
      "metadata": {
        "id": "4236a1c7"
      },
      "outputs": [],
      "source": [
        "# Дополните функцию one_rule_tree_predict\n",
        "\n",
        "def one_rule_tree_predict(features):\n",
        "    \"\"\"\n",
        "    Реализация предсказаний простейшего дерева решений с одним узлом:\n",
        "        если x1 <= -0.5, то 0\n",
        "        иначе: 1\n",
        "\n",
        "    Аргументы:\n",
        "        features (pandas.DataFrame): Таблица с входными признаками.\n",
        "\n",
        "    Возвращает:\n",
        "        numpy.ndarray: Массив предсказанных меток классов.\n",
        "    \"\"\"\n",
        "    return np.where(features.iloc[:, 0] <= -0.5, 0, 1)"
      ]
    },
    {
      "cell_type": "code",
      "execution_count": 27,
      "id": "7ca9736d",
      "metadata": {
        "colab": {
          "base_uri": "https://localhost:8080/"
        },
        "id": "7ca9736d",
        "outputId": "ef7a715d-1c35-4bf1-9eba-2c2474dfe981"
      },
      "outputs": [
        {
          "output_type": "stream",
          "name": "stdout",
          "text": [
            "              precision    recall  f1-score   support\n",
            "\n",
            "           0       1.00      0.31      0.47       100\n",
            "           1       0.59      1.00      0.74       100\n",
            "\n",
            "    accuracy                           0.66       200\n",
            "   macro avg       0.80      0.66      0.61       200\n",
            "weighted avg       0.80      0.66      0.61       200\n",
            "\n"
          ]
        }
      ],
      "source": [
        "# Постройте отчет по метрикам классификации для one_rule_tree_predict на всем наборе данных\n",
        "\n",
        "print(classification_report(labels, one_rule_tree_predict(features)))"
      ]
    },
    {
      "cell_type": "code",
      "execution_count": 28,
      "id": "161bc4ba",
      "metadata": {
        "colab": {
          "base_uri": "https://localhost:8080/",
          "height": 430
        },
        "id": "161bc4ba",
        "outputId": "bcd6e5ff-19ea-4a7f-cd2d-7641f7eb601d"
      },
      "outputs": [
        {
          "output_type": "display_data",
          "data": {
            "text/plain": [
              "<Figure size 640x480 with 1 Axes>"
            ],
            "image/png": "[encoded data removed]"
          },
          "metadata": {}
        }
      ],
      "source": [
        "# Визуализируйте границу решений классификатора one_rule_tree_predict на всем наборе данных\n",
        "\n",
        "display_decision_boundary(one_rule_tree_predict, features, labels)"
      ]
    },
    {
      "cell_type": "code",
      "execution_count": 30,
      "id": "157e4313",
      "metadata": {
        "id": "157e4313"
      },
      "outputs": [],
      "source": [
        "# Дополните функцию two_rules_tree_predict\n",
        "\n",
        "def two_rules_tree_predict(features):\n",
        "    \"\"\"\n",
        "    Реализация предсказаний простейшего дерева решений с двумя узлами:\n",
        "        если x1 <= -0.5, то 0т\n",
        "        иначе:\n",
        "            если x2 <= 0, то 1\n",
        "            иначе: 0\n",
        "\n",
        "    Аргументы:\n",
        "        features (pandas.DataFrame): Таблица с входными признаками.\n",
        "\n",
        "    Возвращает:\n",
        "        numpy.ndarray: Массив предсказанных меток классов.\n",
        "    \"\"\"\n",
        "    return np.where(features.iloc[:,0]<=-0.5, 0,\n",
        "           np.where(features.iloc[:,1]<=0, 1, 0))"
      ]
    },
    {
      "cell_type": "code",
      "execution_count": 32,
      "id": "87b8bb70",
      "metadata": {
        "colab": {
          "base_uri": "https://localhost:8080/"
        },
        "id": "87b8bb70",
        "outputId": "4c359bf4-7585-4dc2-a4af-79732a996a74"
      },
      "outputs": [
        {
          "output_type": "stream",
          "name": "stdout",
          "text": [
            "              precision    recall  f1-score   support\n",
            "\n",
            "           0       0.75      0.97      0.85       100\n",
            "           1       0.96      0.68      0.80       100\n",
            "\n",
            "    accuracy                           0.82       200\n",
            "   macro avg       0.85      0.82      0.82       200\n",
            "weighted avg       0.85      0.82      0.82       200\n",
            "\n"
          ]
        }
      ],
      "source": [
        "# Постройте отчет по метрикам классификации для two_rules_tree_predict на всем наборе данных\n",
        "\n",
        "print(classification_report(labels, two_rules_tree_predict(features)))"
      ]
    },
    {
      "cell_type": "code",
      "execution_count": 34,
      "id": "24f52f32",
      "metadata": {
        "colab": {
          "base_uri": "https://localhost:8080/",
          "height": 430
        },
        "id": "24f52f32",
        "outputId": "dd0111e7-c9c0-4b01-bdc2-7f55a4cabbb2"
      },
      "outputs": [
        {
          "output_type": "display_data",
          "data": {
            "text/plain": [
              "<Figure size 640x480 with 1 Axes>"
            ],
            "image/png": "[encoded data removed]"
          },
          "metadata": {}
        }
      ],
      "source": [
        "# Визуализируйте границу решений классификатора two_rules_tree_predict на всем наборе данных\n",
        "\n",
        "display_decision_boundary(two_rules_tree_predict, features, labels)"
      ]
    },
    {
      "cell_type": "code",
      "execution_count": 35,
      "id": "97d38bba",
      "metadata": {
        "id": "97d38bba"
      },
      "outputs": [],
      "source": [
        "# Дополните класс CustomDecisionTreeClassifier\n",
        "# Код методов plot_node, plot_tree и count_nodes изменять не нужно\n",
        "\n",
        "class CustomDecisionTreeClassifier():\n",
        "    \"\"\"\n",
        "    Простой классификатор на основе дерева решений с критерием Джини в качестве критерия разделения.\n",
        "\n",
        "    Аргументы:\n",
        "        max_depth (int): Максимальная глубина дерева. По умолчанию — 3.\n",
        "\n",
        "    Атрибуты:\n",
        "        label (int): Метка класса, который наиболее часто встречается в узле.\n",
        "        feature (str): Признак, используемый для разделения.\n",
        "        size (int): Количество объектов в узле.\n",
        "        threshold (float): Пороговое значение для разделения.\n",
        "        left (CustomDecisionTreeClassifier): Левое поддерево (значение <= порог).\n",
        "        right (CustomDecisionTreeClassifier): Правое поддерево (значение > порог).\n",
        "        gini (float): Индекс Джини в узле.\n",
        "    \"\"\"\n",
        "    def __init__(self, max_depth=3):\n",
        "        self.max_depth = max_depth\n",
        "        self.label = None\n",
        "        self.feature = None\n",
        "        self.size = None\n",
        "        self.threshold = np.nan\n",
        "        self.left = None\n",
        "        self.right = None\n",
        "        self.gini = 0\n",
        "\n",
        "    def gini_impurity(self, y):\n",
        "        \"\"\"\n",
        "        Вычисляет индекс Джини для массива меток классов.\n",
        "\n",
        "        Аргументы:\n",
        "            y (numpy.ndarray): Массив меток классов.\n",
        "\n",
        "        Возвращает:\n",
        "            float: Значение индекса Джини.\n",
        "        \"\"\"\n",
        "        _, counts = np.unique(y, return_counts=True)\n",
        "        probabilities = counts / len(y)\n",
        "        return 1 - np.sum(probabilities**2)\n",
        "\n",
        "    def best_split(self, X, y):\n",
        "        \"\"\"\n",
        "        Находит оптимальный признак и порог для разделения данных.\n",
        "\n",
        "        Аргументы:\n",
        "            X (pandas.DataFrame): Таблица с признаками.\n",
        "            y (numpy.ndarray): Массив меток классов.\n",
        "\n",
        "        Возвращает:\n",
        "            tuple:\n",
        "                str: Оптимальный признак для разделения.\n",
        "                float: Оптимальное пороговое значение.\n",
        "                float: Значение индекса Джини после оптимального разделения.\n",
        "        \"\"\"\n",
        "        best_feature = None\n",
        "        best_threshold = None\n",
        "        best_gini = self.gini_impurity(y)\n",
        "        N = X.shape[0]\n",
        "        for feature in X.columns:\n",
        "            values = np.sort(X[feature].unique())\n",
        "            thresholds = [(values[i] + values[i+1]) / 2 for i in range(len(values)-1)]\n",
        "            for threshold in thresholds:\n",
        "                mask_left = X[feature] <= threshold\n",
        "                mask_right = ~mask_left\n",
        "                N_left = np.sum(mask_left) # количество элементов в левом поддереве\n",
        "                N_right = np.sum(mask_right)\n",
        "                if N_left == 0 or N_right == 0:\n",
        "                    continue\n",
        "                gini_left = self.gini_impurity(y[mask_left])\n",
        "                gini_right = self.gini_impurity(y[mask_right])\n",
        "                weighted_gini = (N_left * gini_left + N_right * gini_right) / N\n",
        "                if weighted_gini < best_gini:\n",
        "                    best_gini = weighted_gini\n",
        "                    best_feature = feature\n",
        "                    best_threshold = threshold\n",
        "\n",
        "        return best_feature, best_threshold, best_gini\n",
        "\n",
        "    def fit(self, X, y):\n",
        "        \"\"\"\n",
        "        Обучает дерево решений, рекурсивно находя оптимальные разделения.\n",
        "\n",
        "        Аргументы:\n",
        "            X (pandas.DataFrame): Таблица с признаками.\n",
        "            y (numpy.ndarray): Массив меток классов.\n",
        "\n",
        "        Возвращает:\n",
        "            CustomDecisionTreeClassifier: Обученное дерево решений.\n",
        "        \"\"\"\n",
        "        self.size = len(y)\n",
        "        classes, counts = np.unique(y, return_counts=True)\n",
        "        self.label = classes[np.argmax(counts)]\n",
        "        self.gini = self.gini_impurity(y)\n",
        "        if self.max_depth == 0:\n",
        "            return\n",
        "        self.feature, self.threshold, gini = self.best_split(X, y)\n",
        "        if self.feature is None or gini >= self.gini:\n",
        "            return\n",
        "        self.gini = gini\n",
        "        mask_left = X[self.feature] <= self.threshold\n",
        "        mask_right = ~mask_left\n",
        "        self.left = CustomDecisionTreeClassifier(max_depth=self.max_depth-1)\n",
        "        self.right = CustomDecisionTreeClassifier(max_depth=self.max_depth-1)\n",
        "        self.left.fit(X[mask_left], y[mask_left])\n",
        "        self.right.fit(X[mask_right], y[mask_right])\n",
        "        return self\n",
        "\n",
        "    def predict(self, X):\n",
        "        \"\"\"\n",
        "        Предсказывает метки классов.\n",
        "\n",
        "        Аргументы:\n",
        "            X (pandas.DataFrame): Таблица с признаками.\n",
        "\n",
        "        Возвращает:\n",
        "            numpy.ndarray: Массив предсказанных меток классов.\n",
        "        \"\"\"\n",
        "        if self.feature is None:\n",
        "            return np.full(X.shape[0], self.label)\n",
        "        mask_left = X[self.feature] <= self.threshold\n",
        "        mask_right = ~mask_left\n",
        "        y_pred = np.empty(X.shape[0])\n",
        "        y_pred[mask_left] = self.left.predict(X[mask_left])\n",
        "        y_pred[mask_right] = self.right.predict(X[mask_right])\n",
        "\n",
        "        return y_pred\n",
        "\n",
        "    def plot_node(self, dot, node_id=0):\n",
        "        \"\"\"\n",
        "        Вспомогательный метод для визуализации дерева.\n",
        "\n",
        "        Аргументы:\n",
        "            dot (graphviz.Digraph): Объект Digraph библиотеки graphviz.\n",
        "            node_id (int): Идентификатор текущего узла. По умолчанию — 0.\n",
        "\n",
        "        Возвращает:\n",
        "            int: Идентификатор узла.\n",
        "        \"\"\"\n",
        "        if self.feature is None:\n",
        "            label = f\"gini = {self.gini:.3f}\\nsamples = {self.size}\\nlabel = {self.label}\"\n",
        "            dot.node(str(node_id), label=label, fillcolor=\"#8ccd96\")\n",
        "            return node_id\n",
        "        label = f\"{self.feature} <= {self.threshold:.3f}\\ngini = {self.gini:.3f}\\nsamples = {self.size}\\nlabel = {self.label}\"\n",
        "        dot.node(str(node_id), label=label, fillcolor=\"#ffffff\")\n",
        "        left_id = self.left.plot_node(dot, node_id*2 + 1)\n",
        "        dot.edge(str(node_id), str(left_id))\n",
        "        right_id = self.right.plot_node(dot, node_id*2 + 2)\n",
        "        dot.edge(str(node_id), str(right_id))\n",
        "\n",
        "        return node_id\n",
        "\n",
        "    def plot_tree(self, filled=True):\n",
        "        \"\"\"\n",
        "        Генерирует визуализацию дерева решений.\n",
        "\n",
        "        Аргументы:\n",
        "            filled (bool): Закрашивать узлы. По умолчанию — True.\n",
        "\n",
        "        Возвращает:\n",
        "            graphviz.Digraph: Объект graphviz с визуализацией дерева.\n",
        "        \"\"\"\n",
        "        dot = graphviz.Digraph()\n",
        "        dot.attr('node', shape='box', style='filled' if filled else None)\n",
        "        self.plot_node(dot)\n",
        "        return dot\n",
        "\n",
        "    def count_nodes(self):\n",
        "        \"\"\"\n",
        "        Рассчитывает сложность дерева — совокупное количество узлов в дереве.\n",
        "\n",
        "        Возвращает:\n",
        "            int: Общее количество узлов.\n",
        "        \"\"\"\n",
        "        if self.feature is None:\n",
        "            return 1\n",
        "        return 1 + self.left.count_nodes() + self.right.count_nodes()"
      ]
    },
    {
      "cell_type": "code",
      "execution_count": 37,
      "id": "65cad688",
      "metadata": {
        "colab": {
          "base_uri": "https://localhost:8080/"
        },
        "id": "65cad688",
        "outputId": "cf305e28-8c80-4c86-8f71-a2d3574c89e6"
      },
      "outputs": [
        {
          "output_type": "execute_result",
          "data": {
            "text/plain": [
              "<__main__.CustomDecisionTreeClassifier at 0x79fb3fbc1370>"
            ]
          },
          "metadata": {},
          "execution_count": 37
        }
      ],
      "source": [
        "# Обучите дерево tree_custom (CustomDecisionTreeClassifier)\n",
        "# Максимальная глубина — 3\n",
        "\n",
        "tree_custom = CustomDecisionTreeClassifier(max_depth=3)\n",
        "tree_custom.fit(features, labels)"
      ]
    },
    {
      "cell_type": "code",
      "execution_count": 38,
      "id": "6e75b97f",
      "metadata": {
        "colab": {
          "base_uri": "https://localhost:8080/"
        },
        "id": "6e75b97f",
        "outputId": "38b43b3a-de8d-46bd-9241-8f5174141939"
      },
      "outputs": [
        {
          "output_type": "stream",
          "name": "stdout",
          "text": [
            "              precision    recall  f1-score   support\n",
            "\n",
            "           0       0.97      0.87      0.92       100\n",
            "           1       0.88      0.97      0.92       100\n",
            "\n",
            "    accuracy                           0.92       200\n",
            "   macro avg       0.92      0.92      0.92       200\n",
            "weighted avg       0.92      0.92      0.92       200\n",
            "\n"
          ]
        }
      ],
      "source": [
        "# Постройте отчет по метрикам классификации для tree_custom на всем наборе данных\n",
        "\n",
        "print(classification_report(labels, tree_custom.predict(features)))"
      ]
    },
    {
      "cell_type": "code",
      "execution_count": 39,
      "id": "5b874c46",
      "metadata": {
        "colab": {
          "base_uri": "https://localhost:8080/",
          "height": 430
        },
        "id": "5b874c46",
        "outputId": "fa0598c9-f0a5-43a5-f164-27ad18201251"
      },
      "outputs": [
        {
          "output_type": "display_data",
          "data": {
            "text/plain": [
              "<Figure size 640x480 with 1 Axes>"
            ],
            "image/png": "[encoded data removed]"
          },
          "metadata": {}
        }
      ],
      "source": [
        "# Визуализируйте границу решений классификатора tree_custom на всем наборе данных\n",
        "\n",
        "display_decision_boundary(tree_custom.predict, features, labels)"
      ]
    },
    {
      "cell_type": "code",
      "execution_count": 40,
      "id": "f2be54df",
      "metadata": {
        "colab": {
          "base_uri": "https://localhost:8080/",
          "height": 519
        },
        "id": "f2be54df",
        "outputId": "7ecf8a91-5333-4da2-89ba-2cab6117aad5"
      },
      "outputs": [
        {
          "output_type": "execute_result",
          "data": {
            "image/svg+xml": "<?xml version=\"1.0\" encoding=\"UTF-8\" standalone=\"no\"?>\n<!DOCTYPE svg PUBLIC \"-//W3C//DTD SVG 1.1//EN\"\n \"http://www.w3.org/Graphics/SVG/1.1/DTD/svg11.dtd\">\n<!-- Generated by graphviz version 2.43.0 (0)\n -->\n<!-- Title: %3 Pages: 1 -->\n<svg width=\"429pt\" height=\"373pt\"\n viewBox=\"0.00 0.00 429.00 373.00\" xmlns=\"http://www.w3.org/2000/svg\" xmlns:xlink=\"http://www.w3.org/1999/xlink\">\n<g id=\"graph0\" class=\"graph\" transform=\"scale(1 1) rotate(0) translate(4 369)\">\n<title>%3</title>\n<polygon fill=\"white\" stroke=\"transparent\" points=\"-4,4 -4,-369 425,-369 425,4 -4,4\"/>\n<!-- 0 -->\n<g id=\"node1\" class=\"node\">\n<title>0</title>\n<polygon fill=\"#ffffff\" stroke=\"black\" points=\"261.5,-365 164.5,-365 164.5,-297 261.5,-297 261.5,-365\"/>\n<text text-anchor=\"middle\" x=\"213\" y=\"-349.8\" font-family=\"Times,serif\" font-size=\"14.00\">x2 &lt;= 0.375</text>\n<text text-anchor=\"middle\" x=\"213\" y=\"-334.8\" font-family=\"Times,serif\" font-size=\"14.00\">gini = 0.256</text>\n<text text-anchor=\"middle\" x=\"213\" y=\"-319.8\" font-family=\"Times,serif\" font-size=\"14.00\">samples = 200</text>\n<text text-anchor=\"middle\" x=\"213\" y=\"-304.8\" font-family=\"Times,serif\" font-size=\"14.00\">label = 0</text>\n</g>\n<!-- 1 -->\n<g id=\"node2\" class=\"node\">\n<title>1</title>\n<polygon fill=\"#ffffff\" stroke=\"black\" points=\"205.5,-261 108.5,-261 108.5,-193 205.5,-193 205.5,-261\"/>\n<text text-anchor=\"middle\" x=\"157\" y=\"-245.8\" font-family=\"Times,serif\" font-size=\"14.00\">x1 &lt;= &#45;0.521</text>\n<text text-anchor=\"middle\" x=\"157\" y=\"-230.8\" font-family=\"Times,serif\" font-size=\"14.00\">gini = 0.198</text>\n<text text-anchor=\"middle\" x=\"157\" y=\"-215.8\" font-family=\"Times,serif\" font-size=\"14.00\">samples = 115</text>\n<text text-anchor=\"middle\" x=\"157\" y=\"-200.8\" font-family=\"Times,serif\" font-size=\"14.00\">label = 1</text>\n</g>\n<!-- 0&#45;&gt;1 -->\n<g id=\"edge5\" class=\"edge\">\n<title>0&#45;&gt;1</title>\n<path fill=\"none\" stroke=\"black\" d=\"M194.82,-296.88C190.12,-288.33 185.01,-279.01 180.1,-270.07\"/>\n<polygon fill=\"black\" stroke=\"black\" points=\"183.16,-268.38 175.28,-261.3 177.03,-271.75 183.16,-268.38\"/>\n</g>\n<!-- 2 -->\n<g id=\"node7\" class=\"node\">\n<title>2</title>\n<polygon fill=\"#ffffff\" stroke=\"black\" points=\"314,-261 224,-261 224,-193 314,-193 314,-261\"/>\n<text text-anchor=\"middle\" x=\"269\" y=\"-245.8\" font-family=\"Times,serif\" font-size=\"14.00\">x1 &lt;= 1.368</text>\n<text text-anchor=\"middle\" x=\"269\" y=\"-230.8\" font-family=\"Times,serif\" font-size=\"14.00\">gini = 0.068</text>\n<text text-anchor=\"middle\" x=\"269\" y=\"-215.8\" font-family=\"Times,serif\" font-size=\"14.00\">samples = 85</text>\n<text text-anchor=\"middle\" x=\"269\" y=\"-200.8\" font-family=\"Times,serif\" font-size=\"14.00\">label = 0</text>\n</g>\n<!-- 0&#45;&gt;2 -->\n<g id=\"edge10\" class=\"edge\">\n<title>0&#45;&gt;2</title>\n<path fill=\"none\" stroke=\"black\" d=\"M231.18,-296.88C235.88,-288.33 240.99,-279.01 245.9,-270.07\"/>\n<polygon fill=\"black\" stroke=\"black\" points=\"248.97,-271.75 250.72,-261.3 242.84,-268.38 248.97,-271.75\"/>\n</g>\n<!-- 3 -->\n<g id=\"node3\" class=\"node\">\n<title>3</title>\n<polygon fill=\"#8ccd96\" stroke=\"black\" points=\"90,-149.5 0,-149.5 0,-96.5 90,-96.5 90,-149.5\"/>\n<text text-anchor=\"middle\" x=\"45\" y=\"-134.3\" font-family=\"Times,serif\" font-size=\"14.00\">gini = 0.000</text>\n<text text-anchor=\"middle\" x=\"45\" y=\"-119.3\" font-family=\"Times,serif\" font-size=\"14.00\">samples = 10</text>\n<text text-anchor=\"middle\" x=\"45\" y=\"-104.3\" font-family=\"Times,serif\" font-size=\"14.00\">label = 0</text>\n</g>\n<!-- 1&#45;&gt;3 -->\n<g id=\"edge1\" class=\"edge\">\n<title>1&#45;&gt;3</title>\n<path fill=\"none\" stroke=\"black\" d=\"M120.64,-192.88C107.84,-181.23 93.47,-168.14 80.72,-156.53\"/>\n<polygon fill=\"black\" stroke=\"black\" points=\"82.77,-153.67 73.02,-149.52 78.06,-158.84 82.77,-153.67\"/>\n</g>\n<!-- 4 -->\n<g id=\"node4\" class=\"node\">\n<title>4</title>\n<polygon fill=\"#ffffff\" stroke=\"black\" points=\"205.5,-157 108.5,-157 108.5,-89 205.5,-89 205.5,-157\"/>\n<text text-anchor=\"middle\" x=\"157\" y=\"-141.8\" font-family=\"Times,serif\" font-size=\"14.00\">x2 &lt;= &#45;0.105</text>\n<text text-anchor=\"middle\" x=\"157\" y=\"-126.8\" font-family=\"Times,serif\" font-size=\"14.00\">gini = 0.186</text>\n<text text-anchor=\"middle\" x=\"157\" y=\"-111.8\" font-family=\"Times,serif\" font-size=\"14.00\">samples = 105</text>\n<text text-anchor=\"middle\" x=\"157\" y=\"-96.8\" font-family=\"Times,serif\" font-size=\"14.00\">label = 1</text>\n</g>\n<!-- 1&#45;&gt;4 -->\n<g id=\"edge4\" class=\"edge\">\n<title>1&#45;&gt;4</title>\n<path fill=\"none\" stroke=\"black\" d=\"M157,-192.88C157,-184.78 157,-175.98 157,-167.47\"/>\n<polygon fill=\"black\" stroke=\"black\" points=\"160.5,-167.3 157,-157.3 153.5,-167.3 160.5,-167.3\"/>\n</g>\n<!-- 9 -->\n<g id=\"node5\" class=\"node\">\n<title>9</title>\n<polygon fill=\"#8ccd96\" stroke=\"black\" points=\"95,-53 5,-53 5,0 95,0 95,-53\"/>\n<text text-anchor=\"middle\" x=\"50\" y=\"-37.8\" font-family=\"Times,serif\" font-size=\"14.00\">gini = 0.000</text>\n<text text-anchor=\"middle\" x=\"50\" y=\"-22.8\" font-family=\"Times,serif\" font-size=\"14.00\">samples = 53</text>\n<text text-anchor=\"middle\" x=\"50\" y=\"-7.8\" font-family=\"Times,serif\" font-size=\"14.00\">label = 1</text>\n</g>\n<!-- 4&#45;&gt;9 -->\n<g id=\"edge2\" class=\"edge\">\n<title>4&#45;&gt;9</title>\n<path fill=\"none\" stroke=\"black\" d=\"M119.58,-88.95C108.91,-79.53 97.3,-69.27 86.68,-59.89\"/>\n<polygon fill=\"black\" stroke=\"black\" points=\"88.95,-57.23 79.14,-53.24 84.32,-62.48 88.95,-57.23\"/>\n</g>\n<!-- 10 -->\n<g id=\"node6\" class=\"node\">\n<title>10</title>\n<polygon fill=\"#8ccd96\" stroke=\"black\" points=\"203,-53 113,-53 113,0 203,0 203,-53\"/>\n<text text-anchor=\"middle\" x=\"158\" y=\"-37.8\" font-family=\"Times,serif\" font-size=\"14.00\">gini = 0.375</text>\n<text text-anchor=\"middle\" x=\"158\" y=\"-22.8\" font-family=\"Times,serif\" font-size=\"14.00\">samples = 52</text>\n<text text-anchor=\"middle\" x=\"158\" y=\"-7.8\" font-family=\"Times,serif\" font-size=\"14.00\">label = 1</text>\n</g>\n<!-- 4&#45;&gt;10 -->\n<g id=\"edge3\" class=\"edge\">\n<title>4&#45;&gt;10</title>\n<path fill=\"none\" stroke=\"black\" d=\"M157.35,-88.95C157.44,-80.72 157.53,-71.85 157.62,-63.48\"/>\n<polygon fill=\"black\" stroke=\"black\" points=\"161.12,-63.27 157.73,-53.24 154.12,-63.2 161.12,-63.27\"/>\n</g>\n<!-- 5 -->\n<g id=\"node8\" class=\"node\">\n<title>5</title>\n<polygon fill=\"#ffffff\" stroke=\"black\" points=\"314,-157 224,-157 224,-89 314,-89 314,-157\"/>\n<text text-anchor=\"middle\" x=\"269\" y=\"-141.8\" font-family=\"Times,serif\" font-size=\"14.00\">x2 &lt;= 0.510</text>\n<text text-anchor=\"middle\" x=\"269\" y=\"-126.8\" font-family=\"Times,serif\" font-size=\"14.00\">gini = 0.065</text>\n<text text-anchor=\"middle\" x=\"269\" y=\"-111.8\" font-family=\"Times,serif\" font-size=\"14.00\">samples = 80</text>\n<text text-anchor=\"middle\" x=\"269\" y=\"-96.8\" font-family=\"Times,serif\" font-size=\"14.00\">label = 0</text>\n</g>\n<!-- 2&#45;&gt;5 -->\n<g id=\"edge8\" class=\"edge\">\n<title>2&#45;&gt;5</title>\n<path fill=\"none\" stroke=\"black\" d=\"M269,-192.88C269,-184.78 269,-175.98 269,-167.47\"/>\n<polygon fill=\"black\" stroke=\"black\" points=\"272.5,-167.3 269,-157.3 265.5,-167.3 272.5,-167.3\"/>\n</g>\n<!-- 6 -->\n<g id=\"node11\" class=\"node\">\n<title>6</title>\n<polygon fill=\"#8ccd96\" stroke=\"black\" points=\"416,-149.5 332,-149.5 332,-96.5 416,-96.5 416,-149.5\"/>\n<text text-anchor=\"middle\" x=\"374\" y=\"-134.3\" font-family=\"Times,serif\" font-size=\"14.00\">gini = 0.000</text>\n<text text-anchor=\"middle\" x=\"374\" y=\"-119.3\" font-family=\"Times,serif\" font-size=\"14.00\">samples = 5</text>\n<text text-anchor=\"middle\" x=\"374\" y=\"-104.3\" font-family=\"Times,serif\" font-size=\"14.00\">label = 1</text>\n</g>\n<!-- 2&#45;&gt;6 -->\n<g id=\"edge9\" class=\"edge\">\n<title>2&#45;&gt;6</title>\n<path fill=\"none\" stroke=\"black\" d=\"M303.09,-192.88C315.09,-181.23 328.56,-168.14 340.51,-156.53\"/>\n<polygon fill=\"black\" stroke=\"black\" points=\"343,-159 347.73,-149.52 338.12,-153.98 343,-159\"/>\n</g>\n<!-- 11 -->\n<g id=\"node9\" class=\"node\">\n<title>11</title>\n<polygon fill=\"#8ccd96\" stroke=\"black\" points=\"313,-53 223,-53 223,0 313,0 313,-53\"/>\n<text text-anchor=\"middle\" x=\"268\" y=\"-37.8\" font-family=\"Times,serif\" font-size=\"14.00\">gini = 0.320</text>\n<text text-anchor=\"middle\" x=\"268\" y=\"-22.8\" font-family=\"Times,serif\" font-size=\"14.00\">samples = 10</text>\n<text text-anchor=\"middle\" x=\"268\" y=\"-7.8\" font-family=\"Times,serif\" font-size=\"14.00\">label = 0</text>\n</g>\n<!-- 5&#45;&gt;11 -->\n<g id=\"edge6\" class=\"edge\">\n<title>5&#45;&gt;11</title>\n<path fill=\"none\" stroke=\"black\" d=\"M268.65,-88.95C268.56,-80.72 268.47,-71.85 268.38,-63.48\"/>\n<polygon fill=\"black\" stroke=\"black\" points=\"271.88,-63.2 268.27,-53.24 264.88,-63.27 271.88,-63.2\"/>\n</g>\n<!-- 12 -->\n<g id=\"node10\" class=\"node\">\n<title>12</title>\n<polygon fill=\"#8ccd96\" stroke=\"black\" points=\"421,-53 331,-53 331,0 421,0 421,-53\"/>\n<text text-anchor=\"middle\" x=\"376\" y=\"-37.8\" font-family=\"Times,serif\" font-size=\"14.00\">gini = 0.028</text>\n<text text-anchor=\"middle\" x=\"376\" y=\"-22.8\" font-family=\"Times,serif\" font-size=\"14.00\">samples = 70</text>\n<text text-anchor=\"middle\" x=\"376\" y=\"-7.8\" font-family=\"Times,serif\" font-size=\"14.00\">label = 0</text>\n</g>\n<!-- 5&#45;&gt;12 -->\n<g id=\"edge7\" class=\"edge\">\n<title>5&#45;&gt;12</title>\n<path fill=\"none\" stroke=\"black\" d=\"M306.42,-88.95C317.09,-79.53 328.7,-69.27 339.32,-59.89\"/>\n<polygon fill=\"black\" stroke=\"black\" points=\"341.68,-62.48 346.86,-53.24 337.05,-57.23 341.68,-62.48\"/>\n</g>\n</g>\n</svg>\n",
            "text/plain": [
              "<graphviz.graphs.Digraph at 0x79fb3fa06f90>"
            ]
          },
          "metadata": {},
          "execution_count": 40
        }
      ],
      "source": [
        "# Визуализируйте дерево tree_custom\n",
        "\n",
        "tree_custom.plot_tree()"
      ]
    },
    {
      "cell_type": "code",
      "execution_count": 41,
      "id": "95d459ff",
      "metadata": {
        "colab": {
          "base_uri": "https://localhost:8080/",
          "height": 80
        },
        "id": "95d459ff",
        "outputId": "9faa51da-217b-4ccf-b074-aec8857c7283"
      },
      "outputs": [
        {
          "output_type": "execute_result",
          "data": {
            "text/plain": [
              "DecisionTreeClassifier(max_depth=3, random_state=42)"
            ],
            "text/html": [
              "<style>#sk-container-id-1 {\n",
              "  /* Definition of color scheme common for light and dark mode */\n",
              "  --sklearn-color-text: #000;\n",
              "  --sklearn-color-text-muted: #666;\n",
              "  --sklearn-color-line: gray;\n",
              "  /* Definition of color scheme for unfitted estimators */\n",
              "  --sklearn-color-unfitted-level-0: #fff5e6;\n",
              "  --sklearn-color-unfitted-level-1: #f6e4d2;\n",
              "  --sklearn-color-unfitted-level-2: #ffe0b3;\n",
              "  --sklearn-color-unfitted-level-3: chocolate;\n",
              "  /* Definition of color scheme for fitted estimators */\n",
              "  --sklearn-color-fitted-level-0: #f0f8ff;\n",
              "  --sklearn-color-fitted-level-1: #d4ebff;\n",
              "  --sklearn-color-fitted-level-2: #b3dbfd;\n",
              "  --sklearn-color-fitted-level-3: cornflowerblue;\n",
              "\n",
              "  /* Specific color for light theme */\n",
              "  --sklearn-color-text-on-default-background: var(--sg-text-color, var(--theme-code-foreground, var(--jp-content-font-color1, black)));\n",
              "  --sklearn-color-background: var(--sg-background-color, var(--theme-background, var(--jp-layout-color0, white)));\n",
              "  --sklearn-color-border-box: var(--sg-text-color, var(--theme-code-foreground, var(--jp-content-font-color1, black)));\n",
              "  --sklearn-color-icon: #696969;\n",
              "\n",
              "  @media (prefers-color-scheme: dark) {\n",
              "    /* Redefinition of color scheme for dark theme */\n",
              "    --sklearn-color-text-on-default-background: var(--sg-text-color, var(--theme-code-foreground, var(--jp-content-font-color1, white)));\n",
              "    --sklearn-color-background: var(--sg-background-color, var(--theme-background, var(--jp-layout-color0, #111)));\n",
              "    --sklearn-color-border-box: var(--sg-text-color, var(--theme-code-foreground, var(--jp-content-font-color1, white)));\n",
              "    --sklearn-color-icon: #878787;\n",
              "  }\n",
              "}\n",
              "\n",
              "#sk-container-id-1 {\n",
              "  color: var(--sklearn-color-text);\n",
              "}\n",
              "\n",
              "#sk-container-id-1 pre {\n",
              "  padding: 0;\n",
              "}\n",
              "\n",
              "#sk-container-id-1 input.sk-hidden--visually {\n",
              "  border: 0;\n",
              "  clip: rect(1px 1px 1px 1px);\n",
              "  clip: rect(1px, 1px, 1px, 1px);\n",
              "  height: 1px;\n",
              "  margin: -1px;\n",
              "  overflow: hidden;\n",
              "  padding: 0;\n",
              "  position: absolute;\n",
              "  width: 1px;\n",
              "}\n",
              "\n",
              "#sk-container-id-1 div.sk-dashed-wrapped {\n",
              "  border: 1px dashed var(--sklearn-color-line);\n",
              "  margin: 0 0.4em 0.5em 0.4em;\n",
              "  box-sizing: border-box;\n",
              "  padding-bottom: 0.4em;\n",
              "  background-color: var(--sklearn-color-background);\n",
              "}\n",
              "\n",
              "#sk-container-id-1 div.sk-container {\n",
              "  /* jupyter's `normalize.less` sets `[hidden] { display: none; }`\n",
              "     but bootstrap.min.css set `[hidden] { display: none !important; }`\n",
              "     so we also need the `!important` here to be able to override the\n",
              "     default hidden behavior on the sphinx rendered scikit-learn.org.\n",
              "     See: https://github.com/scikit-learn/scikit-learn/issues/21755 */\n",
              "  display: inline-block !important;\n",
              "  position: relative;\n",
              "}\n",
              "\n",
              "#sk-container-id-1 div.sk-text-repr-fallback {\n",
              "  display: none;\n",
              "}\n",
              "\n",
              "div.sk-parallel-item,\n",
              "div.sk-serial,\n",
              "div.sk-item {\n",
              "  /* draw centered vertical line to link estimators */\n",
              "  background-image: linear-gradient(var(--sklearn-color-text-on-default-background), var(--sklearn-color-text-on-default-background));\n",
              "  background-size: 2px 100%;\n",
              "  background-repeat: no-repeat;\n",
              "  background-position: center center;\n",
              "}\n",
              "\n",
              "/* Parallel-specific style estimator block */\n",
              "\n",
              "#sk-container-id-1 div.sk-parallel-item::after {\n",
              "  content: \"\";\n",
              "  width: 100%;\n",
              "  border-bottom: 2px solid var(--sklearn-color-text-on-default-background);\n",
              "  flex-grow: 1;\n",
              "}\n",
              "\n",
              "#sk-container-id-1 div.sk-parallel {\n",
              "  display: flex;\n",
              "  align-items: stretch;\n",
              "  justify-content: center;\n",
              "  background-color: var(--sklearn-color-background);\n",
              "  position: relative;\n",
              "}\n",
              "\n",
              "#sk-container-id-1 div.sk-parallel-item {\n",
              "  display: flex;\n",
              "  flex-direction: column;\n",
              "}\n",
              "\n",
              "#sk-container-id-1 div.sk-parallel-item:first-child::after {\n",
              "  align-self: flex-end;\n",
              "  width: 50%;\n",
              "}\n",
              "\n",
              "#sk-container-id-1 div.sk-parallel-item:last-child::after {\n",
              "  align-self: flex-start;\n",
              "  width: 50%;\n",
              "}\n",
              "\n",
              "#sk-container-id-1 div.sk-parallel-item:only-child::after {\n",
              "  width: 0;\n",
              "}\n",
              "\n",
              "/* Serial-specific style estimator block */\n",
              "\n",
              "#sk-container-id-1 div.sk-serial {\n",
              "  display: flex;\n",
              "  flex-direction: column;\n",
              "  align-items: center;\n",
              "  background-color: var(--sklearn-color-background);\n",
              "  padding-right: 1em;\n",
              "  padding-left: 1em;\n",
              "}\n",
              "\n",
              "\n",
              "/* Toggleable style: style used for estimator/Pipeline/ColumnTransformer box that is\n",
              "clickable and can be expanded/collapsed.\n",
              "- Pipeline and ColumnTransformer use this feature and define the default style\n",
              "- Estimators will overwrite some part of the style using the `sk-estimator` class\n",
              "*/\n",
              "\n",
              "/* Pipeline and ColumnTransformer style (default) */\n",
              "\n",
              "#sk-container-id-1 div.sk-toggleable {\n",
              "  /* Default theme specific background. It is overwritten whether we have a\n",
              "  specific estimator or a Pipeline/ColumnTransformer */\n",
              "  background-color: var(--sklearn-color-background);\n",
              "}\n",
              "\n",
              "/* Toggleable label */\n",
              "#sk-container-id-1 label.sk-toggleable__label {\n",
              "  cursor: pointer;\n",
              "  display: flex;\n",
              "  width: 100%;\n",
              "  margin-bottom: 0;\n",
              "  padding: 0.5em;\n",
              "  box-sizing: border-box;\n",
              "  text-align: center;\n",
              "  align-items: start;\n",
              "  justify-content: space-between;\n",
              "  gap: 0.5em;\n",
              "}\n",
              "\n",
              "#sk-container-id-1 label.sk-toggleable__label .caption {\n",
              "  font-size: 0.6rem;\n",
              "  font-weight: lighter;\n",
              "  color: var(--sklearn-color-text-muted);\n",
              "}\n",
              "\n",
              "#sk-container-id-1 label.sk-toggleable__label-arrow:before {\n",
              "  /* Arrow on the left of the label */\n",
              "  content: \"▸\";\n",
              "  float: left;\n",
              "  margin-right: 0.25em;\n",
              "  color: var(--sklearn-color-icon);\n",
              "}\n",
              "\n",
              "#sk-container-id-1 label.sk-toggleable__label-arrow:hover:before {\n",
              "  color: var(--sklearn-color-text);\n",
              "}\n",
              "\n",
              "/* Toggleable content - dropdown */\n",
              "\n",
              "#sk-container-id-1 div.sk-toggleable__content {\n",
              "  max-height: 0;\n",
              "  max-width: 0;\n",
              "  overflow: hidden;\n",
              "  text-align: left;\n",
              "  /* unfitted */\n",
              "  background-color: var(--sklearn-color-unfitted-level-0);\n",
              "}\n",
              "\n",
              "#sk-container-id-1 div.sk-toggleable__content.fitted {\n",
              "  /* fitted */\n",
              "  background-color: var(--sklearn-color-fitted-level-0);\n",
              "}\n",
              "\n",
              "#sk-container-id-1 div.sk-toggleable__content pre {\n",
              "  margin: 0.2em;\n",
              "  border-radius: 0.25em;\n",
              "  color: var(--sklearn-color-text);\n",
              "  /* unfitted */\n",
              "  background-color: var(--sklearn-color-unfitted-level-0);\n",
              "}\n",
              "\n",
              "#sk-container-id-1 div.sk-toggleable__content.fitted pre {\n",
              "  /* unfitted */\n",
              "  background-color: var(--sklearn-color-fitted-level-0);\n",
              "}\n",
              "\n",
              "#sk-container-id-1 input.sk-toggleable__control:checked~div.sk-toggleable__content {\n",
              "  /* Expand drop-down */\n",
              "  max-height: 200px;\n",
              "  max-width: 100%;\n",
              "  overflow: auto;\n",
              "}\n",
              "\n",
              "#sk-container-id-1 input.sk-toggleable__control:checked~label.sk-toggleable__label-arrow:before {\n",
              "  content: \"▾\";\n",
              "}\n",
              "\n",
              "/* Pipeline/ColumnTransformer-specific style */\n",
              "\n",
              "#sk-container-id-1 div.sk-label input.sk-toggleable__control:checked~label.sk-toggleable__label {\n",
              "  color: var(--sklearn-color-text);\n",
              "  background-color: var(--sklearn-color-unfitted-level-2);\n",
              "}\n",
              "\n",
              "#sk-container-id-1 div.sk-label.fitted input.sk-toggleable__control:checked~label.sk-toggleable__label {\n",
              "  background-color: var(--sklearn-color-fitted-level-2);\n",
              "}\n",
              "\n",
              "/* Estimator-specific style */\n",
              "\n",
              "/* Colorize estimator box */\n",
              "#sk-container-id-1 div.sk-estimator input.sk-toggleable__control:checked~label.sk-toggleable__label {\n",
              "  /* unfitted */\n",
              "  background-color: var(--sklearn-color-unfitted-level-2);\n",
              "}\n",
              "\n",
              "#sk-container-id-1 div.sk-estimator.fitted input.sk-toggleable__control:checked~label.sk-toggleable__label {\n",
              "  /* fitted */\n",
              "  background-color: var(--sklearn-color-fitted-level-2);\n",
              "}\n",
              "\n",
              "#sk-container-id-1 div.sk-label label.sk-toggleable__label,\n",
              "#sk-container-id-1 div.sk-label label {\n",
              "  /* The background is the default theme color */\n",
              "  color: var(--sklearn-color-text-on-default-background);\n",
              "}\n",
              "\n",
              "/* On hover, darken the color of the background */\n",
              "#sk-container-id-1 div.sk-label:hover label.sk-toggleable__label {\n",
              "  color: var(--sklearn-color-text);\n",
              "  background-color: var(--sklearn-color-unfitted-level-2);\n",
              "}\n",
              "\n",
              "/* Label box, darken color on hover, fitted */\n",
              "#sk-container-id-1 div.sk-label.fitted:hover label.sk-toggleable__label.fitted {\n",
              "  color: var(--sklearn-color-text);\n",
              "  background-color: var(--sklearn-color-fitted-level-2);\n",
              "}\n",
              "\n",
              "/* Estimator label */\n",
              "\n",
              "#sk-container-id-1 div.sk-label label {\n",
              "  font-family: monospace;\n",
              "  font-weight: bold;\n",
              "  display: inline-block;\n",
              "  line-height: 1.2em;\n",
              "}\n",
              "\n",
              "#sk-container-id-1 div.sk-label-container {\n",
              "  text-align: center;\n",
              "}\n",
              "\n",
              "/* Estimator-specific */\n",
              "#sk-container-id-1 div.sk-estimator {\n",
              "  font-family: monospace;\n",
              "  border: 1px dotted var(--sklearn-color-border-box);\n",
              "  border-radius: 0.25em;\n",
              "  box-sizing: border-box;\n",
              "  margin-bottom: 0.5em;\n",
              "  /* unfitted */\n",
              "  background-color: var(--sklearn-color-unfitted-level-0);\n",
              "}\n",
              "\n",
              "#sk-container-id-1 div.sk-estimator.fitted {\n",
              "  /* fitted */\n",
              "  background-color: var(--sklearn-color-fitted-level-0);\n",
              "}\n",
              "\n",
              "/* on hover */\n",
              "#sk-container-id-1 div.sk-estimator:hover {\n",
              "  /* unfitted */\n",
              "  background-color: var(--sklearn-color-unfitted-level-2);\n",
              "}\n",
              "\n",
              "#sk-container-id-1 div.sk-estimator.fitted:hover {\n",
              "  /* fitted */\n",
              "  background-color: var(--sklearn-color-fitted-level-2);\n",
              "}\n",
              "\n",
              "/* Specification for estimator info (e.g. \"i\" and \"?\") */\n",
              "\n",
              "/* Common style for \"i\" and \"?\" */\n",
              "\n",
              ".sk-estimator-doc-link,\n",
              "a:link.sk-estimator-doc-link,\n",
              "a:visited.sk-estimator-doc-link {\n",
              "  float: right;\n",
              "  font-size: smaller;\n",
              "  line-height: 1em;\n",
              "  font-family: monospace;\n",
              "  background-color: var(--sklearn-color-background);\n",
              "  border-radius: 1em;\n",
              "  height: 1em;\n",
              "  width: 1em;\n",
              "  text-decoration: none !important;\n",
              "  margin-left: 0.5em;\n",
              "  text-align: center;\n",
              "  /* unfitted */\n",
              "  border: var(--sklearn-color-unfitted-level-1) 1pt solid;\n",
              "  color: var(--sklearn-color-unfitted-level-1);\n",
              "}\n",
              "\n",
              ".sk-estimator-doc-link.fitted,\n",
              "a:link.sk-estimator-doc-link.fitted,\n",
              "a:visited.sk-estimator-doc-link.fitted {\n",
              "  /* fitted */\n",
              "  border: var(--sklearn-color-fitted-level-1) 1pt solid;\n",
              "  color: var(--sklearn-color-fitted-level-1);\n",
              "}\n",
              "\n",
              "/* On hover */\n",
              "div.sk-estimator:hover .sk-estimator-doc-link:hover,\n",
              ".sk-estimator-doc-link:hover,\n",
              "div.sk-label-container:hover .sk-estimator-doc-link:hover,\n",
              ".sk-estimator-doc-link:hover {\n",
              "  /* unfitted */\n",
              "  background-color: var(--sklearn-color-unfitted-level-3);\n",
              "  color: var(--sklearn-color-background);\n",
              "  text-decoration: none;\n",
              "}\n",
              "\n",
              "div.sk-estimator.fitted:hover .sk-estimator-doc-link.fitted:hover,\n",
              ".sk-estimator-doc-link.fitted:hover,\n",
              "div.sk-label-container:hover .sk-estimator-doc-link.fitted:hover,\n",
              ".sk-estimator-doc-link.fitted:hover {\n",
              "  /* fitted */\n",
              "  background-color: var(--sklearn-color-fitted-level-3);\n",
              "  color: var(--sklearn-color-background);\n",
              "  text-decoration: none;\n",
              "}\n",
              "\n",
              "/* Span, style for the box shown on hovering the info icon */\n",
              ".sk-estimator-doc-link span {\n",
              "  display: none;\n",
              "  z-index: 9999;\n",
              "  position: relative;\n",
              "  font-weight: normal;\n",
              "  right: .2ex;\n",
              "  padding: .5ex;\n",
              "  margin: .5ex;\n",
              "  width: min-content;\n",
              "  min-width: 20ex;\n",
              "  max-width: 50ex;\n",
              "  color: var(--sklearn-color-text);\n",
              "  box-shadow: 2pt 2pt 4pt #999;\n",
              "  /* unfitted */\n",
              "  background: var(--sklearn-color-unfitted-level-0);\n",
              "  border: .5pt solid var(--sklearn-color-unfitted-level-3);\n",
              "}\n",
              "\n",
              ".sk-estimator-doc-link.fitted span {\n",
              "  /* fitted */\n",
              "  background: var(--sklearn-color-fitted-level-0);\n",
              "  border: var(--sklearn-color-fitted-level-3);\n",
              "}\n",
              "\n",
              ".sk-estimator-doc-link:hover span {\n",
              "  display: block;\n",
              "}\n",
              "\n",
              "/* \"?\"-specific style due to the `<a>` HTML tag */\n",
              "\n",
              "#sk-container-id-1 a.estimator_doc_link {\n",
              "  float: right;\n",
              "  font-size: 1rem;\n",
              "  line-height: 1em;\n",
              "  font-family: monospace;\n",
              "  background-color: var(--sklearn-color-background);\n",
              "  border-radius: 1rem;\n",
              "  height: 1rem;\n",
              "  width: 1rem;\n",
              "  text-decoration: none;\n",
              "  /* unfitted */\n",
              "  color: var(--sklearn-color-unfitted-level-1);\n",
              "  border: var(--sklearn-color-unfitted-level-1) 1pt solid;\n",
              "}\n",
              "\n",
              "#sk-container-id-1 a.estimator_doc_link.fitted {\n",
              "  /* fitted */\n",
              "  border: var(--sklearn-color-fitted-level-1) 1pt solid;\n",
              "  color: var(--sklearn-color-fitted-level-1);\n",
              "}\n",
              "\n",
              "/* On hover */\n",
              "#sk-container-id-1 a.estimator_doc_link:hover {\n",
              "  /* unfitted */\n",
              "  background-color: var(--sklearn-color-unfitted-level-3);\n",
              "  color: var(--sklearn-color-background);\n",
              "  text-decoration: none;\n",
              "}\n",
              "\n",
              "#sk-container-id-1 a.estimator_doc_link.fitted:hover {\n",
              "  /* fitted */\n",
              "  background-color: var(--sklearn-color-fitted-level-3);\n",
              "}\n",
              "</style><div id=\"sk-container-id-1\" class=\"sk-top-container\"><div class=\"sk-text-repr-fallback\"><pre>DecisionTreeClassifier(max_depth=3, random_state=42)</pre><b>In a Jupyter environment, please rerun this cell to show the HTML representation or trust the notebook. <br />On GitHub, the HTML representation is unable to render, please try loading this page with nbviewer.org.</b></div><div class=\"sk-container\" hidden><div class=\"sk-item\"><div class=\"sk-estimator fitted sk-toggleable\"><input class=\"sk-toggleable__control sk-hidden--visually\" id=\"sk-estimator-id-1\" type=\"checkbox\" checked><label for=\"sk-estimator-id-1\" class=\"sk-toggleable__label fitted sk-toggleable__label-arrow\"><div><div>DecisionTreeClassifier</div></div><div><a class=\"sk-estimator-doc-link fitted\" rel=\"noreferrer\" target=\"_blank\" href=\"https://scikit-learn.org/1.6/modules/generated/sklearn.tree.DecisionTreeClassifier.html\">?<span>Documentation for DecisionTreeClassifier</span></a><span class=\"sk-estimator-doc-link fitted\">i<span>Fitted</span></span></div></label><div class=\"sk-toggleable__content fitted\"><pre>DecisionTreeClassifier(max_depth=3, random_state=42)</pre></div> </div></div></div></div>"
            ]
          },
          "metadata": {},
          "execution_count": 41
        }
      ],
      "source": [
        "# Обучите дерево tree_sk (DecisionTreeClassifier)\n",
        "# Максимальная глубина — 3\n",
        "# Не забудьте зафиксировать RANDOM_STATE\n",
        "\n",
        "tree_sk = DecisionTreeClassifier(max_depth=3, random_state=RANDOM_STATE)\n",
        "tree_sk.fit(features, labels)"
      ]
    },
    {
      "cell_type": "code",
      "execution_count": 42,
      "id": "5bc39f9c",
      "metadata": {
        "colab": {
          "base_uri": "https://localhost:8080/"
        },
        "id": "5bc39f9c",
        "outputId": "a084b0eb-9b81-4eac-b292-a0dfb3571c73"
      },
      "outputs": [
        {
          "output_type": "stream",
          "name": "stdout",
          "text": [
            "              precision    recall  f1-score   support\n",
            "\n",
            "           0       0.97      0.87      0.92       100\n",
            "           1       0.88      0.97      0.92       100\n",
            "\n",
            "    accuracy                           0.92       200\n",
            "   macro avg       0.92      0.92      0.92       200\n",
            "weighted avg       0.92      0.92      0.92       200\n",
            "\n"
          ]
        }
      ],
      "source": [
        "# Постройте отчет по метрикам классификации для tree_sk на всем наборе данных\n",
        "\n",
        "print(classification_report(labels, tree_sk.predict(features)))"
      ]
    },
    {
      "cell_type": "code",
      "execution_count": 43,
      "id": "a0d1cdd6",
      "metadata": {
        "colab": {
          "base_uri": "https://localhost:8080/",
          "height": 430
        },
        "id": "a0d1cdd6",
        "outputId": "4bdb98dc-24c5-46a8-a8d7-63b48c00c830"
      },
      "outputs": [
        {
          "output_type": "display_data",
          "data": {
            "text/plain": [
              "<Figure size 640x480 with 1 Axes>"
            ],
            "image/png": "[encoded data removed]"
          },
          "metadata": {}
        }
      ],
      "source": [
        "# Визуализируйте границу решений классификатора tree_sk на всем наборе данных\n",
        "\n",
        "display_decision_boundary(tree_sk.predict, features, labels)"
      ]
    },
    {
      "cell_type": "code",
      "execution_count": 44,
      "id": "2f4b00bc",
      "metadata": {
        "colab": {
          "base_uri": "https://localhost:8080/",
          "height": 406
        },
        "id": "2f4b00bc",
        "outputId": "71cb7de3-6b6a-41bd-db14-b36a80e57930"
      },
      "outputs": [
        {
          "output_type": "display_data",
          "data": {
            "text/plain": [
              "<Figure size 640x480 with 1 Axes>"
            ],
            "image/png": "[encoded data removed]"
          },
          "metadata": {}
        }
      ],
      "source": [
        "# Визуализируйте дерево tree_sk\n",
        "\n",
        "_ = plot_tree(tree_sk, filled=True)"
      ]
    },
    {
      "cell_type": "markdown",
      "id": "3e37278a",
      "metadata": {
        "id": "3e37278a"
      },
      "source": [
        "### **Деревья решений: масштабирование признаков и обработка пропущенных значений**\n",
        "\n",
        "Особенностью деревьев решений и основанных на них ансамблевых методов (случайный лес, градиентный бустинг) является их устойчивость к некоторым распространённым проблемам предобработки данных, которые являются критичными для многих других алгоритмов машинного обучения.\n",
        "\n",
        "В частности, деревьям решений и ансамблевым методам, основанным на деревьях, не требуется масштабирование признаков, поскольку масштабирование не влияет на структуру дерева и на то, какие признаки будут выбраны для разделения и в каком порядке. Это связано с тем, что деревья решений строят свои правила разделения данных (сплиты) на основе пороговых значений для каждого признака, вне зависимости от его исходного масштаба.\n",
        "\n",
        "Кроме того, деревья решений и их ансамбли, как правило, могут эффективно использовать данные с пропущенными значениями без явной предварительной их обработки. Это связано с их способностью адаптироваться к таким данным: различные реализации алгоритмов деревьев имеют встроенные механизмы для работы с пропущенными значениями:\n",
        "\n",
        "* Создание отдельной ветви для пропущенных значений (XGBoost и LightGBM). Если признак используется для разделения, и для некоторых наблюдений его значение отсутствует, эти наблюдения направляются в отдельную ветвь.\n",
        "\n",
        "* Направление в ветку с большинством наблюдений (DecisionTreeClassifier и DecisionTreeRegressor). Пропуски направляются в ту ветвь, которая содержит большинство наблюдений (или обеспечивает наилучшее качество сплита) из обучающего набора, для которых значение признака известно.\n",
        "\n",
        "Тем не менее, методы обработки пропущенных значений для деревьев решений и ансамблевых методов могут быть полезны для некоторых сценариев. Например, для сравнения с другими моделями или для более глубокого анализа данных."
      ]
    },
    {
      "cell_type": "markdown",
      "id": "a7d15b07",
      "metadata": {
        "id": "a7d15b07"
      },
      "source": [
        "### **Методы борьбы с переобучением деревьев**\n",
        "\n",
        "Существенный недостаток деревьев решений — **склонность к переобучению**, в частности при отсутствии ограничений на рост.\n",
        "\n",
        "Переобучение дерева решений проявляется в чрезмерном ветвлении, чувствительности к данным и высокой дисперсии предсказаний: сложное дерево дает очень точные предсказания на обучающей выборке, но ошибается на тестовой.\n",
        "\n",
        "**Основные методы борьбы с переобучением:**\n",
        "\n",
        "* Подбор параметров дерева:\n",
        "\n",
        "    * max_depth — максимальная глубина дерева.\n",
        "\n",
        "    * min_samples_split — минимальное количество объектов для разбиения узла.\n",
        "\n",
        "    * min_samples_leaf — минимальное количество объектов в листе.\n",
        "\n",
        "* Прунинг (обрезка) дерева — удаление избыточных ветвей после построения дерева на основе их значимости **без учёта сложности дерева**.\n",
        "\n",
        "* Cost-Complexity Pruning — это метод, суть которого состоит в нахождении **компромисса (баланса) между точностью модели и сложностью дерева**.\n",
        "    \n",
        "* Ансамблевые методы (будут рассмотрены в следующих темах курса):\n",
        "\n",
        "    * Случайный лес (random forest) — усреднение предсказаний множества деревьев с разными подвыборками данных и признаков.\n",
        "\n",
        "    * Градиентный бустинг (gradient boosting) — последовательное улучшение модели за счет добавления деревьев, исправляющих ошибки предыдущих."
      ]
    },
    {
      "cell_type": "markdown",
      "id": "f8f9ceba",
      "metadata": {
        "id": "f8f9ceba"
      },
      "source": [
        "### **Деревья решений в задаче регрессии**\n",
        "\n",
        "Деревья решений могут также применяться для задачи регрессии. В отличие от классификации, где листья дерева содержат метки классов, в регрессии каждый лист возвращает числовое значение — среднее (или медиану) целевой переменной для объектов, попавших в этот лист.\n",
        "\n",
        "При построении дерева разбиение выбирается так, чтобы максимально уменьшить функцию ошибки (MSE, MAE и др.) в дочерних узлах по сравнению с родительским."
      ]
    },
    {
      "cell_type": "markdown",
      "id": "f03c7225",
      "metadata": {
        "id": "f03c7225"
      },
      "source": [
        "### **Датасет *California Housing dataset***\n",
        "\n",
        "**Для решения заданий 2 — 3 рассмотрим датасет [California Housing dataset](https://scikit-learn.org/stable/datasets/real_world.html#california-housing-dataset).**\n",
        "\n",
        "Набор данных предназначен для прогнозирования медианной стоимости домов по районам штата Калифорния на основе агрегированных показателей. Датасет содержит 20640 наблюдений без пропущенных значений и сформирован на основе переписи населения США 1990 года с разбивкой по районам городов.\n",
        "\n",
        "Целевая переменная — target (медианная стоимость домов в районе, выраженная в сотнях тысяч долларов).\n",
        "\n",
        "Признаки:\n",
        "\n",
        "* MedInc — медианный доход в районе.\n",
        "\n",
        "* HouseAge — медианный возраст домов в районе.\n",
        "\n",
        "* AveRooms — среднее количество комнат в домах района.\n",
        "\n",
        "* AveBedrms — среднее количество спален в домах района.\n",
        "\n",
        "* Population — численность населения в районе.\n",
        "\n",
        "* AveOccup — среднее число членов домохозяйства в районе.\n",
        "\n",
        "* Latitude — географическая широта района.\n",
        "\n",
        "* Longitude — географическая долгота района."
      ]
    },
    {
      "cell_type": "markdown",
      "id": "565eac29",
      "metadata": {
        "id": "565eac29"
      },
      "source": [
        "### ***Задание 2***\n",
        "\n",
        "Дополните класс CustomDecisionTreeRegressor (функция ошибки — MSE), добавив недостающий код, где это необходимо. В рамках класса CustomDecisionTreeRegressor необходимо также реализовать метод prune для рекурсивного прунинга (обрезки) дерева по следующему алгоритму:\n",
        "\n",
        "* Рекурсивный обход дерева начинается с листьев и движется к корню дерева по узлам. Для каждого узла дерева:\n",
        "\n",
        "    1. Вычисляется взвешенная ошибка дочерних узлов:\n",
        "\n",
        "    $$\\text{MSE}_{\\text{weighted}}=\\frac{N_{\\text{left}}\\times \\text{MSE}_{\\text{left}}+N_{\\text{right}}\\times \\text{MSE}_{\\text{right}}}{N_{\\text{left}}+N_{\\text{right}}}$$\n",
        "\n",
        "    где $N_{\\text{left}}$ и $N_{\\text{right}}$ — количество объектов в дочерних узлах.\n",
        "\n",
        "    2. Проверяется критерий обрезки — малое (меньше $\\varepsilon$) улучшение ошибки родительского узла:\n",
        "\n",
        "    $$\\text{MSE}_{\\text{parent}}-\\text{MSE}_{\\text{weighted}} < \\varepsilon$$\n",
        "\n",
        "    3. Если критерий выполняется (**улучшение $\\text{MSE}$ меньше $\\varepsilon$**), то поддерево можно удалить, заменив его листом.\n",
        "\n",
        "Обучите дерево решений `tree_housing_custom` (CustomDecisionTreeRegressor) на обучающей выборке с максимальной глубиной 8.\n",
        "\n",
        "Обучите аналогичное дерево решений `tree_housing_custom_pruned` (CustomDecisionTreeRegressor) на обучающей выборке с максимальной глубиной 8 и выполните его обрезку (прунинг) с помощью метода prune. В качестве порогового значения для обрезки используйте epsilon=0.02.\n",
        "\n",
        "Выведите metrics_report для моделей `tree_housing_custom` и `tree_housing_custom_pruned` **на обучающей и тестовой выборке** и сравните сложности (совокупное количество улов в дереве) деревьев (метод count_nodes)."
      ]
    },
    {
      "cell_type": "code",
      "execution_count": null,
      "id": "32bffeb3",
      "metadata": {
        "id": "32bffeb3"
      },
      "outputs": [],
      "source": [
        "# Загрузите набор данных с помощью sklearn.datasets и выделите объясняемый фактор в отдельную переменную\n",
        "\n",
        "df_housing = datasets.fetch_california_housing()\n",
        "X_housing = pd.DataFrame(df_housing.data)\n",
        "X_housing.columns = df_housing.feature_names\n",
        "X_housing = X_housing.sample(2000, random_state=RANDOM_STATE)   # Случайным образом выберем 2000 наблюдений\n",
        "y_housing = df_housing.target[X_housing.index]"
      ]
    },
    {
      "cell_type": "code",
      "execution_count": null,
      "id": "c10dfc6a",
      "metadata": {
        "id": "c10dfc6a"
      },
      "outputs": [],
      "source": [
        "# Разделите датасет на обучающую (60%) и тестовую (40%) выборки\n",
        "# Не забудьте зафиксировать RANDOM_STATE\n",
        "\n",
        "X_housing_train, X_housing_test, y_housing_train, y_housing_test = ..."
      ]
    },
    {
      "cell_type": "code",
      "execution_count": null,
      "id": "bb1bc19c",
      "metadata": {
        "id": "bb1bc19c"
      },
      "outputs": [],
      "source": [
        "# Дополните класс CustomDecisionTreeRegressor\n",
        "# Код методов plot_node, plot_tree и count_nodes изменять не нужно\n",
        "\n",
        "class CustomDecisionTreeRegressor():\n",
        "    \"\"\"\n",
        "    Простой регрессор на основе дерева решений с ошибкой MSE в качестве критерия разделения и средним значением в листе для прогноза.\n",
        "\n",
        "    Аргументы:\n",
        "        max_depth (int): Максимальная глубина дерева. По умолчанию — 8.\n",
        "\n",
        "    Атрибуты:\n",
        "        value (float): Среднее значение целевой переменной в узле.\n",
        "        feature (str): Признак, используемый для разделения.\n",
        "        size (int): Количество объектов в узле.\n",
        "        threshold (float): Пороговое значение для разделения.\n",
        "        left (CustomDecisionTreeRegressor): Левое поддерево (значение <= порог).\n",
        "        right (CustomDecisionTreeRegressor): Правое поддерево (значение > порог).\n",
        "        mse (float): Ошибка MSE в узле.\n",
        "    \"\"\"\n",
        "    def __init__(self, max_depth=8):\n",
        "        self.max_depth = max_depth\n",
        "        self.value = None\n",
        "        self.feature = None\n",
        "        self.size = None\n",
        "        self.threshold = np.nan\n",
        "        self.left = None\n",
        "        self.right = None\n",
        "        self.mse = 0\n",
        "\n",
        "\n",
        "    def MSE(self, y_true, y_pred):\n",
        "        \"\"\"\n",
        "        Вычисляет среднеквадратичную ошибку (MSE).\n",
        "\n",
        "        Аргументы:\n",
        "            y_true (numpy.ndarray): Массив истинных значений целевой переменной.\n",
        "            y_pred (numpy.ndarray): Массив предсказанных значений целевой переменной.\n",
        "\n",
        "        Возвращает:\n",
        "            float: Значение MSE.\n",
        "        \"\"\"\n",
        "        return ...\n",
        "\n",
        "\n",
        "    def best_split(self, X, y):\n",
        "        \"\"\"\n",
        "        Находит оптимальный признак и порог для разделения данных.\n",
        "\n",
        "        Аргументы:\n",
        "            X (pandas.DataFrame): Таблица с признаками.\n",
        "            y (numpy.ndarray): Массив значений целевой переменной.\n",
        "\n",
        "        Возвращает:\n",
        "            tuple:\n",
        "                str: Оптимальный признак для разделения.\n",
        "                float: Оптимальное пороговое значение.\n",
        "                float: Значение среднеквадратичной ошибки (MSE) после разделения.\n",
        "        \"\"\"\n",
        "        best_feature = None\n",
        "        best_threshold = None\n",
        "        best_mse = self.MSE(y, y.mean())\n",
        "        N = X.shape[0]\n",
        "        for feature in X.columns:\n",
        "            values = np.sort(X[feature].unique())\n",
        "            thresholds = [(values[i] + values[i+1]) / 2 for i in range(len(values) - 1)]\n",
        "            for threshold in thresholds:\n",
        "                mask_left = ...\n",
        "                mask_right = ...\n",
        "                N_left = ...\n",
        "                N_right = ...\n",
        "                if N_left == 0 or N_right == 0:\n",
        "                    continue\n",
        "                loss_left = ...\n",
        "                loss_right = ...\n",
        "                weighted_mse = ...\n",
        "                if weighted_mse < best_mse:\n",
        "                    best_mse = weighted_mse\n",
        "                    best_feature = feature\n",
        "                    best_threshold = threshold\n",
        "        return best_feature, best_threshold, best_mse\n",
        "\n",
        "\n",
        "    def fit(self, X, y):\n",
        "        \"\"\"\n",
        "        Обучает дерево решений, рекурсивно находя оптимальные разделения.\n",
        "\n",
        "        Аргументы:\n",
        "            X (pandas.DataFrame): Таблица с признаками.\n",
        "            y (numpy.ndarray): Массив значений целевой переменной.\n",
        "\n",
        "        Возвращает:\n",
        "            CustomDecisionTreeRegressor: Обученное дерево решений.\n",
        "        \"\"\"\n",
        "        self.value = y.mean()\n",
        "        self.mse = self.MSE(y, self.value)\n",
        "        self.size = len(y)\n",
        "        if self.max_depth == 0:\n",
        "            return\n",
        "        self.feature, self.threshold, mse = self.best_split(X, y)\n",
        "        if self.feature is None or mse >= self.mse:\n",
        "            return\n",
        "        self.mse = mse\n",
        "        mask_left = ...\n",
        "        mask_right = ...\n",
        "        self.left = CustomDecisionTreeRegressor(...)\n",
        "        self.right = CustomDecisionTreeRegressor(...)\n",
        "        self.left.fit(...)\n",
        "        self.right.fit(...)\n",
        "        return self\n",
        "\n",
        "    def predict(self, X):\n",
        "        \"\"\"\n",
        "        Предсказывает значения целевой переменной.\n",
        "\n",
        "        Аргументы:\n",
        "            X (pandas.DataFrame): Таблица с признаками.\n",
        "\n",
        "        Возвращает:\n",
        "            numpy.ndarray: Массив предсказанных значений целевой переменной.\n",
        "        \"\"\"\n",
        "        if self.feature is None:\n",
        "            return np.full(X.shape[0], self.value)\n",
        "        mask_left = ...\n",
        "        mask_right = ...\n",
        "        y_pred = np.empty(X.shape[0])\n",
        "        y_pred[mask_left] = self.left.predict(...)\n",
        "        y_pred[mask_right] = self.right.predict(...)\n",
        "        return y_pred\n",
        "\n",
        "    def prune(self, epsilon):\n",
        "        \"\"\"\n",
        "        Обрезает дерево, если разница ошибок между родительским и дочерними узлами меньше epsilon.\n",
        "        После обрезки внутренний узел становится листом.\n",
        "\n",
        "        Аргументы:\n",
        "            epsilon (float): Пороговое значение для обрезки.\n",
        "        \"\"\"\n",
        "        if self.feature is None:\n",
        "            return\n",
        "        self.left.prune(...)\n",
        "        self.right.prune(...)\n",
        "        left_size = ...\n",
        "        right_size = ...\n",
        "        left_mse = ...\n",
        "        right_mse = ...\n",
        "        weighted_mse = ...\n",
        "        if weighted_mse > 0 and ...:\n",
        "            self.feature = None\n",
        "            self.threshold = np.nan\n",
        "            self.left = None\n",
        "            self.right = None\n",
        "\n",
        "    def plot_node(self, dot, node_id=0):\n",
        "        \"\"\"\n",
        "        Вспомогательный метод для визуализации дерева.\n",
        "\n",
        "        Аргументы:\n",
        "            dot (graphviz.Digraph): Объект Digraph библиотеки graphviz.\n",
        "            node_id (int): Идентификатор текущего узла. По умолчанию — 0.\n",
        "\n",
        "        Возвращает:\n",
        "            int: Идентификатор узла.\n",
        "        \"\"\"\n",
        "        if self.feature == None:\n",
        "            dot.node(str(node_id), label='mse = {:.3f}\\nsamples = {}\\nvalue = {:.3f}'.format(self.mse, self.size, self.value), fillcolor=\"#8ccd96\")\n",
        "            return node_id\n",
        "        dot.node(str(node_id), label='{} <= {:.3f}\\nmse = {:.3f}\\nsamples = {}\\nvalue = {:.3f}'\n",
        "                 .format(self.feature, self.threshold, self.mse, self.size, self.value), fillcolor=\"#ffffff\")\n",
        "        left_id = self.left.plot_node(dot, node_id*2 + 1)\n",
        "        dot.edge(str(node_id), str(left_id))\n",
        "        right_id = self.right.plot_node(dot, node_id*2 + 2)\n",
        "        dot.edge(str(node_id), str(right_id))\n",
        "        return node_id\n",
        "\n",
        "    def plot_tree(self, filled=True):\n",
        "        \"\"\"\n",
        "        Генерирует визуализацию дерева решений.\n",
        "\n",
        "        Аргументы:\n",
        "            filled (bool): Закрашивать узлы. По умолчанию — True.\n",
        "\n",
        "        Возвращает:\n",
        "            graphviz.Digraph: Объект graphviz с визуализацией дерева.\n",
        "        \"\"\"\n",
        "        dot = graphviz.Digraph()\n",
        "        dot.attr('node', shape='box', style='filled' if filled else None)\n",
        "        self.plot_node(dot)\n",
        "        return dot\n",
        "\n",
        "    def count_nodes(self):\n",
        "        \"\"\"\n",
        "        Рассчитывает сложность дерева — совокупное количество узлов в дереве.\n",
        "\n",
        "        Возвращает:\n",
        "            int: Общее количество узлов.\n",
        "        \"\"\"\n",
        "        if self.feature is None:\n",
        "            return 1\n",
        "        return 1 + self.left.count_nodes() + self.right.count_nodes()"
      ]
    },
    {
      "cell_type": "code",
      "execution_count": null,
      "id": "51b4c886",
      "metadata": {
        "id": "51b4c886"
      },
      "outputs": [],
      "source": [
        "# Обучите дерево tree_housing_custom (CustomDecisionTreeRegressor)\n",
        "# Максимальная глубина — 8\n",
        "\n",
        "tree_housing_custom = CustomDecisionTreeRegressor(...)\n",
        "..."
      ]
    },
    {
      "cell_type": "code",
      "execution_count": null,
      "id": "a93097d1",
      "metadata": {
        "id": "a93097d1"
      },
      "outputs": [],
      "source": [
        "# Выведите metrics_report для дерева tree_housing_custom на обучающей и тестовой выборках\n",
        "\n",
        "..."
      ]
    },
    {
      "cell_type": "code",
      "execution_count": null,
      "id": "3cdb815c",
      "metadata": {
        "id": "3cdb815c"
      },
      "outputs": [],
      "source": [
        "# Выведите сложность дерева tree_housing_custom\n",
        "\n",
        "..."
      ]
    },
    {
      "cell_type": "code",
      "execution_count": null,
      "id": "43c9a7e4",
      "metadata": {
        "id": "43c9a7e4"
      },
      "outputs": [],
      "source": [
        "# Визуализируйте дерево tree_housing_custom (не обязательно)\n",
        "\n",
        "tree_housing_custom.plot_tree()"
      ]
    },
    {
      "cell_type": "code",
      "execution_count": null,
      "id": "8f75c88b",
      "metadata": {
        "id": "8f75c88b"
      },
      "outputs": [],
      "source": [
        "# Обучите дерево tree_housing_custom_pruned (CustomDecisionTreeRegressor) и выполните его обрезку с помощью метода prune\n",
        "# Максимальная глубина — 8\n",
        "# epsilon=0.02\n",
        "\n",
        "tree_housing_custom_pruned = CustomDecisionTreeRegressor(...)\n",
        "..."
      ]
    },
    {
      "cell_type": "code",
      "execution_count": null,
      "id": "34112e33",
      "metadata": {
        "id": "34112e33"
      },
      "outputs": [],
      "source": [
        "# Выведите metrics_report для дерева tree_housing_custom_pruned на обучающей и тестовой выборках\n",
        "\n",
        "..."
      ]
    },
    {
      "cell_type": "code",
      "execution_count": null,
      "id": "e643e870",
      "metadata": {
        "id": "e643e870"
      },
      "outputs": [],
      "source": [
        "# Выведите сложность дерева tree_housing_custom_pruned\n",
        "\n",
        "..."
      ]
    },
    {
      "cell_type": "code",
      "execution_count": null,
      "id": "db51371f",
      "metadata": {
        "id": "db51371f"
      },
      "outputs": [],
      "source": [
        "# Визуализируйте дерево tree_housing_custom_pruned (не обязательно)\n",
        "\n",
        "tree_housing_custom_pruned.plot_tree()"
      ]
    },
    {
      "cell_type": "markdown",
      "id": "25187724",
      "metadata": {
        "id": "25187724"
      },
      "source": [
        "### **Cost-Complexity Pruning**\n",
        "\n",
        "**Cost-Complexity Pruning** (CCP) — это метод борьбы с переобучением в деревьях решений, суть которого состоит в нахождении оптимального баланса между точностью модели и сложностью дерева.\n",
        "\n",
        "Общий критерий оптимизации:\n",
        "\n",
        "$$R_{\\alpha}(T)=R(T)+\\alpha|T|$$\n",
        "\n",
        "где $R(T)$ — ошибка дерева (к примеру, MSE/MAE для регрессии или Gini/Entropy для классификации), $|T|$ — количество листьев в дереве, $\\alpha$ — параметр регуляризации.\n",
        "\n",
        "Cost-Complexity Pruning в sklearn для деревьев решений (DecisionTreeClassifier и DecisionTreeRegressor) реализуется с помощью **параметра ccp_alpha**."
      ]
    },
    {
      "cell_type": "markdown",
      "id": "28e62102",
      "metadata": {
        "id": "28e62102"
      },
      "source": [
        "### ***Задание 3***\n",
        "\n",
        "**ВНИМАНИЕ:** Для решения этого задания используйте:\n",
        "\n",
        "* Обучающую и тестовую выборку из задания 2: `X_housing_train`, `X_housing_test`, `y_housing_train`, `y_housing_test`.\n",
        "\n",
        "Обучите дерево решений `tree_housing` (DecisionTreeRegressor) без ограничений на глубину дерева.\n",
        "\n",
        "С помощью модели `tree_housing` рассчитайте все возможные значения параметра ccp_alpha (`ccp_alphas`), используя метод [cost_complexity_pruning_path](https://scikit-learn.org/stable/auto_examples/tree/plot_cost_complexity_pruning.html#post-pruning-decision-trees-with-cost-complexity-pruning).\n",
        "\n",
        "Подберите оптимальное значение параметра ccp_alpha, перебрав все возможные значения `ccp_alphas` с помощью GridSearchCV.\n",
        "\n",
        "Обучите дерево решений `tree_housing_ccp` (DecisionTreeRegressor) с оптимальным параметром ccp_alpha.\n",
        "\n",
        "Выведите metrics_report для моделей `tree_housing` и `tree_housing_ccp` **на обучающей и тестовой выборке** и сравните сложности деревьев (метод count_nodes)."
      ]
    },
    {
      "cell_type": "code",
      "execution_count": null,
      "id": "d38031b2",
      "metadata": {
        "id": "d38031b2"
      },
      "outputs": [],
      "source": [
        "# Обучите дерево tree_housing без ограничений\n",
        "# Не забудьте зафиксировать RANDOM_STATE\n",
        "\n",
        "tree_housing = DecisionTreeRegressor(...)"
      ]
    },
    {
      "cell_type": "code",
      "execution_count": null,
      "id": "4b353ffb",
      "metadata": {
        "id": "4b353ffb"
      },
      "outputs": [],
      "source": [
        "# Выведите metrics_report для дерева tree_housing на обучающей и тестовой выборках\n",
        "\n",
        "..."
      ]
    },
    {
      "cell_type": "code",
      "execution_count": null,
      "id": "ccda3f29",
      "metadata": {
        "id": "ccda3f29"
      },
      "outputs": [],
      "source": [
        "# Посчитайте сложность дерева tree_housing\n",
        "\n",
        "tree_housing.tree_.node_count"
      ]
    },
    {
      "cell_type": "code",
      "execution_count": null,
      "id": "4a553ee5",
      "metadata": {
        "id": "4a553ee5"
      },
      "outputs": [],
      "source": [
        "# С помощью tree_housing рассчитайте все возможные значения ccp_alpha, используя метод cost_complexity_pruning_path\n",
        "\n",
        "ccp_alphas = ..."
      ]
    },
    {
      "cell_type": "code",
      "execution_count": null,
      "id": "63ee5ba3",
      "metadata": {
        "id": "63ee5ba3"
      },
      "outputs": [],
      "source": [
        "# Подберите оптимальное значение ccp_alpha с помощью GridSearchCV\n",
        "# Не забудьте зафиксировать RANDOM_STATE\n",
        "\n",
        "params = {'ccp_alpha': ccp_alphas}\n",
        "scoring='neg_mean_squared_error'\n",
        "cv = 5\n",
        "\n",
        "cv_tree_housing_ccp = ..."
      ]
    },
    {
      "cell_type": "code",
      "execution_count": null,
      "id": "c89a1e47",
      "metadata": {
        "id": "c89a1e47"
      },
      "outputs": [],
      "source": [
        "# Постройте график MSE ~ ccp_alpha по результатам кросс-валидации\n",
        "\n",
        "plt.figure(figsize=(12, 6))\n",
        "plt.plot(ccp_alphas, -cv_tree_housing_ccp.cv_results_['mean_test_score'], marker='.', drawstyle='steps-post')\n",
        "plt.scatter(cv_tree_housing_ccp.best_params_['ccp_alpha'], -cv_tree_housing_ccp.best_score_, c='red', label='Оптимальный ccp_alpha')\n",
        "plt.xlabel('ccp_alpha')\n",
        "plt.ylabel('MSE')\n",
        "plt.legend()\n",
        "plt.show()"
      ]
    },
    {
      "cell_type": "code",
      "execution_count": null,
      "id": "4fb76ef3",
      "metadata": {
        "id": "4fb76ef3"
      },
      "outputs": [],
      "source": [
        "# Обучите дерево tree_housing_ccp с оптимальным параметром ccp_alpha\n",
        "# Не забудьте зафиксировать RANDOM_STATE\n",
        "\n",
        "tree_housing_ccp = ..."
      ]
    },
    {
      "cell_type": "code",
      "execution_count": null,
      "id": "268d4e9f",
      "metadata": {
        "id": "268d4e9f"
      },
      "outputs": [],
      "source": [
        "# Выведите metrics_report для дерева tree_housing_ccp на обучающей и тестовой выборках\n",
        "\n",
        "..."
      ]
    },
    {
      "cell_type": "code",
      "execution_count": null,
      "id": "44455149",
      "metadata": {
        "id": "44455149"
      },
      "outputs": [],
      "source": [
        "# Посчитайте сложность дерева tree_housing_ccp\n",
        "\n",
        "..."
      ]
    },
    {
      "cell_type": "code",
      "execution_count": null,
      "id": "f7f5d0ae",
      "metadata": {
        "id": "f7f5d0ae"
      },
      "outputs": [],
      "source": [
        "# Визуализируйте дерево tree_housing_ccp\n",
        "\n",
        "dot_data = tree.export_graphviz(tree_housing_ccp, out_file=None,\n",
        "                                feature_names=X_housing_train.columns,\n",
        "                                filled=True)\n",
        "graphviz.Source(dot_data)"
      ]
    },
    {
      "cell_type": "markdown",
      "id": "8c1389a3",
      "metadata": {
        "id": "8c1389a3"
      },
      "source": [
        "## **Предсказание временных рядов с помощью деревьев решений**\n",
        "\n",
        "Деревья решений (и ансамбли на их основе) не могут быть использованы для прогнозирования временных рядом, содержащих тренд (долгосрочное возрастание или убывание значений), поскольку:\n",
        "\n",
        "1. Дерево решений разбивает данные на основе признаков (например, год, месяц), но не учитывает их изменение со временем.\n",
        "\n",
        "2. Если тренд сильный, дерево решений будет аппроксимировать его кусочно-линейными приближениями, что даст плохие прогнозы на новых данных.\n",
        "\n",
        "3. Деревья не экстраполируют за пределы обучающей выборки: деревья не могут предсказать значения выше или ниже тех, что были использованы при обучении.\n",
        "\n",
        "Одним из решений этой проблемы является переход от значений временного ряда с трендом к абсолютным приростам (разностям первого порядка):\n",
        "\n",
        "$$\\Delta y_{t}=y_{t}-y_{t-1}$$\n",
        "\n",
        "где $y_{t}$ — истинное значение временного ряда в момент времени $t$.\n",
        "\n",
        "После предсказания приростов $\\Delta \\hat{y_{t}}$​ можно восстановить исходный ряд:\n",
        "\n",
        "$$\\hat{y_{t}}=y_{0}+\\sum_{i=1}^{t}{\\Delta \\hat{y_{t}}}$$\n",
        "\n",
        "где $y_{0}$​ — начальное значение ряда.\n",
        "\n",
        "Если прогноз выполняется рекурсивно (уже предсказанные значения используются для построения прогноза на следующие шаги), то возникает проблема накопления ошибок — ошибки суммируются на каждом шаге рекурсивного прогноза временного ряда. Это приведёт к тому, что итоговый прогноз $\\hat{y_{t}}$ может значительно отклоняться от реальных значений временного ряда."
      ]
    },
    {
      "cell_type": "markdown",
      "id": "0ca351b6",
      "metadata": {
        "id": "0ca351b6"
      },
      "source": [
        "### **Датасет *Retail Sales: Restaurants and Other Eating Places***\n",
        "\n",
        "**Для решения задания 4 рассмотрим датасет [Retail Sales: Restaurants and Other Eating Places](https://fred.stlouisfed.org/series/MRTSSM7225USN).**\n",
        "\n",
        "**ВНИМАНИЕ:** При решении задания **используйте файл retail_sales.csv** из приложения к ноутбуку, поскольку исходный датасет был изменен авторами курса.\n",
        "\n",
        "Набор данных представляет собой временной ряд с ежемесячной частотой данных. Он предназначен для анализа тенденций и изменений в объёмах продаж в ресторанном бизнесе и сфере общественного питания в США.\n",
        "\n",
        "Целевая переменная — RetailSales (совокупный ежемесячный объём продаж, млн. долларов США).\n",
        "\n",
        "Рассмотрим период с января 1992 года по июнь 2019 года."
      ]
    },
    {
      "cell_type": "markdown",
      "id": "02e7a2de",
      "metadata": {
        "id": "02e7a2de"
      },
      "source": [
        "### ***Задание 4***\n",
        "\n",
        "Используя значения ряда (RetailSales), создайте признаки:\n",
        "\n",
        "* Лаговые признаки (*подсказка: используйте [shift](https://pandas.pydata.org/docs/reference/api/pandas.DataFrame.shift.html)*):\n",
        "\n",
        "    * lag 1m — значение RetailSales 1 месяц назад (временной лаг в 1 наблюдение).\n",
        "\n",
        "    * lag 12m — значение RetailSales 12 месяцев назад (временной лаг в 12 наблюдений).\n",
        "\n",
        "* Скользящее среднее (*подсказка: используйте признак **lag 1m** (скользящее среднее строится по **предыдущим** наблюдениям и не должно включать значение целевой переменной на момент прогноза) и [rolling](https://pandas.pydata.org/docs/reference/api/pandas.DataFrame.rolling.html)*):\n",
        "\n",
        "    * mean 3m — среднее RetailSales за **предыдущие** 3 месяца (скользящее среднее по 3 **предыдущим** наблюдениям).\n",
        "\n",
        "    * mean 12m — среднее RetailSales за **предыдущие** 12 месяцев (скользящее среднее по 12 **предыдущим** наблюдениям).\n",
        "\n",
        "Используя метку времени (Date), создайте признаки:\n",
        "\n",
        "* Временные компоненты:\n",
        "\n",
        "    * day: число месяца.\n",
        "\n",
        "    * month: месяц.\n",
        "\n",
        "    * year: год.\n",
        "\n",
        "* Циклические признаки, закодированные с помощью косинуса и синуса ($x_{\\text{cos}} = \\text{cos}(\\frac{2 \\pi x}{T})$, $x_{\\text{sin}} = \\text{sin}(\\frac{2 \\pi x}{T})$):\n",
        "\n",
        "    * day_cos, day_sin: cos и sin от day ($T = 30$).\n",
        "\n",
        "    * month_cos, month_sin: cos и sin от month ($T = 12$).\n",
        "\n",
        "Разделите датасет на обучающую и тестовую выборки так, чтобы в обучающую выборку вошли все данные ранее 2016 года, в тестовую — все данные за 2016 год и позже.\n",
        "\n",
        "Обучите дерево решений `tree_retail` (DecisionTreeRegressor) с ограничениями:\n",
        "\n",
        "* min_samples_split=5.\n",
        "\n",
        "* min_samples_leaf=2.\n",
        "\n",
        "Используя данные после создания временных переменных и до разделения на обучающую и тестовую выборки (`X_retail`, `y_retail`), выделите новую объясняемую переменную `y_retail_diff` — абсолютные приросты значений временного ряда (**выполните переход от значений ряда к абсолютным приростам**), и **заново разделите датасет на обучающую и тестовую выборки** так, чтобы в обучающую выборку вошли все данные ранее 2016 года, в тестовую — все данные за 2016 год и позже.\n",
        "\n",
        "Обучите дерево решений `tree_retail_diff` (DecisionTreeRegressor) с теми же ограничениями, что и у дерева `tree_retail`, в качестве **объясняемой переменной используя абсолютные приросты**.\n",
        "\n",
        "Выведите metrics_report для моделей `tree_retail` и `tree_retail_diff` **на обучающей и тестовой выборке**.\n",
        "\n",
        "**На тестовой выборке** преобразуйте предсказанные  моделью `tree_retail_diff` абсолютные приросты в исходные значения временного ряда и выведите metrics_report после обратного перехода к исходным значениям.\n",
        "\n",
        "**ВНИМАНИЕ:** Обратите внимание, что в данном задании рассматривается упрощённый пример прогнозирования временного ряда на один временной период вперёд (на один месяц вперед). Для прогноза всегда используются истинные значения временных признаков, в том числе в рамках тестовой выборки. Таким образом, в данном примере модель не подвержена накоплению ошибки, поскольку такой прогноз не является рекурсивным."
      ]
    },
    {
      "cell_type": "code",
      "execution_count": null,
      "id": "83a7441e",
      "metadata": {
        "id": "83a7441e"
      },
      "outputs": [],
      "source": [
        "# Считайте набор данных\n",
        "\n",
        "df_retail = pd.read_csv('retail.csv')\n",
        "df_retail"
      ]
    },
    {
      "cell_type": "code",
      "execution_count": null,
      "id": "5b4e81fb",
      "metadata": {
        "id": "5b4e81fb"
      },
      "outputs": [],
      "source": [
        "# Признак Date имеет тип данных object\n",
        "# Необходимо изменить тип данных для Date\n",
        "\n",
        "df_retail.info()"
      ]
    },
    {
      "cell_type": "code",
      "execution_count": null,
      "id": "7cd8faa4",
      "metadata": {
        "id": "7cd8faa4"
      },
      "outputs": [],
      "source": [
        "# Измените тип Date на datetime64[ns]\n",
        "\n",
        "df_retail['Date'] = ..."
      ]
    },
    {
      "cell_type": "code",
      "execution_count": null,
      "id": "2c5b94e1",
      "metadata": {
        "id": "2c5b94e1"
      },
      "outputs": [],
      "source": [
        "# Убедитесь, что тип данных Date — datetime64[ns]\n",
        "\n",
        "..."
      ]
    },
    {
      "cell_type": "code",
      "execution_count": null,
      "id": "c4aa22bf",
      "metadata": {
        "id": "c4aa22bf"
      },
      "outputs": [],
      "source": [
        "# Постройте график значений временного ряда (RetailSales)\n",
        "\n",
        "df_retail.plot(x='Date', y='RetailSales', figsize=(12, 10))\n",
        "plt.xlabel('Время')\n",
        "plt.ylabel('Объём продаж, млн. долл. США')\n",
        "plt.show()"
      ]
    },
    {
      "cell_type": "code",
      "execution_count": null,
      "id": "16814c45",
      "metadata": {
        "id": "16814c45"
      },
      "outputs": [],
      "source": [
        "# Создайте признаки lag 1m и lag 12m\n",
        "# Подсказка: используйте shift\n",
        "\n",
        "df_retail['lag 1m'] = ...\n",
        "df_retail['lag 12m'] = ..."
      ]
    },
    {
      "cell_type": "code",
      "execution_count": null,
      "id": "42a54981",
      "metadata": {
        "id": "42a54981"
      },
      "outputs": [],
      "source": [
        "# Создайте признаки mean 3m и mean 12m\n",
        "# Подсказка: используйте признак lag 1m и rolling\n",
        "\n",
        "df_retail['mean 3m'] = ...\n",
        "df_retail['mean 12m'] = ..."
      ]
    },
    {
      "cell_type": "code",
      "execution_count": null,
      "id": "94185bc0",
      "metadata": {
        "id": "94185bc0"
      },
      "outputs": [],
      "source": [
        "# Закодируйте метку времени (Date) как временные компоненты\n",
        "\n",
        "df_retail['day'] = ...\n",
        "df_retail['month'] = ...\n",
        "df_retail['year'] = ..."
      ]
    },
    {
      "cell_type": "code",
      "execution_count": null,
      "id": "960cea20",
      "metadata": {
        "id": "960cea20"
      },
      "outputs": [],
      "source": [
        "# Закодируйте циклические переменные с помощью косинуса и синуса\n",
        "\n",
        "df_retail['day_cos'] = ...\n",
        "df_retail['day_sin'] = ...\n",
        "\n",
        "df_retail['month_cos'] = ...\n",
        "df_retail['month_sin'] = ..."
      ]
    },
    {
      "cell_type": "code",
      "execution_count": null,
      "id": "66bbc877",
      "metadata": {
        "id": "66bbc877"
      },
      "outputs": [],
      "source": [
        "# Датасет после создания признаков\n",
        "\n",
        "df_retail"
      ]
    },
    {
      "cell_type": "code",
      "execution_count": null,
      "id": "647b3edf",
      "metadata": {
        "id": "647b3edf"
      },
      "outputs": [],
      "source": [
        "# Удалите строки с пропущенными значениями\n",
        "# Пропущенные значения появились после создания лаговых признаков и скользящих средних\n",
        "\n",
        "df_retail = df_retail.dropna()"
      ]
    },
    {
      "cell_type": "code",
      "execution_count": null,
      "id": "a0153870",
      "metadata": {
        "id": "a0153870"
      },
      "outputs": [],
      "source": [
        "# Установите метку времени (Date) как индекс датасета df_retail\n",
        "\n",
        "df_retail = df_retail.set_index('Date', drop=True)"
      ]
    },
    {
      "cell_type": "code",
      "execution_count": null,
      "id": "6e1fbeaa",
      "metadata": {
        "id": "6e1fbeaa"
      },
      "outputs": [],
      "source": [
        "# Выделите объясняемый фактор в отдельную переменную\n",
        "\n",
        "X_retail, y_retail = ..."
      ]
    },
    {
      "cell_type": "code",
      "execution_count": null,
      "id": "46cbfd59",
      "metadata": {
        "id": "46cbfd59"
      },
      "outputs": [],
      "source": [
        "# Разделите датасет на обучающую и тестовую выборки:\n",
        "#   Обучающая выборка — все данные ранее 2016 года\n",
        "#   Тестовая выборка  — все данные за 2016 год и позже\n",
        "\n",
        "X_retail_train = ...\n",
        "y_retail_train = ...\n",
        "\n",
        "X_retail_test = ...\n",
        "y_retail_test = ..."
      ]
    },
    {
      "cell_type": "code",
      "execution_count": null,
      "id": "c696be4f",
      "metadata": {
        "id": "c696be4f"
      },
      "outputs": [],
      "source": [
        "# На обучающей выборке обучите дерево решений tree_retail (DecisionTreeRegressor) с ограничениями:\n",
        "#   min_samples_split=5\n",
        "#   min_samples_leaf=2\n",
        "# Не забудьте зафиксировать RANDOM_STATE\n",
        "\n",
        "tree_retail = ..."
      ]
    },
    {
      "cell_type": "code",
      "execution_count": null,
      "id": "3a2deb81",
      "metadata": {
        "id": "3a2deb81"
      },
      "outputs": [],
      "source": [
        "# Выведите metrics_report для дерева tree_retail на обучающей и тестовой выборках\n",
        "\n",
        "..."
      ]
    },
    {
      "cell_type": "code",
      "execution_count": null,
      "id": "94554c75",
      "metadata": {
        "id": "94554c75"
      },
      "outputs": [],
      "source": [
        "# Постройте график значений временного ряда (RetailSales)\n",
        "# Добавьте на график прогноз значений ряда моделью tree_retail\n",
        "\n",
        "plt.figure(figsize=(12, 10))\n",
        "plt.plot(X_retail.index, y_retail, alpha=0.8, label='Истинные значения ряда')\n",
        "plt.plot(X_retail.index, ..., c='red', label='Прогноз ряда с помощью tree_retail')\n",
        "plt.xlabel('Время')\n",
        "plt.ylabel('Объём продаж, млн. долл. США')\n",
        "plt.legend()\n",
        "plt.show()"
      ]
    },
    {
      "cell_type": "code",
      "execution_count": null,
      "id": "e2dbf12f",
      "metadata": {
        "id": "e2dbf12f"
      },
      "outputs": [],
      "source": [
        "# Выделите новую объясняемую переменную y_retail_diff — абсолютные приросты значений временного ряда\n",
        "# Подсказка: используйте shift\n",
        "\n",
        "y_retail_diff = ...\n",
        "y_retail_diff = y_retail_diff[1:]\n",
        "X_retail_diff = X_retail[1:]"
      ]
    },
    {
      "cell_type": "code",
      "execution_count": null,
      "id": "7f46fe7f",
      "metadata": {
        "id": "7f46fe7f"
      },
      "outputs": [],
      "source": [
        "# Разделите датасет на обучающую и тестовую выборки:\n",
        "#   Обучающая выборка — все данные ранее 2016 года\n",
        "#   Тестовая выборка  — все данные за 2016 год и позже\n",
        "\n",
        "X_retail_diff_train = ...\n",
        "y_retail_diff_train = ...\n",
        "\n",
        "X_retail_diff_test = ...\n",
        "y_retail_diff_test = ..."
      ]
    },
    {
      "cell_type": "code",
      "execution_count": null,
      "id": "29dd1d85",
      "metadata": {
        "id": "29dd1d85"
      },
      "outputs": [],
      "source": [
        "# На обучающей выборке обучите дерево tree_retail_diff (DecisionTreeRegressor) с ограничениями:\n",
        "#   min_samples_split=5\n",
        "#   min_samples_leaf=2\n",
        "# В качестве объясняемой переменной используйте абсолютные приросты\n",
        "# Не забудьте зафиксировать RANDOM_STATE\n",
        "\n",
        "tree_retail_diff = ..."
      ]
    },
    {
      "cell_type": "code",
      "execution_count": null,
      "id": "ea6a3858",
      "metadata": {
        "id": "ea6a3858"
      },
      "outputs": [],
      "source": [
        "# Выведите metrics_report для дерева tree_retail_diff на обучающей и тестовой выборках (в абсолютных приростах)\n",
        "\n",
        "..."
      ]
    },
    {
      "cell_type": "code",
      "execution_count": null,
      "id": "c293e2be",
      "metadata": {
        "id": "c293e2be"
      },
      "outputs": [],
      "source": [
        "# Постройте график значений абсолютных приростов\n",
        "# Добавьте на график прогноз абсолютных приростов моделью tree_retail_diff\n",
        "\n",
        "plt.figure(figsize=(12, 10))\n",
        "plt.plot(X_retail_diff.index, y_retail_diff, alpha=0.8, label='Истинные значения абсолютных приростов')\n",
        "plt.plot(X_retail_diff.index, ..., c='green', label='Прогноз абсолютных приростов с помощью tree_retail_diff')\n",
        "plt.xlabel('Время')\n",
        "plt.ylabel('Объём продаж, млн. долл. США')\n",
        "plt.legend()\n",
        "plt.show()"
      ]
    },
    {
      "cell_type": "code",
      "execution_count": null,
      "id": "072aff50",
      "metadata": {
        "id": "072aff50"
      },
      "outputs": [],
      "source": [
        "# На тестовой выборке преобразуйте предсказанные моделью tree_retail_diff абсолютные приросты в исходные значения временного ряда\n",
        "\n",
        "y_test_pred_tree_retail_diff = y_retail_train[-1] + ... # В качестве y0 используем последнее истинное значение в train"
      ]
    },
    {
      "cell_type": "code",
      "execution_count": null,
      "id": "761b925a",
      "metadata": {
        "id": "761b925a"
      },
      "outputs": [],
      "source": [
        "# Выведите metrics_report на тестовой выборке после обратного перехода от прогноза приростов к исходным значениям\n",
        "\n",
        "metrics_report(y_retail_test, ...)"
      ]
    },
    {
      "cell_type": "code",
      "execution_count": null,
      "id": "f027dc33",
      "metadata": {
        "id": "f027dc33"
      },
      "outputs": [],
      "source": [
        "# Постройте график значений временного ряда (RetailSales) на тестовой выборке\n",
        "# Добавьте на график прогноз значений ряда с помощью моделей tree_retail и tree_retail_diff\n",
        "\n",
        "plt.figure(figsize=(12, 10))\n",
        "plt.plot(X_retail_test.index, y_retail_test, marker='.', alpha=0.8, label='Истинные значения ряда')\n",
        "plt.plot(X_retail_test.index, ..., marker='.', c='red', label='Прогноз ряда с помощью tree_retail')\n",
        "plt.plot(X_retail_test.index, ..., marker='.', c='green', label='Прогноз ряда с помощью tree_retail_diff')\n",
        "plt.xlabel('Время')\n",
        "plt.ylabel('Объём продаж, млн. долл. США')\n",
        "plt.legend()\n",
        "plt.show()"
      ]
    }
  ],
  "metadata": {
    "colab": {
      "provenance": [],
      "include_colab_link": true
    },
    "kernelspec": {
      "display_name": "ml-course",
      "language": "python",
      "name": "python3"
    },
    "language_info": {
      "codemirror_mode": {
        "name": "ipython",
        "version": 3
      },
      "file_extension": ".py",
      "mimetype": "text/x-python",
      "name": "python",
      "nbconvert_exporter": "python",
      "pygments_lexer": "ipython3",
      "version": "3.11.11"
    },
    "toc": {
      "base_numbering": 1,
      "nav_menu": {
        "height": "204px",
        "width": "380px"
      },
      "number_sections": true,
      "sideBar": true,
      "skip_h1_title": false,
      "title_cell": "Table of Contents",
      "title_sidebar": "Contents",
      "toc_cell": false,
      "toc_position": {},
      "toc_section_display": true,
      "toc_window_display": false
    },
    "varInspector": {
      "cols": {
        "lenName": 16,
        "lenType": 16,
        "lenVar": 40
      },
      "kernels_config": {
        "python": {
          "delete_cmd_postfix": "",
          "delete_cmd_prefix": "del ",
          "library": "var_list.py",
          "varRefreshCmd": "print(var_dic_list())"
        },
        "r": {
          "delete_cmd_postfix": ") ",
          "delete_cmd_prefix": "rm(",
          "library": "var_list.r",
          "varRefreshCmd": "cat(var_dic_list()) "
        }
      },
      "types_to_exclude": [
        "module",
        "function",
        "builtin_function_or_method",
        "instance",
        "_Feature"
      ],
      "window_display": false
    }
  },
  "nbformat": 4,
  "nbformat_minor": 5
}